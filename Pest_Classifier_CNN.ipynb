{
  "nbformat": 4,
  "nbformat_minor": 0,
  "metadata": {
    "colab": {
      "name": "Pest_Classifier_CNN.ipynb",
      "provenance": [],
      "collapsed_sections": [],
      "machine_shape": "hm",
      "include_colab_link": true
    },
    "kernelspec": {
      "name": "python3",
      "display_name": "Python 3"
    },
    "accelerator": "TPU"
  },
  "cells": [
    {
      "cell_type": "markdown",
      "metadata": {
        "id": "view-in-github",
        "colab_type": "text"
      },
      "source": [
        "<a href=\"https://colab.research.google.com/github/SrivenkateswaraRao/Research-Project/blob/master/Pest_Classifier_CNN.ipynb\" target=\"_parent\"><img src=\"https://colab.research.google.com/assets/colab-badge.svg\" alt=\"Open In Colab\"/></a>"
      ]
    },
    {
      "cell_type": "markdown",
      "metadata": {
        "id": "bEmvZpQ7R7zv",
        "colab_type": "text"
      },
      "source": [
        "Importing libraries to connect to google drive "
      ]
    },
    {
      "cell_type": "code",
      "metadata": {
        "id": "vRXTdQDVKS6v",
        "colab_type": "code",
        "colab": {}
      },
      "source": [
        "import os\n",
        "from os import listdir\n",
        "from pydrive.auth import GoogleAuth\n",
        "from pydrive.drive import GoogleDrive\n",
        "from google.colab import auth\n",
        "from oauth2client.client import GoogleCredentials\n",
        "import numpy as np"
      ],
      "execution_count": null,
      "outputs": []
    },
    {
      "cell_type": "code",
      "metadata": {
        "id": "_zf7iSxzKaf0",
        "colab_type": "code",
        "colab": {}
      },
      "source": [
        "auth.authenticate_user()\n",
        "gauth = GoogleAuth()\n",
        "gauth.credentials = GoogleCredentials.get_application_default()\n",
        "drive = GoogleDrive(gauth)"
      ],
      "execution_count": null,
      "outputs": []
    },
    {
      "cell_type": "markdown",
      "metadata": {
        "id": "2HHlXlTxSmq7",
        "colab_type": "text"
      },
      "source": [
        "Uploading supporting files CreatePestImageData.py and SupportingFunctions.py "
      ]
    },
    {
      "cell_type": "code",
      "metadata": {
        "id": "LCOxaKCJKzA0",
        "colab_type": "code",
        "colab": {
          "resources": {
            "http://localhost:8080/nbextensions/google.colab/files.js": {
              "data": "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",
              "ok": true,
              "headers": [
                [
                  "content-type",
                  "application/javascript"
                ]
              ],
              "status": 200,
              "status_text": ""
            }
          },
          "base_uri": "https://localhost:8080/",
          "height": 110
        },
        "outputId": "06ec8719-6df9-4349-dd71-9e72068e38cc"
      },
      "source": [
        "from google.colab import files\n",
        "files.upload() "
      ],
      "execution_count": null,
      "outputs": [
        {
          "output_type": "display_data",
          "data": {
            "text/html": [
              "\n",
              "     <input type=\"file\" id=\"files-f390b270-73ce-4a06-8577-d2aff1b8fe4d\" name=\"files[]\" multiple disabled\n",
              "        style=\"border:none\" />\n",
              "     <output id=\"result-f390b270-73ce-4a06-8577-d2aff1b8fe4d\">\n",
              "      Upload widget is only available when the cell has been executed in the\n",
              "      current browser session. Please rerun this cell to enable.\n",
              "      </output>\n",
              "      <script src=\"/nbextensions/google.colab/files.js\"></script> "
            ],
            "text/plain": [
              "<IPython.core.display.HTML object>"
            ]
          },
          "metadata": {
            "tags": []
          }
        },
        {
          "output_type": "stream",
          "text": [
            "Saving SupportingFunctions.py to SupportingFunctions.py\n"
          ],
          "name": "stdout"
        },
        {
          "output_type": "execute_result",
          "data": {
            "text/plain": [
              "{'SupportingFunctions.py': b'import zipfile\\r\\nimport os\\r\\nimport re, os.path\\r\\nimport numpy as np\\r\\nimport matplotlib.pyplot as plt\\r\\nfrom sklearn.metrics import accuracy_score\\r\\nfrom sklearn.metrics import precision_score\\r\\nfrom sklearn.metrics import recall_score\\r\\nfrom sklearn.metrics import f1_score\\r\\nfrom sklearn.metrics import cohen_kappa_score\\r\\nfrom collections import OrderedDict  \\r\\n\\r\\n\\r\\n\\r\\n\\r\\n\\r\\n\\r\\ndef DownLoadFiles(folderId,drive):\\r\\n    file_list = drive.ListFile(\\r\\n    {\\'q\\': \"\\'\"+folderId+\"\\' in parents\"}).GetList()\\r\\n\\r\\n    for f in file_list:\\r\\n         print(\\'title: %s, id: %s\\' % (f[\\'title\\'], f[\\'id\\']))\\r\\n         fname = f[\\'title\\']\\r\\n         print(\\'downloading to {}\\'.format(fname))\\r\\n         f_ = drive.CreateFile({\\'id\\': f[\\'id\\']})\\r\\n         f_.GetContentFile(fname)\\r\\n\\r\\n\\r\\ndef Unzip(source_Path, dest_Path):\\r\\n    zip = zipfile.ZipFile(source_Path, \\'r\\')\\r\\n    zip.setpassword(b\"virus\")\\r\\n    for name in zip.namelist():\\r\\n        if not name.endswith((\\'/\\', \\'\\\\\\\\\\')):\\r\\n            with open(os.path.join(dest_Path, os.path.basename(name)), \\'wb\\') as f:\\r\\n                 f.write(zip.read(name))\\r\\n    zip.close()\\r\\n\\r\\n\\r\\ndef fileCount(directory):\\r\\n    count = 0\\r\\n    d = directory\\r\\n    for path in os.listdir(d):\\r\\n        if os.path.isfile(os.path.join(d, path)):\\r\\n            count += 1\\r\\n    print(count)\\r\\n\\r\\n\\r\\n\\r\\ndef RemoveFiles(directory):   \\r\\n    mypath = directory\\r\\n    for root, dirs, files in os.walk(mypath):\\r\\n        for file in files:\\r\\n            os.remove(os.path.join(root, file))\\r\\n\\r\\n\\r\\n#-------------------------------- Data Augmentation Functions ----------------------------------------------------------------------------#\\r\\n\\r\\ndef PrepareAugmentedData(trainX,trainY):\\r\\n    arr1  = np.fliplr(trainX)\\r\\n    resultX = np.concatenate((trainX,arr1), axis=0)\\r\\n    resultY = np.concatenate((trainY,trainY), axis=0) \\r\\n    return resultX, resultY\\r\\n#---------------------------------\\r\\n\\r\\ndef GenerateGraphs(acc, val_acc, loss, val_loss):\\r\\n     epochs = range(len(acc))\\r\\n     plt.plot(epochs, acc, \\'bo\\', label=\\'Training accuracy\\')\\r\\n     plt.plot(epochs, val_acc, \\'b\\', label=\\'Validation accuracy\\')\\r\\n     plt.title(\\'Training and validation accuracy\\')\\r\\n     plt.figure()\\r\\n     plt.plot(epochs, loss, \\'bo\\', label=\\'Training Loss\\')\\r\\n     plt.plot(epochs, val_loss, \\'b\\', label=\\'Validation Loss\\')\\r\\n     plt.title(\\'Training and validation loss\\')\\r\\n     plt.legend()\\r\\n     plt.show()\\r\\n     \\r\\n     \\r\\n     \\r\\ndef plot_image(i, predictions_array, true_labels, images):\\r\\n  predictions_array, true_label, img = predictions_array[i], true_labels[i], images[i]\\r\\n  plt.grid(False)\\r\\n  plt.xticks([])\\r\\n  plt.yticks([])\\r\\n   \\r\\n  plt.imshow(img[...,0], cmap=plt.cm.binary)\\r\\n \\r\\n  predicted_label = np.argmax(predictions_array)\\r\\n  if predicted_label == true_label:\\r\\n    color = \\'blue\\'\\r\\n  else:\\r\\n    color = \\'red\\'\\r\\n   \\r\\n  plt.xlabel(\"{} {:2.0f}% ({})\".format(class_object[predicted_label],\\r\\n                                100*np.max(predictions_array),\\r\\n                                class_object[true_label]),\\r\\n                                color=color)\\r\\n\\r\\n\\r\\ndef averageOfList(num):\\r\\n    sumOfNumbers = 0\\r\\n    for t in num:\\r\\n        sumOfNumbers = sumOfNumbers + t\\r\\n\\r\\n    avg = sumOfNumbers / len(num)\\r\\n    return avg\\r\\n\\r\\n\\r\\n  \\r\\ndef group_list(lst):     \\r\\n    res =  [(el, lst.count(el)) for el in lst] \\r\\n    return list(OrderedDict(res).items()) \\r\\n    print(group_list(lst)) \\r\\n\\r\\n\\r\\n\\r\\n\\r\\n\\r\\n\\r\\ndef PrintMetrics(testX, testY, model):\\r\\n    yhat_probs = model.predict(testX, verbose=0)\\r\\n    yhat_classes = model.predict_classes(testX, verbose=0)\\r\\n    accuracy = accuracy_score(testY, yhat_classes)\\r\\n    precision = precision_score(testY, yhat_classes, average=\"macro\")\\r\\n    print(\\'Accuracy: %f\\' % accuracy)\\r\\n    print(\\'Precision: %f\\' % precision)\\r\\n    recall = recall_score(testY, yhat_classes,average=\"macro\")\\r\\n    print(\\'Recall: %f\\' % recall)\\r\\n    f1 = f1_score(testY, yhat_classes,average=\"macro\")\\r\\n    print(\\'F1 score: %f\\' % f1)\\r\\n    kappa = cohen_kappa_score(testY, yhat_classes)\\r\\n    print(\\'Cohens kappa: %f\\' % kappa)\\r\\n \\r\\n\\r\\n\\r\\n'}"
            ]
          },
          "metadata": {
            "tags": []
          },
          "execution_count": 4
        }
      ]
    },
    {
      "cell_type": "markdown",
      "metadata": {
        "id": "OcQw5szsSjBr",
        "colab_type": "text"
      },
      "source": [
        "importing supporting files CreatePestImageData.py and SupportingFunctions.py "
      ]
    },
    {
      "cell_type": "code",
      "metadata": {
        "id": "dbxnI4zrLATr",
        "colab_type": "code",
        "colab": {}
      },
      "source": [
        "import CreatePestImageData as Imagedataset\n",
        "import SupportingFunctions as support"
      ],
      "execution_count": null,
      "outputs": []
    },
    {
      "cell_type": "markdown",
      "metadata": {
        "id": "nsERmCQuS768",
        "colab_type": "text"
      },
      "source": [
        "Downloading the files from google drive \n",
        "\n",
        "'1aXb25Wp9sG7mL6AQgYY9ElrGcERi95JU'  - Id of the base  folder in google drive \n",
        "'drive' - the drive object created previously \n",
        "\n"
      ]
    },
    {
      "cell_type": "code",
      "metadata": {
        "id": "MsX9B9gWLClk",
        "colab_type": "code",
        "colab": {}
      },
      "source": [
        "support.DownLoadFiles('1aXb25Wp9sG7mL6AQgYY9ElrGcERi95JU',drive)"
      ],
      "execution_count": null,
      "outputs": []
    },
    {
      "cell_type": "markdown",
      "metadata": {
        "id": "0q9D_ZqlZMiB",
        "colab_type": "text"
      },
      "source": [
        "Once the files are downloaded , please create a folder structure with 'Pests' as parent folder and 'Images' and 'Labels' folders nested in it"
      ]
    },
    {
      "cell_type": "markdown",
      "metadata": {
        "id": "Eh45kbK4YbgU",
        "colab_type": "text"
      },
      "source": [
        "![Img.png](data:image/png;base64,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)"
      ]
    },
    {
      "cell_type": "markdown",
      "metadata": {
        "id": "UJXU3qFfTgZy",
        "colab_type": "text"
      },
      "source": [
        "Extracting the images from zip files downloaded to Images folder created\n",
        "The method should be called repeatedly  till  images from GREENPATROL_DB_V1.0.zip,GREENPATROL_DB_V2.0.zip,GREENPATROL_DB_V3.0.zip are extracted to  'Images' folder and Labels from LABELS_V1.0.zip, LABELS_V2.0.zip and LABELS_V3.0.zip are extracted to  'Labels' folder\n"
      ]
    },
    {
      "cell_type": "code",
      "metadata": {
        "id": "HP63yquZOxes",
        "colab_type": "code",
        "colab": {}
      },
      "source": [
        "support.Unzip('/content/LABELS_V1.0.zip','/content/Pests/Labels')"
      ],
      "execution_count": null,
      "outputs": []
    },
    {
      "cell_type": "code",
      "metadata": {
        "id": "FjdLhsa-PhAM",
        "colab_type": "code",
        "colab": {
          "base_uri": "https://localhost:8080/",
          "height": 34
        },
        "outputId": "16c111bd-d232-41f1-e7b7-ebafe696b4e0"
      },
      "source": [
        "support.fileCount('/content/Pests/Labels')"
      ],
      "execution_count": null,
      "outputs": [
        {
          "output_type": "stream",
          "text": [
            "2000\n"
          ],
          "name": "stdout"
        }
      ]
    },
    {
      "cell_type": "code",
      "metadata": {
        "id": "o9VJCEpZJ6TH",
        "colab_type": "code",
        "colab": {}
      },
      "source": [
        "dataSet = Imagedataset.createImageDataset()"
      ],
      "execution_count": null,
      "outputs": []
    },
    {
      "cell_type": "markdown",
      "metadata": {
        "id": "fO1ULwEPV8qY",
        "colab_type": "text"
      },
      "source": [
        "Defining the class labels "
      ]
    },
    {
      "cell_type": "code",
      "metadata": {
        "id": "kJc_EiuuQB17",
        "colab_type": "code",
        "colab": {}
      },
      "source": [
        "class_object = {0 : 'egg_wf' ,\n",
        "                1 : 'egg_bt', 2 : 'egg_ta', 3 : 'wf', 4 : 'bt', 5 : 'tomato'}"
      ],
      "execution_count": null,
      "outputs": []
    },
    {
      "cell_type": "markdown",
      "metadata": {
        "id": "pl0hHr_RZvYh",
        "colab_type": "text"
      },
      "source": [
        "Cropping the images "
      ]
    },
    {
      "cell_type": "code",
      "metadata": {
        "id": "YQ4yg8zaQEmb",
        "colab_type": "code",
        "colab": {}
      },
      "source": [
        "dataSet.prepare_dataset('/content/Pests/Labels' , class_object ,32, '/content/Pests/Images',  test_size=11241 )"
      ],
      "execution_count": null,
      "outputs": []
    },
    {
      "cell_type": "markdown",
      "metadata": {
        "id": "mltbszb8ZzvJ",
        "colab_type": "text"
      },
      "source": [
        "Assigning the test and training data "
      ]
    },
    {
      "cell_type": "code",
      "metadata": {
        "id": "rtF-jfjvR3Kr",
        "colab_type": "code",
        "colab": {}
      },
      "source": [
        "(trainY , trainX) , (testY , testX ) = (dataSet.trainY , dataSet.trainX ) , (dataSet.testY , dataSet.testX )\n"
      ],
      "execution_count": null,
      "outputs": []
    },
    {
      "cell_type": "markdown",
      "metadata": {
        "id": "AJMjZ2JUZ6bZ",
        "colab_type": "text"
      },
      "source": [
        "Importing TensorFlow Libraries"
      ]
    },
    {
      "cell_type": "code",
      "metadata": {
        "id": "aQG9aEyzb10a",
        "colab_type": "code",
        "colab": {}
      },
      "source": [
        "from tensorflow.keras.models import Sequential\n",
        "from tensorflow.keras.layers import Conv2D\n",
        "from tensorflow.keras.layers import MaxPooling2D\n",
        "from tensorflow.keras.layers import Activation\n",
        "from tensorflow.keras.layers import Flatten\n",
        "from tensorflow.keras.layers import Dense\n",
        "from tensorflow.keras import backend as K\n",
        "from keras.preprocessing.image import ImageDataGenerator\n",
        "from google.colab.patches import cv2_imshow\n",
        "import matplotlib.pyplot as plt\n",
        "import tensorflow.keras as ks\n",
        "import tensorflow as tf \n"
      ],
      "execution_count": null,
      "outputs": []
    },
    {
      "cell_type": "code",
      "metadata": {
        "id": "N542LWKKcCMy",
        "colab_type": "code",
        "colab": {}
      },
      "source": [
        "from keras import backend as K\n",
        "if K.image_data_format() == 'channels_first':\n",
        "   input_shape = [3, 32, 32]\n",
        "else:\n",
        "   input_shape = [32, 32, 3]"
      ],
      "execution_count": null,
      "outputs": []
    },
    {
      "cell_type": "markdown",
      "metadata": {
        "id": "rgSACCO6aEUh",
        "colab_type": "text"
      },
      "source": [
        "define the model"
      ]
    },
    {
      "cell_type": "code",
      "metadata": {
        "id": "OXeiKCTyb7VK",
        "colab_type": "code",
        "colab": {}
      },
      "source": [
        "\n",
        "model_with_conv = tf.keras.Sequential([\n",
        "    tf.keras.layers.Conv2D(64, (3,3), padding='same', activation=tf.nn.relu, input_shape=(32, 32, 3)),\n",
        "    tf.keras.layers.MaxPooling2D((2, 2), strides=2),\n",
        "    tf.keras.layers.Conv2D(128, (3,3), padding='same', activation=tf.nn.relu),\n",
        "    tf.keras.layers.MaxPooling2D((2, 2), strides=2),\n",
        "    tf.keras.layers.Flatten(),    \n",
        "    tf.keras.layers.Dense(256, activation=tf.nn.relu),\n",
        "    #  10-node softmax layer, with each node representing a class of clothing.\n",
        "    tf.keras.layers.Dense(6,  activation=tf.nn.softmax)\n",
        "])\n",
        " \n",
        "# compile the model\n",
        "model_with_conv.compile(optimizer='adam',\n",
        "              loss='categorical_crossentropy',\n",
        "              metrics=['accuracy'])"
      ],
      "execution_count": null,
      "outputs": []
    },
    {
      "cell_type": "code",
      "metadata": {
        "id": "bV8ZkmwKcETB",
        "colab_type": "code",
        "colab": {
          "base_uri": "https://localhost:8080/",
          "height": 386
        },
        "outputId": "4fe9edd3-976a-422d-e390-47c9eb041db3"
      },
      "source": [
        "model_with_conv.summary()"
      ],
      "execution_count": null,
      "outputs": [
        {
          "output_type": "stream",
          "text": [
            "Model: \"sequential_1\"\n",
            "_________________________________________________________________\n",
            "Layer (type)                 Output Shape              Param #   \n",
            "=================================================================\n",
            "conv2d_2 (Conv2D)            (None, 32, 32, 64)        1792      \n",
            "_________________________________________________________________\n",
            "max_pooling2d_2 (MaxPooling2 (None, 16, 16, 64)        0         \n",
            "_________________________________________________________________\n",
            "conv2d_3 (Conv2D)            (None, 16, 16, 128)       73856     \n",
            "_________________________________________________________________\n",
            "max_pooling2d_3 (MaxPooling2 (None, 8, 8, 128)         0         \n",
            "_________________________________________________________________\n",
            "flatten_1 (Flatten)          (None, 8192)              0         \n",
            "_________________________________________________________________\n",
            "dense_2 (Dense)              (None, 256)               2097408   \n",
            "_________________________________________________________________\n",
            "dense_3 (Dense)              (None, 6)                 1542      \n",
            "=================================================================\n",
            "Total params: 2,174,598\n",
            "Trainable params: 2,174,598\n",
            "Non-trainable params: 0\n",
            "_________________________________________________________________\n"
          ],
          "name": "stdout"
        }
      ]
    },
    {
      "cell_type": "code",
      "metadata": {
        "id": "9lqwou8uGhJw",
        "colab_type": "code",
        "colab": {}
      },
      "source": [
        "from tensorflow.keras.utils import to_categorical\n",
        "trainY = to_categorical(trainY)\n",
        "testY = to_categorical(testY)"
      ],
      "execution_count": null,
      "outputs": []
    },
    {
      "cell_type": "code",
      "metadata": {
        "id": "CW_Lotmj0Hul",
        "colab_type": "code",
        "colab": {}
      },
      "source": [
        "filepath=\"/content/drive/My Drive/Models/CNN_Scratch/weights-{epoch:02d}-{accuracy:.3f}.hdf5\"\n",
        "from tensorflow.keras.callbacks import ModelCheckpoint\n",
        "checkpoint = ModelCheckpoint(filepath, monitor='accuracy',\n",
        "                               verbose=1, mode='max',save_best_only=True)\n",
        "\n",
        "callbacks_list = [checkpoint]"
      ],
      "execution_count": null,
      "outputs": []
    },
    {
      "cell_type": "code",
      "metadata": {
        "id": "VbdKKFVzNOLX",
        "colab_type": "code",
        "colab": {}
      },
      "source": [
        "tf.config.experimental_run_functions_eagerly(True)\n"
      ],
      "execution_count": null,
      "outputs": []
    },
    {
      "cell_type": "code",
      "metadata": {
        "id": "S-PwG9mAz7Vx",
        "colab_type": "code",
        "colab": {}
      },
      "source": [
        "(augtrainX,augtrainY) =  support.PrepareAugmentedData(trainX,trainY)"
      ],
      "execution_count": null,
      "outputs": []
    },
    {
      "cell_type": "code",
      "metadata": {
        "id": "lIgG5ReV9Lqg",
        "colab_type": "code",
        "colab": {
          "base_uri": "https://localhost:8080/",
          "height": 1000
        },
        "outputId": "6cbf08db-47f4-4a94-cd82-1cf959e5c5b7"
      },
      "source": [
        "model_with_conv.fit(trainX,trainY,verbose=1,epochs=50,validation_data=(testX,testY),callbacks=[checkpoint])"
      ],
      "execution_count": null,
      "outputs": [
        {
          "output_type": "stream",
          "text": [
            "Epoch 1/50\n",
            "1405/1406 [============================>.] - ETA: 0s - loss: 1.5056 - accuracy: 0.6181\n",
            "Epoch 00001: accuracy improved from -inf to 0.61818, saving model to /content/drive/My Drive/Models/CNN_Scratch/weights-01-0.618.hdf5\n",
            "1406/1406 [==============================] - 28s 20ms/step - loss: 1.5055 - accuracy: 0.6182 - val_loss: 0.8942 - val_accuracy: 0.6444\n",
            "Epoch 2/50\n",
            "1405/1406 [============================>.] - ETA: 0s - loss: 0.8870 - accuracy: 0.6449\n",
            "Epoch 00002: accuracy improved from 0.61818 to 0.64492, saving model to /content/drive/My Drive/Models/CNN_Scratch/weights-02-0.645.hdf5\n",
            "1406/1406 [==============================] - 28s 20ms/step - loss: 0.8870 - accuracy: 0.6449 - val_loss: 0.9620 - val_accuracy: 0.6233\n",
            "Epoch 3/50\n",
            "1404/1406 [============================>.] - ETA: 0s - loss: 0.8590 - accuracy: 0.6564\n",
            "Epoch 00003: accuracy improved from 0.64492 to 0.65641, saving model to /content/drive/My Drive/Models/CNN_Scratch/weights-03-0.656.hdf5\n",
            "1406/1406 [==============================] - 28s 20ms/step - loss: 0.8590 - accuracy: 0.6564 - val_loss: 0.9089 - val_accuracy: 0.6495\n",
            "Epoch 4/50\n",
            "1405/1406 [============================>.] - ETA: 0s - loss: 0.8474 - accuracy: 0.6609\n",
            "Epoch 00004: accuracy improved from 0.65641 to 0.66093, saving model to /content/drive/My Drive/Models/CNN_Scratch/weights-04-0.661.hdf5\n",
            "1406/1406 [==============================] - 28s 20ms/step - loss: 0.8474 - accuracy: 0.6609 - val_loss: 0.8854 - val_accuracy: 0.6526\n",
            "Epoch 5/50\n",
            "1404/1406 [============================>.] - ETA: 0s - loss: 0.8381 - accuracy: 0.6672\n",
            "Epoch 00005: accuracy improved from 0.66093 to 0.66716, saving model to /content/drive/My Drive/Models/CNN_Scratch/weights-05-0.667.hdf5\n",
            "1406/1406 [==============================] - 29s 20ms/step - loss: 0.8381 - accuracy: 0.6672 - val_loss: 0.8602 - val_accuracy: 0.6660\n",
            "Epoch 6/50\n",
            "1404/1406 [============================>.] - ETA: 0s - loss: 0.8311 - accuracy: 0.6678\n",
            "Epoch 00006: accuracy improved from 0.66716 to 0.66785, saving model to /content/drive/My Drive/Models/CNN_Scratch/weights-06-0.668.hdf5\n",
            "1406/1406 [==============================] - 28s 20ms/step - loss: 0.8312 - accuracy: 0.6678 - val_loss: 0.8746 - val_accuracy: 0.6609\n",
            "Epoch 7/50\n",
            "1405/1406 [============================>.] - ETA: 0s - loss: 0.8194 - accuracy: 0.6732\n",
            "Epoch 00007: accuracy improved from 0.66785 to 0.67321, saving model to /content/drive/My Drive/Models/CNN_Scratch/weights-07-0.673.hdf5\n",
            "1406/1406 [==============================] - 29s 21ms/step - loss: 0.8194 - accuracy: 0.6732 - val_loss: 0.8789 - val_accuracy: 0.6567\n",
            "Epoch 8/50\n",
            "1405/1406 [============================>.] - ETA: 0s - loss: 0.7979 - accuracy: 0.6817\n",
            "Epoch 00008: accuracy improved from 0.67321 to 0.68172, saving model to /content/drive/My Drive/Models/CNN_Scratch/weights-08-0.682.hdf5\n",
            "1406/1406 [==============================] - 29s 21ms/step - loss: 0.7979 - accuracy: 0.6817 - val_loss: 0.8742 - val_accuracy: 0.6671\n",
            "Epoch 9/50\n",
            "1405/1406 [============================>.] - ETA: 0s - loss: 0.7822 - accuracy: 0.6892\n",
            "Epoch 00009: accuracy improved from 0.68172 to 0.68917, saving model to /content/drive/My Drive/Models/CNN_Scratch/weights-09-0.689.hdf5\n",
            "1406/1406 [==============================] - 29s 21ms/step - loss: 0.7822 - accuracy: 0.6892 - val_loss: 0.9085 - val_accuracy: 0.6568\n",
            "Epoch 10/50\n",
            "1404/1406 [============================>.] - ETA: 0s - loss: 0.7701 - accuracy: 0.6943\n",
            "Epoch 00010: accuracy improved from 0.68917 to 0.69438, saving model to /content/drive/My Drive/Models/CNN_Scratch/weights-10-0.694.hdf5\n",
            "1406/1406 [==============================] - 29s 21ms/step - loss: 0.7700 - accuracy: 0.6944 - val_loss: 0.9081 - val_accuracy: 0.6597\n",
            "Epoch 11/50\n",
            "1403/1406 [============================>.] - ETA: 0s - loss: 0.7507 - accuracy: 0.7020\n",
            "Epoch 00011: accuracy improved from 0.69438 to 0.70201, saving model to /content/drive/My Drive/Models/CNN_Scratch/weights-11-0.702.hdf5\n",
            "1406/1406 [==============================] - 29s 21ms/step - loss: 0.7507 - accuracy: 0.7020 - val_loss: 0.9452 - val_accuracy: 0.6549\n",
            "Epoch 12/50\n",
            "1405/1406 [============================>.] - ETA: 0s - loss: 0.7287 - accuracy: 0.7098\n",
            "Epoch 00012: accuracy improved from 0.70201 to 0.70983, saving model to /content/drive/My Drive/Models/CNN_Scratch/weights-12-0.710.hdf5\n",
            "1406/1406 [==============================] - 30s 21ms/step - loss: 0.7287 - accuracy: 0.7098 - val_loss: 0.9812 - val_accuracy: 0.6546\n",
            "Epoch 13/50\n",
            "1406/1406 [==============================] - ETA: 0s - loss: 0.7139 - accuracy: 0.7163\n",
            "Epoch 00013: accuracy improved from 0.70983 to 0.71626, saving model to /content/drive/My Drive/Models/CNN_Scratch/weights-13-0.716.hdf5\n",
            "1406/1406 [==============================] - 29s 21ms/step - loss: 0.7139 - accuracy: 0.7163 - val_loss: 0.9749 - val_accuracy: 0.6547\n",
            "Epoch 14/50\n",
            "1403/1406 [============================>.] - ETA: 0s - loss: 0.6991 - accuracy: 0.7220\n",
            "Epoch 00014: accuracy improved from 0.71626 to 0.72198, saving model to /content/drive/My Drive/Models/CNN_Scratch/weights-14-0.722.hdf5\n",
            "1406/1406 [==============================] - 29s 21ms/step - loss: 0.6991 - accuracy: 0.7220 - val_loss: 1.0033 - val_accuracy: 0.6641\n",
            "Epoch 15/50\n",
            "1406/1406 [==============================] - ETA: 0s - loss: 0.6786 - accuracy: 0.7304\n",
            "Epoch 00015: accuracy improved from 0.72198 to 0.73038, saving model to /content/drive/My Drive/Models/CNN_Scratch/weights-15-0.730.hdf5\n",
            "1406/1406 [==============================] - 29s 21ms/step - loss: 0.6786 - accuracy: 0.7304 - val_loss: 1.0506 - val_accuracy: 0.6531\n",
            "Epoch 16/50\n",
            "1404/1406 [============================>.] - ETA: 0s - loss: 0.6677 - accuracy: 0.7354\n",
            "Epoch 00016: accuracy improved from 0.73038 to 0.73541, saving model to /content/drive/My Drive/Models/CNN_Scratch/weights-16-0.735.hdf5\n",
            "1406/1406 [==============================] - 30s 21ms/step - loss: 0.6677 - accuracy: 0.7354 - val_loss: 1.0644 - val_accuracy: 0.6577\n",
            "Epoch 17/50\n",
            "1404/1406 [============================>.] - ETA: 0s - loss: 0.6580 - accuracy: 0.7403\n",
            "Epoch 00017: accuracy improved from 0.73541 to 0.74037, saving model to /content/drive/My Drive/Models/CNN_Scratch/weights-17-0.740.hdf5\n",
            "1406/1406 [==============================] - 29s 21ms/step - loss: 0.6578 - accuracy: 0.7404 - val_loss: 1.1169 - val_accuracy: 0.6538\n",
            "Epoch 18/50\n",
            "1403/1406 [============================>.] - ETA: 0s - loss: 0.6447 - accuracy: 0.7468\n",
            "Epoch 00018: accuracy improved from 0.74037 to 0.74684, saving model to /content/drive/My Drive/Models/CNN_Scratch/weights-18-0.747.hdf5\n",
            "1406/1406 [==============================] - 29s 21ms/step - loss: 0.6445 - accuracy: 0.7468 - val_loss: 1.4004 - val_accuracy: 0.6444\n",
            "Epoch 19/50\n",
            "1404/1406 [============================>.] - ETA: 0s - loss: 0.6297 - accuracy: 0.7535\n",
            "Epoch 00019: accuracy improved from 0.74684 to 0.75351, saving model to /content/drive/My Drive/Models/CNN_Scratch/weights-19-0.754.hdf5\n",
            "1406/1406 [==============================] - 30s 21ms/step - loss: 0.6298 - accuracy: 0.7535 - val_loss: 1.2544 - val_accuracy: 0.6470\n",
            "Epoch 20/50\n",
            "1404/1406 [============================>.] - ETA: 0s - loss: 0.6062 - accuracy: 0.7599\n",
            "Epoch 00020: accuracy improved from 0.75351 to 0.75985, saving model to /content/drive/My Drive/Models/CNN_Scratch/weights-20-0.760.hdf5\n",
            "1406/1406 [==============================] - 29s 21ms/step - loss: 0.6062 - accuracy: 0.7599 - val_loss: 1.2710 - val_accuracy: 0.6539\n",
            "Epoch 21/50\n",
            "1405/1406 [============================>.] - ETA: 0s - loss: 0.5854 - accuracy: 0.7670\n",
            "Epoch 00021: accuracy improved from 0.75985 to 0.76697, saving model to /content/drive/My Drive/Models/CNN_Scratch/weights-21-0.767.hdf5\n",
            "1406/1406 [==============================] - 30s 21ms/step - loss: 0.5854 - accuracy: 0.7670 - val_loss: 1.3615 - val_accuracy: 0.6461\n",
            "Epoch 22/50\n",
            "1405/1406 [============================>.] - ETA: 0s - loss: 0.5786 - accuracy: 0.7702\n",
            "Epoch 00022: accuracy improved from 0.76697 to 0.77022, saving model to /content/drive/My Drive/Models/CNN_Scratch/weights-22-0.770.hdf5\n",
            "1406/1406 [==============================] - 29s 21ms/step - loss: 0.5786 - accuracy: 0.7702 - val_loss: 1.4000 - val_accuracy: 0.6463\n",
            "Epoch 23/50\n",
            "1406/1406 [==============================] - ETA: 0s - loss: 0.5675 - accuracy: 0.7764\n",
            "Epoch 00023: accuracy improved from 0.77022 to 0.77640, saving model to /content/drive/My Drive/Models/CNN_Scratch/weights-23-0.776.hdf5\n",
            "1406/1406 [==============================] - 30s 21ms/step - loss: 0.5675 - accuracy: 0.7764 - val_loss: 1.4660 - val_accuracy: 0.6384\n",
            "Epoch 24/50\n",
            "1403/1406 [============================>.] - ETA: 0s - loss: 0.5711 - accuracy: 0.7760\n",
            "Epoch 00024: accuracy did not improve from 0.77640\n",
            "1406/1406 [==============================] - 30s 21ms/step - loss: 0.5712 - accuracy: 0.7760 - val_loss: 1.5569 - val_accuracy: 0.6379\n",
            "Epoch 25/50\n",
            "1405/1406 [============================>.] - ETA: 0s - loss: 0.5423 - accuracy: 0.7847\n",
            "Epoch 00025: accuracy improved from 0.77640 to 0.78474, saving model to /content/drive/My Drive/Models/CNN_Scratch/weights-25-0.785.hdf5\n",
            "1406/1406 [==============================] - 30s 21ms/step - loss: 0.5423 - accuracy: 0.7847 - val_loss: 1.6476 - val_accuracy: 0.6440\n",
            "Epoch 26/50\n",
            "1405/1406 [============================>.] - ETA: 0s - loss: 0.5320 - accuracy: 0.7890\n",
            "Epoch 00026: accuracy improved from 0.78474 to 0.78905, saving model to /content/drive/My Drive/Models/CNN_Scratch/weights-26-0.789.hdf5\n",
            "1406/1406 [==============================] - 30s 21ms/step - loss: 0.5320 - accuracy: 0.7891 - val_loss: 1.6032 - val_accuracy: 0.6247\n",
            "Epoch 27/50\n",
            "1404/1406 [============================>.] - ETA: 0s - loss: 0.5069 - accuracy: 0.7974\n",
            "Epoch 00027: accuracy improved from 0.78905 to 0.79733, saving model to /content/drive/My Drive/Models/CNN_Scratch/weights-27-0.797.hdf5\n",
            "1406/1406 [==============================] - 29s 21ms/step - loss: 0.5069 - accuracy: 0.7973 - val_loss: 1.7652 - val_accuracy: 0.6271\n",
            "Epoch 28/50\n",
            "1404/1406 [============================>.] - ETA: 0s - loss: 0.4960 - accuracy: 0.8028\n",
            "Epoch 00028: accuracy improved from 0.79733 to 0.80286, saving model to /content/drive/My Drive/Models/CNN_Scratch/weights-28-0.803.hdf5\n",
            "1406/1406 [==============================] - 30s 21ms/step - loss: 0.4962 - accuracy: 0.8029 - val_loss: 1.7089 - val_accuracy: 0.6310\n",
            "Epoch 29/50\n",
            "1406/1406 [==============================] - ETA: 0s - loss: 0.5143 - accuracy: 0.7989\n",
            "Epoch 00029: accuracy did not improve from 0.80286\n",
            "1406/1406 [==============================] - 30s 21ms/step - loss: 0.5143 - accuracy: 0.7989 - val_loss: 2.0223 - val_accuracy: 0.6206\n",
            "Epoch 30/50\n",
            "1403/1406 [============================>.] - ETA: 0s - loss: 0.4788 - accuracy: 0.8102\n",
            "Epoch 00030: accuracy improved from 0.80286 to 0.81014, saving model to /content/drive/My Drive/Models/CNN_Scratch/weights-30-0.810.hdf5\n",
            "1406/1406 [==============================] - 29s 21ms/step - loss: 0.4788 - accuracy: 0.8101 - val_loss: 2.0506 - val_accuracy: 0.6374\n",
            "Epoch 31/50\n",
            "1404/1406 [============================>.] - ETA: 0s - loss: 0.5062 - accuracy: 0.8049\n",
            "Epoch 00031: accuracy did not improve from 0.81014\n",
            "1406/1406 [==============================] - 29s 21ms/step - loss: 0.5064 - accuracy: 0.8049 - val_loss: 2.2601 - val_accuracy: 0.6313\n",
            "Epoch 32/50\n",
            "1403/1406 [============================>.] - ETA: 0s - loss: 0.4901 - accuracy: 0.8107\n",
            "Epoch 00032: accuracy improved from 0.81014 to 0.81072, saving model to /content/drive/My Drive/Models/CNN_Scratch/weights-32-0.811.hdf5\n",
            "1406/1406 [==============================] - 29s 20ms/step - loss: 0.4899 - accuracy: 0.8107 - val_loss: 2.3096 - val_accuracy: 0.6307\n",
            "Epoch 33/50\n",
            "1405/1406 [============================>.] - ETA: 0s - loss: 0.4468 - accuracy: 0.8237\n",
            "Epoch 00033: accuracy improved from 0.81072 to 0.82370, saving model to /content/drive/My Drive/Models/CNN_Scratch/weights-33-0.824.hdf5\n",
            "1406/1406 [==============================] - 30s 21ms/step - loss: 0.4468 - accuracy: 0.8237 - val_loss: 2.2039 - val_accuracy: 0.6097\n",
            "Epoch 34/50\n",
            "1403/1406 [============================>.] - ETA: 0s - loss: 0.4507 - accuracy: 0.8229\n",
            "Epoch 00034: accuracy did not improve from 0.82370\n",
            "1406/1406 [==============================] - 30s 21ms/step - loss: 0.4505 - accuracy: 0.8230 - val_loss: 2.4097 - val_accuracy: 0.6285\n",
            "Epoch 35/50\n",
            "1405/1406 [============================>.] - ETA: 0s - loss: 0.4512 - accuracy: 0.8239\n",
            "Epoch 00035: accuracy improved from 0.82370 to 0.82390, saving model to /content/drive/My Drive/Models/CNN_Scratch/weights-35-0.824.hdf5\n",
            "1406/1406 [==============================] - 28s 20ms/step - loss: 0.4512 - accuracy: 0.8239 - val_loss: 2.5147 - val_accuracy: 0.6100\n",
            "Epoch 36/50\n",
            "1404/1406 [============================>.] - ETA: 0s - loss: 0.4577 - accuracy: 0.8241\n",
            "Epoch 00036: accuracy improved from 0.82390 to 0.82419, saving model to /content/drive/My Drive/Models/CNN_Scratch/weights-36-0.824.hdf5\n",
            "1406/1406 [==============================] - 29s 21ms/step - loss: 0.4575 - accuracy: 0.8242 - val_loss: 2.5217 - val_accuracy: 0.6298\n",
            "Epoch 37/50\n",
            "1405/1406 [============================>.] - ETA: 0s - loss: 0.4204 - accuracy: 0.8351\n",
            "Epoch 00037: accuracy improved from 0.82419 to 0.83507, saving model to /content/drive/My Drive/Models/CNN_Scratch/weights-37-0.835.hdf5\n",
            "1406/1406 [==============================] - 29s 21ms/step - loss: 0.4204 - accuracy: 0.8351 - val_loss: 2.7726 - val_accuracy: 0.6226\n",
            "Epoch 38/50\n",
            "1403/1406 [============================>.] - ETA: 0s - loss: 0.4015 - accuracy: 0.8400\n",
            "Epoch 00038: accuracy improved from 0.83507 to 0.83981, saving model to /content/drive/My Drive/Models/CNN_Scratch/weights-38-0.840.hdf5\n",
            "1406/1406 [==============================] - 29s 21ms/step - loss: 0.4018 - accuracy: 0.8398 - val_loss: 2.8079 - val_accuracy: 0.6105\n",
            "Epoch 39/50\n",
            "1403/1406 [============================>.] - ETA: 0s - loss: 0.4385 - accuracy: 0.8313\n",
            "Epoch 00039: accuracy did not improve from 0.83981\n",
            "1406/1406 [==============================] - 30s 21ms/step - loss: 0.4386 - accuracy: 0.8313 - val_loss: 2.9151 - val_accuracy: 0.6210\n",
            "Epoch 40/50\n",
            "1405/1406 [============================>.] - ETA: 0s - loss: 0.4046 - accuracy: 0.8408\n",
            "Epoch 00040: accuracy improved from 0.83981 to 0.84078, saving model to /content/drive/My Drive/Models/CNN_Scratch/weights-40-0.841.hdf5\n",
            "1406/1406 [==============================] - 30s 21ms/step - loss: 0.4047 - accuracy: 0.8408 - val_loss: 2.8635 - val_accuracy: 0.6175\n",
            "Epoch 41/50\n",
            "1405/1406 [============================>.] - ETA: 0s - loss: 0.4138 - accuracy: 0.8390\n",
            "Epoch 00041: accuracy did not improve from 0.84078\n",
            "1406/1406 [==============================] - 29s 21ms/step - loss: 0.4138 - accuracy: 0.8390 - val_loss: 3.0195 - val_accuracy: 0.6156\n",
            "Epoch 42/50\n",
            "1404/1406 [============================>.] - ETA: 0s - loss: 0.3897 - accuracy: 0.8472\n",
            "Epoch 00042: accuracy improved from 0.84078 to 0.84726, saving model to /content/drive/My Drive/Models/CNN_Scratch/weights-42-0.847.hdf5\n",
            "1406/1406 [==============================] - 29s 21ms/step - loss: 0.3896 - accuracy: 0.8473 - val_loss: 2.7949 - val_accuracy: 0.6235\n",
            "Epoch 43/50\n",
            "1404/1406 [============================>.] - ETA: 0s - loss: 0.3982 - accuracy: 0.8456\n",
            "Epoch 00043: accuracy did not improve from 0.84726\n",
            "1406/1406 [==============================] - 30s 21ms/step - loss: 0.3981 - accuracy: 0.8457 - val_loss: 2.9949 - val_accuracy: 0.6196\n",
            "Epoch 44/50\n",
            "1404/1406 [============================>.] - ETA: 0s - loss: 0.4284 - accuracy: 0.8418\n",
            "Epoch 00044: accuracy did not improve from 0.84726\n",
            "1406/1406 [==============================] - 30s 21ms/step - loss: 0.4284 - accuracy: 0.8418 - val_loss: 3.4682 - val_accuracy: 0.6232\n",
            "Epoch 45/50\n",
            "1405/1406 [============================>.] - ETA: 0s - loss: 0.3572 - accuracy: 0.8602\n",
            "Epoch 00045: accuracy improved from 0.84726 to 0.86020, saving model to /content/drive/My Drive/Models/CNN_Scratch/weights-45-0.860.hdf5\n",
            "1406/1406 [==============================] - 29s 21ms/step - loss: 0.3571 - accuracy: 0.8602 - val_loss: 2.9770 - val_accuracy: 0.6289\n",
            "Epoch 46/50\n",
            "1404/1406 [============================>.] - ETA: 0s - loss: 0.3597 - accuracy: 0.8588\n",
            "Epoch 00046: accuracy did not improve from 0.86020\n",
            "1406/1406 [==============================] - 29s 21ms/step - loss: 0.3598 - accuracy: 0.8588 - val_loss: 3.3722 - val_accuracy: 0.6199\n",
            "Epoch 47/50\n",
            "1405/1406 [============================>.] - ETA: 0s - loss: 0.3965 - accuracy: 0.8506\n",
            "Epoch 00047: accuracy did not improve from 0.86020\n",
            "1406/1406 [==============================] - 30s 21ms/step - loss: 0.3965 - accuracy: 0.8506 - val_loss: 3.3921 - val_accuracy: 0.6107\n",
            "Epoch 48/50\n",
            "1405/1406 [============================>.] - ETA: 0s - loss: 0.3533 - accuracy: 0.8636\n",
            "Epoch 00048: accuracy improved from 0.86020 to 0.86360, saving model to /content/drive/My Drive/Models/CNN_Scratch/weights-48-0.864.hdf5\n",
            "1406/1406 [==============================] - 30s 21ms/step - loss: 0.3533 - accuracy: 0.8636 - val_loss: 3.7135 - val_accuracy: 0.6136\n",
            "Epoch 49/50\n",
            "1404/1406 [============================>.] - ETA: 0s - loss: 0.3793 - accuracy: 0.8558\n",
            "Epoch 00049: accuracy did not improve from 0.86360\n",
            "1406/1406 [==============================] - 29s 21ms/step - loss: 0.3793 - accuracy: 0.8558 - val_loss: 3.5697 - val_accuracy: 0.6092\n",
            "Epoch 50/50\n",
            "1405/1406 [============================>.] - ETA: 0s - loss: 0.3752 - accuracy: 0.8583\n",
            "Epoch 00050: accuracy did not improve from 0.86360\n",
            "1406/1406 [==============================] - 30s 21ms/step - loss: 0.3752 - accuracy: 0.8583 - val_loss: 3.8931 - val_accuracy: 0.6171\n"
          ],
          "name": "stdout"
        },
        {
          "output_type": "execute_result",
          "data": {
            "text/plain": [
              "<tensorflow.python.keras.callbacks.History at 0x7efcc950c160>"
            ]
          },
          "metadata": {
            "tags": []
          },
          "execution_count": 23
        }
      ]
    },
    {
      "cell_type": "code",
      "metadata": {
        "id": "ecZ2MRayqf_v",
        "colab_type": "code",
        "colab": {}
      },
      "source": [
        "import json\n",
        "history_dict = model_with_conv.history.history\n",
        "json.dump(str(history_dict), open('/content/drive/My Drive/Models/CNN_Scratch/History/CNN_Scratch_History1.json', 'w'))"
      ],
      "execution_count": null,
      "outputs": []
    },
    {
      "cell_type": "code",
      "metadata": {
        "id": "d8nXxvHzVxb5",
        "colab_type": "code",
        "colab": {}
      },
      "source": [
        "acc = model_with_conv.history.history['accuracy']\n",
        "val_accuracy = model_with_conv.history.history['val_accuracy']\n",
        "loss  =  model_with_conv.history.history['loss']\n",
        "val_loss = model_with_conv.history.history['val_loss']"
      ],
      "execution_count": null,
      "outputs": []
    },
    {
      "cell_type": "code",
      "metadata": {
        "id": "Lr4k_zmDuKwx",
        "colab_type": "code",
        "colab": {
          "base_uri": "https://localhost:8080/",
          "height": 545
        },
        "outputId": "df900d2b-389c-4dba-8387-4f2a6f94ddef"
      },
      "source": [
        "support.GenerateGraphs(acc, val_accuracy, loss, val_loss)"
      ],
      "execution_count": null,
      "outputs": [
        {
          "output_type": "display_data",
          "data": {
            "image/png": "[encoded data removed]",
            "text/plain": [
              "<Figure size 432x288 with 1 Axes>"
            ]
          },
          "metadata": {
            "tags": [],
            "needs_background": "light"
          }
        },
        {
          "output_type": "display_data",
          "data": {
            "image/png": "[encoded data removed]",
            "text/plain": [
              "<Figure size 432x288 with 1 Axes>"
            ]
          },
          "metadata": {
            "tags": [],
            "needs_background": "light"
          }
        }
      ]
    },
    {
      "cell_type": "code",
      "metadata": {
        "id": "bMKa5Fu8vBLv",
        "colab_type": "code",
        "colab": {
          "base_uri": "https://localhost:8080/",
          "height": 205
        },
        "outputId": "3c227010-508e-4a20-b214-92382669d1f7"
      },
      "source": [
        "support.PrintMetrics(testX_Pred,testY_Pred,model_with_conv)"
      ],
      "execution_count": null,
      "outputs": [
        {
          "output_type": "stream",
          "text": [
            "WARNING:tensorflow:From /content/SupportingFunctions.py:120: Sequential.predict_classes (from tensorflow.python.keras.engine.sequential) is deprecated and will be removed after 2021-01-01.\n",
            "Instructions for updating:\n",
            "Please use instead:* `np.argmax(model.predict(x), axis=-1)`,   if your model does multi-class classification   (e.g. if it uses a `softmax` last-layer activation).* `(model.predict(x) > 0.5).astype(\"int32\")`,   if your model does binary classification   (e.g. if it uses a `sigmoid` last-layer activation).\n",
            "Accuracy: 0.617116\n",
            "Precision: 0.485587\n",
            "Recall: 0.446889\n",
            "F1 score: 0.458831\n",
            "Cohens kappa: 0.418860\n"
          ],
          "name": "stdout"
        },
        {
          "output_type": "stream",
          "text": [
            "/usr/local/lib/python3.6/dist-packages/sklearn/metrics/_classification.py:1272: UndefinedMetricWarning: Recall is ill-defined and being set to 0.0 in labels with no true samples. Use `zero_division` parameter to control this behavior.\n",
            "  _warn_prf(average, modifier, msg_start, len(result))\n"
          ],
          "name": "stderr"
        }
      ]
    },
    {
      "cell_type": "code",
      "metadata": {
        "id": "CC1EpKHcvqcJ",
        "colab_type": "code",
        "colab": {}
      },
      "source": [
        "def plot_image(i, predictions_array, true_labels, images):\n",
        "  predictions_array, true_label, img = predictions_array[i], true_labels[i], images[i]\n",
        "  plt.grid(False)\n",
        "  plt.xticks([])\n",
        "  plt.yticks([])\n",
        "   \n",
        "  plt.imshow(img[...,0], cmap=plt.cm.binary)\n",
        " \n",
        "  predicted_label = np.argmax(predictions_array)\n",
        "  if predicted_label == true_label:\n",
        "    color = 'blue'\n",
        "  else:\n",
        "    color = 'red'\n",
        "   \n",
        "  plt.xlabel(\"{} {:2.0f}% ({})\".format(class_object[predicted_label],\n",
        "                                100*np.max(predictions_array),\n",
        "                                class_object[true_label]),\n",
        "                                color=color)"
      ],
      "execution_count": null,
      "outputs": []
    },
    {
      "cell_type": "code",
      "metadata": {
        "id": "yYZePezqvsHh",
        "colab_type": "code",
        "colab": {
          "base_uri": "https://localhost:8080/",
          "height": 441
        },
        "outputId": "a169f074-be20-49e3-b092-939cd47271c5"
      },
      "source": [
        "num_rows = 3\n",
        "num_cols = 3\n",
        "num_images = num_rows*num_cols\n",
        "plt.figure(figsize=(2*num_cols, 2*num_rows))\n",
        "test_images = testX[:num_images]\n",
        "predictions = model_with_conv.predict(testX_Pred)\n",
        "for i in range(num_images):    \n",
        "    plt.subplot(num_rows, num_cols, i+1)   \n",
        "    plot_image(i, predictions, testY_Pred, testX_Pred)    \n",
        " \n",
        "plt.tight_layout()\n",
        "plt.show()"
      ],
      "execution_count": null,
      "outputs": [
        {
          "output_type": "display_data",
          "data": {
            "image/png": "[encoded data removed]",
            "text/plain": [
              "<Figure size 432x432 with 9 Axes>"
            ]
          },
          "metadata": {
            "tags": []
          }
        }
      ]
    }
  ]
}