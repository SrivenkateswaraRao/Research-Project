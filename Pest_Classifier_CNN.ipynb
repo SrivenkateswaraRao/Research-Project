{
  "nbformat": 4,
  "nbformat_minor": 0,
  "metadata": {
    "colab": {
      "name": "Pest_Classifier_CNN1.ipynb",
      "provenance": [],
      "private_outputs": true,
      "collapsed_sections": [],
      "toc_visible": true,
      "include_colab_link": true
    },
    "kernelspec": {
      "name": "python3",
      "display_name": "Python 3"
    },
    "accelerator": "TPU"
  },
  "cells": [
    {
      "cell_type": "markdown",
      "metadata": {
        "id": "view-in-github",
        "colab_type": "text"
      },
      "source": [
        "<a href=\"https://colab.research.google.com/github/SrivenkateswaraRao/Research-Project/blob/master/Pest_Classifier_CNN.ipynb\" target=\"_parent\"><img src=\"https://colab.research.google.com/assets/colab-badge.svg\" alt=\"Open In Colab\"/></a>"
      ]
    },
    {
      "cell_type": "code",
      "metadata": {
        "id": "rVzRci5UPGfv",
        "colab_type": "code",
        "colab": {}
      },
      "source": [
        "import os\n",
        "from os import listdir\n",
        "from pydrive.auth import GoogleAuth\n",
        "from pydrive.drive import GoogleDrive\n",
        "from google.colab import auth\n",
        "from oauth2client.client import GoogleCredentials\n"
      ],
      "execution_count": null,
      "outputs": []
    },
    {
      "cell_type": "code",
      "metadata": {
        "id": "BC8zl-94Tc4J",
        "colab_type": "code",
        "colab": {}
      },
      "source": [
        "auth.authenticate_user()\n",
        "gauth = GoogleAuth()\n",
        "gauth.credentials = GoogleCredentials.get_application_default()\n",
        "drive = GoogleDrive(gauth)\n"
      ],
      "execution_count": null,
      "outputs": []
    },
    {
      "cell_type": "code",
      "metadata": {
        "id": "A5dGqOVbqVDZ",
        "colab_type": "code",
        "colab": {}
      },
      "source": [
        "import tensorflow as tf \n",
        "import numpy as np\n"
      ],
      "execution_count": null,
      "outputs": []
    },
    {
      "cell_type": "code",
      "metadata": {
        "id": "mHBkPYS9qiM-",
        "colab_type": "code",
        "colab": {}
      },
      "source": [
        "import tensorflow.keras as ks "
      ],
      "execution_count": null,
      "outputs": []
    },
    {
      "cell_type": "markdown",
      "metadata": {
        "id": "TIeokIV1-tt9",
        "colab_type": "text"
      },
      "source": [
        "# import the necessary packages\n"
      ]
    },
    {
      "cell_type": "code",
      "metadata": {
        "id": "o5tE9Pib-4Aj",
        "colab_type": "code",
        "colab": {}
      },
      "source": [
        "from tensorflow.keras.models import Sequential\n",
        "from tensorflow.keras.layers import Conv2D\n",
        "from tensorflow.keras.layers import MaxPooling2D\n",
        "from tensorflow.keras.layers import Activation\n",
        "from tensorflow.keras.layers import Flatten\n",
        "from tensorflow.keras.layers import Dense\n",
        "from tensorflow.keras import backend as K\n",
        "from keras.preprocessing.image import ImageDataGenerator\n",
        "from google.colab.patches import cv2_imshow\n",
        "import matplotlib.pyplot as plt"
      ],
      "execution_count": null,
      "outputs": []
    },
    {
      "cell_type": "code",
      "metadata": {
        "id": "t5gc_Z8YvMAS",
        "colab_type": "code",
        "colab": {}
      },
      "source": [
        "from google.colab import files\n",
        "files.upload() "
      ],
      "execution_count": null,
      "outputs": []
    },
    {
      "cell_type": "code",
      "metadata": {
        "id": "5i2-ylQeq31q",
        "colab_type": "code",
        "colab": {}
      },
      "source": [
        "import CreatePestImageData as Imagedataset\n",
        "import SupportingFunctions as support"
      ],
      "execution_count": null,
      "outputs": []
    },
    {
      "cell_type": "code",
      "metadata": {
        "id": "7uc_shwei50n",
        "colab_type": "code",
        "colab": {}
      },
      "source": [
        "support.DownLoadFiles('1aXb25Wp9sG7mL6AQgYY9ElrGcERi95JU',drive)"
      ],
      "execution_count": null,
      "outputs": []
    },
    {
      "cell_type": "code",
      "metadata": {
        "id": "N9NFw748XhfP",
        "colab_type": "code",
        "colab": {}
      },
      "source": [
        "support.Unzip('/content/GREENPATROL_DB_V3.0.zip','/content/Tomato/Images')"
      ],
      "execution_count": null,
      "outputs": []
    },
    {
      "cell_type": "code",
      "metadata": {
        "id": "G2ruA8aGbA7X",
        "colab_type": "code",
        "colab": {}
      },
      "source": [
        "support.fileCount('/content/Tomato/Images')"
      ],
      "execution_count": null,
      "outputs": []
    },
    {
      "cell_type": "code",
      "metadata": {
        "id": "0if4gfVSb_Tb",
        "colab_type": "code",
        "colab": {}
      },
      "source": [
        "RemoveFiles('/content/Pest/Labels')"
      ],
      "execution_count": null,
      "outputs": []
    },
    {
      "cell_type": "code",
      "metadata": {
        "colab_type": "code",
        "id": "uOtF8zwBir_r",
        "colab": {}
      },
      "source": [
        "import CreatePestImageData as Imagedataset"
      ],
      "execution_count": null,
      "outputs": []
    },
    {
      "cell_type": "markdown",
      "metadata": {
        "id": "irk-K1nz1nkD",
        "colab_type": "text"
      },
      "source": [
        "# Data PreProcessing and Transformation "
      ]
    },
    {
      "cell_type": "code",
      "metadata": {
        "id": "jAru1vs5L53C",
        "colab_type": "code",
        "colab": {}
      },
      "source": [
        "class_object = {0 : 'egg_wf' ,\n",
        "                1 : 'egg_bt', 2 : 'egg_ta', 3 : 'wf', 4 : 'bt', 5 : 'ta', 6 : 'ta_maps', 7 : 'ta_larvae', 8 : 'ta_maps+larvae', 9 : 'tomato'}"
      ],
      "execution_count": null,
      "outputs": []
    },
    {
      "cell_type": "markdown",
      "metadata": {
        "id": "Ja4-Bhu7P678",
        "colab_type": "text"
      },
      "source": [
        ""
      ]
    },
    {
      "cell_type": "code",
      "metadata": {
        "id": "rBbJbMShnGYO",
        "colab_type": "code",
        "colab": {}
      },
      "source": [
        "dataSet = Imagedataset.createImageDataset()"
      ],
      "execution_count": null,
      "outputs": []
    },
    {
      "cell_type": "code",
      "metadata": {
        "id": "PHyH9sn3Tt5w",
        "colab_type": "code",
        "colab": {}
      },
      "source": [
        " dataSet.prepare_dataset('/content/Tomato/Labels' ,'/content/Tomato/Images/', class_object,   test_size=8000)"
      ],
      "execution_count": null,
      "outputs": []
    },
    {
      "cell_type": "markdown",
      "metadata": {
        "id": "aiWHInlwLJvv",
        "colab_type": "text"
      },
      "source": [
        ""
      ]
    },
    {
      "cell_type": "code",
      "metadata": {
        "id": "8ltvWjSrV4ox",
        "colab_type": "code",
        "colab": {}
      },
      "source": [
        "(trainY , trainX) , (testY , testX ) = (dataSet.trainY , dataSet.trainX ) , (dataSet.testY , dataSet.testX )"
      ],
      "execution_count": null,
      "outputs": []
    },
    {
      "cell_type": "code",
      "metadata": {
        "id": "HCBaBXRLD6C7",
        "colab_type": "code",
        "colab": {}
      },
      "source": [
        "print(trainX.shape)\n",
        "print(trainY.shape)\n",
        "print(testX.shape)\n",
        "print(testY.shape)"
      ],
      "execution_count": null,
      "outputs": []
    },
    {
      "cell_type": "code",
      "metadata": {
        "id": "Pp7C6GPNom7T",
        "colab_type": "code",
        "colab": {}
      },
      "source": [
        "def PrepareAugmentedData(trainX,trainY):\n",
        "    arr1  = np.fliplr(trainX)\n",
        "    resultX = np.concatenate((trainX,arr1), axis=0)\n",
        "    resultY = np.concatenate((trainY,trainY), axis=0) \n",
        "    return resultX, resultY"
      ],
      "execution_count": null,
      "outputs": []
    },
    {
      "cell_type": "code",
      "metadata": {
        "id": "N9Xu7OfZucpT",
        "colab_type": "code",
        "colab": {}
      },
      "source": [
        "(augTrainX,augTrainY) = PrepareAugmentedData(trainX,trainY) "
      ],
      "execution_count": null,
      "outputs": []
    },
    {
      "cell_type": "code",
      "metadata": {
        "id": "ejIRpIl9xQW3",
        "colab_type": "code",
        "colab": {}
      },
      "source": [
        "print(augTrainX.shape)\n",
        "print(augTrainY.shape)"
      ],
      "execution_count": null,
      "outputs": []
    },
    {
      "cell_type": "code",
      "metadata": {
        "id": "_WES9XnnrgVZ",
        "colab_type": "code",
        "colab": {}
      },
      "source": [
        "# define the model\n",
        "model_with_conv = tf.keras.Sequential([\n",
        "    tf.keras.layers.Conv2D(64, (3,3), padding='same', activation=tf.nn.relu, input_shape=(32, 32, 3)),\n",
        "    tf.keras.layers.MaxPooling2D((2, 2), strides=2),\n",
        "    tf.keras.layers.Conv2D(128, (3,3), padding='same', activation=tf.nn.relu),\n",
        "    tf.keras.layers.MaxPooling2D((2, 2), strides=2),\n",
        "    tf.keras.layers.Flatten(),    \n",
        "    tf.keras.layers.Dense(256, activation=tf.nn.relu),\n",
        "    #  10-node softmax layer, with each node representing a class of clothing.\n",
        "    tf.keras.layers.Dense(10,  activation=tf.nn.softmax)\n",
        "])\n",
        " \n",
        "# compile the model\n",
        "model_with_conv.compile(optimizer='adam',\n",
        "              loss='sparse_categorical_crossentropy',\n",
        "              metrics=['accuracy'])"
      ],
      "execution_count": null,
      "outputs": []
    },
    {
      "cell_type": "code",
      "metadata": {
        "id": "uU31quuzqjMz",
        "colab_type": "code",
        "colab": {}
      },
      "source": [
        "print(model_with_conv.summary())"
      ],
      "execution_count": null,
      "outputs": []
    },
    {
      "cell_type": "code",
      "metadata": {
        "id": "Jkj_wTnapWZu",
        "colab_type": "code",
        "colab": {}
      },
      "source": [
        "    from tensorflow.keras.callbacks import Callback\n",
        "    logs = Callback()"
      ],
      "execution_count": null,
      "outputs": []
    },
    {
      "cell_type": "code",
      "metadata": {
        "id": "07mhoU9bsVj3",
        "colab_type": "code",
        "colab": {}
      },
      "source": [
        "model_with_conv.fit(trainX, trainY,verbose=1, epochs=50,callbacks=[logs],validation_data=(testX,testY))\n"
      ],
      "execution_count": null,
      "outputs": []
    },
    {
      "cell_type": "code",
      "metadata": {
        "id": "ITB99UAFCtx_",
        "colab_type": "code",
        "colab": {}
      },
      "source": [
        "def plot_image(i, predictions_array, true_labels, images):\n",
        "  predictions_array, true_label, img = predictions_array[i], true_labels[i], images[i]\n",
        "  plt.grid(False)\n",
        "  plt.xticks([])\n",
        "  plt.yticks([])\n",
        "   \n",
        "  plt.imshow(img[...,0], cmap=plt.cm.binary)\n",
        " \n",
        "  predicted_label = np.argmax(predictions_array)\n",
        "  if predicted_label == true_label:\n",
        "    color = 'blue'\n",
        "  else:\n",
        "    color = 'red'\n",
        "   \n",
        "  plt.xlabel(\"{} {:2.0f}% ({})\".format(class_object[predicted_label],\n",
        "                                100*np.max(predictions_array),\n",
        "                                class_object[true_label]),\n",
        "                                color=color)\n"
      ],
      "execution_count": null,
      "outputs": []
    },
    {
      "cell_type": "code",
      "metadata": {
        "id": "mteUFXwzCwQt",
        "colab_type": "code",
        "colab": {}
      },
      "source": [
        "num_rows = 3\n",
        "num_cols = 3\n",
        "num_images = num_rows*num_cols\n",
        "plt.figure(figsize=(2*num_cols, 2*num_rows))\n",
        "test_images = testX[:num_images]\n",
        "predictions = model_with_conv.predict(testX)\n",
        "for i in range(num_images):    \n",
        "    plt.subplot(num_rows, num_cols, i+1)   \n",
        "    plot_image(i, predictions, testY, testX)    \n",
        " \n",
        "plt.tight_layout()\n",
        "plt.show()"
      ],
      "execution_count": null,
      "outputs": []
    },
    {
      "cell_type": "code",
      "metadata": {
        "id": "EyTQSFR5r4R6",
        "colab_type": "code",
        "colab": {}
      },
      "source": [
        "acc = model_with_conv.history.history['accuracy']\n",
        "val_accuracy = model_with_conv.history.history['val_accuracy']\n",
        "loss  =  model_with_conv.history.history['loss']\n",
        "val_loss = model_with_conv.history.history['val_loss']\n"
      ],
      "execution_count": null,
      "outputs": []
    },
    {
      "cell_type": "code",
      "metadata": {
        "id": "-UIaq_5GqVt1",
        "colab_type": "code",
        "colab": {}
      },
      "source": [
        "def GenerateGraphs(acc, val_acc, loss, val_loss):\n",
        "     epochs = range(len(acc))\n",
        "     plt.plot(epochs, acc, 'bo', label='Training accuracy')\n",
        "     plt.plot(epochs, val_acc, 'b', label='Validation accuracy')\n",
        "     plt.title('Training and validation accuracy')\n",
        "     plt.figure()\n",
        "     plt.plot(epochs, loss, 'bo', label='Training Loss')\n",
        "     plt.plot(epochs, val_loss, 'b', label='Validation Loss')\n",
        "     plt.title('Training and validation loss')\n",
        "     plt.legend()\n",
        "     plt.show()\n",
        "    "
      ],
      "execution_count": null,
      "outputs": []
    },
    {
      "cell_type": "code",
      "metadata": {
        "id": "fqcrEje_qXY7",
        "colab_type": "code",
        "colab": {}
      },
      "source": [
        "GenerateGraphs(acc,val_accuracy,loss,val_loss)"
      ],
      "execution_count": null,
      "outputs": []
    }
  ]
}