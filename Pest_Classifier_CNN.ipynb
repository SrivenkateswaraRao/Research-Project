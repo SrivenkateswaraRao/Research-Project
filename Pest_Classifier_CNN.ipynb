{
  "nbformat": 4,
  "nbformat_minor": 0,
  "metadata": {
    "colab": {
      "name": "Pest_Classifier_CNN.ipynb",
      "provenance": [],
      "collapsed_sections": [],
      "authorship_tag": "ABX9TyOrAvOp/tccTEO/EmwmEPt+",
      "include_colab_link": true
    },
    "kernelspec": {
      "name": "python3",
      "display_name": "Python 3"
    }
  },
  "cells": [
    {
      "cell_type": "markdown",
      "metadata": {
        "id": "view-in-github",
        "colab_type": "text"
      },
      "source": [
        "<a href=\"https://colab.research.google.com/github/SrivenkateswaraRao/Research-Project/blob/master/Pest_Classifier_CNN.ipynb\" target=\"_parent\"><img src=\"https://colab.research.google.com/assets/colab-badge.svg\" alt=\"Open In Colab\"/></a>"
      ]
    },
    {
      "cell_type": "code",
      "metadata": {
        "id": "rVzRci5UPGfv",
        "colab_type": "code",
        "outputId": "63a79233-4011-4cc2-ad80-cfc3d627b7fc",
        "colab": {
          "base_uri": "https://localhost:8080/",
          "height": 252
        }
      },
      "source": [
        "!pip install PyDrive\n"
      ],
      "execution_count": 0,
      "outputs": [
        {
          "output_type": "stream",
          "text": [
            "Requirement already satisfied: PyDrive in /usr/local/lib/python3.6/dist-packages (1.3.1)\n",
            "Requirement already satisfied: oauth2client>=4.0.0 in /usr/local/lib/python3.6/dist-packages (from PyDrive) (4.1.3)\n",
            "Requirement already satisfied: PyYAML>=3.0 in /usr/local/lib/python3.6/dist-packages (from PyDrive) (3.13)\n",
            "Requirement already satisfied: google-api-python-client>=1.2 in /usr/local/lib/python3.6/dist-packages (from PyDrive) (1.7.12)\n",
            "Requirement already satisfied: rsa>=3.1.4 in /usr/local/lib/python3.6/dist-packages (from oauth2client>=4.0.0->PyDrive) (4.0)\n",
            "Requirement already satisfied: pyasn1>=0.1.7 in /usr/local/lib/python3.6/dist-packages (from oauth2client>=4.0.0->PyDrive) (0.4.8)\n",
            "Requirement already satisfied: httplib2>=0.9.1 in /usr/local/lib/python3.6/dist-packages (from oauth2client>=4.0.0->PyDrive) (0.17.4)\n",
            "Requirement already satisfied: six>=1.6.1 in /usr/local/lib/python3.6/dist-packages (from oauth2client>=4.0.0->PyDrive) (1.12.0)\n",
            "Requirement already satisfied: pyasn1-modules>=0.0.5 in /usr/local/lib/python3.6/dist-packages (from oauth2client>=4.0.0->PyDrive) (0.2.8)\n",
            "Requirement already satisfied: google-auth>=1.4.1 in /usr/local/lib/python3.6/dist-packages (from google-api-python-client>=1.2->PyDrive) (1.7.2)\n",
            "Requirement already satisfied: google-auth-httplib2>=0.0.3 in /usr/local/lib/python3.6/dist-packages (from google-api-python-client>=1.2->PyDrive) (0.0.3)\n",
            "Requirement already satisfied: uritemplate<4dev,>=3.0.0 in /usr/local/lib/python3.6/dist-packages (from google-api-python-client>=1.2->PyDrive) (3.0.1)\n",
            "Requirement already satisfied: cachetools<3.2,>=2.0.0 in /usr/local/lib/python3.6/dist-packages (from google-auth>=1.4.1->google-api-python-client>=1.2->PyDrive) (3.1.1)\n",
            "Requirement already satisfied: setuptools>=40.3.0 in /usr/local/lib/python3.6/dist-packages (from google-auth>=1.4.1->google-api-python-client>=1.2->PyDrive) (47.1.1)\n"
          ],
          "name": "stdout"
        }
      ]
    },
    {
      "cell_type": "code",
      "metadata": {
        "id": "Ix8QTrHervd9",
        "colab_type": "code",
        "colab": {}
      },
      "source": [
        "import os\n",
        "from pydrive.auth import GoogleAuth\n",
        "from pydrive.drive import GoogleDrive\n",
        "from google.colab import auth\n",
        "from oauth2client.client import GoogleCredentials"
      ],
      "execution_count": 0,
      "outputs": []
    },
    {
      "cell_type": "code",
      "metadata": {
        "id": "Mfbtbd9nsl87",
        "colab_type": "code",
        "colab": {}
      },
      "source": [
        "auth.authenticate_user()\n",
        "gauth = GoogleAuth()\n",
        "gauth.credentials = GoogleCredentials.get_application_default()\n",
        "drive = GoogleDrive(gauth)\n"
      ],
      "execution_count": 0,
      "outputs": []
    },
    {
      "cell_type": "code",
      "metadata": {
        "id": "g4airY5Dt0G4",
        "colab_type": "code",
        "colab": {}
      },
      "source": [
        "download = drive.CreateFile({'id': '1RSwoFiYQXzwgRhR7HHlJ5TYRATyfXBai'})\n"
      ],
      "execution_count": 0,
      "outputs": []
    },
    {
      "cell_type": "markdown",
      "metadata": {
        "id": "Xjpl1j6IsOhE",
        "colab_type": "text"
      },
      "source": [
        ""
      ]
    },
    {
      "cell_type": "code",
      "metadata": {
        "id": "6fEuHLlXwNhZ",
        "colab_type": "code",
        "outputId": "ecd002fe-68c0-4f20-b188-fe5fb1ec5a61",
        "colab": {
          "base_uri": "https://localhost:8080/",
          "height": 185
        }
      },
      "source": [
        "file_list = drive.ListFile(\n",
        "    {'q': \"'1RSwoFiYQXzwgRhR7HHlJ5TYRATyfXBai' in parents\"}).GetList()\n",
        "\n",
        "for f in file_list:\n",
        "    print('title: %s, id: %s' % (f['title'], f['id']))\n",
        "    fname = f['title']\n",
        "    print('downloading to {}'.format(fname))\n",
        "    f_ = drive.CreateFile({'id': f['id']})\n",
        "    f_.GetContentFile(fname)"
      ],
      "execution_count": 0,
      "outputs": [
        {
          "output_type": "stream",
          "text": [
            "title: Untitled0.ipynb, id: 1VBu-bhwXGKUz_Ew25RH6VRzZD3IzN-BF\n",
            "downloading to Untitled0.ipynb\n",
            "title: predefined_classes.txt, id: 1O-dBOm30GdQn2m0C_5QCqrjWZAAhpPic\n",
            "downloading to predefined_classes.txt\n",
            "title: all_pictures.txt, id: 1lPM9fmGp_fmwzjUK4vjG6mUytjC7cFFw\n",
            "downloading to all_pictures.txt\n",
            "title: LABELS.zip, id: 1KsW4XPz3Kcy8s1HfKEBqob48snm3AfiN\n",
            "downloading to LABELS.zip\n",
            "title: GREENPATROL_DB_V1.0.zip, id: 1IrF6nrEx7NUZ9kNFsuWZdLJgTRPHwg2F\n",
            "downloading to GREENPATROL_DB_V1.0.zip\n"
          ],
          "name": "stdout"
        }
      ]
    },
    {
      "cell_type": "code",
      "metadata": {
        "id": "IjObOmBsvaEQ",
        "colab_type": "code",
        "colab": {}
      },
      "source": [
        "download_Pests = drive.CreateFile({'id': '1IrF6nrEx7NUZ9kNFsuWZdLJgTRPHwg2F'})\n",
        "\n"
      ],
      "execution_count": 0,
      "outputs": []
    },
    {
      "cell_type": "markdown",
      "metadata": {
        "id": "keMp9bFt6s20",
        "colab_type": "text"
      },
      "source": [
        "Downloading annotations "
      ]
    },
    {
      "cell_type": "code",
      "metadata": {
        "id": "QD_QUY_f7fWh",
        "colab_type": "code",
        "colab": {}
      },
      "source": [
        "download_Annotations = drive.CreateFile({'id': '1KsW4XPz3Kcy8s1HfKEBqob48snm3AfiN'}) \n"
      ],
      "execution_count": 0,
      "outputs": []
    },
    {
      "cell_type": "code",
      "metadata": {
        "id": "lAWGivHq60TM",
        "colab_type": "code",
        "outputId": "bc6ae6a1-903a-4c5d-850a-bbd23fa2ae9c",
        "colab": {
          "base_uri": "https://localhost:8080/",
          "height": 1000
        }
      },
      "source": [
        "download_Annotations.GetContentFile('LABELS.zip')\n",
        "\n",
        "!unzip LABELS.zip -d '/Pests'"
      ],
      "execution_count": 0,
      "outputs": [
        {
          "output_type": "stream",
          "text": [
            "Archive:  LABELS.zip\n",
            "replace /Pests/LABELS/1_2_2_6_1_1_20180622-102849.xml? [y]es, [n]o, [A]ll, [N]one, [r]ename: y\n",
            " extracting: /Pests/LABELS/1_2_2_6_1_1_20180622-102849.xml  \n",
            "replace /Pests/LABELS/1_2_2_6_1_1_20180622-102918.xml? [y]es, [n]o, [A]ll, [N]one, [r]ename: A\n",
            " extracting: /Pests/LABELS/1_2_2_6_1_1_20180622-102918.xml  \n",
            " extracting: /Pests/LABELS/1_2_2_6_1_1_20180622-110731.xml  \n",
            " extracting: /Pests/LABELS/1_2_2_6_1_1_20180622-110804.xml  \n",
            " extracting: /Pests/LABELS/1_2_2_6_1_1_20180622-110827.xml  \n",
            " extracting: /Pests/LABELS/1_2_2_6_1_1_20180622-110905.xml  \n",
            " extracting: /Pests/LABELS/1_2_2_6_1_1_20180622-110931.xml  \n",
            " extracting: /Pests/LABELS/1_2_2_6_1_1_20180622-111004.xml  \n",
            " extracting: /Pests/LABELS/1_2_2_6_1_1_20180622-111118.xml  \n",
            " extracting: /Pests/LABELS/1_2_2_6_1_1_20180622-111144.xml  \n",
            " extracting: /Pests/LABELS/1_2_2_6_1_1_20180622-111311.xml  \n",
            " extracting: /Pests/LABELS/1_2_2_6_1_1_20180622-111334.xml  \n",
            " extracting: /Pests/LABELS/1_2_2_6_1_1_20180622-111411.xml  \n",
            " extracting: /Pests/LABELS/1_2_2_6_1_1_20180622-111527.xml  \n",
            " extracting: /Pests/LABELS/1_2_2_6_1_1_20180622-111619.xml  \n",
            " extracting: /Pests/LABELS/1_2_2_6_1_1_20180622-111719.xml  \n",
            " extracting: /Pests/LABELS/1_2_2_6_1_1_20180622-111750.xml  \n",
            " extracting: /Pests/LABELS/1_2_2_6_1_1_20180622-112001.xml  \n",
            " extracting: /Pests/LABELS/1_2_2_6_1_1_20180622-112026.xml  \n",
            " extracting: /Pests/LABELS/1_2_2_6_1_1_20180622-112111.xml  \n",
            " extracting: /Pests/LABELS/1_2_2_6_1_1_20180622-112200.xml  \n",
            " extracting: /Pests/LABELS/1_2_2_6_1_1_20180622-112227.xml  \n",
            " extracting: /Pests/LABELS/1_2_2_6_1_1_20180622-112233.xml  \n",
            " extracting: /Pests/LABELS/1_2_2_6_1_1_20180622-112251.xml  \n",
            " extracting: /Pests/LABELS/1_2_2_6_1_1_20180622-112323.xml  \n",
            " extracting: /Pests/LABELS/1_2_2_6_1_1_20180622-112351.xml  \n",
            " extracting: /Pests/LABELS/1_2_2_6_1_1_20180622-112442.xml  \n",
            " extracting: /Pests/LABELS/1_2_2_6_1_1_20180622-112459.xml  \n",
            " extracting: /Pests/LABELS/1_2_2_6_1_1_20180622-112743.xml  \n",
            " extracting: /Pests/LABELS/1_2_2_6_1_1_20180622-112851.xml  \n",
            " extracting: /Pests/LABELS/1_2_2_6_1_1_20180622-112927.xml  \n",
            " extracting: /Pests/LABELS/1_2_2_6_1_1_20180622-113033.xml  \n",
            " extracting: /Pests/LABELS/1_2_2_6_1_1_20180622-132652.xml  \n",
            " extracting: /Pests/LABELS/1_2_2_6_1_1_20180622-133007.xml  \n",
            " extracting: /Pests/LABELS/1_2_2_6_1_1_20180622-133043.xml  \n",
            " extracting: /Pests/LABELS/1_2_2_6_1_1_20180622-133240.xml  \n",
            " extracting: /Pests/LABELS/1_2_2_6_1_1_20180622-133251.xml  \n",
            " extracting: /Pests/LABELS/1_2_2_6_1_1_20180622-133332.xml  \n",
            " extracting: /Pests/LABELS/1_2_2_6_1_1_20180622-133847.xml  \n",
            " extracting: /Pests/LABELS/1_2_2_6_1_1_20180622-133935.xml  \n",
            " extracting: /Pests/LABELS/1_2_2_6_1_1_20180622-134254.xml  \n",
            " extracting: /Pests/LABELS/1_2_2_6_1_1_20180622-134411.xml  \n",
            " extracting: /Pests/LABELS/1_2_2_6_1_1_20180622-134510.xml  \n",
            " extracting: /Pests/LABELS/1_2_2_6_1_1_20180622-134603.xml  \n",
            " extracting: /Pests/LABELS/1_2_2_6_1_1_20180622-134628.xml  \n",
            " extracting: /Pests/LABELS/1_2_2_6_1_1_20180622-134643.xml  \n",
            " extracting: /Pests/LABELS/1_2_2_6_1_1_20180622-134733.xml  \n",
            " extracting: /Pests/LABELS/1_2_2_6_1_1_20180622-134822.xml  \n",
            " extracting: /Pests/LABELS/1_2_2_6_1_1_20180622-134845.xml  \n",
            " extracting: /Pests/LABELS/1_2_2_6_1_1_20180622-135025.xml  \n",
            " extracting: /Pests/LABELS/1_2_2_6_1_1_20180622-135035.xml  \n",
            " extracting: /Pests/LABELS/1_2_2_6_1_1_20180622-135201.xml  \n",
            " extracting: /Pests/LABELS/1_2_2_6_1_1_20180622-135836.xml  \n",
            " extracting: /Pests/LABELS/1_2_2_6_1_1_20180622-135904.xml  \n",
            " extracting: /Pests/LABELS/1_2_2_6_1_1_20180622-140138.xml  \n",
            " extracting: /Pests/LABELS/1_2_2_6_1_1_20180622-140333.xml  \n",
            " extracting: /Pests/LABELS/1_2_2_6_1_1_20180622-140435.xml  \n",
            " extracting: /Pests/LABELS/1_2_2_6_1_1_20180622-140810.xml  \n",
            " extracting: /Pests/LABELS/1_2_2_6_1_1_20180622-140932.xml  \n",
            " extracting: /Pests/LABELS/1_2_2_6_1_1_20180622-141015.xml  \n",
            " extracting: /Pests/LABELS/1_2_2_6_1_1_20180622-141130.xml  \n",
            " extracting: /Pests/LABELS/1_2_2_6_1_1_20180622-141205.xml  \n",
            " extracting: /Pests/LABELS/1_2_2_6_1_1_20180622-141244.xml  \n",
            " extracting: /Pests/LABELS/1_2_2_6_1_1_20180622-141358.xml  \n",
            " extracting: /Pests/LABELS/1_2_2_6_1_1_20180622-141614.xml  \n",
            " extracting: /Pests/LABELS/1_2_2_6_1_1_20180622-141709.xml  \n",
            " extracting: /Pests/LABELS/1_2_2_6_1_1_20180622-141747.xml  \n",
            " extracting: /Pests/LABELS/1_2_2_6_1_1_20180622-141835.xml  \n",
            " extracting: /Pests/LABELS/1_2_2_6_1_1_20180622-141910.xml  \n",
            " extracting: /Pests/LABELS/1_2_2_6_1_1_20180622-142019.xml  \n",
            " extracting: /Pests/LABELS/1_2_2_6_1_1_20180622-142102.xml  \n",
            " extracting: /Pests/LABELS/1_2_2_6_1_1_20180622-142150.xml  \n",
            " extracting: /Pests/LABELS/1_2_2_6_1_1_20180622-142223.xml  \n",
            " extracting: /Pests/LABELS/1_2_2_6_1_1_20180622-142302.xml  \n",
            " extracting: /Pests/LABELS/1_2_2_6_1_1_20180622-142314.xml  \n",
            " extracting: /Pests/LABELS/1_2_2_6_1_1_20180622-142417.xml  \n",
            " extracting: /Pests/LABELS/1_2_2_6_1_1_20180622-142438.xml  \n",
            " extracting: /Pests/LABELS/1_2_2_6_1_1_20180622-142522.xml  \n",
            " extracting: /Pests/LABELS/1_2_2_6_1_1_20180622-142549.xml  \n",
            " extracting: /Pests/LABELS/1_2_2_6_1_1_20180622-142706.xml  \n",
            " extracting: /Pests/LABELS/1_2_2_6_1_1_20180622-142728.xml  \n",
            " extracting: /Pests/LABELS/1_2_2_6_1_1_20180622-142836.xml  \n",
            " extracting: /Pests/LABELS/1_2_2_6_1_1_20180622-142859.xml  \n",
            " extracting: /Pests/LABELS/1_2_2_6_1_1_20180622-143019.xml  \n",
            " extracting: /Pests/LABELS/1_2_2_6_1_1_20180622-143041.xml  \n",
            " extracting: /Pests/LABELS/1_2_2_6_1_1_20180622-143136.xml  \n",
            " extracting: /Pests/LABELS/1_2_2_6_1_1_20180622-143219.xml  \n",
            " extracting: /Pests/LABELS/1_2_2_6_1_1_20180622-151746.xml  \n",
            " extracting: /Pests/LABELS/1_2_2_6_1_1_20180622-151815.xml  \n",
            " extracting: /Pests/LABELS/1_2_2_6_1_1_20180622-151903.xml  \n",
            " extracting: /Pests/LABELS/1_2_2_6_1_1_20180622-151920.xml  \n",
            " extracting: /Pests/LABELS/1_2_2_6_1_1_20180622-151944.xml  \n",
            " extracting: /Pests/LABELS/1_2_2_6_1_1_20180622-152037.xml  \n",
            " extracting: /Pests/LABELS/1_2_2_6_1_1_20180622-152059.xml  \n",
            " extracting: /Pests/LABELS/1_2_2_6_1_1_20180622-152120.xml  \n",
            " extracting: /Pests/LABELS/1_2_2_6_1_1_20180622-152150.xml  \n",
            " extracting: /Pests/LABELS/1_2_2_6_1_1_20180622-152320.xml  \n",
            " extracting: /Pests/LABELS/1_2_2_6_1_1_20180622-152454.xml  \n",
            " extracting: /Pests/LABELS/1_2_2_6_1_1_20180622-152524.xml  \n",
            " extracting: /Pests/LABELS/1_2_2_6_1_1_20180622-152604.xml  \n",
            " extracting: /Pests/LABELS/1_2_2_6_1_1_20180622-152623.xml  \n",
            " extracting: /Pests/LABELS/1_2_2_6_1_1_20180622-152648.xml  \n",
            " extracting: /Pests/LABELS/1_2_2_6_1_1_20180622-152656.xml  \n",
            " extracting: /Pests/LABELS/1_2_2_6_1_1_20180622-152726.xml  \n",
            " extracting: /Pests/LABELS/1_2_2_6_1_1_20180622-152826.xml  \n",
            " extracting: /Pests/LABELS/1_2_2_6_1_1_20180625-122933.xml  \n",
            " extracting: /Pests/LABELS/1_2_2_6_1_1_20180625-123215.xml  \n",
            " extracting: /Pests/LABELS/1_2_2_6_1_1_20180625-123611.xml  \n",
            " extracting: /Pests/LABELS/1_2_2_6_1_1_20180625-123710.xml  \n",
            " extracting: /Pests/LABELS/1_2_2_6_1_1_20180625-123804.xml  \n",
            " extracting: /Pests/LABELS/1_2_2_6_1_1_20180625-123827.xml  \n",
            " extracting: /Pests/LABELS/1_2_2_6_1_1_20180625-123953.xml  \n",
            " extracting: /Pests/LABELS/1_2_2_6_1_1_20180625-124050.xml  \n",
            " extracting: /Pests/LABELS/1_2_2_6_1_1_20180625-124228.xml  \n",
            " extracting: /Pests/LABELS/1_2_2_6_1_1_20180625-124253.xml  \n",
            " extracting: /Pests/LABELS/1_2_2_6_1_1_20180625-124429.xml  \n",
            " extracting: /Pests/LABELS/1_2_2_6_1_1_20180625-124642.xml  \n",
            " extracting: /Pests/LABELS/1_2_2_6_1_1_20180625-124854.xml  \n",
            " extracting: /Pests/LABELS/1_2_2_6_1_1_20180625-125014.xml  \n",
            " extracting: /Pests/LABELS/1_2_2_6_1_1_20180625-125136.xml  \n",
            " extracting: /Pests/LABELS/1_2_2_6_1_1_20180625-125201.xml  \n",
            " extracting: /Pests/LABELS/1_2_2_6_1_1_20180625-125233.xml  \n",
            " extracting: /Pests/LABELS/1_2_2_6_1_1_20180625-125329.xml  \n",
            " extracting: /Pests/LABELS/1_2_2_6_1_1_20180625-125443.xml  \n",
            " extracting: /Pests/LABELS/1_2_2_6_1_1_20180625-125526.xml  \n",
            " extracting: /Pests/LABELS/1_2_2_6_1_1_20180625-125539.xml  \n",
            " extracting: /Pests/LABELS/1_2_2_6_1_1_20180625-125655.xml  \n",
            " extracting: /Pests/LABELS/1_2_2_6_1_1_20180625-125719.xml  \n",
            " extracting: /Pests/LABELS/1_2_2_6_1_1_20180625-125741.xml  \n",
            " extracting: /Pests/LABELS/1_2_2_6_1_1_20180625-125818.xml  \n",
            " extracting: /Pests/LABELS/1_2_2_6_1_1_20180625-125914.xml  \n",
            " extracting: /Pests/LABELS/1_2_2_6_1_1_20180625-125948.xml  \n",
            " extracting: /Pests/LABELS/1_2_2_6_1_1_20180625-130033.xml  \n",
            " extracting: /Pests/LABELS/1_2_2_6_1_1_20180625-130050.xml  \n",
            " extracting: /Pests/LABELS/1_2_2_6_1_1_20180625-130112.xml  \n",
            " extracting: /Pests/LABELS/1_2_2_6_1_1_20180625-130400.xml  \n",
            " extracting: /Pests/LABELS/1_2_2_6_1_1_20180625-130418.xml  \n",
            " extracting: /Pests/LABELS/1_2_2_6_1_1_20180625-130457.xml  \n",
            " extracting: /Pests/LABELS/1_2_2_6_1_1_20180625-130531.xml  \n",
            " extracting: /Pests/LABELS/1_2_2_6_1_1_20180625-130606.xml  \n",
            " extracting: /Pests/LABELS/1_2_2_6_1_1_20180625-130653.xml  \n",
            " extracting: /Pests/LABELS/1_2_2_6_1_1_20180625-130727.xml  \n",
            " extracting: /Pests/LABELS/1_2_2_6_1_1_20180625-130834.xml  \n",
            " extracting: /Pests/LABELS/1_2_2_6_1_1_20180625-130937.xml  \n",
            " extracting: /Pests/LABELS/1_2_2_6_1_1_20180625-130951.xml  \n",
            " extracting: /Pests/LABELS/1_2_2_6_1_1_20180625-131033.xml  \n",
            " extracting: /Pests/LABELS/1_2_2_6_1_1_20180625-131132.xml  \n",
            " extracting: /Pests/LABELS/1_2_2_6_1_1_20180625-131151.xml  \n",
            " extracting: /Pests/LABELS/1_2_2_6_1_1_20180625-131234.xml  \n",
            " extracting: /Pests/LABELS/1_2_2_6_1_1_20180625-131314.xml  \n",
            " extracting: /Pests/LABELS/1_2_2_6_1_1_20180625-131405.xml  \n",
            " extracting: /Pests/LABELS/1_2_2_6_1_1_20180625-131522.xml  \n",
            " extracting: /Pests/LABELS/1_2_2_6_1_1_20180625-131605.xml  \n",
            " extracting: /Pests/LABELS/1_2_2_6_1_1_20180625-131649.xml  \n",
            " extracting: /Pests/LABELS/1_2_2_6_1_1_20180625-131734.xml  \n",
            " extracting: /Pests/LABELS/1_2_2_6_1_1_20180625-131934.xml  \n",
            " extracting: /Pests/LABELS/1_2_2_6_1_1_20180625-131954.xml  \n",
            " extracting: /Pests/LABELS/1_2_2_6_1_1_20180625-132158.xml  \n",
            " extracting: /Pests/LABELS/1_2_2_6_1_1_20180625-132226.xml  \n",
            " extracting: /Pests/LABELS/1_2_2_6_1_1_20180625-132300.xml  \n",
            " extracting: /Pests/LABELS/1_2_2_6_1_1_20180625-132342.xml  \n",
            " extracting: /Pests/LABELS/1_2_2_6_1_1_20180625-132440.xml  \n",
            " extracting: /Pests/LABELS/1_2_2_6_1_1_20180625-132505.xml  \n",
            " extracting: /Pests/LABELS/1_2_2_6_1_1_20180625-132533.xml  \n",
            " extracting: /Pests/LABELS/1_2_2_6_1_1_20180625-132612.xml  \n",
            " extracting: /Pests/LABELS/1_2_2_6_1_1_20180625-132718.xml  \n",
            " extracting: /Pests/LABELS/1_2_2_6_1_1_20180625-132800.xml  \n",
            " extracting: /Pests/LABELS/1_2_2_6_1_1_20180625-132823.xml  \n",
            " extracting: /Pests/LABELS/1_2_2_6_1_1_20180625-132921.xml  \n",
            " extracting: /Pests/LABELS/1_2_2_6_1_1_20180625-132939.xml  \n",
            " extracting: /Pests/LABELS/1_2_2_6_1_1_20180625-132956.xml  \n",
            " extracting: /Pests/LABELS/1_2_2_6_1_1_20180625-133035.xml  \n",
            " extracting: /Pests/LABELS/1_2_2_6_1_1_20180625-133051.xml  \n",
            " extracting: /Pests/LABELS/1_2_2_6_1_1_20180625-133137.xml  \n",
            " extracting: /Pests/LABELS/1_2_2_6_1_1_20180625-133202.xml  \n",
            " extracting: /Pests/LABELS/1_2_2_6_1_1_20180625-133336.xml  \n",
            " extracting: /Pests/LABELS/1_2_2_6_1_1_20180625-133431.xml  \n",
            " extracting: /Pests/LABELS/1_2_2_6_1_1_20180625-133534.xml  \n",
            " extracting: /Pests/LABELS/1_2_2_6_1_1_20180625-133559.xml  \n",
            " extracting: /Pests/LABELS/1_2_2_6_1_1_20180625-133622.xml  \n",
            " extracting: /Pests/LABELS/1_2_2_6_1_1_20180625-133648.xml  \n",
            " extracting: /Pests/LABELS/1_2_2_6_1_1_20180625-133723.xml  \n",
            " extracting: /Pests/LABELS/1_2_2_6_1_1_20180625-133738.xml  \n",
            " extracting: /Pests/LABELS/1_2_2_6_1_1_20180625-133800.xml  \n",
            " extracting: /Pests/LABELS/1_2_2_6_1_1_20180625-133849.xml  \n",
            " extracting: /Pests/LABELS/1_2_2_6_1_1_20180625-133915.xml  \n",
            " extracting: /Pests/LABELS/1_2_2_6_1_1_20180625-133944.xml  \n",
            " extracting: /Pests/LABELS/1_2_2_6_1_1_20180625-134023.xml  \n",
            " extracting: /Pests/LABELS/1_2_2_6_1_1_20180625-134152.xml  \n",
            " extracting: /Pests/LABELS/1_2_2_6_1_1_20180625-134244.xml  \n",
            " extracting: /Pests/LABELS/1_2_2_6_1_1_20180625-134349.xml  \n",
            " extracting: /Pests/LABELS/1_2_2_6_1_1_20180625-140345.xml  \n",
            " extracting: /Pests/LABELS/1_2_2_6_1_1_20180625-140416.xml  \n",
            " extracting: /Pests/LABELS/1_2_2_6_1_1_20180625-140437.xml  \n",
            " extracting: /Pests/LABELS/1_2_2_6_1_1_20180625-140512.xml  \n",
            " extracting: /Pests/LABELS/1_2_2_6_1_1_20180625-140551.xml  \n",
            " extracting: /Pests/LABELS/1_2_2_6_1_1_20180625-140626.xml  \n",
            " extracting: /Pests/LABELS/1_2_2_6_1_1_20180625-140645.xml  \n",
            " extracting: /Pests/LABELS/1_2_2_6_1_1_20180625-140714.xml  \n",
            " extracting: /Pests/LABELS/1_2_2_6_1_1_20180625-140734.xml  \n",
            " extracting: /Pests/__LABELS_Error.txt  \n",
            " extracting: /Pests/___All_Errors.txt  \n"
          ],
          "name": "stdout"
        }
      ]
    },
    {
      "cell_type": "code",
      "metadata": {
        "id": "cpNP491m0J5f",
        "colab_type": "code",
        "outputId": "9d088375-711f-485f-9cb0-f38bc442099a",
        "colab": {
          "base_uri": "https://localhost:8080/",
          "height": 1000
        }
      },
      "source": [
        "download_Pests.GetContentFile('GREENPATROL_DB_V1.0.zip')\n",
        "!unzip GREENPATROL_DB_V1.0.zip -d '/Pests'"
      ],
      "execution_count": 14,
      "outputs": [
        {
          "output_type": "stream",
          "text": [
            "Archive:  GREENPATROL_DB_V1.0.zip\n",
            " extracting: /Pests/GREENPATROL_DB_V1.0/1_2_2_6_1_1_20180622-102849.jpg  \n",
            " extracting: /Pests/GREENPATROL_DB_V1.0/1_2_2_6_1_1_20180622-102918.jpg  \n",
            " extracting: /Pests/GREENPATROL_DB_V1.0/1_2_2_6_1_1_20180622-110731.jpg  \n",
            " extracting: /Pests/GREENPATROL_DB_V1.0/1_2_2_6_1_1_20180622-110804.jpg  \n",
            " extracting: /Pests/GREENPATROL_DB_V1.0/1_2_2_6_1_1_20180622-110827.jpg  \n",
            " extracting: /Pests/GREENPATROL_DB_V1.0/1_2_2_6_1_1_20180622-110905.jpg  \n",
            " extracting: /Pests/GREENPATROL_DB_V1.0/1_2_2_6_1_1_20180622-110931.jpg  \n",
            " extracting: /Pests/GREENPATROL_DB_V1.0/1_2_2_6_1_1_20180622-111004.jpg  \n",
            " extracting: /Pests/GREENPATROL_DB_V1.0/1_2_2_6_1_1_20180622-111118.jpg  \n",
            " extracting: /Pests/GREENPATROL_DB_V1.0/1_2_2_6_1_1_20180622-111144.jpg  \n",
            " extracting: /Pests/GREENPATROL_DB_V1.0/1_2_2_6_1_1_20180622-111311.jpg  \n",
            " extracting: /Pests/GREENPATROL_DB_V1.0/1_2_2_6_1_1_20180622-111334.jpg  \n",
            " extracting: /Pests/GREENPATROL_DB_V1.0/1_2_2_6_1_1_20180622-111411.jpg  \n",
            " extracting: /Pests/GREENPATROL_DB_V1.0/1_2_2_6_1_1_20180622-111527.jpg  \n",
            " extracting: /Pests/GREENPATROL_DB_V1.0/1_2_2_6_1_1_20180622-111619.jpg  \n",
            " extracting: /Pests/GREENPATROL_DB_V1.0/1_2_2_6_1_1_20180622-111719.jpg  \n",
            " extracting: /Pests/GREENPATROL_DB_V1.0/1_2_2_6_1_1_20180622-111750.jpg  \n",
            " extracting: /Pests/GREENPATROL_DB_V1.0/1_2_2_6_1_1_20180622-112001.jpg  \n",
            " extracting: /Pests/GREENPATROL_DB_V1.0/1_2_2_6_1_1_20180622-112026.jpg  \n",
            " extracting: /Pests/GREENPATROL_DB_V1.0/1_2_2_6_1_1_20180622-112111.jpg  \n",
            " extracting: /Pests/GREENPATROL_DB_V1.0/1_2_2_6_1_1_20180622-112200.jpg  \n",
            " extracting: /Pests/GREENPATROL_DB_V1.0/1_2_2_6_1_1_20180622-112227.jpg  \n",
            " extracting: /Pests/GREENPATROL_DB_V1.0/1_2_2_6_1_1_20180622-112233.jpg  \n",
            " extracting: /Pests/GREENPATROL_DB_V1.0/1_2_2_6_1_1_20180622-112251.jpg  \n",
            " extracting: /Pests/GREENPATROL_DB_V1.0/1_2_2_6_1_1_20180622-112323.jpg  \n",
            " extracting: /Pests/GREENPATROL_DB_V1.0/1_2_2_6_1_1_20180622-112351.jpg  \n",
            " extracting: /Pests/GREENPATROL_DB_V1.0/1_2_2_6_1_1_20180622-112442.jpg  \n",
            " extracting: /Pests/GREENPATROL_DB_V1.0/1_2_2_6_1_1_20180622-112459.jpg  \n",
            " extracting: /Pests/GREENPATROL_DB_V1.0/1_2_2_6_1_1_20180622-112743.jpg  \n",
            " extracting: /Pests/GREENPATROL_DB_V1.0/1_2_2_6_1_1_20180622-112851.jpg  \n",
            " extracting: /Pests/GREENPATROL_DB_V1.0/1_2_2_6_1_1_20180622-112927.jpg  \n",
            " extracting: /Pests/GREENPATROL_DB_V1.0/1_2_2_6_1_1_20180622-113033.jpg  \n",
            " extracting: /Pests/GREENPATROL_DB_V1.0/1_2_2_6_1_1_20180622-132652.jpg  \n",
            " extracting: /Pests/GREENPATROL_DB_V1.0/1_2_2_6_1_1_20180622-133007.jpg  \n",
            " extracting: /Pests/GREENPATROL_DB_V1.0/1_2_2_6_1_1_20180622-133043.jpg  \n",
            " extracting: /Pests/GREENPATROL_DB_V1.0/1_2_2_6_1_1_20180622-133240.jpg  \n",
            " extracting: /Pests/GREENPATROL_DB_V1.0/1_2_2_6_1_1_20180622-133251.jpg  \n",
            " extracting: /Pests/GREENPATROL_DB_V1.0/1_2_2_6_1_1_20180622-133332.jpg  \n",
            " extracting: /Pests/GREENPATROL_DB_V1.0/1_2_2_6_1_1_20180622-133847.jpg  \n",
            " extracting: /Pests/GREENPATROL_DB_V1.0/1_2_2_6_1_1_20180622-133935.jpg  \n",
            " extracting: /Pests/GREENPATROL_DB_V1.0/1_2_2_6_1_1_20180622-134254.jpg  \n",
            " extracting: /Pests/GREENPATROL_DB_V1.0/1_2_2_6_1_1_20180622-134411.jpg  \n",
            " extracting: /Pests/GREENPATROL_DB_V1.0/1_2_2_6_1_1_20180622-134510.jpg  \n",
            " extracting: /Pests/GREENPATROL_DB_V1.0/1_2_2_6_1_1_20180622-134603.jpg  \n",
            " extracting: /Pests/GREENPATROL_DB_V1.0/1_2_2_6_1_1_20180622-134628.jpg  \n",
            " extracting: /Pests/GREENPATROL_DB_V1.0/1_2_2_6_1_1_20180622-134643.jpg  \n",
            " extracting: /Pests/GREENPATROL_DB_V1.0/1_2_2_6_1_1_20180622-134733.jpg  \n",
            " extracting: /Pests/GREENPATROL_DB_V1.0/1_2_2_6_1_1_20180622-134822.jpg  \n",
            " extracting: /Pests/GREENPATROL_DB_V1.0/1_2_2_6_1_1_20180622-134845.jpg  \n",
            " extracting: /Pests/GREENPATROL_DB_V1.0/1_2_2_6_1_1_20180622-135025.jpg  \n",
            " extracting: /Pests/GREENPATROL_DB_V1.0/1_2_2_6_1_1_20180622-135035.jpg  \n",
            " extracting: /Pests/GREENPATROL_DB_V1.0/1_2_2_6_1_1_20180622-135201.jpg  \n",
            " extracting: /Pests/GREENPATROL_DB_V1.0/1_2_2_6_1_1_20180622-135836.jpg  \n",
            " extracting: /Pests/GREENPATROL_DB_V1.0/1_2_2_6_1_1_20180622-135904.jpg  \n",
            " extracting: /Pests/GREENPATROL_DB_V1.0/1_2_2_6_1_1_20180622-140138.jpg  \n",
            " extracting: /Pests/GREENPATROL_DB_V1.0/1_2_2_6_1_1_20180622-140333.jpg  \n",
            " extracting: /Pests/GREENPATROL_DB_V1.0/1_2_2_6_1_1_20180622-140435.jpg  \n",
            " extracting: /Pests/GREENPATROL_DB_V1.0/1_2_2_6_1_1_20180622-140810.jpg  \n",
            " extracting: /Pests/GREENPATROL_DB_V1.0/1_2_2_6_1_1_20180622-140932.jpg  \n",
            " extracting: /Pests/GREENPATROL_DB_V1.0/1_2_2_6_1_1_20180622-141015.jpg  \n",
            " extracting: /Pests/GREENPATROL_DB_V1.0/1_2_2_6_1_1_20180622-141130.jpg  \n",
            " extracting: /Pests/GREENPATROL_DB_V1.0/1_2_2_6_1_1_20180622-141205.jpg  \n",
            " extracting: /Pests/GREENPATROL_DB_V1.0/1_2_2_6_1_1_20180622-141244.jpg  \n",
            " extracting: /Pests/GREENPATROL_DB_V1.0/1_2_2_6_1_1_20180622-141358.jpg  \n",
            " extracting: /Pests/GREENPATROL_DB_V1.0/1_2_2_6_1_1_20180622-141614.jpg  \n",
            " extracting: /Pests/GREENPATROL_DB_V1.0/1_2_2_6_1_1_20180622-141709.jpg  \n",
            " extracting: /Pests/GREENPATROL_DB_V1.0/1_2_2_6_1_1_20180622-141747.jpg  \n",
            " extracting: /Pests/GREENPATROL_DB_V1.0/1_2_2_6_1_1_20180622-141835.jpg  \n",
            " extracting: /Pests/GREENPATROL_DB_V1.0/1_2_2_6_1_1_20180622-141910.jpg  \n",
            " extracting: /Pests/GREENPATROL_DB_V1.0/1_2_2_6_1_1_20180622-142019.jpg  \n",
            " extracting: /Pests/GREENPATROL_DB_V1.0/1_2_2_6_1_1_20180622-142102.jpg  \n",
            " extracting: /Pests/GREENPATROL_DB_V1.0/1_2_2_6_1_1_20180622-142150.jpg  \n",
            " extracting: /Pests/GREENPATROL_DB_V1.0/1_2_2_6_1_1_20180622-142223.jpg  \n",
            " extracting: /Pests/GREENPATROL_DB_V1.0/1_2_2_6_1_1_20180622-142302.jpg  \n",
            " extracting: /Pests/GREENPATROL_DB_V1.0/1_2_2_6_1_1_20180622-142314.jpg  \n",
            " extracting: /Pests/GREENPATROL_DB_V1.0/1_2_2_6_1_1_20180622-142417.jpg  \n",
            " extracting: /Pests/GREENPATROL_DB_V1.0/1_2_2_6_1_1_20180622-142438.jpg  \n",
            " extracting: /Pests/GREENPATROL_DB_V1.0/1_2_2_6_1_1_20180622-142522.jpg  \n",
            " extracting: /Pests/GREENPATROL_DB_V1.0/1_2_2_6_1_1_20180622-142549.jpg  \n",
            " extracting: /Pests/GREENPATROL_DB_V1.0/1_2_2_6_1_1_20180622-142706.jpg  \n",
            " extracting: /Pests/GREENPATROL_DB_V1.0/1_2_2_6_1_1_20180622-142728.jpg  \n",
            " extracting: /Pests/GREENPATROL_DB_V1.0/1_2_2_6_1_1_20180622-142836.jpg  \n",
            " extracting: /Pests/GREENPATROL_DB_V1.0/1_2_2_6_1_1_20180622-142859.jpg  \n",
            " extracting: /Pests/GREENPATROL_DB_V1.0/1_2_2_6_1_1_20180622-143019.jpg  \n",
            " extracting: /Pests/GREENPATROL_DB_V1.0/1_2_2_6_1_1_20180622-143041.jpg  \n",
            " extracting: /Pests/GREENPATROL_DB_V1.0/1_2_2_6_1_1_20180622-143136.jpg  \n",
            " extracting: /Pests/GREENPATROL_DB_V1.0/1_2_2_6_1_1_20180622-143219.jpg  \n",
            " extracting: /Pests/GREENPATROL_DB_V1.0/1_2_2_6_1_1_20180622-151746.jpg  \n",
            " extracting: /Pests/GREENPATROL_DB_V1.0/1_2_2_6_1_1_20180622-151815.jpg  \n",
            " extracting: /Pests/GREENPATROL_DB_V1.0/1_2_2_6_1_1_20180622-151903.jpg  \n",
            " extracting: /Pests/GREENPATROL_DB_V1.0/1_2_2_6_1_1_20180622-151920.jpg  \n",
            " extracting: /Pests/GREENPATROL_DB_V1.0/1_2_2_6_1_1_20180622-151944.jpg  \n",
            " extracting: /Pests/GREENPATROL_DB_V1.0/1_2_2_6_1_1_20180622-152037.jpg  \n",
            " extracting: /Pests/GREENPATROL_DB_V1.0/1_2_2_6_1_1_20180622-152059.jpg  \n",
            " extracting: /Pests/GREENPATROL_DB_V1.0/1_2_2_6_1_1_20180622-152120.jpg  \n",
            " extracting: /Pests/GREENPATROL_DB_V1.0/1_2_2_6_1_1_20180622-152150.jpg  \n",
            " extracting: /Pests/GREENPATROL_DB_V1.0/1_2_2_6_1_1_20180622-152320.jpg  \n",
            " extracting: /Pests/GREENPATROL_DB_V1.0/1_2_2_6_1_1_20180622-152454.jpg  \n",
            " extracting: /Pests/GREENPATROL_DB_V1.0/1_2_2_6_1_1_20180622-152524.jpg  \n",
            " extracting: /Pests/GREENPATROL_DB_V1.0/1_2_2_6_1_1_20180622-152604.jpg  \n",
            " extracting: /Pests/GREENPATROL_DB_V1.0/1_2_2_6_1_1_20180622-152623.jpg  \n",
            " extracting: /Pests/GREENPATROL_DB_V1.0/1_2_2_6_1_1_20180622-152648.jpg  \n",
            " extracting: /Pests/GREENPATROL_DB_V1.0/1_2_2_6_1_1_20180622-152656.jpg  \n",
            " extracting: /Pests/GREENPATROL_DB_V1.0/1_2_2_6_1_1_20180622-152726.jpg  \n",
            " extracting: /Pests/GREENPATROL_DB_V1.0/1_2_2_6_1_1_20180622-152826.jpg  \n",
            " extracting: /Pests/GREENPATROL_DB_V1.0/1_2_2_6_1_1_20180625-122933.jpg  \n",
            " extracting: /Pests/GREENPATROL_DB_V1.0/1_2_2_6_1_1_20180625-123215.jpg  \n",
            " extracting: /Pests/GREENPATROL_DB_V1.0/1_2_2_6_1_1_20180625-123611.jpg  \n",
            " extracting: /Pests/GREENPATROL_DB_V1.0/1_2_2_6_1_1_20180625-123710.jpg  \n",
            " extracting: /Pests/GREENPATROL_DB_V1.0/1_2_2_6_1_1_20180625-123804.jpg  \n",
            " extracting: /Pests/GREENPATROL_DB_V1.0/1_2_2_6_1_1_20180625-123827.jpg  \n",
            " extracting: /Pests/GREENPATROL_DB_V1.0/1_2_2_6_1_1_20180625-123953.jpg  \n",
            " extracting: /Pests/GREENPATROL_DB_V1.0/1_2_2_6_1_1_20180625-124050.jpg  \n",
            " extracting: /Pests/GREENPATROL_DB_V1.0/1_2_2_6_1_1_20180625-124228.jpg  \n",
            " extracting: /Pests/GREENPATROL_DB_V1.0/1_2_2_6_1_1_20180625-124253.jpg  \n",
            " extracting: /Pests/GREENPATROL_DB_V1.0/1_2_2_6_1_1_20180625-124429.jpg  \n",
            " extracting: /Pests/GREENPATROL_DB_V1.0/1_2_2_6_1_1_20180625-124642.jpg  \n",
            " extracting: /Pests/GREENPATROL_DB_V1.0/1_2_2_6_1_1_20180625-124854.jpg  \n",
            " extracting: /Pests/GREENPATROL_DB_V1.0/1_2_2_6_1_1_20180625-125014.jpg  \n",
            " extracting: /Pests/GREENPATROL_DB_V1.0/1_2_2_6_1_1_20180625-125136.jpg  \n",
            " extracting: /Pests/GREENPATROL_DB_V1.0/1_2_2_6_1_1_20180625-125201.jpg  \n",
            " extracting: /Pests/GREENPATROL_DB_V1.0/1_2_2_6_1_1_20180625-125233.jpg  \n",
            " extracting: /Pests/GREENPATROL_DB_V1.0/1_2_2_6_1_1_20180625-125329.jpg  \n",
            " extracting: /Pests/GREENPATROL_DB_V1.0/1_2_2_6_1_1_20180625-125443.jpg  \n",
            " extracting: /Pests/GREENPATROL_DB_V1.0/1_2_2_6_1_1_20180625-125526.jpg  \n",
            " extracting: /Pests/GREENPATROL_DB_V1.0/1_2_2_6_1_1_20180625-125539.jpg  \n",
            " extracting: /Pests/GREENPATROL_DB_V1.0/1_2_2_6_1_1_20180625-125655.jpg  \n",
            " extracting: /Pests/GREENPATROL_DB_V1.0/1_2_2_6_1_1_20180625-125719.jpg  \n",
            " extracting: /Pests/GREENPATROL_DB_V1.0/1_2_2_6_1_1_20180625-125741.jpg  \n",
            " extracting: /Pests/GREENPATROL_DB_V1.0/1_2_2_6_1_1_20180625-125818.jpg  \n",
            " extracting: /Pests/GREENPATROL_DB_V1.0/1_2_2_6_1_1_20180625-125914.jpg  \n",
            " extracting: /Pests/GREENPATROL_DB_V1.0/1_2_2_6_1_1_20180625-125948.jpg  \n",
            " extracting: /Pests/GREENPATROL_DB_V1.0/1_2_2_6_1_1_20180625-130033.jpg  \n",
            " extracting: /Pests/GREENPATROL_DB_V1.0/1_2_2_6_1_1_20180625-130050.jpg  \n",
            " extracting: /Pests/GREENPATROL_DB_V1.0/1_2_2_6_1_1_20180625-130112.jpg  \n",
            " extracting: /Pests/GREENPATROL_DB_V1.0/1_2_2_6_1_1_20180625-130400.jpg  \n",
            " extracting: /Pests/GREENPATROL_DB_V1.0/1_2_2_6_1_1_20180625-130418.jpg  \n",
            " extracting: /Pests/GREENPATROL_DB_V1.0/1_2_2_6_1_1_20180625-130457.jpg  \n",
            " extracting: /Pests/GREENPATROL_DB_V1.0/1_2_2_6_1_1_20180625-130531.jpg  \n",
            " extracting: /Pests/GREENPATROL_DB_V1.0/1_2_2_6_1_1_20180625-130606.jpg  \n",
            " extracting: /Pests/GREENPATROL_DB_V1.0/1_2_2_6_1_1_20180625-130653.jpg  \n",
            " extracting: /Pests/GREENPATROL_DB_V1.0/1_2_2_6_1_1_20180625-130727.jpg  \n",
            " extracting: /Pests/GREENPATROL_DB_V1.0/1_2_2_6_1_1_20180625-130834.jpg  \n",
            " extracting: /Pests/GREENPATROL_DB_V1.0/1_2_2_6_1_1_20180625-130937.jpg  \n",
            " extracting: /Pests/GREENPATROL_DB_V1.0/1_2_2_6_1_1_20180625-130951.jpg  \n",
            " extracting: /Pests/GREENPATROL_DB_V1.0/1_2_2_6_1_1_20180625-131033.jpg  \n",
            " extracting: /Pests/GREENPATROL_DB_V1.0/1_2_2_6_1_1_20180625-131132.jpg  \n",
            " extracting: /Pests/GREENPATROL_DB_V1.0/1_2_2_6_1_1_20180625-131151.jpg  \n",
            " extracting: /Pests/GREENPATROL_DB_V1.0/1_2_2_6_1_1_20180625-131234.jpg  \n",
            " extracting: /Pests/GREENPATROL_DB_V1.0/1_2_2_6_1_1_20180625-131314.jpg  \n",
            " extracting: /Pests/GREENPATROL_DB_V1.0/1_2_2_6_1_1_20180625-131405.jpg  \n",
            " extracting: /Pests/GREENPATROL_DB_V1.0/1_2_2_6_1_1_20180625-131522.jpg  \n",
            " extracting: /Pests/GREENPATROL_DB_V1.0/1_2_2_6_1_1_20180625-131605.jpg  \n",
            " extracting: /Pests/GREENPATROL_DB_V1.0/1_2_2_6_1_1_20180625-131649.jpg  \n",
            " extracting: /Pests/GREENPATROL_DB_V1.0/1_2_2_6_1_1_20180625-131734.jpg  \n",
            " extracting: /Pests/GREENPATROL_DB_V1.0/1_2_2_6_1_1_20180625-131934.jpg  \n",
            " extracting: /Pests/GREENPATROL_DB_V1.0/1_2_2_6_1_1_20180625-131954.jpg  \n",
            " extracting: /Pests/GREENPATROL_DB_V1.0/1_2_2_6_1_1_20180625-132158.jpg  \n",
            " extracting: /Pests/GREENPATROL_DB_V1.0/1_2_2_6_1_1_20180625-132226.jpg  \n",
            " extracting: /Pests/GREENPATROL_DB_V1.0/1_2_2_6_1_1_20180625-132300.jpg  \n",
            " extracting: /Pests/GREENPATROL_DB_V1.0/1_2_2_6_1_1_20180625-132342.jpg  \n",
            " extracting: /Pests/GREENPATROL_DB_V1.0/1_2_2_6_1_1_20180625-132440.jpg  \n",
            " extracting: /Pests/GREENPATROL_DB_V1.0/1_2_2_6_1_1_20180625-132505.jpg  \n",
            " extracting: /Pests/GREENPATROL_DB_V1.0/1_2_2_6_1_1_20180625-132533.jpg  \n",
            " extracting: /Pests/GREENPATROL_DB_V1.0/1_2_2_6_1_1_20180625-132612.jpg  \n",
            " extracting: /Pests/GREENPATROL_DB_V1.0/1_2_2_6_1_1_20180625-132718.jpg  \n",
            " extracting: /Pests/GREENPATROL_DB_V1.0/1_2_2_6_1_1_20180625-132800.jpg  \n",
            " extracting: /Pests/GREENPATROL_DB_V1.0/1_2_2_6_1_1_20180625-132823.jpg  \n",
            " extracting: /Pests/GREENPATROL_DB_V1.0/1_2_2_6_1_1_20180625-132921.jpg  \n",
            " extracting: /Pests/GREENPATROL_DB_V1.0/1_2_2_6_1_1_20180625-132939.jpg  \n",
            " extracting: /Pests/GREENPATROL_DB_V1.0/1_2_2_6_1_1_20180625-132956.jpg  \n",
            " extracting: /Pests/GREENPATROL_DB_V1.0/1_2_2_6_1_1_20180625-133035.jpg  \n",
            " extracting: /Pests/GREENPATROL_DB_V1.0/1_2_2_6_1_1_20180625-133051.jpg  \n",
            " extracting: /Pests/GREENPATROL_DB_V1.0/1_2_2_6_1_1_20180625-133137.jpg  \n",
            " extracting: /Pests/GREENPATROL_DB_V1.0/1_2_2_6_1_1_20180625-133202.jpg  \n",
            " extracting: /Pests/GREENPATROL_DB_V1.0/1_2_2_6_1_1_20180625-133336.jpg  \n",
            " extracting: /Pests/GREENPATROL_DB_V1.0/1_2_2_6_1_1_20180625-133431.jpg  \n",
            " extracting: /Pests/GREENPATROL_DB_V1.0/1_2_2_6_1_1_20180625-133534.jpg  \n",
            " extracting: /Pests/GREENPATROL_DB_V1.0/1_2_2_6_1_1_20180625-133559.jpg  \n",
            " extracting: /Pests/GREENPATROL_DB_V1.0/1_2_2_6_1_1_20180625-133622.jpg  \n",
            " extracting: /Pests/GREENPATROL_DB_V1.0/1_2_2_6_1_1_20180625-133648.jpg  \n",
            " extracting: /Pests/GREENPATROL_DB_V1.0/1_2_2_6_1_1_20180625-133723.jpg  \n",
            " extracting: /Pests/GREENPATROL_DB_V1.0/1_2_2_6_1_1_20180625-133738.jpg  \n",
            " extracting: /Pests/GREENPATROL_DB_V1.0/1_2_2_6_1_1_20180625-133800.jpg  \n",
            " extracting: /Pests/GREENPATROL_DB_V1.0/1_2_2_6_1_1_20180625-133849.jpg  \n",
            " extracting: /Pests/GREENPATROL_DB_V1.0/1_2_2_6_1_1_20180625-133915.jpg  \n",
            " extracting: /Pests/GREENPATROL_DB_V1.0/1_2_2_6_1_1_20180625-133944.jpg  \n",
            " extracting: /Pests/GREENPATROL_DB_V1.0/1_2_2_6_1_1_20180625-134023.jpg  \n",
            " extracting: /Pests/GREENPATROL_DB_V1.0/1_2_2_6_1_1_20180625-134152.jpg  \n",
            " extracting: /Pests/GREENPATROL_DB_V1.0/1_2_2_6_1_1_20180625-134244.jpg  \n",
            " extracting: /Pests/GREENPATROL_DB_V1.0/1_2_2_6_1_1_20180625-134349.jpg  \n",
            " extracting: /Pests/GREENPATROL_DB_V1.0/1_2_2_6_1_1_20180625-140345.jpg  \n",
            " extracting: /Pests/GREENPATROL_DB_V1.0/1_2_2_6_1_1_20180625-140416.jpg  \n",
            " extracting: /Pests/GREENPATROL_DB_V1.0/1_2_2_6_1_1_20180625-140437.jpg  \n",
            " extracting: /Pests/GREENPATROL_DB_V1.0/1_2_2_6_1_1_20180625-140512.jpg  \n",
            " extracting: /Pests/GREENPATROL_DB_V1.0/1_2_2_6_1_1_20180625-140551.jpg  \n",
            " extracting: /Pests/GREENPATROL_DB_V1.0/1_2_2_6_1_1_20180625-140626.jpg  \n",
            " extracting: /Pests/GREENPATROL_DB_V1.0/1_2_2_6_1_1_20180625-140645.jpg  \n",
            " extracting: /Pests/GREENPATROL_DB_V1.0/1_2_2_6_1_1_20180625-140714.jpg  \n",
            " extracting: /Pests/GREENPATROL_DB_V1.0/1_2_2_6_1_1_20180625-140734.jpg  \n",
            " extracting: /Pests/__GREENPATROL_DB_V1.0_Error.txt  \n",
            "replace /Pests/___All_Errors.txt? [y]es, [n]o, [A]ll, [N]one, [r]ename: A\n",
            " extracting: /Pests/___All_Errors.txt  \n"
          ],
          "name": "stdout"
        }
      ]
    },
    {
      "cell_type": "code",
      "metadata": {
        "id": "K9bvyKQC2ffm",
        "colab_type": "code",
        "outputId": "64a150f7-043f-461a-92d9-7c02ac76500c",
        "colab": {
          "base_uri": "https://localhost:8080/",
          "height": 34
        }
      },
      "source": [
        "import keras\n",
        "\n",
        "from keras.layers import Dense, Dropout, Flatten\n",
        "from keras.layers import Conv2D, MaxPooling2D\n",
        "from keras.utils import to_categorical\n",
        "from keras.preprocessing import image\n",
        "import numpy as np\n",
        "import pandas as pd\n",
        "import matplotlib.pyplot as plt\n",
        "from sklearn.model_selection import train_test_split\n",
        "from keras.utils import to_categorical\n",
        "from tqdm import tqdm"
      ],
      "execution_count": 0,
      "outputs": [
        {
          "output_type": "stream",
          "text": [
            "Using TensorFlow backend.\n"
          ],
          "name": "stderr"
        }
      ]
    },
    {
      "cell_type": "markdown",
      "metadata": {
        "id": "7rxbvgtHseH5",
        "colab_type": "text"
      },
      "source": [
        "Loading Data Set "
      ]
    },
    {
      "cell_type": "code",
      "metadata": {
        "id": "k6rwYAPws_D-",
        "colab_type": "code",
        "outputId": "dd769ad8-73ab-4a1a-b85b-c425ea5ae142",
        "colab": {
          "base_uri": "https://localhost:8080/",
          "height": 205
        }
      },
      "source": [
        "!pip install mrcnn\n"
      ],
      "execution_count": 17,
      "outputs": [
        {
          "output_type": "stream",
          "text": [
            "Collecting mrcnn\n",
            "\u001b[?25l  Downloading https://files.pythonhosted.org/packages/80/3d/56e05c297a1f464a042b2c47bcd9e5f2d452ce0e5eca3894f7cbdcaee758/mrcnn-0.2.tar.gz (51kB)\n",
            "\r\u001b[K     |██████▍                         | 10kB 16.0MB/s eta 0:00:01\r\u001b[K     |████████████▊                   | 20kB 1.7MB/s eta 0:00:01\r\u001b[K     |███████████████████             | 30kB 2.2MB/s eta 0:00:01\r\u001b[K     |█████████████████████████▌      | 40kB 2.4MB/s eta 0:00:01\r\u001b[K     |███████████████████████████████▉| 51kB 2.0MB/s eta 0:00:01\r\u001b[K     |████████████████████████████████| 61kB 1.8MB/s \n",
            "\u001b[?25hBuilding wheels for collected packages: mrcnn\n",
            "  Building wheel for mrcnn (setup.py) ... \u001b[?25l\u001b[?25hdone\n",
            "  Created wheel for mrcnn: filename=mrcnn-0.2-cp36-none-any.whl size=54931 sha256=a4aa079599feb27c9cb24095671bea51a102ec18d73da8f30d69b09fb502c011\n",
            "  Stored in directory: /root/.cache/pip/wheels/11/ed/28/e550ddc897c04c336b923eae4eb35c9aae993d20ce39d9cc40\n",
            "Successfully built mrcnn\n",
            "Installing collected packages: mrcnn\n",
            "Successfully installed mrcnn-0.2\n"
          ],
          "name": "stdout"
        }
      ]
    },
    {
      "cell_type": "code",
      "metadata": {
        "id": "wpOZ9vyzshQZ",
        "colab_type": "code",
        "colab": {}
      },
      "source": [
        "from os import listdir\n",
        "from xml.etree import ElementTree\n",
        "from numpy import zeros\n",
        "from numpy import asarray\n",
        "from mrcnn.utils import Dataset\n",
        "from matplotlib import pyplot\n"
      ],
      "execution_count": 0,
      "outputs": []
    },
    {
      "cell_type": "markdown",
      "metadata": {
        "id": "o-9YjU4qYTye",
        "colab_type": "text"
      },
      "source": [
        "Defining a class for Data Set "
      ]
    },
    {
      "cell_type": "code",
      "metadata": {
        "id": "j75Us-RNtZh0",
        "colab_type": "code",
        "colab": {}
      },
      "source": [
        "class PestDataset(Dataset):\n",
        "\t# load the dataset definitions\n",
        "\tdef load_dataset(self, dataset_dir, is_train=True):\n",
        "\t\t# define one class\n",
        "\t\tself.add_class(\"dataset\", 1, \"Pests\")\n",
        "\t\t# define data locations\n",
        "\t\timages_dir = '/' + dataset_dir + '/GREENPATROL_DB_V1.0/'\n",
        "\t\tannotations_dir = '/'+ dataset_dir + '/LABELS/'\n",
        "\t\t# find all images\n",
        "\t\tfor filename in listdir(images_dir):\n",
        "\t\t\t# extract image id\n",
        "\t\t\timage_id = filename[:-26]\n",
        "\t\t\t# skip all images after 150 if we are building the train set\n",
        "\t\t#\tif is_train and int(image_id) >= 150:\n",
        "\t\t#\t\tcontinue\n",
        "\t\t\t# skip all images before 150 if we are building the test/val set\n",
        "\t\t#\tif not is_train and int(image_id) < 150:\n",
        "\t\t#\t\tcontinue\n",
        "\t\t\timg_path = images_dir + filename\n",
        "\t\t\tann_path = annotations_dir + image_id + '.xml'\n",
        "\t\t\t# add to dataset\n",
        "\t\t\tself.add_image('dataset', image_id=image_id, path=img_path, annotation=ann_path)\n",
        "\n",
        "\t# extract bounding boxes from an annotation file\n",
        "\tdef extract_boxes(self, filename):\n",
        "\t\t# load and parse the file\n",
        "\t\ttree = ElementTree.parse(filename)\n",
        "\t\t# get the root of the document\n",
        "\t\troot = tree.getroot()\n",
        "\t\t# extract each bounding box\n",
        "\t\tboxes = list()\n",
        "\t\tfor box in root.findall('.//bndbox'):\n",
        "\t\t\txmin = int(box.find('xmin').text)\n",
        "\t\t\tymin = int(box.find('ymin').text)\n",
        "\t\t\txmax = int(box.find('xmax').text)\n",
        "\t\t\tymax = int(box.find('ymax').text)\n",
        "\t\t\tcoors = [xmin, ymin, xmax, ymax]\n",
        "\t\t\tboxes.append(coors)\n",
        "\t\t# extract image dimensions\n",
        "\t\twidth = int(root.find('.//size/width').text)\n",
        "\t\theight = int(root.find('.//size/height').text)\n",
        "\t\treturn boxes, width, height\n",
        "\n",
        "\t# load the masks for an image\n",
        "\tdef load_mask(self, image_id):\n",
        "\t\t# get details of image\n",
        "\t\tinfo = self.image_info[image_id]\n",
        "\t\t# define box file location\n",
        "\t\tpath = info['annotation']\n",
        "\t\t# load XML\n",
        "\t\tboxes, w, h = self.extract_boxes(path)\n",
        "\t\t# create one array for all masks, each on a different channel\n",
        "\t\tmasks = zeros([h, w, len(boxes)], dtype='uint8')\n",
        "\t\t# create masks\n",
        "\t\tclass_ids = list()\n",
        "\t\tfor i in range(len(boxes)):\n",
        "\t\t\tbox = boxes[i]\n",
        "\t\t\trow_s, row_e = box[1], box[3]\n",
        "\t\t\tcol_s, col_e = box[0], box[2]\n",
        "\t\t\tmasks[row_s:row_e, col_s:col_e, i] = 1\n",
        "\t\t\tclass_ids.append(self.class_names.index('Pests'))\n",
        "\t\treturn masks, asarray(class_ids, dtype='int32')\n",
        "\n",
        "\t# load an image reference\n",
        "\tdef image_reference(self, image_id):\n",
        "\t\tinfo = self.image_info[image_id]\n",
        "\t\treturn info['path']\n"
      ],
      "execution_count": 0,
      "outputs": []
    },
    {
      "cell_type": "code",
      "metadata": {
        "id": "pdMGJ9QOZqAI",
        "colab_type": "code",
        "colab": {}
      },
      "source": [
        "# train set\n",
        "train_set = PestDataset()\n",
        "train_set.load_dataset('Pests', is_train=True)\n",
        "train_set.prepare()\n",
        "# load an image"
      ],
      "execution_count": 0,
      "outputs": []
    }
  ]
}