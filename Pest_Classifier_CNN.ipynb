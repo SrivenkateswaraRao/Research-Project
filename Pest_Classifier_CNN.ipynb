{
  "nbformat": 4,
  "nbformat_minor": 0,
  "metadata": {
    "colab": {
      "name": "Pest_Classifier_CNN.ipynb",
      "provenance": [],
      "collapsed_sections": [],
      "authorship_tag": "ABX9TyMjIx5OlHnJA/dc96IN8ULu",
      "include_colab_link": true
    },
    "kernelspec": {
      "name": "python3",
      "display_name": "Python 3"
    }
  },
  "cells": [
    {
      "cell_type": "markdown",
      "metadata": {
        "id": "view-in-github",
        "colab_type": "text"
      },
      "source": [
        "<a href=\"https://colab.research.google.com/github/SrivenkateswaraRao/Research-Project/blob/master/Pest_Classifier_CNN.ipynb\" target=\"_parent\"><img src=\"https://colab.research.google.com/assets/colab-badge.svg\" alt=\"Open In Colab\"/></a>"
      ]
    },
    {
      "cell_type": "code",
      "metadata": {
        "id": "rVzRci5UPGfv",
        "colab_type": "code",
        "outputId": "63a79233-4011-4cc2-ad80-cfc3d627b7fc",
        "colab": {
          "base_uri": "https://localhost:8080/",
          "height": 252
        }
      },
      "source": [
        "!pip install PyDrive\n"
      ],
      "execution_count": 0,
      "outputs": [
        {
          "output_type": "stream",
          "text": [
            "Requirement already satisfied: PyDrive in /usr/local/lib/python3.6/dist-packages (1.3.1)\n",
            "Requirement already satisfied: oauth2client>=4.0.0 in /usr/local/lib/python3.6/dist-packages (from PyDrive) (4.1.3)\n",
            "Requirement already satisfied: PyYAML>=3.0 in /usr/local/lib/python3.6/dist-packages (from PyDrive) (3.13)\n",
            "Requirement already satisfied: google-api-python-client>=1.2 in /usr/local/lib/python3.6/dist-packages (from PyDrive) (1.7.12)\n",
            "Requirement already satisfied: rsa>=3.1.4 in /usr/local/lib/python3.6/dist-packages (from oauth2client>=4.0.0->PyDrive) (4.0)\n",
            "Requirement already satisfied: pyasn1>=0.1.7 in /usr/local/lib/python3.6/dist-packages (from oauth2client>=4.0.0->PyDrive) (0.4.8)\n",
            "Requirement already satisfied: httplib2>=0.9.1 in /usr/local/lib/python3.6/dist-packages (from oauth2client>=4.0.0->PyDrive) (0.17.4)\n",
            "Requirement already satisfied: six>=1.6.1 in /usr/local/lib/python3.6/dist-packages (from oauth2client>=4.0.0->PyDrive) (1.12.0)\n",
            "Requirement already satisfied: pyasn1-modules>=0.0.5 in /usr/local/lib/python3.6/dist-packages (from oauth2client>=4.0.0->PyDrive) (0.2.8)\n",
            "Requirement already satisfied: google-auth>=1.4.1 in /usr/local/lib/python3.6/dist-packages (from google-api-python-client>=1.2->PyDrive) (1.7.2)\n",
            "Requirement already satisfied: google-auth-httplib2>=0.0.3 in /usr/local/lib/python3.6/dist-packages (from google-api-python-client>=1.2->PyDrive) (0.0.3)\n",
            "Requirement already satisfied: uritemplate<4dev,>=3.0.0 in /usr/local/lib/python3.6/dist-packages (from google-api-python-client>=1.2->PyDrive) (3.0.1)\n",
            "Requirement already satisfied: cachetools<3.2,>=2.0.0 in /usr/local/lib/python3.6/dist-packages (from google-auth>=1.4.1->google-api-python-client>=1.2->PyDrive) (3.1.1)\n",
            "Requirement already satisfied: setuptools>=40.3.0 in /usr/local/lib/python3.6/dist-packages (from google-auth>=1.4.1->google-api-python-client>=1.2->PyDrive) (47.1.1)\n"
          ],
          "name": "stdout"
        }
      ]
    },
    {
      "cell_type": "code",
      "metadata": {
        "id": "Ix8QTrHervd9",
        "colab_type": "code",
        "colab": {}
      },
      "source": [
        "import os\n",
        "from pydrive.auth import GoogleAuth\n",
        "from pydrive.drive import GoogleDrive\n",
        "from google.colab import auth\n",
        "from oauth2client.client import GoogleCredentials"
      ],
      "execution_count": 0,
      "outputs": []
    },
    {
      "cell_type": "code",
      "metadata": {
        "id": "Mfbtbd9nsl87",
        "colab_type": "code",
        "colab": {}
      },
      "source": [
        "auth.authenticate_user()\n",
        "gauth = GoogleAuth()\n",
        "gauth.credentials = GoogleCredentials.get_application_default()\n",
        "drive = GoogleDrive(gauth)\n"
      ],
      "execution_count": 0,
      "outputs": []
    },
    {
      "cell_type": "code",
      "metadata": {
        "id": "g4airY5Dt0G4",
        "colab_type": "code",
        "colab": {}
      },
      "source": [
        "download = drive.CreateFile({'id': '1RSwoFiYQXzwgRhR7HHlJ5TYRATyfXBai'})\n"
      ],
      "execution_count": 0,
      "outputs": []
    },
    {
      "cell_type": "markdown",
      "metadata": {
        "id": "Xjpl1j6IsOhE",
        "colab_type": "text"
      },
      "source": [
        ""
      ]
    },
    {
      "cell_type": "code",
      "metadata": {
        "id": "6fEuHLlXwNhZ",
        "colab_type": "code",
        "outputId": "39c41d5b-e27e-4b2b-bd8c-d1642662aba5",
        "colab": {
          "base_uri": "https://localhost:8080/",
          "height": 151
        }
      },
      "source": [
        "file_list = drive.ListFile(\n",
        "    {'q': \"'1RSwoFiYQXzwgRhR7HHlJ5TYRATyfXBai' in parents\"}).GetList()\n",
        "\n",
        "for f in file_list:\n",
        "    print('title: %s, id: %s' % (f['title'], f['id']))\n",
        "    fname = f['title']\n",
        "    print('downloading to {}'.format(fname))\n",
        "    f_ = drive.CreateFile({'id': f['id']})\n",
        "    f_.GetContentFile(fname)"
      ],
      "execution_count": 6,
      "outputs": [
        {
          "output_type": "stream",
          "text": [
            "title: predefined_classes.txt, id: 1O-dBOm30GdQn2m0C_5QCqrjWZAAhpPic\n",
            "downloading to predefined_classes.txt\n",
            "title: all_pictures.txt, id: 1lPM9fmGp_fmwzjUK4vjG6mUytjC7cFFw\n",
            "downloading to all_pictures.txt\n",
            "title: LABELS.zip, id: 1KsW4XPz3Kcy8s1HfKEBqob48snm3AfiN\n",
            "downloading to LABELS.zip\n",
            "title: GREENPATROL_DB_V1.0.zip, id: 1IrF6nrEx7NUZ9kNFsuWZdLJgTRPHwg2F\n",
            "downloading to GREENPATROL_DB_V1.0.zip\n"
          ],
          "name": "stdout"
        }
      ]
    },
    {
      "cell_type": "code",
      "metadata": {
        "id": "IjObOmBsvaEQ",
        "colab_type": "code",
        "colab": {}
      },
      "source": [
        "download_Pests = drive.CreateFile({'id': '1IrF6nrEx7NUZ9kNFsuWZdLJgTRPHwg2F'})\n"
      ],
      "execution_count": 0,
      "outputs": []
    },
    {
      "cell_type": "code",
      "metadata": {
        "id": "cpNP491m0J5f",
        "colab_type": "code",
        "outputId": "7048e98e-1093-4bd9-e4eb-80edaed01808",
        "colab": {
          "base_uri": "https://localhost:8080/",
          "height": 1000
        }
      },
      "source": [
        "download_Pests.GetContentFile('GREENPATROL_DB_V1.0.zip')\n",
        "!unzip GREENPATROL_DB_V1.0.zip"
      ],
      "execution_count": 8,
      "outputs": [
        {
          "output_type": "stream",
          "text": [
            "Archive:  GREENPATROL_DB_V1.0.zip\n",
            " extracting: GREENPATROL_DB_V1.0/1_2_2_6_1_1_20180622-102849.jpg  \n",
            " extracting: GREENPATROL_DB_V1.0/1_2_2_6_1_1_20180622-102918.jpg  \n",
            " extracting: GREENPATROL_DB_V1.0/1_2_2_6_1_1_20180622-110731.jpg  \n",
            " extracting: GREENPATROL_DB_V1.0/1_2_2_6_1_1_20180622-110804.jpg  \n",
            " extracting: GREENPATROL_DB_V1.0/1_2_2_6_1_1_20180622-110827.jpg  \n",
            " extracting: GREENPATROL_DB_V1.0/1_2_2_6_1_1_20180622-110905.jpg  \n",
            " extracting: GREENPATROL_DB_V1.0/1_2_2_6_1_1_20180622-110931.jpg  \n",
            " extracting: GREENPATROL_DB_V1.0/1_2_2_6_1_1_20180622-111004.jpg  \n",
            " extracting: GREENPATROL_DB_V1.0/1_2_2_6_1_1_20180622-111118.jpg  \n",
            " extracting: GREENPATROL_DB_V1.0/1_2_2_6_1_1_20180622-111144.jpg  \n",
            " extracting: GREENPATROL_DB_V1.0/1_2_2_6_1_1_20180622-111311.jpg  \n",
            " extracting: GREENPATROL_DB_V1.0/1_2_2_6_1_1_20180622-111334.jpg  \n",
            " extracting: GREENPATROL_DB_V1.0/1_2_2_6_1_1_20180622-111411.jpg  \n",
            " extracting: GREENPATROL_DB_V1.0/1_2_2_6_1_1_20180622-111527.jpg  \n",
            " extracting: GREENPATROL_DB_V1.0/1_2_2_6_1_1_20180622-111619.jpg  \n",
            " extracting: GREENPATROL_DB_V1.0/1_2_2_6_1_1_20180622-111719.jpg  \n",
            " extracting: GREENPATROL_DB_V1.0/1_2_2_6_1_1_20180622-111750.jpg  \n",
            " extracting: GREENPATROL_DB_V1.0/1_2_2_6_1_1_20180622-112001.jpg  \n",
            " extracting: GREENPATROL_DB_V1.0/1_2_2_6_1_1_20180622-112026.jpg  \n",
            " extracting: GREENPATROL_DB_V1.0/1_2_2_6_1_1_20180622-112111.jpg  \n",
            " extracting: GREENPATROL_DB_V1.0/1_2_2_6_1_1_20180622-112200.jpg  \n",
            " extracting: GREENPATROL_DB_V1.0/1_2_2_6_1_1_20180622-112227.jpg  \n",
            " extracting: GREENPATROL_DB_V1.0/1_2_2_6_1_1_20180622-112233.jpg  \n",
            " extracting: GREENPATROL_DB_V1.0/1_2_2_6_1_1_20180622-112251.jpg  \n",
            " extracting: GREENPATROL_DB_V1.0/1_2_2_6_1_1_20180622-112323.jpg  \n",
            " extracting: GREENPATROL_DB_V1.0/1_2_2_6_1_1_20180622-112351.jpg  \n",
            " extracting: GREENPATROL_DB_V1.0/1_2_2_6_1_1_20180622-112442.jpg  \n",
            " extracting: GREENPATROL_DB_V1.0/1_2_2_6_1_1_20180622-112459.jpg  \n",
            " extracting: GREENPATROL_DB_V1.0/1_2_2_6_1_1_20180622-112743.jpg  \n",
            " extracting: GREENPATROL_DB_V1.0/1_2_2_6_1_1_20180622-112851.jpg  \n",
            " extracting: GREENPATROL_DB_V1.0/1_2_2_6_1_1_20180622-112927.jpg  \n",
            " extracting: GREENPATROL_DB_V1.0/1_2_2_6_1_1_20180622-113033.jpg  \n",
            " extracting: GREENPATROL_DB_V1.0/1_2_2_6_1_1_20180622-132652.jpg  \n",
            " extracting: GREENPATROL_DB_V1.0/1_2_2_6_1_1_20180622-133007.jpg  \n",
            " extracting: GREENPATROL_DB_V1.0/1_2_2_6_1_1_20180622-133043.jpg  \n",
            " extracting: GREENPATROL_DB_V1.0/1_2_2_6_1_1_20180622-133240.jpg  \n",
            " extracting: GREENPATROL_DB_V1.0/1_2_2_6_1_1_20180622-133251.jpg  \n",
            " extracting: GREENPATROL_DB_V1.0/1_2_2_6_1_1_20180622-133332.jpg  \n",
            " extracting: GREENPATROL_DB_V1.0/1_2_2_6_1_1_20180622-133847.jpg  \n",
            " extracting: GREENPATROL_DB_V1.0/1_2_2_6_1_1_20180622-133935.jpg  \n",
            " extracting: GREENPATROL_DB_V1.0/1_2_2_6_1_1_20180622-134254.jpg  \n",
            " extracting: GREENPATROL_DB_V1.0/1_2_2_6_1_1_20180622-134411.jpg  \n",
            " extracting: GREENPATROL_DB_V1.0/1_2_2_6_1_1_20180622-134510.jpg  \n",
            " extracting: GREENPATROL_DB_V1.0/1_2_2_6_1_1_20180622-134603.jpg  \n",
            " extracting: GREENPATROL_DB_V1.0/1_2_2_6_1_1_20180622-134628.jpg  \n",
            " extracting: GREENPATROL_DB_V1.0/1_2_2_6_1_1_20180622-134643.jpg  \n",
            " extracting: GREENPATROL_DB_V1.0/1_2_2_6_1_1_20180622-134733.jpg  \n",
            " extracting: GREENPATROL_DB_V1.0/1_2_2_6_1_1_20180622-134822.jpg  \n",
            " extracting: GREENPATROL_DB_V1.0/1_2_2_6_1_1_20180622-134845.jpg  \n",
            " extracting: GREENPATROL_DB_V1.0/1_2_2_6_1_1_20180622-135025.jpg  \n",
            " extracting: GREENPATROL_DB_V1.0/1_2_2_6_1_1_20180622-135035.jpg  \n",
            " extracting: GREENPATROL_DB_V1.0/1_2_2_6_1_1_20180622-135201.jpg  \n",
            " extracting: GREENPATROL_DB_V1.0/1_2_2_6_1_1_20180622-135836.jpg  \n",
            " extracting: GREENPATROL_DB_V1.0/1_2_2_6_1_1_20180622-135904.jpg  \n",
            " extracting: GREENPATROL_DB_V1.0/1_2_2_6_1_1_20180622-140138.jpg  \n",
            " extracting: GREENPATROL_DB_V1.0/1_2_2_6_1_1_20180622-140333.jpg  \n",
            " extracting: GREENPATROL_DB_V1.0/1_2_2_6_1_1_20180622-140435.jpg  \n",
            " extracting: GREENPATROL_DB_V1.0/1_2_2_6_1_1_20180622-140810.jpg  \n",
            " extracting: GREENPATROL_DB_V1.0/1_2_2_6_1_1_20180622-140932.jpg  \n",
            " extracting: GREENPATROL_DB_V1.0/1_2_2_6_1_1_20180622-141015.jpg  \n",
            " extracting: GREENPATROL_DB_V1.0/1_2_2_6_1_1_20180622-141130.jpg  \n",
            " extracting: GREENPATROL_DB_V1.0/1_2_2_6_1_1_20180622-141205.jpg  \n",
            " extracting: GREENPATROL_DB_V1.0/1_2_2_6_1_1_20180622-141244.jpg  \n",
            " extracting: GREENPATROL_DB_V1.0/1_2_2_6_1_1_20180622-141358.jpg  \n",
            " extracting: GREENPATROL_DB_V1.0/1_2_2_6_1_1_20180622-141614.jpg  \n",
            " extracting: GREENPATROL_DB_V1.0/1_2_2_6_1_1_20180622-141709.jpg  \n",
            " extracting: GREENPATROL_DB_V1.0/1_2_2_6_1_1_20180622-141747.jpg  \n",
            " extracting: GREENPATROL_DB_V1.0/1_2_2_6_1_1_20180622-141835.jpg  \n",
            " extracting: GREENPATROL_DB_V1.0/1_2_2_6_1_1_20180622-141910.jpg  \n",
            " extracting: GREENPATROL_DB_V1.0/1_2_2_6_1_1_20180622-142019.jpg  \n",
            " extracting: GREENPATROL_DB_V1.0/1_2_2_6_1_1_20180622-142102.jpg  \n",
            " extracting: GREENPATROL_DB_V1.0/1_2_2_6_1_1_20180622-142150.jpg  \n",
            " extracting: GREENPATROL_DB_V1.0/1_2_2_6_1_1_20180622-142223.jpg  \n",
            " extracting: GREENPATROL_DB_V1.0/1_2_2_6_1_1_20180622-142302.jpg  \n",
            " extracting: GREENPATROL_DB_V1.0/1_2_2_6_1_1_20180622-142314.jpg  \n",
            " extracting: GREENPATROL_DB_V1.0/1_2_2_6_1_1_20180622-142417.jpg  \n",
            " extracting: GREENPATROL_DB_V1.0/1_2_2_6_1_1_20180622-142438.jpg  \n",
            " extracting: GREENPATROL_DB_V1.0/1_2_2_6_1_1_20180622-142522.jpg  \n",
            " extracting: GREENPATROL_DB_V1.0/1_2_2_6_1_1_20180622-142549.jpg  \n",
            " extracting: GREENPATROL_DB_V1.0/1_2_2_6_1_1_20180622-142706.jpg  \n",
            " extracting: GREENPATROL_DB_V1.0/1_2_2_6_1_1_20180622-142728.jpg  \n",
            " extracting: GREENPATROL_DB_V1.0/1_2_2_6_1_1_20180622-142836.jpg  \n",
            " extracting: GREENPATROL_DB_V1.0/1_2_2_6_1_1_20180622-142859.jpg  \n",
            " extracting: GREENPATROL_DB_V1.0/1_2_2_6_1_1_20180622-143019.jpg  \n",
            " extracting: GREENPATROL_DB_V1.0/1_2_2_6_1_1_20180622-143041.jpg  \n",
            " extracting: GREENPATROL_DB_V1.0/1_2_2_6_1_1_20180622-143136.jpg  \n",
            " extracting: GREENPATROL_DB_V1.0/1_2_2_6_1_1_20180622-143219.jpg  \n",
            " extracting: GREENPATROL_DB_V1.0/1_2_2_6_1_1_20180622-151746.jpg  \n",
            " extracting: GREENPATROL_DB_V1.0/1_2_2_6_1_1_20180622-151815.jpg  \n",
            " extracting: GREENPATROL_DB_V1.0/1_2_2_6_1_1_20180622-151903.jpg  \n",
            " extracting: GREENPATROL_DB_V1.0/1_2_2_6_1_1_20180622-151920.jpg  \n",
            " extracting: GREENPATROL_DB_V1.0/1_2_2_6_1_1_20180622-151944.jpg  \n",
            " extracting: GREENPATROL_DB_V1.0/1_2_2_6_1_1_20180622-152037.jpg  \n",
            " extracting: GREENPATROL_DB_V1.0/1_2_2_6_1_1_20180622-152059.jpg  \n",
            " extracting: GREENPATROL_DB_V1.0/1_2_2_6_1_1_20180622-152120.jpg  \n",
            " extracting: GREENPATROL_DB_V1.0/1_2_2_6_1_1_20180622-152150.jpg  \n",
            " extracting: GREENPATROL_DB_V1.0/1_2_2_6_1_1_20180622-152320.jpg  \n",
            " extracting: GREENPATROL_DB_V1.0/1_2_2_6_1_1_20180622-152454.jpg  \n",
            " extracting: GREENPATROL_DB_V1.0/1_2_2_6_1_1_20180622-152524.jpg  \n",
            " extracting: GREENPATROL_DB_V1.0/1_2_2_6_1_1_20180622-152604.jpg  \n",
            " extracting: GREENPATROL_DB_V1.0/1_2_2_6_1_1_20180622-152623.jpg  \n",
            " extracting: GREENPATROL_DB_V1.0/1_2_2_6_1_1_20180622-152648.jpg  \n",
            " extracting: GREENPATROL_DB_V1.0/1_2_2_6_1_1_20180622-152656.jpg  \n",
            " extracting: GREENPATROL_DB_V1.0/1_2_2_6_1_1_20180622-152726.jpg  \n",
            " extracting: GREENPATROL_DB_V1.0/1_2_2_6_1_1_20180622-152826.jpg  \n",
            " extracting: GREENPATROL_DB_V1.0/1_2_2_6_1_1_20180625-122933.jpg  \n",
            " extracting: GREENPATROL_DB_V1.0/1_2_2_6_1_1_20180625-123215.jpg  \n",
            " extracting: GREENPATROL_DB_V1.0/1_2_2_6_1_1_20180625-123611.jpg  \n",
            " extracting: GREENPATROL_DB_V1.0/1_2_2_6_1_1_20180625-123710.jpg  \n",
            " extracting: GREENPATROL_DB_V1.0/1_2_2_6_1_1_20180625-123804.jpg  \n",
            " extracting: GREENPATROL_DB_V1.0/1_2_2_6_1_1_20180625-123827.jpg  \n",
            " extracting: GREENPATROL_DB_V1.0/1_2_2_6_1_1_20180625-123953.jpg  \n",
            " extracting: GREENPATROL_DB_V1.0/1_2_2_6_1_1_20180625-124050.jpg  \n",
            " extracting: GREENPATROL_DB_V1.0/1_2_2_6_1_1_20180625-124228.jpg  \n",
            " extracting: GREENPATROL_DB_V1.0/1_2_2_6_1_1_20180625-124253.jpg  \n",
            " extracting: GREENPATROL_DB_V1.0/1_2_2_6_1_1_20180625-124429.jpg  \n",
            " extracting: GREENPATROL_DB_V1.0/1_2_2_6_1_1_20180625-124642.jpg  \n",
            " extracting: GREENPATROL_DB_V1.0/1_2_2_6_1_1_20180625-124854.jpg  \n",
            " extracting: GREENPATROL_DB_V1.0/1_2_2_6_1_1_20180625-125014.jpg  \n",
            " extracting: GREENPATROL_DB_V1.0/1_2_2_6_1_1_20180625-125136.jpg  \n",
            " extracting: GREENPATROL_DB_V1.0/1_2_2_6_1_1_20180625-125201.jpg  \n",
            " extracting: GREENPATROL_DB_V1.0/1_2_2_6_1_1_20180625-125233.jpg  \n",
            " extracting: GREENPATROL_DB_V1.0/1_2_2_6_1_1_20180625-125329.jpg  \n",
            " extracting: GREENPATROL_DB_V1.0/1_2_2_6_1_1_20180625-125443.jpg  \n",
            " extracting: GREENPATROL_DB_V1.0/1_2_2_6_1_1_20180625-125526.jpg  \n",
            " extracting: GREENPATROL_DB_V1.0/1_2_2_6_1_1_20180625-125539.jpg  \n",
            " extracting: GREENPATROL_DB_V1.0/1_2_2_6_1_1_20180625-125655.jpg  \n",
            " extracting: GREENPATROL_DB_V1.0/1_2_2_6_1_1_20180625-125719.jpg  \n",
            " extracting: GREENPATROL_DB_V1.0/1_2_2_6_1_1_20180625-125741.jpg  \n",
            " extracting: GREENPATROL_DB_V1.0/1_2_2_6_1_1_20180625-125818.jpg  \n",
            " extracting: GREENPATROL_DB_V1.0/1_2_2_6_1_1_20180625-125914.jpg  \n",
            " extracting: GREENPATROL_DB_V1.0/1_2_2_6_1_1_20180625-125948.jpg  \n",
            " extracting: GREENPATROL_DB_V1.0/1_2_2_6_1_1_20180625-130033.jpg  \n",
            " extracting: GREENPATROL_DB_V1.0/1_2_2_6_1_1_20180625-130050.jpg  \n",
            " extracting: GREENPATROL_DB_V1.0/1_2_2_6_1_1_20180625-130112.jpg  \n",
            " extracting: GREENPATROL_DB_V1.0/1_2_2_6_1_1_20180625-130400.jpg  \n",
            " extracting: GREENPATROL_DB_V1.0/1_2_2_6_1_1_20180625-130418.jpg  \n",
            " extracting: GREENPATROL_DB_V1.0/1_2_2_6_1_1_20180625-130457.jpg  \n",
            " extracting: GREENPATROL_DB_V1.0/1_2_2_6_1_1_20180625-130531.jpg  \n",
            " extracting: GREENPATROL_DB_V1.0/1_2_2_6_1_1_20180625-130606.jpg  \n",
            " extracting: GREENPATROL_DB_V1.0/1_2_2_6_1_1_20180625-130653.jpg  \n",
            " extracting: GREENPATROL_DB_V1.0/1_2_2_6_1_1_20180625-130727.jpg  \n",
            " extracting: GREENPATROL_DB_V1.0/1_2_2_6_1_1_20180625-130834.jpg  \n",
            " extracting: GREENPATROL_DB_V1.0/1_2_2_6_1_1_20180625-130937.jpg  \n",
            " extracting: GREENPATROL_DB_V1.0/1_2_2_6_1_1_20180625-130951.jpg  \n",
            " extracting: GREENPATROL_DB_V1.0/1_2_2_6_1_1_20180625-131033.jpg  \n",
            " extracting: GREENPATROL_DB_V1.0/1_2_2_6_1_1_20180625-131132.jpg  \n",
            " extracting: GREENPATROL_DB_V1.0/1_2_2_6_1_1_20180625-131151.jpg  \n",
            " extracting: GREENPATROL_DB_V1.0/1_2_2_6_1_1_20180625-131234.jpg  \n",
            " extracting: GREENPATROL_DB_V1.0/1_2_2_6_1_1_20180625-131314.jpg  \n",
            " extracting: GREENPATROL_DB_V1.0/1_2_2_6_1_1_20180625-131405.jpg  \n",
            " extracting: GREENPATROL_DB_V1.0/1_2_2_6_1_1_20180625-131522.jpg  \n",
            " extracting: GREENPATROL_DB_V1.0/1_2_2_6_1_1_20180625-131605.jpg  \n",
            " extracting: GREENPATROL_DB_V1.0/1_2_2_6_1_1_20180625-131649.jpg  \n",
            " extracting: GREENPATROL_DB_V1.0/1_2_2_6_1_1_20180625-131734.jpg  \n",
            " extracting: GREENPATROL_DB_V1.0/1_2_2_6_1_1_20180625-131934.jpg  \n",
            " extracting: GREENPATROL_DB_V1.0/1_2_2_6_1_1_20180625-131954.jpg  \n",
            " extracting: GREENPATROL_DB_V1.0/1_2_2_6_1_1_20180625-132158.jpg  \n",
            " extracting: GREENPATROL_DB_V1.0/1_2_2_6_1_1_20180625-132226.jpg  \n",
            " extracting: GREENPATROL_DB_V1.0/1_2_2_6_1_1_20180625-132300.jpg  \n",
            " extracting: GREENPATROL_DB_V1.0/1_2_2_6_1_1_20180625-132342.jpg  \n",
            " extracting: GREENPATROL_DB_V1.0/1_2_2_6_1_1_20180625-132440.jpg  \n",
            " extracting: GREENPATROL_DB_V1.0/1_2_2_6_1_1_20180625-132505.jpg  \n",
            " extracting: GREENPATROL_DB_V1.0/1_2_2_6_1_1_20180625-132533.jpg  \n",
            " extracting: GREENPATROL_DB_V1.0/1_2_2_6_1_1_20180625-132612.jpg  \n",
            " extracting: GREENPATROL_DB_V1.0/1_2_2_6_1_1_20180625-132718.jpg  \n",
            " extracting: GREENPATROL_DB_V1.0/1_2_2_6_1_1_20180625-132800.jpg  \n",
            " extracting: GREENPATROL_DB_V1.0/1_2_2_6_1_1_20180625-132823.jpg  \n",
            " extracting: GREENPATROL_DB_V1.0/1_2_2_6_1_1_20180625-132921.jpg  \n",
            " extracting: GREENPATROL_DB_V1.0/1_2_2_6_1_1_20180625-132939.jpg  \n",
            " extracting: GREENPATROL_DB_V1.0/1_2_2_6_1_1_20180625-132956.jpg  \n",
            " extracting: GREENPATROL_DB_V1.0/1_2_2_6_1_1_20180625-133035.jpg  \n",
            " extracting: GREENPATROL_DB_V1.0/1_2_2_6_1_1_20180625-133051.jpg  \n",
            " extracting: GREENPATROL_DB_V1.0/1_2_2_6_1_1_20180625-133137.jpg  \n",
            " extracting: GREENPATROL_DB_V1.0/1_2_2_6_1_1_20180625-133202.jpg  \n",
            " extracting: GREENPATROL_DB_V1.0/1_2_2_6_1_1_20180625-133336.jpg  \n",
            " extracting: GREENPATROL_DB_V1.0/1_2_2_6_1_1_20180625-133431.jpg  \n",
            " extracting: GREENPATROL_DB_V1.0/1_2_2_6_1_1_20180625-133534.jpg  \n",
            " extracting: GREENPATROL_DB_V1.0/1_2_2_6_1_1_20180625-133559.jpg  \n",
            " extracting: GREENPATROL_DB_V1.0/1_2_2_6_1_1_20180625-133622.jpg  \n",
            " extracting: GREENPATROL_DB_V1.0/1_2_2_6_1_1_20180625-133648.jpg  \n",
            " extracting: GREENPATROL_DB_V1.0/1_2_2_6_1_1_20180625-133723.jpg  \n",
            " extracting: GREENPATROL_DB_V1.0/1_2_2_6_1_1_20180625-133738.jpg  \n",
            " extracting: GREENPATROL_DB_V1.0/1_2_2_6_1_1_20180625-133800.jpg  \n",
            " extracting: GREENPATROL_DB_V1.0/1_2_2_6_1_1_20180625-133849.jpg  \n",
            " extracting: GREENPATROL_DB_V1.0/1_2_2_6_1_1_20180625-133915.jpg  \n",
            " extracting: GREENPATROL_DB_V1.0/1_2_2_6_1_1_20180625-133944.jpg  \n",
            " extracting: GREENPATROL_DB_V1.0/1_2_2_6_1_1_20180625-134023.jpg  \n",
            " extracting: GREENPATROL_DB_V1.0/1_2_2_6_1_1_20180625-134152.jpg  \n",
            " extracting: GREENPATROL_DB_V1.0/1_2_2_6_1_1_20180625-134244.jpg  \n",
            " extracting: GREENPATROL_DB_V1.0/1_2_2_6_1_1_20180625-134349.jpg  \n",
            " extracting: GREENPATROL_DB_V1.0/1_2_2_6_1_1_20180625-140345.jpg  \n",
            " extracting: GREENPATROL_DB_V1.0/1_2_2_6_1_1_20180625-140416.jpg  \n",
            " extracting: GREENPATROL_DB_V1.0/1_2_2_6_1_1_20180625-140437.jpg  \n",
            " extracting: GREENPATROL_DB_V1.0/1_2_2_6_1_1_20180625-140512.jpg  \n",
            " extracting: GREENPATROL_DB_V1.0/1_2_2_6_1_1_20180625-140551.jpg  \n",
            " extracting: GREENPATROL_DB_V1.0/1_2_2_6_1_1_20180625-140626.jpg  \n",
            " extracting: GREENPATROL_DB_V1.0/1_2_2_6_1_1_20180625-140645.jpg  \n",
            " extracting: GREENPATROL_DB_V1.0/1_2_2_6_1_1_20180625-140714.jpg  \n",
            " extracting: GREENPATROL_DB_V1.0/1_2_2_6_1_1_20180625-140734.jpg  \n",
            " extracting: __GREENPATROL_DB_V1.0_Error.txt  \n",
            " extracting: ___All_Errors.txt       \n"
          ],
          "name": "stdout"
        }
      ]
    },
    {
      "cell_type": "code",
      "metadata": {
        "id": "K9bvyKQC2ffm",
        "colab_type": "code",
        "outputId": "64a150f7-043f-461a-92d9-7c02ac76500c",
        "colab": {
          "base_uri": "https://localhost:8080/",
          "height": 34
        }
      },
      "source": [
        "import keras\n",
        "from keras.models import Sequential\n",
        "from keras.layers import Dense, Dropout, Flatten\n",
        "from keras.layers import Conv2D, MaxPooling2D\n",
        "from keras.utils import to_categorical\n",
        "from keras.preprocessing import image\n",
        "import numpy as np\n",
        "import pandas as pd\n",
        "import matplotlib.pyplot as plt\n",
        "from sklearn.model_selection import train_test_split\n",
        "from keras.utils import to_categorical\n",
        "from tqdm import tqdm"
      ],
      "execution_count": 9,
      "outputs": [
        {
          "output_type": "stream",
          "text": [
            "Using TensorFlow backend.\n"
          ],
          "name": "stderr"
        }
      ]
    },
    {
      "cell_type": "markdown",
      "metadata": {
        "id": "7rxbvgtHseH5",
        "colab_type": "text"
      },
      "source": [
        "Loading Data Set "
      ]
    },
    {
      "cell_type": "code",
      "metadata": {
        "id": "k6rwYAPws_D-",
        "colab_type": "code",
        "colab": {
          "base_uri": "https://localhost:8080/",
          "height": 185
        },
        "outputId": "3618025a-ada6-41b4-ba73-940d5d3ab966"
      },
      "source": [
        "!pip install mrcnn\n"
      ],
      "execution_count": 11,
      "outputs": [
        {
          "output_type": "stream",
          "text": [
            "Collecting mrcnn\n",
            "\u001b[?25l  Downloading https://files.pythonhosted.org/packages/80/3d/56e05c297a1f464a042b2c47bcd9e5f2d452ce0e5eca3894f7cbdcaee758/mrcnn-0.2.tar.gz (51kB)\n",
            "\r\u001b[K     |██████▍                         | 10kB 16.4MB/s eta 0:00:01\r\u001b[K     |████████████▊                   | 20kB 7.0MB/s eta 0:00:01\r\u001b[K     |███████████████████             | 30kB 8.4MB/s eta 0:00:01\r\u001b[K     |█████████████████████████▌      | 40kB 8.0MB/s eta 0:00:01\r\u001b[K     |███████████████████████████████▉| 51kB 7.1MB/s eta 0:00:01\r\u001b[K     |████████████████████████████████| 61kB 4.0MB/s \n",
            "\u001b[?25hBuilding wheels for collected packages: mrcnn\n",
            "  Building wheel for mrcnn (setup.py) ... \u001b[?25l\u001b[?25hdone\n",
            "  Created wheel for mrcnn: filename=mrcnn-0.2-cp36-none-any.whl size=54931 sha256=a4643b1e773cbf29d69a86ed69c2c577a6960f9d510d15c3b563327157aa3757\n",
            "  Stored in directory: /root/.cache/pip/wheels/11/ed/28/e550ddc897c04c336b923eae4eb35c9aae993d20ce39d9cc40\n",
            "Successfully built mrcnn\n",
            "Installing collected packages: mrcnn\n",
            "Successfully installed mrcnn-0.2\n"
          ],
          "name": "stdout"
        }
      ]
    },
    {
      "cell_type": "code",
      "metadata": {
        "id": "wpOZ9vyzshQZ",
        "colab_type": "code",
        "colab": {}
      },
      "source": [
        "from os import listdir\n",
        "from xml.etree import ElementTree\n",
        "from numpy import zeros\n",
        "from numpy import asarray\n",
        "from mrcnn.utils import Dataset"
      ],
      "execution_count": 0,
      "outputs": []
    }
  ]
}