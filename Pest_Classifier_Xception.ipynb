{
  "nbformat": 4,
  "nbformat_minor": 0,
  "metadata": {
    "colab": {
      "name": "Pest_Classifier_Xception.ipynb",
      "provenance": [],
      "collapsed_sections": [],
      "include_colab_link": true
    },
    "kernelspec": {
      "name": "python3",
      "display_name": "Python 3"
    }
  },
  "cells": [
    {
      "cell_type": "markdown",
      "metadata": {
        "id": "view-in-github",
        "colab_type": "text"
      },
      "source": [
        "<a href=\"https://colab.research.google.com/github/SrivenkateswaraRao/Research-Project/blob/master/Pest_Classifier_Xception.ipynb\" target=\"_parent\"><img src=\"https://colab.research.google.com/assets/colab-badge.svg\" alt=\"Open In Colab\"/></a>"
      ]
    },
    {
      "cell_type": "code",
      "metadata": {
        "id": "soOpO2RCms5q",
        "colab_type": "code",
        "colab": {
          "base_uri": "https://localhost:8080/",
          "height": 34
        },
        "outputId": "f6d0d0d9-21ce-449b-e7a4-4e4091ae3cb1"
      },
      "source": [
        "import keras\n",
        "from keras.layers.core import Layer\n",
        "import keras.backend as K\n",
        "import tensorflow as tf\n",
        "import matplotlib.pyplot as plt\n"
      ],
      "execution_count": 5,
      "outputs": [
        {
          "output_type": "stream",
          "text": [
            "Using TensorFlow backend.\n"
          ],
          "name": "stderr"
        }
      ]
    },
    {
      "cell_type": "code",
      "metadata": {
        "id": "Krr1MXdPf3I6",
        "colab_type": "code",
        "colab": {}
      },
      "source": [
        "from keras.models import Model\n",
        "from keras.layers import Conv2D, MaxPool2D,  \\\n",
        "    Dropout, Dense, Input, concatenate,      \\\n",
        "    GlobalAveragePooling2D, AveragePooling2D,\\\n",
        "    Flatten\n",
        "\n",
        "import cv2 \n",
        "import numpy as np \n",
        "from keras import backend as K \n",
        "from keras.utils import np_utils\n",
        "\n",
        "import math \n",
        "from keras.optimizers import SGD \n",
        "from keras.callbacks import LearningRateScheduler"
      ],
      "execution_count": 11,
      "outputs": []
    },
    {
      "cell_type": "code",
      "metadata": {
        "id": "G6HP4xHrIexE",
        "colab_type": "code",
        "colab": {}
      },
      "source": [
        "models = tf.keras.models\n",
        "layers = tf.keras.layers\n",
        "initializers = tf.keras.initializers\n",
        "regularizers = tf.keras.regularizers\n"
      ],
      "execution_count": 14,
      "outputs": []
    },
    {
      "cell_type": "code",
      "metadata": {
        "id": "tVLdRMU-HyZu",
        "colab_type": "code",
        "colab": {}
      },
      "source": [
        "def Xception(input_shape=(224,224,3), classes=10):\n",
        "    \"\"\"Instantiates the Xception architecture.\n",
        "    \"\"\"\n",
        "\n",
        "    img_input = layers.Input(shape=input_shape)\n",
        "\n",
        "    #===========ENTRY FLOW==============\n",
        "    #Block 1\n",
        "    x = conv_block(img_input, 32, block_num='1', conv_num='1', strides=(2,2))\n",
        "    x = conv_block(x, 64, block_num='1', conv_num='2')\n",
        "\n",
        "    #Block 2\n",
        "    x = xception_block(x, (128, 128), '2', pre_activation=False)\n",
        "\n",
        "    #Block 3\n",
        "    x = xception_block(x, (256, 256), '3')\n",
        "\n",
        "    #Block 4\n",
        "    x = xception_block(x, (728, 728), '4')\n",
        "\n",
        "\n",
        "    #===========MIDDLE FLOW===============\n",
        "    for i in range(8):\n",
        "        block_num = str(5+i)\n",
        "        x = middle_flow_block(x, 728, block_num)\n",
        "\n",
        "    #========EXIT FLOW============\n",
        "    #Block 13\n",
        "    x = xception_block(x, (728, 1024), '13') # second conv is different\n",
        "\n",
        "    # Block 14\n",
        "    x = separable_conv_block(x, 1536, block_num='14', conv_num='1', pre_activation=False)\n",
        "    x = separable_conv_block(x, 2048, block_num='14', conv_num='2', pre_activation=False)\n",
        "\n",
        "    # logistic regression\n",
        "    x = layers.GlobalAveragePooling2D(name='avg_pool')(x)\n",
        "    x = layers.Dense(classes, activation='softmax', name='predictions')(x)\n",
        "\n",
        "    # Create model.\n",
        "    model = models.Model(inputs=img_input, outputs=x, name='xception')\n",
        "    return model\n"
      ],
      "execution_count": 15,
      "outputs": []
    },
    {
      "cell_type": "code",
      "metadata": {
        "id": "8B-2ODAgLCeZ",
        "colab_type": "code",
        "colab": {}
      },
      "source": [
        "def conv_block(x, filters, block_num, conv_num, strides=(1,1)):\n",
        "    name = 'block{}_conv{}_'.format(block_num, conv_num)\n",
        "\n",
        "    # conv-BN-relu\n",
        "    x = layers.Conv2D(filters, (3,3), strides=(2,2), use_bias=False, name=name)(x)\n",
        "    x = layers.BatchNormalization(name=name+'bn')(x)\n",
        "    x = layers.Activation('relu', name=name+'act')(x)\n",
        "\n",
        "    return x"
      ],
      "execution_count": 17,
      "outputs": []
    },
    {
      "cell_type": "code",
      "metadata": {
        "id": "Jq_VxcwvLM7K",
        "colab_type": "code",
        "colab": {}
      },
      "source": [
        "def xception_block(x, filters, block_num, pre_activation=True):\n",
        "    block = 'block{}_'.format(block_num)\n",
        "    filter_conv1, filter_conv2 = filters\n",
        "\n",
        "    # residual conv branch\n",
        "    residual = layers.Conv2D(filter_conv2, (1, 1), strides=(2, 2),padding='same', use_bias=False)(x)\n",
        "    residual = layers.BatchNormalization()(residual)\n",
        "\n",
        "    # separable conv block\n",
        "    x = separable_conv_block(x, filter_conv1, block_num=block_num, conv_num='1', pre_activation=pre_activation)\n",
        "    x = separable_conv_block(x, filter_conv2, block_num=block_num, conv_num='2', pre_activation=True)\n",
        "\n",
        "    # downsampling and merging\n",
        "    x = layers.MaxPooling2D((3, 3), strides=(2, 2), padding='same', name=block+'pool')(x)\n",
        "\n",
        "    return layers.add([x, residual])"
      ],
      "execution_count": 20,
      "outputs": []
    },
    {
      "cell_type": "code",
      "metadata": {
        "id": "kirMVWyYLclw",
        "colab_type": "code",
        "colab": {}
      },
      "source": [
        "def separable_conv_block(x, filters, block_num, conv_num, pre_activation=None):\n",
        "    name = 'block{}_sepconv{}_'.format(block_num, conv_num)\n",
        "\n",
        "    if pre_activation is True:\n",
        "        x = layers.Activation('relu', name=name+'act')(x)\n",
        "\n",
        "    # (relu)-sepconv-BN-(relu)\n",
        "    x = layers.SeparableConv2D(filters, (3,3), padding='same', use_bias=False, name=name)(x)\n",
        "    x = layers.BatchNormalization(name=name+'bn')(x)\n",
        "\n",
        "    if pre_activation is False:\n",
        "        x = layers.Activation('relu', name=name+'act')(x)\n",
        "\n",
        "\n",
        "    return x"
      ],
      "execution_count": 22,
      "outputs": []
    },
    {
      "cell_type": "code",
      "metadata": {
        "id": "ZrW7RaIrLmju",
        "colab_type": "code",
        "colab": {}
      },
      "source": [
        "def middle_flow_block(x, filters, block_num):\n",
        "    residual = x\n",
        "    x = separable_conv_block(x, filters, block_num=block_num, conv_num='1', pre_activation=True)\n",
        "    x = separable_conv_block(x, filters, block_num=block_num, conv_num='2', pre_activation=True)\n",
        "    x = separable_conv_block(x, filters, block_num=block_num, conv_num='3', pre_activation=True)\n",
        "\n",
        "    return layers.add([x, residual])"
      ],
      "execution_count": 28,
      "outputs": []
    },
    {
      "cell_type": "code",
      "metadata": {
        "id": "6ixn3T50OLcA",
        "colab_type": "code",
        "colab": {
          "base_uri": "https://localhost:8080/",
          "height": 1000
        },
        "outputId": "0ee8bbb2-db03-4c69-d4db-b3e600ac58b3"
      },
      "source": [
        "model =  Xception()\n",
        "model.summary()\n"
      ],
      "execution_count": 29,
      "outputs": [
        {
          "output_type": "stream",
          "text": [
            "Model: \"xception\"\n",
            "__________________________________________________________________________________________________\n",
            "Layer (type)                    Output Shape         Param #     Connected to                     \n",
            "==================================================================================================\n",
            "input_7 (InputLayer)            [(None, 224, 224, 3) 0                                            \n",
            "__________________________________________________________________________________________________\n",
            "block1_conv1_ (Conv2D)          (None, 111, 111, 32) 864         input_7[0][0]                    \n",
            "__________________________________________________________________________________________________\n",
            "block1_conv1_bn (BatchNormaliza (None, 111, 111, 32) 128         block1_conv1_[0][0]              \n",
            "__________________________________________________________________________________________________\n",
            "block1_conv1_act (Activation)   (None, 111, 111, 32) 0           block1_conv1_bn[0][0]            \n",
            "__________________________________________________________________________________________________\n",
            "block1_conv2_ (Conv2D)          (None, 55, 55, 64)   18432       block1_conv1_act[0][0]           \n",
            "__________________________________________________________________________________________________\n",
            "block1_conv2_bn (BatchNormaliza (None, 55, 55, 64)   256         block1_conv2_[0][0]              \n",
            "__________________________________________________________________________________________________\n",
            "block1_conv2_act (Activation)   (None, 55, 55, 64)   0           block1_conv2_bn[0][0]            \n",
            "__________________________________________________________________________________________________\n",
            "block2_sepconv1_ (SeparableConv (None, 55, 55, 128)  8768        block1_conv2_act[0][0]           \n",
            "__________________________________________________________________________________________________\n",
            "block2_sepconv1_bn (BatchNormal (None, 55, 55, 128)  512         block2_sepconv1_[0][0]           \n",
            "__________________________________________________________________________________________________\n",
            "block2_sepconv1_act (Activation (None, 55, 55, 128)  0           block2_sepconv1_bn[0][0]         \n",
            "__________________________________________________________________________________________________\n",
            "block2_sepconv2_act (Activation (None, 55, 55, 128)  0           block2_sepconv1_act[0][0]        \n",
            "__________________________________________________________________________________________________\n",
            "block2_sepconv2_ (SeparableConv (None, 55, 55, 128)  17536       block2_sepconv2_act[0][0]        \n",
            "__________________________________________________________________________________________________\n",
            "block2_sepconv2_bn (BatchNormal (None, 55, 55, 128)  512         block2_sepconv2_[0][0]           \n",
            "__________________________________________________________________________________________________\n",
            "conv2d_11 (Conv2D)              (None, 28, 28, 128)  8192        block1_conv2_act[0][0]           \n",
            "__________________________________________________________________________________________________\n",
            "block2_pool (MaxPooling2D)      (None, 28, 28, 128)  0           block2_sepconv2_bn[0][0]         \n",
            "__________________________________________________________________________________________________\n",
            "batch_normalization_11 (BatchNo (None, 28, 28, 128)  512         conv2d_11[0][0]                  \n",
            "__________________________________________________________________________________________________\n",
            "add_18 (Add)                    (None, 28, 28, 128)  0           block2_pool[0][0]                \n",
            "                                                                 batch_normalization_11[0][0]     \n",
            "__________________________________________________________________________________________________\n",
            "block3_sepconv1_act (Activation (None, 28, 28, 128)  0           add_18[0][0]                     \n",
            "__________________________________________________________________________________________________\n",
            "block3_sepconv1_ (SeparableConv (None, 28, 28, 256)  33920       block3_sepconv1_act[0][0]        \n",
            "__________________________________________________________________________________________________\n",
            "block3_sepconv1_bn (BatchNormal (None, 28, 28, 256)  1024        block3_sepconv1_[0][0]           \n",
            "__________________________________________________________________________________________________\n",
            "block3_sepconv2_act (Activation (None, 28, 28, 256)  0           block3_sepconv1_bn[0][0]         \n",
            "__________________________________________________________________________________________________\n",
            "block3_sepconv2_ (SeparableConv (None, 28, 28, 256)  67840       block3_sepconv2_act[0][0]        \n",
            "__________________________________________________________________________________________________\n",
            "block3_sepconv2_bn (BatchNormal (None, 28, 28, 256)  1024        block3_sepconv2_[0][0]           \n",
            "__________________________________________________________________________________________________\n",
            "conv2d_12 (Conv2D)              (None, 14, 14, 256)  32768       add_18[0][0]                     \n",
            "__________________________________________________________________________________________________\n",
            "block3_pool (MaxPooling2D)      (None, 14, 14, 256)  0           block3_sepconv2_bn[0][0]         \n",
            "__________________________________________________________________________________________________\n",
            "batch_normalization_12 (BatchNo (None, 14, 14, 256)  1024        conv2d_12[0][0]                  \n",
            "__________________________________________________________________________________________________\n",
            "add_19 (Add)                    (None, 14, 14, 256)  0           block3_pool[0][0]                \n",
            "                                                                 batch_normalization_12[0][0]     \n",
            "__________________________________________________________________________________________________\n",
            "block4_sepconv1_act (Activation (None, 14, 14, 256)  0           add_19[0][0]                     \n",
            "__________________________________________________________________________________________________\n",
            "block4_sepconv1_ (SeparableConv (None, 14, 14, 728)  188672      block4_sepconv1_act[0][0]        \n",
            "__________________________________________________________________________________________________\n",
            "block4_sepconv1_bn (BatchNormal (None, 14, 14, 728)  2912        block4_sepconv1_[0][0]           \n",
            "__________________________________________________________________________________________________\n",
            "block4_sepconv2_act (Activation (None, 14, 14, 728)  0           block4_sepconv1_bn[0][0]         \n",
            "__________________________________________________________________________________________________\n",
            "block4_sepconv2_ (SeparableConv (None, 14, 14, 728)  536536      block4_sepconv2_act[0][0]        \n",
            "__________________________________________________________________________________________________\n",
            "block4_sepconv2_bn (BatchNormal (None, 14, 14, 728)  2912        block4_sepconv2_[0][0]           \n",
            "__________________________________________________________________________________________________\n",
            "conv2d_13 (Conv2D)              (None, 7, 7, 728)    186368      add_19[0][0]                     \n",
            "__________________________________________________________________________________________________\n",
            "block4_pool (MaxPooling2D)      (None, 7, 7, 728)    0           block4_sepconv2_bn[0][0]         \n",
            "__________________________________________________________________________________________________\n",
            "batch_normalization_13 (BatchNo (None, 7, 7, 728)    2912        conv2d_13[0][0]                  \n",
            "__________________________________________________________________________________________________\n",
            "add_20 (Add)                    (None, 7, 7, 728)    0           block4_pool[0][0]                \n",
            "                                                                 batch_normalization_13[0][0]     \n",
            "__________________________________________________________________________________________________\n",
            "block5_sepconv1_act (Activation (None, 7, 7, 728)    0           add_20[0][0]                     \n",
            "__________________________________________________________________________________________________\n",
            "block5_sepconv1_ (SeparableConv (None, 7, 7, 728)    536536      block5_sepconv1_act[0][0]        \n",
            "__________________________________________________________________________________________________\n",
            "block5_sepconv1_bn (BatchNormal (None, 7, 7, 728)    2912        block5_sepconv1_[0][0]           \n",
            "__________________________________________________________________________________________________\n",
            "block5_sepconv2_act (Activation (None, 7, 7, 728)    0           block5_sepconv1_bn[0][0]         \n",
            "__________________________________________________________________________________________________\n",
            "block5_sepconv2_ (SeparableConv (None, 7, 7, 728)    536536      block5_sepconv2_act[0][0]        \n",
            "__________________________________________________________________________________________________\n",
            "block5_sepconv2_bn (BatchNormal (None, 7, 7, 728)    2912        block5_sepconv2_[0][0]           \n",
            "__________________________________________________________________________________________________\n",
            "block5_sepconv3_act (Activation (None, 7, 7, 728)    0           block5_sepconv2_bn[0][0]         \n",
            "__________________________________________________________________________________________________\n",
            "block5_sepconv3_ (SeparableConv (None, 7, 7, 728)    536536      block5_sepconv3_act[0][0]        \n",
            "__________________________________________________________________________________________________\n",
            "block5_sepconv3_bn (BatchNormal (None, 7, 7, 728)    2912        block5_sepconv3_[0][0]           \n",
            "__________________________________________________________________________________________________\n",
            "add_21 (Add)                    (None, 7, 7, 728)    0           block5_sepconv3_bn[0][0]         \n",
            "                                                                 add_20[0][0]                     \n",
            "__________________________________________________________________________________________________\n",
            "block6_sepconv1_act (Activation (None, 7, 7, 728)    0           add_21[0][0]                     \n",
            "__________________________________________________________________________________________________\n",
            "block6_sepconv1_ (SeparableConv (None, 7, 7, 728)    536536      block6_sepconv1_act[0][0]        \n",
            "__________________________________________________________________________________________________\n",
            "block6_sepconv1_bn (BatchNormal (None, 7, 7, 728)    2912        block6_sepconv1_[0][0]           \n",
            "__________________________________________________________________________________________________\n",
            "block6_sepconv2_act (Activation (None, 7, 7, 728)    0           block6_sepconv1_bn[0][0]         \n",
            "__________________________________________________________________________________________________\n",
            "block6_sepconv2_ (SeparableConv (None, 7, 7, 728)    536536      block6_sepconv2_act[0][0]        \n",
            "__________________________________________________________________________________________________\n",
            "block6_sepconv2_bn (BatchNormal (None, 7, 7, 728)    2912        block6_sepconv2_[0][0]           \n",
            "__________________________________________________________________________________________________\n",
            "block6_sepconv3_act (Activation (None, 7, 7, 728)    0           block6_sepconv2_bn[0][0]         \n",
            "__________________________________________________________________________________________________\n",
            "block6_sepconv3_ (SeparableConv (None, 7, 7, 728)    536536      block6_sepconv3_act[0][0]        \n",
            "__________________________________________________________________________________________________\n",
            "block6_sepconv3_bn (BatchNormal (None, 7, 7, 728)    2912        block6_sepconv3_[0][0]           \n",
            "__________________________________________________________________________________________________\n",
            "add_22 (Add)                    (None, 7, 7, 728)    0           block6_sepconv3_bn[0][0]         \n",
            "                                                                 add_21[0][0]                     \n",
            "__________________________________________________________________________________________________\n",
            "block7_sepconv1_act (Activation (None, 7, 7, 728)    0           add_22[0][0]                     \n",
            "__________________________________________________________________________________________________\n",
            "block7_sepconv1_ (SeparableConv (None, 7, 7, 728)    536536      block7_sepconv1_act[0][0]        \n",
            "__________________________________________________________________________________________________\n",
            "block7_sepconv1_bn (BatchNormal (None, 7, 7, 728)    2912        block7_sepconv1_[0][0]           \n",
            "__________________________________________________________________________________________________\n",
            "block7_sepconv2_act (Activation (None, 7, 7, 728)    0           block7_sepconv1_bn[0][0]         \n",
            "__________________________________________________________________________________________________\n",
            "block7_sepconv2_ (SeparableConv (None, 7, 7, 728)    536536      block7_sepconv2_act[0][0]        \n",
            "__________________________________________________________________________________________________\n",
            "block7_sepconv2_bn (BatchNormal (None, 7, 7, 728)    2912        block7_sepconv2_[0][0]           \n",
            "__________________________________________________________________________________________________\n",
            "block7_sepconv3_act (Activation (None, 7, 7, 728)    0           block7_sepconv2_bn[0][0]         \n",
            "__________________________________________________________________________________________________\n",
            "block7_sepconv3_ (SeparableConv (None, 7, 7, 728)    536536      block7_sepconv3_act[0][0]        \n",
            "__________________________________________________________________________________________________\n",
            "block7_sepconv3_bn (BatchNormal (None, 7, 7, 728)    2912        block7_sepconv3_[0][0]           \n",
            "__________________________________________________________________________________________________\n",
            "add_23 (Add)                    (None, 7, 7, 728)    0           block7_sepconv3_bn[0][0]         \n",
            "                                                                 add_22[0][0]                     \n",
            "__________________________________________________________________________________________________\n",
            "block8_sepconv1_act (Activation (None, 7, 7, 728)    0           add_23[0][0]                     \n",
            "__________________________________________________________________________________________________\n",
            "block8_sepconv1_ (SeparableConv (None, 7, 7, 728)    536536      block8_sepconv1_act[0][0]        \n",
            "__________________________________________________________________________________________________\n",
            "block8_sepconv1_bn (BatchNormal (None, 7, 7, 728)    2912        block8_sepconv1_[0][0]           \n",
            "__________________________________________________________________________________________________\n",
            "block8_sepconv2_act (Activation (None, 7, 7, 728)    0           block8_sepconv1_bn[0][0]         \n",
            "__________________________________________________________________________________________________\n",
            "block8_sepconv2_ (SeparableConv (None, 7, 7, 728)    536536      block8_sepconv2_act[0][0]        \n",
            "__________________________________________________________________________________________________\n",
            "block8_sepconv2_bn (BatchNormal (None, 7, 7, 728)    2912        block8_sepconv2_[0][0]           \n",
            "__________________________________________________________________________________________________\n",
            "block8_sepconv3_act (Activation (None, 7, 7, 728)    0           block8_sepconv2_bn[0][0]         \n",
            "__________________________________________________________________________________________________\n",
            "block8_sepconv3_ (SeparableConv (None, 7, 7, 728)    536536      block8_sepconv3_act[0][0]        \n",
            "__________________________________________________________________________________________________\n",
            "block8_sepconv3_bn (BatchNormal (None, 7, 7, 728)    2912        block8_sepconv3_[0][0]           \n",
            "__________________________________________________________________________________________________\n",
            "add_24 (Add)                    (None, 7, 7, 728)    0           block8_sepconv3_bn[0][0]         \n",
            "                                                                 add_23[0][0]                     \n",
            "__________________________________________________________________________________________________\n",
            "block9_sepconv1_act (Activation (None, 7, 7, 728)    0           add_24[0][0]                     \n",
            "__________________________________________________________________________________________________\n",
            "block9_sepconv1_ (SeparableConv (None, 7, 7, 728)    536536      block9_sepconv1_act[0][0]        \n",
            "__________________________________________________________________________________________________\n",
            "block9_sepconv1_bn (BatchNormal (None, 7, 7, 728)    2912        block9_sepconv1_[0][0]           \n",
            "__________________________________________________________________________________________________\n",
            "block9_sepconv2_act (Activation (None, 7, 7, 728)    0           block9_sepconv1_bn[0][0]         \n",
            "__________________________________________________________________________________________________\n",
            "block9_sepconv2_ (SeparableConv (None, 7, 7, 728)    536536      block9_sepconv2_act[0][0]        \n",
            "__________________________________________________________________________________________________\n",
            "block9_sepconv2_bn (BatchNormal (None, 7, 7, 728)    2912        block9_sepconv2_[0][0]           \n",
            "__________________________________________________________________________________________________\n",
            "block9_sepconv3_act (Activation (None, 7, 7, 728)    0           block9_sepconv2_bn[0][0]         \n",
            "__________________________________________________________________________________________________\n",
            "block9_sepconv3_ (SeparableConv (None, 7, 7, 728)    536536      block9_sepconv3_act[0][0]        \n",
            "__________________________________________________________________________________________________\n",
            "block9_sepconv3_bn (BatchNormal (None, 7, 7, 728)    2912        block9_sepconv3_[0][0]           \n",
            "__________________________________________________________________________________________________\n",
            "add_25 (Add)                    (None, 7, 7, 728)    0           block9_sepconv3_bn[0][0]         \n",
            "                                                                 add_24[0][0]                     \n",
            "__________________________________________________________________________________________________\n",
            "block10_sepconv1_act (Activatio (None, 7, 7, 728)    0           add_25[0][0]                     \n",
            "__________________________________________________________________________________________________\n",
            "block10_sepconv1_ (SeparableCon (None, 7, 7, 728)    536536      block10_sepconv1_act[0][0]       \n",
            "__________________________________________________________________________________________________\n",
            "block10_sepconv1_bn (BatchNorma (None, 7, 7, 728)    2912        block10_sepconv1_[0][0]          \n",
            "__________________________________________________________________________________________________\n",
            "block10_sepconv2_act (Activatio (None, 7, 7, 728)    0           block10_sepconv1_bn[0][0]        \n",
            "__________________________________________________________________________________________________\n",
            "block10_sepconv2_ (SeparableCon (None, 7, 7, 728)    536536      block10_sepconv2_act[0][0]       \n",
            "__________________________________________________________________________________________________\n",
            "block10_sepconv2_bn (BatchNorma (None, 7, 7, 728)    2912        block10_sepconv2_[0][0]          \n",
            "__________________________________________________________________________________________________\n",
            "block10_sepconv3_act (Activatio (None, 7, 7, 728)    0           block10_sepconv2_bn[0][0]        \n",
            "__________________________________________________________________________________________________\n",
            "block10_sepconv3_ (SeparableCon (None, 7, 7, 728)    536536      block10_sepconv3_act[0][0]       \n",
            "__________________________________________________________________________________________________\n",
            "block10_sepconv3_bn (BatchNorma (None, 7, 7, 728)    2912        block10_sepconv3_[0][0]          \n",
            "__________________________________________________________________________________________________\n",
            "add_26 (Add)                    (None, 7, 7, 728)    0           block10_sepconv3_bn[0][0]        \n",
            "                                                                 add_25[0][0]                     \n",
            "__________________________________________________________________________________________________\n",
            "block11_sepconv1_act (Activatio (None, 7, 7, 728)    0           add_26[0][0]                     \n",
            "__________________________________________________________________________________________________\n",
            "block11_sepconv1_ (SeparableCon (None, 7, 7, 728)    536536      block11_sepconv1_act[0][0]       \n",
            "__________________________________________________________________________________________________\n",
            "block11_sepconv1_bn (BatchNorma (None, 7, 7, 728)    2912        block11_sepconv1_[0][0]          \n",
            "__________________________________________________________________________________________________\n",
            "block11_sepconv2_act (Activatio (None, 7, 7, 728)    0           block11_sepconv1_bn[0][0]        \n",
            "__________________________________________________________________________________________________\n",
            "block11_sepconv2_ (SeparableCon (None, 7, 7, 728)    536536      block11_sepconv2_act[0][0]       \n",
            "__________________________________________________________________________________________________\n",
            "block11_sepconv2_bn (BatchNorma (None, 7, 7, 728)    2912        block11_sepconv2_[0][0]          \n",
            "__________________________________________________________________________________________________\n",
            "block11_sepconv3_act (Activatio (None, 7, 7, 728)    0           block11_sepconv2_bn[0][0]        \n",
            "__________________________________________________________________________________________________\n",
            "block11_sepconv3_ (SeparableCon (None, 7, 7, 728)    536536      block11_sepconv3_act[0][0]       \n",
            "__________________________________________________________________________________________________\n",
            "block11_sepconv3_bn (BatchNorma (None, 7, 7, 728)    2912        block11_sepconv3_[0][0]          \n",
            "__________________________________________________________________________________________________\n",
            "add_27 (Add)                    (None, 7, 7, 728)    0           block11_sepconv3_bn[0][0]        \n",
            "                                                                 add_26[0][0]                     \n",
            "__________________________________________________________________________________________________\n",
            "block12_sepconv1_act (Activatio (None, 7, 7, 728)    0           add_27[0][0]                     \n",
            "__________________________________________________________________________________________________\n",
            "block12_sepconv1_ (SeparableCon (None, 7, 7, 728)    536536      block12_sepconv1_act[0][0]       \n",
            "__________________________________________________________________________________________________\n",
            "block12_sepconv1_bn (BatchNorma (None, 7, 7, 728)    2912        block12_sepconv1_[0][0]          \n",
            "__________________________________________________________________________________________________\n",
            "block12_sepconv2_act (Activatio (None, 7, 7, 728)    0           block12_sepconv1_bn[0][0]        \n",
            "__________________________________________________________________________________________________\n",
            "block12_sepconv2_ (SeparableCon (None, 7, 7, 728)    536536      block12_sepconv2_act[0][0]       \n",
            "__________________________________________________________________________________________________\n",
            "block12_sepconv2_bn (BatchNorma (None, 7, 7, 728)    2912        block12_sepconv2_[0][0]          \n",
            "__________________________________________________________________________________________________\n",
            "block12_sepconv3_act (Activatio (None, 7, 7, 728)    0           block12_sepconv2_bn[0][0]        \n",
            "__________________________________________________________________________________________________\n",
            "block12_sepconv3_ (SeparableCon (None, 7, 7, 728)    536536      block12_sepconv3_act[0][0]       \n",
            "__________________________________________________________________________________________________\n",
            "block12_sepconv3_bn (BatchNorma (None, 7, 7, 728)    2912        block12_sepconv3_[0][0]          \n",
            "__________________________________________________________________________________________________\n",
            "add_28 (Add)                    (None, 7, 7, 728)    0           block12_sepconv3_bn[0][0]        \n",
            "                                                                 add_27[0][0]                     \n",
            "__________________________________________________________________________________________________\n",
            "block13_sepconv1_act (Activatio (None, 7, 7, 728)    0           add_28[0][0]                     \n",
            "__________________________________________________________________________________________________\n",
            "block13_sepconv1_ (SeparableCon (None, 7, 7, 728)    536536      block13_sepconv1_act[0][0]       \n",
            "__________________________________________________________________________________________________\n",
            "block13_sepconv1_bn (BatchNorma (None, 7, 7, 728)    2912        block13_sepconv1_[0][0]          \n",
            "__________________________________________________________________________________________________\n",
            "block13_sepconv2_act (Activatio (None, 7, 7, 728)    0           block13_sepconv1_bn[0][0]        \n",
            "__________________________________________________________________________________________________\n",
            "block13_sepconv2_ (SeparableCon (None, 7, 7, 1024)   752024      block13_sepconv2_act[0][0]       \n",
            "__________________________________________________________________________________________________\n",
            "block13_sepconv2_bn (BatchNorma (None, 7, 7, 1024)   4096        block13_sepconv2_[0][0]          \n",
            "__________________________________________________________________________________________________\n",
            "conv2d_14 (Conv2D)              (None, 4, 4, 1024)   745472      add_28[0][0]                     \n",
            "__________________________________________________________________________________________________\n",
            "block13_pool (MaxPooling2D)     (None, 4, 4, 1024)   0           block13_sepconv2_bn[0][0]        \n",
            "__________________________________________________________________________________________________\n",
            "batch_normalization_14 (BatchNo (None, 4, 4, 1024)   4096        conv2d_14[0][0]                  \n",
            "__________________________________________________________________________________________________\n",
            "add_29 (Add)                    (None, 4, 4, 1024)   0           block13_pool[0][0]               \n",
            "                                                                 batch_normalization_14[0][0]     \n",
            "__________________________________________________________________________________________________\n",
            "block14_sepconv1_ (SeparableCon (None, 4, 4, 1536)   1582080     add_29[0][0]                     \n",
            "__________________________________________________________________________________________________\n",
            "block14_sepconv1_bn (BatchNorma (None, 4, 4, 1536)   6144        block14_sepconv1_[0][0]          \n",
            "__________________________________________________________________________________________________\n",
            "block14_sepconv1_act (Activatio (None, 4, 4, 1536)   0           block14_sepconv1_bn[0][0]        \n",
            "__________________________________________________________________________________________________\n",
            "block14_sepconv2_ (SeparableCon (None, 4, 4, 2048)   3159552     block14_sepconv1_act[0][0]       \n",
            "__________________________________________________________________________________________________\n",
            "block14_sepconv2_bn (BatchNorma (None, 4, 4, 2048)   8192        block14_sepconv2_[0][0]          \n",
            "__________________________________________________________________________________________________\n",
            "block14_sepconv2_act (Activatio (None, 4, 4, 2048)   0           block14_sepconv2_bn[0][0]        \n",
            "__________________________________________________________________________________________________\n",
            "avg_pool (GlobalAveragePooling2 (None, 2048)         0           block14_sepconv2_act[0][0]       \n",
            "__________________________________________________________________________________________________\n",
            "predictions (Dense)             (None, 10)           20490       avg_pool[0][0]                   \n",
            "==================================================================================================\n",
            "Total params: 20,881,970\n",
            "Trainable params: 20,827,442\n",
            "Non-trainable params: 54,528\n",
            "__________________________________________________________________________________________________\n"
          ],
          "name": "stdout"
        }
      ]
    },
    {
      "cell_type": "code",
      "metadata": {
        "id": "z65uid6aLLmL",
        "colab_type": "code",
        "colab": {}
      },
      "source": [
        ""
      ],
      "execution_count": null,
      "outputs": []
    },
    {
      "cell_type": "code",
      "metadata": {
        "id": "V7vzzjHROHPb",
        "colab_type": "code",
        "colab": {}
      },
      "source": [
        "import os\n",
        "from os import listdir\n",
        "from pydrive.auth import GoogleAuth\n",
        "from pydrive.drive import GoogleDrive\n",
        "from google.colab import auth\n",
        "from oauth2client.client import GoogleCredentials\n",
        "import numpy as np"
      ],
      "execution_count": 30,
      "outputs": []
    },
    {
      "cell_type": "code",
      "metadata": {
        "id": "rCvi02xGOM2W",
        "colab_type": "code",
        "colab": {}
      },
      "source": [
        "auth.authenticate_user()\n",
        "gauth = GoogleAuth()\n",
        "gauth.credentials = GoogleCredentials.get_application_default()\n",
        "drive = GoogleDrive(gauth)"
      ],
      "execution_count": 31,
      "outputs": []
    },
    {
      "cell_type": "code",
      "metadata": {
        "id": "s9X20o48OaLm",
        "colab_type": "code",
        "colab": {
          "base_uri": "https://localhost:8080/",
          "height": 118
        },
        "outputId": "aea5219f-fc00-4ce4-b30d-4e97742684f9"
      },
      "source": [
        "file_list = drive.ListFile(\n",
        "    {'q': \"'1MzurTS9xeNSss_hYgko4ATZ5qNVn45ty' in parents\"}).GetList()\n",
        "\n",
        "for f in file_list:\n",
        "    print('title: %s, id: %s' % (f['title'], f['id']))\n",
        "    fname = f['title']\n",
        "    print('downloading to {}'.format(fname))\n",
        "    f_ = drive.CreateFile({'id': f['id']})\n",
        "    f_.GetContentFile(fname)"
      ],
      "execution_count": 32,
      "outputs": [
        {
          "output_type": "stream",
          "text": [
            "title: LABELS.zip, id: 1dYxm-yV2sCOxiQQSvzRY6-gKtlfo0WLH\n",
            "downloading to LABELS.zip\n",
            "title: GREENPATROL_DB_V1.0.zip, id: 1wJw1Ci1OTUoKjiiT3lwWqwonTunGPMB1\n",
            "downloading to GREENPATROL_DB_V1.0.zip\n",
            "title: predefined_classes.txt, id: 1XQkqHvepaPEXxJ5XXSZmMMk9qrxTOSzJ\n",
            "downloading to predefined_classes.txt\n"
          ],
          "name": "stdout"
        }
      ]
    },
    {
      "cell_type": "code",
      "metadata": {
        "id": "M2HF9GCsOwtw",
        "colab_type": "code",
        "colab": {
          "base_uri": "https://localhost:8080/",
          "height": 353
        },
        "outputId": "1d531885-1fb8-4a0d-e725-1d4ed878948d"
      },
      "source": [
        "#------------------------------- Load Train Data ----------------------------------------------#\n",
        "download_Pests = drive.CreateFile({'id': '1wJw1Ci1OTUoKjiiT3lwWqwonTunGPMB1'})\n",
        "download_Annotations = drive.CreateFile({'id': '1dYxm-yV2sCOxiQQSvzRY6-gKtlfo0WLH'})\n",
        "!unzip LABELS.zip -d '/Tomato-Pests'\n",
        "!unzip GREENPATROL_DB_V1.0.zip -d '/Tomato-Pests'\n"
      ],
      "execution_count": 33,
      "outputs": [
        {
          "output_type": "stream",
          "text": [
            "Archive:  LABELS.zip\n",
            "  inflating: /Tomato-Pests/LABELS/1_2_2_6_1_1_20180622-102849.xml  \n",
            "  inflating: /Tomato-Pests/LABELS/1_2_2_6_1_1_20180622-102918.xml  \n",
            "  inflating: /Tomato-Pests/LABELS/1_2_2_6_1_1_20180622-110731.xml  \n",
            "  inflating: /Tomato-Pests/LABELS/1_2_2_6_1_1_20180622-110804.xml  \n",
            "  inflating: /Tomato-Pests/LABELS/1_2_2_6_1_1_20180622-110827.xml  \n",
            "  inflating: /Tomato-Pests/LABELS/1_2_2_6_1_1_20180622-110905.xml  \n",
            "  inflating: /Tomato-Pests/LABELS/1_2_2_6_1_1_20180622-110931.xml  \n",
            "  inflating: /Tomato-Pests/LABELS/1_2_2_6_1_1_20180622-111004.xml  \n",
            "  inflating: /Tomato-Pests/LABELS/1_2_2_6_1_1_20180622-111118.xml  \n",
            "Archive:  GREENPATROL_DB_V1.0.zip\n",
            "  inflating: /Tomato-Pests/GREENPATROL_DB_V1.0/1_2_2_6_1_1_20180622-102849.jpg  \n",
            "  inflating: /Tomato-Pests/GREENPATROL_DB_V1.0/1_2_2_6_1_1_20180622-102918.jpg  \n",
            "  inflating: /Tomato-Pests/GREENPATROL_DB_V1.0/1_2_2_6_1_1_20180622-110731.jpg  \n",
            "  inflating: /Tomato-Pests/GREENPATROL_DB_V1.0/1_2_2_6_1_1_20180622-110804.jpg  \n",
            "  inflating: /Tomato-Pests/GREENPATROL_DB_V1.0/1_2_2_6_1_1_20180622-110827.jpg  \n",
            "  inflating: /Tomato-Pests/GREENPATROL_DB_V1.0/1_2_2_6_1_1_20180622-110905.jpg  \n",
            "  inflating: /Tomato-Pests/GREENPATROL_DB_V1.0/1_2_2_6_1_1_20180622-110931.jpg  \n",
            "  inflating: /Tomato-Pests/GREENPATROL_DB_V1.0/1_2_2_6_1_1_20180622-111004.jpg  \n",
            "  inflating: /Tomato-Pests/GREENPATROL_DB_V1.0/1_2_2_6_1_1_20180622-111118.jpg  \n"
          ],
          "name": "stdout"
        }
      ]
    },
    {
      "cell_type": "code",
      "metadata": {
        "id": "mIs49GJ_R2Cm",
        "colab_type": "code",
        "colab": {
          "resources": {
            "http://localhost:8080/nbextensions/google.colab/files.js": {
              "data": "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",
              "ok": true,
              "headers": [
                [
                  "content-type",
                  "application/javascript"
                ]
              ],
              "status": 200,
              "status_text": ""
            }
          },
          "base_uri": "https://localhost:8080/",
          "height": 110
        },
        "outputId": "8b2eca2d-9ff8-4bd6-c02c-262134a3eab4"
      },
      "source": [
        "from google.colab import files\n",
        "files.upload() "
      ],
      "execution_count": 34,
      "outputs": [
        {
          "output_type": "display_data",
          "data": {
            "text/html": [
              "\n",
              "     <input type=\"file\" id=\"files-6d7862ea-792b-4499-ab4e-6fb6de0dfc8c\" name=\"files[]\" multiple disabled\n",
              "        style=\"border:none\" />\n",
              "     <output id=\"result-6d7862ea-792b-4499-ab4e-6fb6de0dfc8c\">\n",
              "      Upload widget is only available when the cell has been executed in the\n",
              "      current browser session. Please rerun this cell to enable.\n",
              "      </output>\n",
              "      <script src=\"/nbextensions/google.colab/files.js\"></script> "
            ],
            "text/plain": [
              "<IPython.core.display.HTML object>"
            ]
          },
          "metadata": {
            "tags": []
          }
        },
        {
          "output_type": "stream",
          "text": [
            "Saving CreatePestImageData_GoogleNet.py to CreatePestImageData_GoogleNet.py\n"
          ],
          "name": "stdout"
        },
        {
          "output_type": "execute_result",
          "data": {
            "text/plain": [
              "{'CreatePestImageData_GoogleNet.py': b'# -*- coding: utf-8 -*-\\r\\n\"\"\"createImageDataset.ipynb\\r\\n\\r\\nAutomatically generated by Colaboratory.\\r\\n\\r\\nOriginal file is located at\\r\\n    https://colab.research.google.com/drive/1FXiYKCQ-jtbL_O29BQb2Xy1bBd2inM9q\\r\\n\"\"\"\\r\\n\\r\\nfrom os import listdir\\r\\nimport numpy as np\\r\\nimport xml.etree.ElementTree as ET\\r\\nimport cv2\\r\\nimport tensorflow as tf \\r\\n\\r\\nclass createImageDataset(object):\\r\\n    \\r\\n    def __init__(self, class_map=None):\\r\\n        self.image_info = []\\r\\n        self.trainX = []\\r\\n        self.trainY = []\\r\\n        self.testX = []\\r\\n        self.testY = []\\r\\n            \\r\\n    def add_image_info(self , image_array , image_path , image_id , object_id , class_name , class_id):\\r\\n        \\r\\n        image_info_ = {\\'object_id\\': image_id,\\r\\n                       \\'object_class\\': class_name,\\r\\n                       \\'image_path\\': image_path,\\r\\n                       \\'image_array\\': image_array,\\r\\n                       \\'class_id\\' : class_id}\\r\\n        self.image_info.append(image_info_)\\r\\n\\r\\n    def parse_xml(self,filer):\\r\\n        boxes = list()\\r\\n        names = list()\\r\\n        root = ET.parse(filer).getroot() \\r\\n        for box in root.findall(\\'.//object\\'):\\r\\n            xmin = int(box.find(\\'.//bndbox/xmin\\').text)\\r\\n            xmax = int(box.find(\\'.//bndbox/xmax\\').text)\\r\\n            ymin = int(box.find(\\'.//bndbox/ymin\\').text)\\r\\n            ymax = int(box.find(\\'.//bndbox/ymax\\').text)\\r\\n            name = root.find(\\'.//name\\').text\\r\\n            coords = [xmin , ymin , xmax , ymax]\\r\\n            names.append(name)\\r\\n            boxes.append(coords)\\r\\n        width = int(root.find(\\'.//size/width\\').text)\\r\\n        height = int(root.find(\\'.//size/height\\').text)\\r\\n        path = root.find(\\'.//path\\').text\\r\\n        filename = root.find(\\'filename\\').text\\r\\n        filename = filename[:-4]\\r\\n\\r\\n        return boxes, width, height , names , path , filename\\r\\n\\r\\n    def get_image_arrays(self , annot_path , class_object, imageFilePath):\\r\\n        \\r\\n        count = 0\\r\\n        for i in listdir(annot_path):\\r\\n            patt = annot_path +\\'/\\' + i\\r\\n            parsed = self.parse_xml(patt)\\r\\n            img = cv2.imread(imageFilePath + i[0:-4]+\\'.jpg\\')\\r\\n            for wh in range(0 , len(parsed[0])):\\r\\n                crop_img = img[parsed[0][wh][1]:parsed[0][wh][3] , parsed[0][wh][0]:parsed[0][wh][2] ]\\r\\n                \\r\\n                class_name = parsed[3][wh]\\r\\n                keys = list(class_object.keys())  \\r\\n                values = list(class_object.values())\\r\\n                class_id = keys[values.index(class_name)]\\r\\n                \\r\\n                resized_img = cv2.resize(crop_img,(224,224))\\r\\n                \\r\\n                self.add_image_info( image_array = resized_img , image_path = parsed[4],\\r\\n                                   object_id = count , class_name=parsed[3][wh] , image_id= 0 , class_id=class_id )\\r\\n                print(\\'Image : \\' + parsed[4] + \\' added to dataset with class name \"\\' + parsed[3][wh]  +\\'\".\\'  )\\r\\n                count = count + 1\\r\\n    \\r\\n    def prepare_dataset(self , path , class_object , imagePath, test_size):\\r\\n        \\r\\n        self.get_image_arrays(path , class_object, imagePath)\\r\\n        \\r\\n        img_arrays = np.array([d[\\'image_array\\'] for d in self.image_info if \\'image_array\\' in d])\\r\\n        class_names = np.array([d[\\'object_class\\'] for d in self.image_info if \\'object_class\\' in d])\\r\\n        class_ids  = np.array([d[\\'class_id\\'] for d in self.image_info if \\'class_id\\' in d])\\r\\n        all_idx = range(0 , len(img_arrays))\\r\\n        test_idx = np.random.choice(np.arange(len(img_arrays)), test_size, replace=False)\\r\\n        train_idx = np.delete(all_idx , test_idx) \\r\\n        \\r\\n        \\r\\n        self.testX = img_arrays[test_idx]\\r\\n        self.testY = class_ids[test_idx]\\r\\n        \\r\\n        self.trainX = img_arrays[train_idx]        \\r\\n        self.trainY = class_ids[train_idx]\\r\\n        \\r\\n        return print(\\'Image dataset succesfully saved.\\')'}"
            ]
          },
          "metadata": {
            "tags": []
          },
          "execution_count": 34
        }
      ]
    },
    {
      "cell_type": "code",
      "metadata": {
        "id": "nSsoPPQGSAev",
        "colab_type": "code",
        "colab": {}
      },
      "source": [
        "import CreatePestImageData_GoogleNet as Imagedataset"
      ],
      "execution_count": 35,
      "outputs": []
    },
    {
      "cell_type": "code",
      "metadata": {
        "id": "0Azx7bC9SIEQ",
        "colab_type": "code",
        "colab": {}
      },
      "source": [
        "dataSet = Imagedataset.createImageDataset()"
      ],
      "execution_count": 36,
      "outputs": []
    },
    {
      "cell_type": "code",
      "metadata": {
        "id": "SuVcF3GKSULO",
        "colab_type": "code",
        "colab": {}
      },
      "source": [
        "class_object = {0 : 'egg_wf' ,\n",
        "                1 : 'egg_bt', 2 : 'egg_ta', 3 : 'wf', 4 : 'bt', 5 : 'ta', 6 : 'ta_maps', 7 : 'ta_larvae', 8 : 'ta_maps+larvae', 9 : 'tomato'}"
      ],
      "execution_count": 37,
      "outputs": []
    },
    {
      "cell_type": "code",
      "metadata": {
        "id": "9pN9cay4SMNE",
        "colab_type": "code",
        "colab": {
          "base_uri": "https://localhost:8080/",
          "height": 1000
        },
        "outputId": "52c0ce02-6772-4d7d-d59b-1c66ecb04a79"
      },
      "source": [
        " dataSet.prepare_dataset('/Tomato-Pests/LABELS/' , class_object , '/Tomato-Pests/GREENPATROL_DB_V1.0/',  test_size=5 )"
      ],
      "execution_count": 38,
      "outputs": [
        {
          "output_type": "stream",
          "text": [
            "Image : /mendelu_pictures/pictures/2018-06-22 IMAGING JAI CMOS/1_2_2_6_1_1_20180622-110931.jpg added to dataset with class name \"bt\".\n",
            "Image : /mendelu_pictures/pictures/2018-06-22 IMAGING JAI CMOS/1_2_2_6_1_1_20180622-110931.jpg added to dataset with class name \"bt\".\n",
            "Image : /mendelu_pictures/pictures/2018-06-22 IMAGING JAI CMOS/1_2_2_6_1_1_20180622-110931.jpg added to dataset with class name \"bt\".\n",
            "Image : /mendelu_pictures/pictures/2018-06-22 IMAGING JAI CMOS/1_2_2_6_1_1_20180622-110931.jpg added to dataset with class name \"bt\".\n",
            "Image : /mendelu_pictures/pictures/2018-06-22 IMAGING JAI CMOS/1_2_2_6_1_1_20180622-110931.jpg added to dataset with class name \"bt\".\n",
            "Image : /mendelu_pictures/pictures/2018-06-22 IMAGING JAI CMOS/1_2_2_6_1_1_20180622-110931.jpg added to dataset with class name \"bt\".\n",
            "Image : /mendelu_pictures/pictures/2018-06-22 IMAGING JAI CMOS/1_2_2_6_1_1_20180622-110931.jpg added to dataset with class name \"bt\".\n",
            "Image : /mendelu_pictures/pictures/2018-06-22 IMAGING JAI CMOS/1_2_2_6_1_1_20180622-110731.jpg added to dataset with class name \"wf\".\n",
            "Image : /mendelu_pictures/pictures/2018-06-22 IMAGING JAI CMOS/1_2_2_6_1_1_20180622-102849.jpg added to dataset with class name \"wf\".\n",
            "Image : /mendelu_pictures/pictures/2018-06-22 IMAGING JAI CMOS/1_2_2_6_1_1_20180622-102849.jpg added to dataset with class name \"wf\".\n",
            "Image : /mendelu_pictures/pictures/2018-06-22 IMAGING JAI CMOS/1_2_2_6_1_1_20180622-110905.jpg added to dataset with class name \"wf\".\n",
            "Image : /mendelu_pictures/pictures/2018-06-22 IMAGING JAI CMOS/1_2_2_6_1_1_20180622-110905.jpg added to dataset with class name \"wf\".\n",
            "Image : /mendelu_pictures/pictures/2018-06-22 IMAGING JAI CMOS/1_2_2_6_1_1_20180622-110905.jpg added to dataset with class name \"wf\".\n",
            "Image : /mendelu_pictures/pictures/2018-06-22 IMAGING JAI CMOS/1_2_2_6_1_1_20180622-110905.jpg added to dataset with class name \"wf\".\n",
            "Image : /mendelu_pictures/pictures/2018-06-22 IMAGING JAI CMOS/1_2_2_6_1_1_20180622-110905.jpg added to dataset with class name \"wf\".\n",
            "Image : /mendelu_pictures/pictures/2018-06-22 IMAGING JAI CMOS/1_2_2_6_1_1_20180622-110905.jpg added to dataset with class name \"wf\".\n",
            "Image : /mendelu_pictures/pictures/2018-06-22 IMAGING JAI CMOS/1_2_2_6_1_1_20180622-110905.jpg added to dataset with class name \"wf\".\n",
            "Image : /mendelu_pictures/pictures/2018-06-22 IMAGING JAI CMOS/1_2_2_6_1_1_20180622-110905.jpg added to dataset with class name \"wf\".\n",
            "Image : /mendelu_pictures/pictures/2018-06-22 IMAGING JAI CMOS/1_2_2_6_1_1_20180622-102918.jpg added to dataset with class name \"wf\".\n",
            "Image : /mendelu_pictures/pictures/2018-06-22 IMAGING JAI CMOS/1_2_2_6_1_1_20180622-102918.jpg added to dataset with class name \"wf\".\n",
            "Image : /mendelu_pictures/pictures/2018-06-22 IMAGING JAI CMOS/1_2_2_6_1_1_20180622-102918.jpg added to dataset with class name \"wf\".\n",
            "Image : /mendelu_pictures/pictures/2018-06-22 IMAGING JAI CMOS/1_2_2_6_1_1_20180622-102918.jpg added to dataset with class name \"wf\".\n",
            "Image : /mendelu_pictures/pictures/2018-06-22 IMAGING JAI CMOS/1_2_2_6_1_1_20180622-102918.jpg added to dataset with class name \"wf\".\n",
            "Image : /mendelu_pictures/pictures/2018-06-22 IMAGING JAI CMOS/1_2_2_6_1_1_20180622-102918.jpg added to dataset with class name \"wf\".\n",
            "Image : /mendelu_pictures/pictures/2018-06-22 IMAGING JAI CMOS/1_2_2_6_1_1_20180622-102918.jpg added to dataset with class name \"wf\".\n",
            "Image : /mendelu_pictures/pictures/2018-06-22 IMAGING JAI CMOS/1_2_2_6_1_1_20180622-102918.jpg added to dataset with class name \"wf\".\n",
            "Image : /mendelu_pictures/pictures/2018-06-22 IMAGING JAI CMOS/1_2_2_6_1_1_20180622-102918.jpg added to dataset with class name \"wf\".\n",
            "Image : /mendelu_pictures/pictures/2018-06-22 IMAGING JAI CMOS/1_2_2_6_1_1_20180622-102918.jpg added to dataset with class name \"wf\".\n",
            "Image : /mendelu_pictures/pictures/2018-06-22 IMAGING JAI CMOS/1_2_2_6_1_1_20180622-102918.jpg added to dataset with class name \"wf\".\n",
            "Image : /mendelu_pictures/pictures/2018-06-22 IMAGING JAI CMOS/1_2_2_6_1_1_20180622-102918.jpg added to dataset with class name \"wf\".\n",
            "Image : /mendelu_pictures/pictures/2018-06-22 IMAGING JAI CMOS/1_2_2_6_1_1_20180622-102918.jpg added to dataset with class name \"wf\".\n",
            "Image : /mendelu_pictures/pictures/2018-06-22 IMAGING JAI CMOS/1_2_2_6_1_1_20180622-102918.jpg added to dataset with class name \"wf\".\n",
            "Image : /mendelu_pictures/pictures/2018-06-22 IMAGING JAI CMOS/1_2_2_6_1_1_20180622-102918.jpg added to dataset with class name \"wf\".\n",
            "Image : /mendelu_pictures/pictures/2018-06-22 IMAGING JAI CMOS/1_2_2_6_1_1_20180622-102918.jpg added to dataset with class name \"wf\".\n",
            "Image : /mendelu_pictures/pictures/2018-06-22 IMAGING JAI CMOS/1_2_2_6_1_1_20180622-102918.jpg added to dataset with class name \"wf\".\n",
            "Image : /mendelu_pictures/pictures/2018-06-22 IMAGING JAI CMOS/1_2_2_6_1_1_20180622-102918.jpg added to dataset with class name \"wf\".\n",
            "Image : /mendelu_pictures/pictures/2018-06-22 IMAGING JAI CMOS/1_2_2_6_1_1_20180622-102918.jpg added to dataset with class name \"wf\".\n",
            "Image : /mendelu_pictures/pictures/2018-06-22 IMAGING JAI CMOS/1_2_2_6_1_1_20180622-102918.jpg added to dataset with class name \"wf\".\n",
            "Image : /mendelu_pictures/pictures/2018-06-22 IMAGING JAI CMOS/1_2_2_6_1_1_20180622-102918.jpg added to dataset with class name \"wf\".\n",
            "Image : /mendelu_pictures/pictures/2018-06-22 IMAGING JAI CMOS/1_2_2_6_1_1_20180622-102918.jpg added to dataset with class name \"wf\".\n",
            "Image : /mendelu_pictures/pictures/2018-06-22 IMAGING JAI CMOS/1_2_2_6_1_1_20180622-102918.jpg added to dataset with class name \"wf\".\n",
            "Image : /mendelu_pictures/pictures/2018-06-22 IMAGING JAI CMOS/1_2_2_6_1_1_20180622-102918.jpg added to dataset with class name \"wf\".\n",
            "Image : /mendelu_pictures/pictures/2018-06-22 IMAGING JAI CMOS/1_2_2_6_1_1_20180622-102918.jpg added to dataset with class name \"wf\".\n",
            "Image : /mendelu_pictures/pictures/2018-06-22 IMAGING JAI CMOS/1_2_2_6_1_1_20180622-102918.jpg added to dataset with class name \"wf\".\n",
            "Image : /mendelu_pictures/pictures/2018-06-22 IMAGING JAI CMOS/1_2_2_6_1_1_20180622-102918.jpg added to dataset with class name \"wf\".\n",
            "Image : /mendelu_pictures/pictures/2018-06-22 IMAGING JAI CMOS/1_2_2_6_1_1_20180622-102918.jpg added to dataset with class name \"wf\".\n",
            "Image : /mendelu_pictures/pictures/2018-06-22 IMAGING JAI CMOS/1_2_2_6_1_1_20180622-102918.jpg added to dataset with class name \"wf\".\n",
            "Image : /mendelu_pictures/pictures/2018-06-22 IMAGING JAI CMOS/1_2_2_6_1_1_20180622-102918.jpg added to dataset with class name \"wf\".\n",
            "Image : /mendelu_pictures/pictures/2018-06-22 IMAGING JAI CMOS/1_2_2_6_1_1_20180622-102918.jpg added to dataset with class name \"wf\".\n",
            "Image : /mendelu_pictures/pictures/2018-06-22 IMAGING JAI CMOS/1_2_2_6_1_1_20180622-102918.jpg added to dataset with class name \"wf\".\n",
            "Image : /mendelu_pictures/pictures/2018-06-22 IMAGING JAI CMOS/1_2_2_6_1_1_20180622-102918.jpg added to dataset with class name \"wf\".\n",
            "Image : /mendelu_pictures/pictures/2018-06-22 IMAGING JAI CMOS/1_2_2_6_1_1_20180622-102918.jpg added to dataset with class name \"wf\".\n",
            "Image : /mendelu_pictures/pictures/2018-06-22 IMAGING JAI CMOS/1_2_2_6_1_1_20180622-102918.jpg added to dataset with class name \"wf\".\n",
            "Image : /mendelu_pictures/pictures/2018-06-22 IMAGING JAI CMOS/1_2_2_6_1_1_20180622-102918.jpg added to dataset with class name \"wf\".\n",
            "Image : /mendelu_pictures/pictures/2018-06-22 IMAGING JAI CMOS/1_2_2_6_1_1_20180622-102918.jpg added to dataset with class name \"wf\".\n",
            "Image : /mendelu_pictures/pictures/2018-06-22 IMAGING JAI CMOS/1_2_2_6_1_1_20180622-102918.jpg added to dataset with class name \"wf\".\n",
            "Image : /mendelu_pictures/pictures/2018-06-22 IMAGING JAI CMOS/1_2_2_6_1_1_20180622-102918.jpg added to dataset with class name \"wf\".\n",
            "Image : /mendelu_pictures/pictures/2018-06-22 IMAGING JAI CMOS/1_2_2_6_1_1_20180622-102918.jpg added to dataset with class name \"wf\".\n",
            "Image : /mendelu_pictures/pictures/2018-06-22 IMAGING JAI CMOS/1_2_2_6_1_1_20180622-102918.jpg added to dataset with class name \"wf\".\n",
            "Image : /mendelu_pictures/pictures/2018-06-22 IMAGING JAI CMOS/1_2_2_6_1_1_20180622-102918.jpg added to dataset with class name \"wf\".\n",
            "Image : /mendelu_pictures/pictures/2018-06-22 IMAGING JAI CMOS/1_2_2_6_1_1_20180622-102918.jpg added to dataset with class name \"wf\".\n",
            "Image : /mendelu_pictures/pictures/2018-06-22 IMAGING JAI CMOS/1_2_2_6_1_1_20180622-102918.jpg added to dataset with class name \"wf\".\n",
            "Image : /mendelu_pictures/pictures/2018-06-22 IMAGING JAI CMOS/1_2_2_6_1_1_20180622-102918.jpg added to dataset with class name \"wf\".\n",
            "Image : /mendelu_pictures/pictures/2018-06-22 IMAGING JAI CMOS/1_2_2_6_1_1_20180622-111118.jpg added to dataset with class name \"bt\".\n",
            "Image : /mendelu_pictures/pictures/2018-06-22 IMAGING JAI CMOS/1_2_2_6_1_1_20180622-111118.jpg added to dataset with class name \"bt\".\n",
            "Image : /mendelu_pictures/pictures/2018-06-22 IMAGING JAI CMOS/1_2_2_6_1_1_20180622-111118.jpg added to dataset with class name \"bt\".\n",
            "Image : /mendelu_pictures/pictures/2018-06-22 IMAGING JAI CMOS/1_2_2_6_1_1_20180622-111118.jpg added to dataset with class name \"bt\".\n",
            "Image : /mendelu_pictures/pictures/2018-06-22 IMAGING JAI CMOS/1_2_2_6_1_1_20180622-110827.jpg added to dataset with class name \"wf\".\n",
            "Image : /mendelu_pictures/pictures/2018-06-22 IMAGING JAI CMOS/1_2_2_6_1_1_20180622-110827.jpg added to dataset with class name \"wf\".\n",
            "Image : /mendelu_pictures/pictures/2018-06-22 IMAGING JAI CMOS/1_2_2_6_1_1_20180622-110827.jpg added to dataset with class name \"wf\".\n",
            "Image : /mendelu_pictures/pictures/2018-06-22 IMAGING JAI CMOS/1_2_2_6_1_1_20180622-111004.jpg added to dataset with class name \"bt\".\n",
            "Image : /mendelu_pictures/pictures/2018-06-22 IMAGING JAI CMOS/1_2_2_6_1_1_20180622-110804.jpg added to dataset with class name \"bt\".\n",
            "Image dataset succesfully saved.\n"
          ],
          "name": "stdout"
        }
      ]
    },
    {
      "cell_type": "code",
      "metadata": {
        "id": "zrF-aR03ZYMm",
        "colab_type": "code",
        "colab": {}
      },
      "source": [
        "(trainY , trainX) , (testY , testX ) = (dataSet.trainY , dataSet.trainX ) , (dataSet.testY , dataSet.testX )\n"
      ],
      "execution_count": 39,
      "outputs": []
    },
    {
      "cell_type": "code",
      "metadata": {
        "id": "fPk_rwBzQ7Jp",
        "colab_type": "code",
        "colab": {
          "base_uri": "https://localhost:8080/",
          "height": 857
        },
        "outputId": "b53fd51c-5625-46ac-999b-2effdbacc907"
      },
      "source": [
        "epochs = 25\n",
        "model.compile(loss='mse', optimizer='adam', metrics ='accuracy')\n",
        "\n",
        "history = model.fit(trainX, trainY, epochs=epochs)\n"
      ],
      "execution_count": 49,
      "outputs": [
        {
          "output_type": "stream",
          "text": [
            "Epoch 1/25\n",
            "3/3 [==============================] - 8s 3s/step - loss: 9.7336 - accuracy: 0.2537\n",
            "Epoch 2/25\n",
            "3/3 [==============================] - 9s 3s/step - loss: 9.7312 - accuracy: 0.1194\n",
            "Epoch 3/25\n",
            "3/3 [==============================] - 8s 3s/step - loss: 9.7309 - accuracy: 0.3284\n",
            "Epoch 4/25\n",
            "3/3 [==============================] - 8s 3s/step - loss: 9.7309 - accuracy: 0.0000e+00\n",
            "Epoch 5/25\n",
            "3/3 [==============================] - 8s 3s/step - loss: 9.7308 - accuracy: 0.5522\n",
            "Epoch 6/25\n",
            "3/3 [==============================] - 8s 3s/step - loss: 9.7306 - accuracy: 0.0149\n",
            "Epoch 7/25\n",
            "3/3 [==============================] - 8s 3s/step - loss: 9.7306 - accuracy: 0.1493\n",
            "Epoch 8/25\n",
            "3/3 [==============================] - 8s 3s/step - loss: 9.7306 - accuracy: 0.2836\n",
            "Epoch 9/25\n",
            "3/3 [==============================] - 8s 3s/step - loss: 9.7306 - accuracy: 0.0000e+00\n",
            "Epoch 10/25\n",
            "3/3 [==============================] - 8s 3s/step - loss: 9.7306 - accuracy: 0.1493\n",
            "Epoch 11/25\n",
            "3/3 [==============================] - 8s 3s/step - loss: 9.7305 - accuracy: 0.2836\n",
            "Epoch 12/25\n",
            "3/3 [==============================] - 8s 3s/step - loss: 9.7306 - accuracy: 0.0299\n",
            "Epoch 13/25\n",
            "3/3 [==============================] - 8s 3s/step - loss: 9.7305 - accuracy: 0.3881\n",
            "Epoch 14/25\n",
            "3/3 [==============================] - 8s 3s/step - loss: 9.7305 - accuracy: 0.0000e+00\n",
            "Epoch 15/25\n",
            "3/3 [==============================] - 8s 3s/step - loss: 9.7305 - accuracy: 0.5672\n",
            "Epoch 16/25\n",
            "3/3 [==============================] - 8s 3s/step - loss: 9.7305 - accuracy: 0.0000e+00\n",
            "Epoch 17/25\n",
            "3/3 [==============================] - 8s 3s/step - loss: 9.7305 - accuracy: 0.4925\n",
            "Epoch 18/25\n",
            "3/3 [==============================] - 8s 3s/step - loss: 9.7305 - accuracy: 0.0448\n",
            "Epoch 19/25\n",
            "3/3 [==============================] - 8s 3s/step - loss: 9.7305 - accuracy: 0.0000e+00\n",
            "Epoch 20/25\n",
            "3/3 [==============================] - 8s 3s/step - loss: 9.7305 - accuracy: 0.3731\n",
            "Epoch 21/25\n",
            "3/3 [==============================] - 8s 3s/step - loss: 9.7305 - accuracy: 0.0149\n",
            "Epoch 22/25\n",
            "3/3 [==============================] - 8s 3s/step - loss: 9.7305 - accuracy: 0.5672\n",
            "Epoch 23/25\n",
            "3/3 [==============================] - 8s 3s/step - loss: 9.7305 - accuracy: 0.0299\n",
            "Epoch 24/25\n",
            "3/3 [==============================] - 8s 3s/step - loss: 9.7305 - accuracy: 0.4478\n",
            "Epoch 25/25\n",
            "3/3 [==============================] - 8s 3s/step - loss: 9.7305 - accuracy: 0.1940\n"
          ],
          "name": "stdout"
        }
      ]
    },
    {
      "cell_type": "code",
      "metadata": {
        "id": "le0_4vZpZ9gD",
        "colab_type": "code",
        "colab": {
          "base_uri": "https://localhost:8080/",
          "height": 84
        },
        "outputId": "e928acca-ba04-433d-84a1-66a5ede19006"
      },
      "source": [
        "print(trainX.shape)\n",
        "print(trainY.shape)\n",
        "print(testX.shape)\n",
        "print(testY.shape)"
      ],
      "execution_count": null,
      "outputs": [
        {
          "output_type": "stream",
          "text": [
            "(67, 224, 224, 3)\n",
            "(67,)\n",
            "(5, 224, 224, 3)\n",
            "(5,)\n"
          ],
          "name": "stdout"
        }
      ]
    },
    {
      "cell_type": "code",
      "metadata": {
        "id": "q4PbzI39GJ2-",
        "colab_type": "code",
        "colab": {}
      },
      "source": [
        "def plot_image(i, predictions_array, true_labels, images):\n",
        "  predictions_array, true_label, img = predictions_array[i], true_labels[i], images[i]\n",
        "  plt.grid(False)\n",
        "  plt.xticks([])\n",
        "  plt.yticks([])\n",
        "   \n",
        "  plt.imshow(img[...,0], cmap=plt.cm.binary)\n",
        " \n",
        "  predicted_label = np.argmax(predictions_array)\n",
        "  if predicted_label == true_label:\n",
        "    color = 'blue'\n",
        "  else:\n",
        "    color = 'red'\n",
        "   \n",
        "  plt.xlabel(\"{} {:2.0f}% ({})\".format(class_object[predicted_label],\n",
        "                                100*np.max(predictions_array),\n",
        "                                class_object[true_label]),\n",
        "                                color=color)\n"
      ],
      "execution_count": 50,
      "outputs": []
    },
    {
      "cell_type": "code",
      "metadata": {
        "id": "XhDYhlRvGbji",
        "colab_type": "code",
        "colab": {
          "base_uri": "https://localhost:8080/",
          "height": 153
        },
        "outputId": "1c001192-31d8-4fe0-f61e-866d74555977"
      },
      "source": [
        "num_rows = 1\n",
        "num_cols = 1\n",
        "num_images = num_rows*num_cols\n",
        "plt.figure(figsize=(2*num_cols, 2*num_rows))\n",
        "test_images = testX[:num_images]\n",
        "predictions = model.predict(testX)\n",
        "for i in range(num_images):    \n",
        "    plt.subplot(num_rows, num_cols, i+1)   \n",
        "    plot_image(i, predictions, testY, testX)    \n",
        " \n",
        "plt.tight_layout()\n",
        "plt.show()"
      ],
      "execution_count": 51,
      "outputs": [
        {
          "output_type": "display_data",
          "data": {
            "image/png": "[encoded data removed]",
            "text/plain": [
              "<Figure size 144x144 with 1 Axes>"
            ]
          },
          "metadata": {
            "tags": []
          }
        }
      ]
    }
  ]
}