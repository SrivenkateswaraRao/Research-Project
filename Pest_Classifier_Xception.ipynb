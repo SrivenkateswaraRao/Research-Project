{
  "nbformat": 4,
  "nbformat_minor": 0,
  "metadata": {
    "colab": {
      "name": "Pest_Classifier_Xception.ipynb",
      "provenance": [],
      "collapsed_sections": [],
      "machine_shape": "hm",
      "include_colab_link": true
    },
    "kernelspec": {
      "name": "python3",
      "display_name": "Python 3"
    },
    "accelerator": "TPU"
  },
  "cells": [
    {
      "cell_type": "markdown",
      "metadata": {
        "id": "view-in-github",
        "colab_type": "text"
      },
      "source": [
        "<a href=\"https://colab.research.google.com/github/SrivenkateswaraRao/Research-Project/blob/master/Pest_Classifier_Xception.ipynb\" target=\"_parent\"><img src=\"https://colab.research.google.com/assets/colab-badge.svg\" alt=\"Open In Colab\"/></a>"
      ]
    },
    {
      "cell_type": "code",
      "metadata": {
        "id": "vRXTdQDVKS6v",
        "colab_type": "code",
        "colab": {}
      },
      "source": [
        "import os\n",
        "from os import listdir\n",
        "from pydrive.auth import GoogleAuth\n",
        "from pydrive.drive import GoogleDrive\n",
        "from google.colab import auth\n",
        "from oauth2client.client import GoogleCredentials\n",
        "import numpy as np"
      ],
      "execution_count": null,
      "outputs": []
    },
    {
      "cell_type": "code",
      "metadata": {
        "id": "_zf7iSxzKaf0",
        "colab_type": "code",
        "colab": {}
      },
      "source": [
        "auth.authenticate_user()\n",
        "gauth = GoogleAuth()\n",
        "gauth.credentials = GoogleCredentials.get_application_default()\n",
        "drive = GoogleDrive(gauth)"
      ],
      "execution_count": null,
      "outputs": []
    },
    {
      "cell_type": "code",
      "metadata": {
        "id": "LCOxaKCJKzA0",
        "colab_type": "code",
        "colab": {}
      },
      "source": [
        "from google.colab import files\n",
        "files.upload() "
      ],
      "execution_count": null,
      "outputs": []
    },
    {
      "cell_type": "code",
      "metadata": {
        "id": "dbxnI4zrLATr",
        "colab_type": "code",
        "colab": {}
      },
      "source": [
        "import CreatePestImageData as Imagedataset\n",
        "import SupportingFunctions as support"
      ],
      "execution_count": null,
      "outputs": []
    },
    {
      "cell_type": "code",
      "metadata": {
        "id": "MsX9B9gWLClk",
        "colab_type": "code",
        "colab": {}
      },
      "source": [
        "support.DownLoadFiles('1aXb25Wp9sG7mL6AQgYY9ElrGcERi95JU',drive)"
      ],
      "execution_count": null,
      "outputs": []
    },
    {
      "cell_type": "code",
      "metadata": {
        "id": "HP63yquZOxes",
        "colab_type": "code",
        "colab": {}
      },
      "source": [
        "support.Unzip('/content/GREENPATROL_DB_V3.0.zip','/content/Pests/Images')"
      ],
      "execution_count": null,
      "outputs": []
    },
    {
      "cell_type": "code",
      "metadata": {
        "id": "FjdLhsa-PhAM",
        "colab_type": "code",
        "colab": {
          "base_uri": "https://localhost:8080/",
          "height": 34
        },
        "outputId": "8d11ebc0-fe1f-4969-fd13-dc11ae15ea4f"
      },
      "source": [
        "support.fileCount('/content/Pests/Images')"
      ],
      "execution_count": null,
      "outputs": [
        {
          "output_type": "stream",
          "text": [
            "4330\n"
          ],
          "name": "stdout"
        }
      ]
    },
    {
      "cell_type": "code",
      "metadata": {
        "id": "o9VJCEpZJ6TH",
        "colab_type": "code",
        "colab": {}
      },
      "source": [
        "dataSet = Imagedataset.createImageDataset()"
      ],
      "execution_count": null,
      "outputs": []
    },
    {
      "cell_type": "code",
      "metadata": {
        "id": "kJc_EiuuQB17",
        "colab_type": "code",
        "colab": {}
      },
      "source": [
        "class_object = {0 : 'egg_wf' ,\n",
        "                1 : 'egg_bt', 2 : 'egg_ta', 3 : 'wf', 4 : 'bt', 5 : 'tomato'}"
      ],
      "execution_count": null,
      "outputs": []
    },
    {
      "cell_type": "code",
      "metadata": {
        "id": "YQ4yg8zaQEmb",
        "colab_type": "code",
        "colab": {}
      },
      "source": [
        "dataSet.prepare_dataset('/content/Pests/Labels' , class_object , 75 , '/content/Pests/Images',  test_size=11241 )"
      ],
      "execution_count": null,
      "outputs": []
    },
    {
      "cell_type": "code",
      "metadata": {
        "id": "z8akPnARWYci",
        "colab_type": "code",
        "colab": {}
      },
      "source": [
        "listdir('/content/Pests/Labels')"
      ],
      "execution_count": null,
      "outputs": []
    },
    {
      "cell_type": "code",
      "metadata": {
        "id": "rtF-jfjvR3Kr",
        "colab_type": "code",
        "colab": {}
      },
      "source": [
        "(trainY , trainX) , (testY , testX ) = (dataSet.trainY , dataSet.trainX ) , (dataSet.testY , dataSet.testX )\n"
      ],
      "execution_count": null,
      "outputs": []
    },
    {
      "cell_type": "code",
      "metadata": {
        "id": "VuJb61dJAmKX",
        "colab_type": "code",
        "colab": {}
      },
      "source": [
        "from keras.applications.vgg19 import VGG19\n",
        "from keras.models import Model\n",
        "from keras.layers import Dense\n",
        "from keras.layers import Flatten\n",
        "import tensorflow as tf"
      ],
      "execution_count": null,
      "outputs": []
    },
    {
      "cell_type": "code",
      "metadata": {
        "id": "kXXgL4gsTRQG",
        "colab_type": "code",
        "colab": {}
      },
      "source": [
        "from google.colab import drive\n",
        "drive.mount('/content/drive')"
      ],
      "execution_count": null,
      "outputs": []
    },
    {
      "cell_type": "code",
      "metadata": {
        "id": "4UTX-U4UvyFV",
        "colab_type": "code",
        "colab": {}
      },
      "source": [
        "from keras import backend as K\n",
        "if K.image_data_format() == 'channels_first':\n",
        "   input_shape = [3, 75, 75]\n",
        "else:\n",
        "   input_shape = [75, 75, 3]"
      ],
      "execution_count": null,
      "outputs": []
    },
    {
      "cell_type": "code",
      "metadata": {
        "id": "nveqACGYblLa",
        "colab_type": "code",
        "colab": {
          "base_uri": "https://localhost:8080/",
          "height": 1000
        },
        "outputId": "3f9d95e3-347f-4667-f024-18afc970b181"
      },
      "source": [
        "import tensorflow as tf\n",
        "from keras import models\n",
        "from keras.applications.xception import Xception\n",
        "Xception = Xception(input_shape=input_shape, include_top=False, pooling='avg',weights='imagenet')\n",
        "Xception.summary()"
      ],
      "execution_count": null,
      "outputs": [
        {
          "output_type": "stream",
          "text": [
            "Downloading data from https://github.com/fchollet/deep-learning-models/releases/download/v0.4/xception_weights_tf_dim_ordering_tf_kernels_notop.h5\n",
            "83689472/83683744 [==============================] - 1s 0us/step\n",
            "Model: \"xception\"\n",
            "__________________________________________________________________________________________________\n",
            "Layer (type)                    Output Shape         Param #     Connected to                     \n",
            "==================================================================================================\n",
            "input_1 (InputLayer)            (None, 75, 75, 3)    0                                            \n",
            "__________________________________________________________________________________________________\n",
            "block1_conv1 (Conv2D)           (None, 37, 37, 32)   864         input_1[0][0]                    \n",
            "__________________________________________________________________________________________________\n",
            "block1_conv1_bn (BatchNormaliza (None, 37, 37, 32)   128         block1_conv1[0][0]               \n",
            "__________________________________________________________________________________________________\n",
            "block1_conv1_act (Activation)   (None, 37, 37, 32)   0           block1_conv1_bn[0][0]            \n",
            "__________________________________________________________________________________________________\n",
            "block1_conv2 (Conv2D)           (None, 35, 35, 64)   18432       block1_conv1_act[0][0]           \n",
            "__________________________________________________________________________________________________\n",
            "block1_conv2_bn (BatchNormaliza (None, 35, 35, 64)   256         block1_conv2[0][0]               \n",
            "__________________________________________________________________________________________________\n",
            "block1_conv2_act (Activation)   (None, 35, 35, 64)   0           block1_conv2_bn[0][0]            \n",
            "__________________________________________________________________________________________________\n",
            "block2_sepconv1 (SeparableConv2 (None, 35, 35, 128)  8768        block1_conv2_act[0][0]           \n",
            "__________________________________________________________________________________________________\n",
            "block2_sepconv1_bn (BatchNormal (None, 35, 35, 128)  512         block2_sepconv1[0][0]            \n",
            "__________________________________________________________________________________________________\n",
            "block2_sepconv2_act (Activation (None, 35, 35, 128)  0           block2_sepconv1_bn[0][0]         \n",
            "__________________________________________________________________________________________________\n",
            "block2_sepconv2 (SeparableConv2 (None, 35, 35, 128)  17536       block2_sepconv2_act[0][0]        \n",
            "__________________________________________________________________________________________________\n",
            "block2_sepconv2_bn (BatchNormal (None, 35, 35, 128)  512         block2_sepconv2[0][0]            \n",
            "__________________________________________________________________________________________________\n",
            "conv2d_1 (Conv2D)               (None, 18, 18, 128)  8192        block1_conv2_act[0][0]           \n",
            "__________________________________________________________________________________________________\n",
            "block2_pool (MaxPooling2D)      (None, 18, 18, 128)  0           block2_sepconv2_bn[0][0]         \n",
            "__________________________________________________________________________________________________\n",
            "batch_normalization_1 (BatchNor (None, 18, 18, 128)  512         conv2d_1[0][0]                   \n",
            "__________________________________________________________________________________________________\n",
            "add_1 (Add)                     (None, 18, 18, 128)  0           block2_pool[0][0]                \n",
            "                                                                 batch_normalization_1[0][0]      \n",
            "__________________________________________________________________________________________________\n",
            "block3_sepconv1_act (Activation (None, 18, 18, 128)  0           add_1[0][0]                      \n",
            "__________________________________________________________________________________________________\n",
            "block3_sepconv1 (SeparableConv2 (None, 18, 18, 256)  33920       block3_sepconv1_act[0][0]        \n",
            "__________________________________________________________________________________________________\n",
            "block3_sepconv1_bn (BatchNormal (None, 18, 18, 256)  1024        block3_sepconv1[0][0]            \n",
            "__________________________________________________________________________________________________\n",
            "block3_sepconv2_act (Activation (None, 18, 18, 256)  0           block3_sepconv1_bn[0][0]         \n",
            "__________________________________________________________________________________________________\n",
            "block3_sepconv2 (SeparableConv2 (None, 18, 18, 256)  67840       block3_sepconv2_act[0][0]        \n",
            "__________________________________________________________________________________________________\n",
            "block3_sepconv2_bn (BatchNormal (None, 18, 18, 256)  1024        block3_sepconv2[0][0]            \n",
            "__________________________________________________________________________________________________\n",
            "conv2d_2 (Conv2D)               (None, 9, 9, 256)    32768       add_1[0][0]                      \n",
            "__________________________________________________________________________________________________\n",
            "block3_pool (MaxPooling2D)      (None, 9, 9, 256)    0           block3_sepconv2_bn[0][0]         \n",
            "__________________________________________________________________________________________________\n",
            "batch_normalization_2 (BatchNor (None, 9, 9, 256)    1024        conv2d_2[0][0]                   \n",
            "__________________________________________________________________________________________________\n",
            "add_2 (Add)                     (None, 9, 9, 256)    0           block3_pool[0][0]                \n",
            "                                                                 batch_normalization_2[0][0]      \n",
            "__________________________________________________________________________________________________\n",
            "block4_sepconv1_act (Activation (None, 9, 9, 256)    0           add_2[0][0]                      \n",
            "__________________________________________________________________________________________________\n",
            "block4_sepconv1 (SeparableConv2 (None, 9, 9, 728)    188672      block4_sepconv1_act[0][0]        \n",
            "__________________________________________________________________________________________________\n",
            "block4_sepconv1_bn (BatchNormal (None, 9, 9, 728)    2912        block4_sepconv1[0][0]            \n",
            "__________________________________________________________________________________________________\n",
            "block4_sepconv2_act (Activation (None, 9, 9, 728)    0           block4_sepconv1_bn[0][0]         \n",
            "__________________________________________________________________________________________________\n",
            "block4_sepconv2 (SeparableConv2 (None, 9, 9, 728)    536536      block4_sepconv2_act[0][0]        \n",
            "__________________________________________________________________________________________________\n",
            "block4_sepconv2_bn (BatchNormal (None, 9, 9, 728)    2912        block4_sepconv2[0][0]            \n",
            "__________________________________________________________________________________________________\n",
            "conv2d_3 (Conv2D)               (None, 5, 5, 728)    186368      add_2[0][0]                      \n",
            "__________________________________________________________________________________________________\n",
            "block4_pool (MaxPooling2D)      (None, 5, 5, 728)    0           block4_sepconv2_bn[0][0]         \n",
            "__________________________________________________________________________________________________\n",
            "batch_normalization_3 (BatchNor (None, 5, 5, 728)    2912        conv2d_3[0][0]                   \n",
            "__________________________________________________________________________________________________\n",
            "add_3 (Add)                     (None, 5, 5, 728)    0           block4_pool[0][0]                \n",
            "                                                                 batch_normalization_3[0][0]      \n",
            "__________________________________________________________________________________________________\n",
            "block5_sepconv1_act (Activation (None, 5, 5, 728)    0           add_3[0][0]                      \n",
            "__________________________________________________________________________________________________\n",
            "block5_sepconv1 (SeparableConv2 (None, 5, 5, 728)    536536      block5_sepconv1_act[0][0]        \n",
            "__________________________________________________________________________________________________\n",
            "block5_sepconv1_bn (BatchNormal (None, 5, 5, 728)    2912        block5_sepconv1[0][0]            \n",
            "__________________________________________________________________________________________________\n",
            "block5_sepconv2_act (Activation (None, 5, 5, 728)    0           block5_sepconv1_bn[0][0]         \n",
            "__________________________________________________________________________________________________\n",
            "block5_sepconv2 (SeparableConv2 (None, 5, 5, 728)    536536      block5_sepconv2_act[0][0]        \n",
            "__________________________________________________________________________________________________\n",
            "block5_sepconv2_bn (BatchNormal (None, 5, 5, 728)    2912        block5_sepconv2[0][0]            \n",
            "__________________________________________________________________________________________________\n",
            "block5_sepconv3_act (Activation (None, 5, 5, 728)    0           block5_sepconv2_bn[0][0]         \n",
            "__________________________________________________________________________________________________\n",
            "block5_sepconv3 (SeparableConv2 (None, 5, 5, 728)    536536      block5_sepconv3_act[0][0]        \n",
            "__________________________________________________________________________________________________\n",
            "block5_sepconv3_bn (BatchNormal (None, 5, 5, 728)    2912        block5_sepconv3[0][0]            \n",
            "__________________________________________________________________________________________________\n",
            "add_4 (Add)                     (None, 5, 5, 728)    0           block5_sepconv3_bn[0][0]         \n",
            "                                                                 add_3[0][0]                      \n",
            "__________________________________________________________________________________________________\n",
            "block6_sepconv1_act (Activation (None, 5, 5, 728)    0           add_4[0][0]                      \n",
            "__________________________________________________________________________________________________\n",
            "block6_sepconv1 (SeparableConv2 (None, 5, 5, 728)    536536      block6_sepconv1_act[0][0]        \n",
            "__________________________________________________________________________________________________\n",
            "block6_sepconv1_bn (BatchNormal (None, 5, 5, 728)    2912        block6_sepconv1[0][0]            \n",
            "__________________________________________________________________________________________________\n",
            "block6_sepconv2_act (Activation (None, 5, 5, 728)    0           block6_sepconv1_bn[0][0]         \n",
            "__________________________________________________________________________________________________\n",
            "block6_sepconv2 (SeparableConv2 (None, 5, 5, 728)    536536      block6_sepconv2_act[0][0]        \n",
            "__________________________________________________________________________________________________\n",
            "block6_sepconv2_bn (BatchNormal (None, 5, 5, 728)    2912        block6_sepconv2[0][0]            \n",
            "__________________________________________________________________________________________________\n",
            "block6_sepconv3_act (Activation (None, 5, 5, 728)    0           block6_sepconv2_bn[0][0]         \n",
            "__________________________________________________________________________________________________\n",
            "block6_sepconv3 (SeparableConv2 (None, 5, 5, 728)    536536      block6_sepconv3_act[0][0]        \n",
            "__________________________________________________________________________________________________\n",
            "block6_sepconv3_bn (BatchNormal (None, 5, 5, 728)    2912        block6_sepconv3[0][0]            \n",
            "__________________________________________________________________________________________________\n",
            "add_5 (Add)                     (None, 5, 5, 728)    0           block6_sepconv3_bn[0][0]         \n",
            "                                                                 add_4[0][0]                      \n",
            "__________________________________________________________________________________________________\n",
            "block7_sepconv1_act (Activation (None, 5, 5, 728)    0           add_5[0][0]                      \n",
            "__________________________________________________________________________________________________\n",
            "block7_sepconv1 (SeparableConv2 (None, 5, 5, 728)    536536      block7_sepconv1_act[0][0]        \n",
            "__________________________________________________________________________________________________\n",
            "block7_sepconv1_bn (BatchNormal (None, 5, 5, 728)    2912        block7_sepconv1[0][0]            \n",
            "__________________________________________________________________________________________________\n",
            "block7_sepconv2_act (Activation (None, 5, 5, 728)    0           block7_sepconv1_bn[0][0]         \n",
            "__________________________________________________________________________________________________\n",
            "block7_sepconv2 (SeparableConv2 (None, 5, 5, 728)    536536      block7_sepconv2_act[0][0]        \n",
            "__________________________________________________________________________________________________\n",
            "block7_sepconv2_bn (BatchNormal (None, 5, 5, 728)    2912        block7_sepconv2[0][0]            \n",
            "__________________________________________________________________________________________________\n",
            "block7_sepconv3_act (Activation (None, 5, 5, 728)    0           block7_sepconv2_bn[0][0]         \n",
            "__________________________________________________________________________________________________\n",
            "block7_sepconv3 (SeparableConv2 (None, 5, 5, 728)    536536      block7_sepconv3_act[0][0]        \n",
            "__________________________________________________________________________________________________\n",
            "block7_sepconv3_bn (BatchNormal (None, 5, 5, 728)    2912        block7_sepconv3[0][0]            \n",
            "__________________________________________________________________________________________________\n",
            "add_6 (Add)                     (None, 5, 5, 728)    0           block7_sepconv3_bn[0][0]         \n",
            "                                                                 add_5[0][0]                      \n",
            "__________________________________________________________________________________________________\n",
            "block8_sepconv1_act (Activation (None, 5, 5, 728)    0           add_6[0][0]                      \n",
            "__________________________________________________________________________________________________\n",
            "block8_sepconv1 (SeparableConv2 (None, 5, 5, 728)    536536      block8_sepconv1_act[0][0]        \n",
            "__________________________________________________________________________________________________\n",
            "block8_sepconv1_bn (BatchNormal (None, 5, 5, 728)    2912        block8_sepconv1[0][0]            \n",
            "__________________________________________________________________________________________________\n",
            "block8_sepconv2_act (Activation (None, 5, 5, 728)    0           block8_sepconv1_bn[0][0]         \n",
            "__________________________________________________________________________________________________\n",
            "block8_sepconv2 (SeparableConv2 (None, 5, 5, 728)    536536      block8_sepconv2_act[0][0]        \n",
            "__________________________________________________________________________________________________\n",
            "block8_sepconv2_bn (BatchNormal (None, 5, 5, 728)    2912        block8_sepconv2[0][0]            \n",
            "__________________________________________________________________________________________________\n",
            "block8_sepconv3_act (Activation (None, 5, 5, 728)    0           block8_sepconv2_bn[0][0]         \n",
            "__________________________________________________________________________________________________\n",
            "block8_sepconv3 (SeparableConv2 (None, 5, 5, 728)    536536      block8_sepconv3_act[0][0]        \n",
            "__________________________________________________________________________________________________\n",
            "block8_sepconv3_bn (BatchNormal (None, 5, 5, 728)    2912        block8_sepconv3[0][0]            \n",
            "__________________________________________________________________________________________________\n",
            "add_7 (Add)                     (None, 5, 5, 728)    0           block8_sepconv3_bn[0][0]         \n",
            "                                                                 add_6[0][0]                      \n",
            "__________________________________________________________________________________________________\n",
            "block9_sepconv1_act (Activation (None, 5, 5, 728)    0           add_7[0][0]                      \n",
            "__________________________________________________________________________________________________\n",
            "block9_sepconv1 (SeparableConv2 (None, 5, 5, 728)    536536      block9_sepconv1_act[0][0]        \n",
            "__________________________________________________________________________________________________\n",
            "block9_sepconv1_bn (BatchNormal (None, 5, 5, 728)    2912        block9_sepconv1[0][0]            \n",
            "__________________________________________________________________________________________________\n",
            "block9_sepconv2_act (Activation (None, 5, 5, 728)    0           block9_sepconv1_bn[0][0]         \n",
            "__________________________________________________________________________________________________\n",
            "block9_sepconv2 (SeparableConv2 (None, 5, 5, 728)    536536      block9_sepconv2_act[0][0]        \n",
            "__________________________________________________________________________________________________\n",
            "block9_sepconv2_bn (BatchNormal (None, 5, 5, 728)    2912        block9_sepconv2[0][0]            \n",
            "__________________________________________________________________________________________________\n",
            "block9_sepconv3_act (Activation (None, 5, 5, 728)    0           block9_sepconv2_bn[0][0]         \n",
            "__________________________________________________________________________________________________\n",
            "block9_sepconv3 (SeparableConv2 (None, 5, 5, 728)    536536      block9_sepconv3_act[0][0]        \n",
            "__________________________________________________________________________________________________\n",
            "block9_sepconv3_bn (BatchNormal (None, 5, 5, 728)    2912        block9_sepconv3[0][0]            \n",
            "__________________________________________________________________________________________________\n",
            "add_8 (Add)                     (None, 5, 5, 728)    0           block9_sepconv3_bn[0][0]         \n",
            "                                                                 add_7[0][0]                      \n",
            "__________________________________________________________________________________________________\n",
            "block10_sepconv1_act (Activatio (None, 5, 5, 728)    0           add_8[0][0]                      \n",
            "__________________________________________________________________________________________________\n",
            "block10_sepconv1 (SeparableConv (None, 5, 5, 728)    536536      block10_sepconv1_act[0][0]       \n",
            "__________________________________________________________________________________________________\n",
            "block10_sepconv1_bn (BatchNorma (None, 5, 5, 728)    2912        block10_sepconv1[0][0]           \n",
            "__________________________________________________________________________________________________\n",
            "block10_sepconv2_act (Activatio (None, 5, 5, 728)    0           block10_sepconv1_bn[0][0]        \n",
            "__________________________________________________________________________________________________\n",
            "block10_sepconv2 (SeparableConv (None, 5, 5, 728)    536536      block10_sepconv2_act[0][0]       \n",
            "__________________________________________________________________________________________________\n",
            "block10_sepconv2_bn (BatchNorma (None, 5, 5, 728)    2912        block10_sepconv2[0][0]           \n",
            "__________________________________________________________________________________________________\n",
            "block10_sepconv3_act (Activatio (None, 5, 5, 728)    0           block10_sepconv2_bn[0][0]        \n",
            "__________________________________________________________________________________________________\n",
            "block10_sepconv3 (SeparableConv (None, 5, 5, 728)    536536      block10_sepconv3_act[0][0]       \n",
            "__________________________________________________________________________________________________\n",
            "block10_sepconv3_bn (BatchNorma (None, 5, 5, 728)    2912        block10_sepconv3[0][0]           \n",
            "__________________________________________________________________________________________________\n",
            "add_9 (Add)                     (None, 5, 5, 728)    0           block10_sepconv3_bn[0][0]        \n",
            "                                                                 add_8[0][0]                      \n",
            "__________________________________________________________________________________________________\n",
            "block11_sepconv1_act (Activatio (None, 5, 5, 728)    0           add_9[0][0]                      \n",
            "__________________________________________________________________________________________________\n",
            "block11_sepconv1 (SeparableConv (None, 5, 5, 728)    536536      block11_sepconv1_act[0][0]       \n",
            "__________________________________________________________________________________________________\n",
            "block11_sepconv1_bn (BatchNorma (None, 5, 5, 728)    2912        block11_sepconv1[0][0]           \n",
            "__________________________________________________________________________________________________\n",
            "block11_sepconv2_act (Activatio (None, 5, 5, 728)    0           block11_sepconv1_bn[0][0]        \n",
            "__________________________________________________________________________________________________\n",
            "block11_sepconv2 (SeparableConv (None, 5, 5, 728)    536536      block11_sepconv2_act[0][0]       \n",
            "__________________________________________________________________________________________________\n",
            "block11_sepconv2_bn (BatchNorma (None, 5, 5, 728)    2912        block11_sepconv2[0][0]           \n",
            "__________________________________________________________________________________________________\n",
            "block11_sepconv3_act (Activatio (None, 5, 5, 728)    0           block11_sepconv2_bn[0][0]        \n",
            "__________________________________________________________________________________________________\n",
            "block11_sepconv3 (SeparableConv (None, 5, 5, 728)    536536      block11_sepconv3_act[0][0]       \n",
            "__________________________________________________________________________________________________\n",
            "block11_sepconv3_bn (BatchNorma (None, 5, 5, 728)    2912        block11_sepconv3[0][0]           \n",
            "__________________________________________________________________________________________________\n",
            "add_10 (Add)                    (None, 5, 5, 728)    0           block11_sepconv3_bn[0][0]        \n",
            "                                                                 add_9[0][0]                      \n",
            "__________________________________________________________________________________________________\n",
            "block12_sepconv1_act (Activatio (None, 5, 5, 728)    0           add_10[0][0]                     \n",
            "__________________________________________________________________________________________________\n",
            "block12_sepconv1 (SeparableConv (None, 5, 5, 728)    536536      block12_sepconv1_act[0][0]       \n",
            "__________________________________________________________________________________________________\n",
            "block12_sepconv1_bn (BatchNorma (None, 5, 5, 728)    2912        block12_sepconv1[0][0]           \n",
            "__________________________________________________________________________________________________\n",
            "block12_sepconv2_act (Activatio (None, 5, 5, 728)    0           block12_sepconv1_bn[0][0]        \n",
            "__________________________________________________________________________________________________\n",
            "block12_sepconv2 (SeparableConv (None, 5, 5, 728)    536536      block12_sepconv2_act[0][0]       \n",
            "__________________________________________________________________________________________________\n",
            "block12_sepconv2_bn (BatchNorma (None, 5, 5, 728)    2912        block12_sepconv2[0][0]           \n",
            "__________________________________________________________________________________________________\n",
            "block12_sepconv3_act (Activatio (None, 5, 5, 728)    0           block12_sepconv2_bn[0][0]        \n",
            "__________________________________________________________________________________________________\n",
            "block12_sepconv3 (SeparableConv (None, 5, 5, 728)    536536      block12_sepconv3_act[0][0]       \n",
            "__________________________________________________________________________________________________\n",
            "block12_sepconv3_bn (BatchNorma (None, 5, 5, 728)    2912        block12_sepconv3[0][0]           \n",
            "__________________________________________________________________________________________________\n",
            "add_11 (Add)                    (None, 5, 5, 728)    0           block12_sepconv3_bn[0][0]        \n",
            "                                                                 add_10[0][0]                     \n",
            "__________________________________________________________________________________________________\n",
            "block13_sepconv1_act (Activatio (None, 5, 5, 728)    0           add_11[0][0]                     \n",
            "__________________________________________________________________________________________________\n",
            "block13_sepconv1 (SeparableConv (None, 5, 5, 728)    536536      block13_sepconv1_act[0][0]       \n",
            "__________________________________________________________________________________________________\n",
            "block13_sepconv1_bn (BatchNorma (None, 5, 5, 728)    2912        block13_sepconv1[0][0]           \n",
            "__________________________________________________________________________________________________\n",
            "block13_sepconv2_act (Activatio (None, 5, 5, 728)    0           block13_sepconv1_bn[0][0]        \n",
            "__________________________________________________________________________________________________\n",
            "block13_sepconv2 (SeparableConv (None, 5, 5, 1024)   752024      block13_sepconv2_act[0][0]       \n",
            "__________________________________________________________________________________________________\n",
            "block13_sepconv2_bn (BatchNorma (None, 5, 5, 1024)   4096        block13_sepconv2[0][0]           \n",
            "__________________________________________________________________________________________________\n",
            "conv2d_4 (Conv2D)               (None, 3, 3, 1024)   745472      add_11[0][0]                     \n",
            "__________________________________________________________________________________________________\n",
            "block13_pool (MaxPooling2D)     (None, 3, 3, 1024)   0           block13_sepconv2_bn[0][0]        \n",
            "__________________________________________________________________________________________________\n",
            "batch_normalization_4 (BatchNor (None, 3, 3, 1024)   4096        conv2d_4[0][0]                   \n",
            "__________________________________________________________________________________________________\n",
            "add_12 (Add)                    (None, 3, 3, 1024)   0           block13_pool[0][0]               \n",
            "                                                                 batch_normalization_4[0][0]      \n",
            "__________________________________________________________________________________________________\n",
            "block14_sepconv1 (SeparableConv (None, 3, 3, 1536)   1582080     add_12[0][0]                     \n",
            "__________________________________________________________________________________________________\n",
            "block14_sepconv1_bn (BatchNorma (None, 3, 3, 1536)   6144        block14_sepconv1[0][0]           \n",
            "__________________________________________________________________________________________________\n",
            "block14_sepconv1_act (Activatio (None, 3, 3, 1536)   0           block14_sepconv1_bn[0][0]        \n",
            "__________________________________________________________________________________________________\n",
            "block14_sepconv2 (SeparableConv (None, 3, 3, 2048)   3159552     block14_sepconv1_act[0][0]       \n",
            "__________________________________________________________________________________________________\n",
            "block14_sepconv2_bn (BatchNorma (None, 3, 3, 2048)   8192        block14_sepconv2[0][0]           \n",
            "__________________________________________________________________________________________________\n",
            "block14_sepconv2_act (Activatio (None, 3, 3, 2048)   0           block14_sepconv2_bn[0][0]        \n",
            "__________________________________________________________________________________________________\n",
            "global_average_pooling2d_1 (Glo (None, 2048)         0           block14_sepconv2_act[0][0]       \n",
            "==================================================================================================\n",
            "Total params: 20,861,480\n",
            "Trainable params: 20,806,952\n",
            "Non-trainable params: 54,528\n",
            "__________________________________________________________________________________________________\n"
          ],
          "name": "stdout"
        }
      ]
    },
    {
      "cell_type": "code",
      "metadata": {
        "id": "xfFIwthrbvNB",
        "colab_type": "code",
        "colab": {
          "base_uri": "https://localhost:8080/",
          "height": 319
        },
        "outputId": "ac8422f8-8e3c-429b-d380-18ecfd8e6ecd"
      },
      "source": [
        "from keras.models import Model\n",
        "layerName = 'block1_conv2'\n",
        "mymodel = Model(inputs= Xception.input , outputs=Xception.get_layer(layerName).output)\n",
        "mymodel.summary()"
      ],
      "execution_count": null,
      "outputs": [
        {
          "output_type": "stream",
          "text": [
            "Model: \"model_1\"\n",
            "_________________________________________________________________\n",
            "Layer (type)                 Output Shape              Param #   \n",
            "=================================================================\n",
            "input_1 (InputLayer)         (None, 75, 75, 3)         0         \n",
            "_________________________________________________________________\n",
            "block1_conv1 (Conv2D)        (None, 37, 37, 32)        864       \n",
            "_________________________________________________________________\n",
            "block1_conv1_bn (BatchNormal (None, 37, 37, 32)        128       \n",
            "_________________________________________________________________\n",
            "block1_conv1_act (Activation (None, 37, 37, 32)        0         \n",
            "_________________________________________________________________\n",
            "block1_conv2 (Conv2D)        (None, 35, 35, 64)        18432     \n",
            "=================================================================\n",
            "Total params: 19,424\n",
            "Trainable params: 19,360\n",
            "Non-trainable params: 64\n",
            "_________________________________________________________________\n"
          ],
          "name": "stdout"
        }
      ]
    },
    {
      "cell_type": "code",
      "metadata": {
        "id": "aQG9aEyzb10a",
        "colab_type": "code",
        "colab": {}
      },
      "source": [
        "from keras import applications\n",
        "from keras.models import Model\n",
        "from keras.layers import Conv2D, MaxPooling2D, GlobalAveragePooling2D\n",
        "from keras.layers import Dense, Dropout, Activation, Flatten\n",
        "from keras.layers.normalization import BatchNormalization"
      ],
      "execution_count": null,
      "outputs": []
    },
    {
      "cell_type": "code",
      "metadata": {
        "id": "OXeiKCTyb7VK",
        "colab_type": "code",
        "colab": {}
      },
      "source": [
        "model= models.Sequential()\n",
        "model.add(mymodel)\n",
        "model.add(Conv2D(16, (3, 3), activation='relu', padding='same'))\n",
        "model.add(MaxPooling2D(pool_size=(2, 2)))\n",
        "model.add(Conv2D(32, (3, 3), activation='relu', padding='same'))\n",
        "model.add(MaxPooling2D(pool_size=(2, 2)))\n",
        "model.add(GlobalAveragePooling2D())\n",
        "model.add(Dense(64, activation='relu'))\n",
        "model.add(BatchNormalization())\n",
        "model.add(Dense(6, activation='softmax'))\n",
        "model.layers[0].trainable = True\n",
        "\n",
        "model.compile(optimizer='adam',\n",
        "              loss='categorical_crossentropy',\n",
        "              metrics=['accuracy'])"
      ],
      "execution_count": null,
      "outputs": []
    },
    {
      "cell_type": "code",
      "metadata": {
        "id": "bV8ZkmwKcETB",
        "colab_type": "code",
        "colab": {
          "base_uri": "https://localhost:8080/",
          "height": 454
        },
        "outputId": "a9e6477f-f0e5-4c85-bbbd-945b87b25d4a"
      },
      "source": [
        "model.summary()"
      ],
      "execution_count": null,
      "outputs": [
        {
          "output_type": "stream",
          "text": [
            "Model: \"sequential_1\"\n",
            "_________________________________________________________________\n",
            "Layer (type)                 Output Shape              Param #   \n",
            "=================================================================\n",
            "model_1 (Model)              (None, 35, 35, 64)        19424     \n",
            "_________________________________________________________________\n",
            "conv2d_5 (Conv2D)            (None, 35, 35, 16)        9232      \n",
            "_________________________________________________________________\n",
            "max_pooling2d_1 (MaxPooling2 (None, 17, 17, 16)        0         \n",
            "_________________________________________________________________\n",
            "conv2d_6 (Conv2D)            (None, 17, 17, 32)        4640      \n",
            "_________________________________________________________________\n",
            "max_pooling2d_2 (MaxPooling2 (None, 8, 8, 32)          0         \n",
            "_________________________________________________________________\n",
            "global_average_pooling2d_2 ( (None, 32)                0         \n",
            "_________________________________________________________________\n",
            "dense_1 (Dense)              (None, 64)                2112      \n",
            "_________________________________________________________________\n",
            "batch_normalization_5 (Batch (None, 64)                256       \n",
            "_________________________________________________________________\n",
            "dense_2 (Dense)              (None, 6)                 390       \n",
            "=================================================================\n",
            "Total params: 36,054\n",
            "Trainable params: 16,502\n",
            "Non-trainable params: 19,552\n",
            "_________________________________________________________________\n"
          ],
          "name": "stdout"
        }
      ]
    },
    {
      "cell_type": "code",
      "metadata": {
        "id": "9lqwou8uGhJw",
        "colab_type": "code",
        "colab": {}
      },
      "source": [
        "from tensorflow.keras.utils import to_categorical\n",
        "trainY = to_categorical(trainY)\n",
        "testY = to_categorical(testY)"
      ],
      "execution_count": null,
      "outputs": []
    },
    {
      "cell_type": "code",
      "metadata": {
        "id": "CW_Lotmj0Hul",
        "colab_type": "code",
        "colab": {}
      },
      "source": [
        "filepath=\"/content/drive/My Drive/Models/Xception/weights-{epoch:02d}-{accuracy:.3f}.hdf5\"\n",
        "from keras.callbacks import ModelCheckpoint\n",
        "checkpoint = ModelCheckpoint(filepath, monitor='accuracy',\n",
        "                               verbose=1, mode='max',save_best_only=True)\n",
        "\n",
        "callbacks_list = [checkpoint]"
      ],
      "execution_count": null,
      "outputs": []
    },
    {
      "cell_type": "code",
      "metadata": {
        "id": "VbdKKFVzNOLX",
        "colab_type": "code",
        "colab": {}
      },
      "source": [
        "tf.config.experimental_run_functions_eagerly(True)\n"
      ],
      "execution_count": null,
      "outputs": []
    },
    {
      "cell_type": "code",
      "metadata": {
        "id": "d3cudeFGpuDe",
        "colab_type": "code",
        "colab": {
          "base_uri": "https://localhost:8080/",
          "height": 1000
        },
        "outputId": "ae9e207f-6c78-48ad-bc2f-cb0b29906e14"
      },
      "source": [
        "from keras.models import load_model\n",
        "model_Saved = load_model(\"/content/drive/My Drive/Models/Xception/weights-43-0.732.hdf5\")\n",
        "model_Saved.fit(trainX, trainY,  epochs=50,verbose=1,\n",
        "                           validation_data=(testX, testY),\n",
        "                          callbacks=callbacks_list)"
      ],
      "execution_count": null,
      "outputs": [
        {
          "output_type": "stream",
          "text": [
            "Train on 44964 samples, validate on 11241 samples\n",
            "Epoch 1/50\n",
            "44964/44964 [==============================] - 60s 1ms/step - loss: 0.6478 - accuracy: 0.7326 - val_loss: 0.8304 - val_accuracy: 0.6887\n",
            "\n",
            "Epoch 00001: accuracy improved from -inf to 0.73256, saving model to /content/drive/My Drive/Models/Xception/weights-01-0.733.hdf5\n",
            "Epoch 2/50\n",
            "44964/44964 [==============================] - 59s 1ms/step - loss: 0.6436 - accuracy: 0.7336 - val_loss: 0.7177 - val_accuracy: 0.7106\n",
            "\n",
            "Epoch 00002: accuracy improved from 0.73256 to 0.73356, saving model to /content/drive/My Drive/Models/Xception/weights-02-0.734.hdf5\n",
            "Epoch 3/50\n",
            "44964/44964 [==============================] - 59s 1ms/step - loss: 0.6401 - accuracy: 0.7350 - val_loss: 0.7349 - val_accuracy: 0.7106\n",
            "\n",
            "Epoch 00003: accuracy improved from 0.73356 to 0.73499, saving model to /content/drive/My Drive/Models/Xception/weights-03-0.735.hdf5\n",
            "Epoch 4/50\n",
            "44964/44964 [==============================] - 58s 1ms/step - loss: 0.6388 - accuracy: 0.7342 - val_loss: 0.7273 - val_accuracy: 0.7060\n",
            "\n",
            "Epoch 00004: accuracy did not improve from 0.73499\n",
            "Epoch 5/50\n",
            "44964/44964 [==============================] - 59s 1ms/step - loss: 0.6370 - accuracy: 0.7351 - val_loss: 0.7565 - val_accuracy: 0.6906\n",
            "\n",
            "Epoch 00005: accuracy improved from 0.73499 to 0.73512, saving model to /content/drive/My Drive/Models/Xception/weights-05-0.735.hdf5\n",
            "Epoch 6/50\n",
            "44964/44964 [==============================] - 59s 1ms/step - loss: 0.6348 - accuracy: 0.7349 - val_loss: 0.7207 - val_accuracy: 0.7090\n",
            "\n",
            "Epoch 00006: accuracy did not improve from 0.73512\n",
            "Epoch 7/50\n",
            "44964/44964 [==============================] - 60s 1ms/step - loss: 0.6339 - accuracy: 0.7361 - val_loss: 0.7161 - val_accuracy: 0.7129\n",
            "\n",
            "Epoch 00007: accuracy improved from 0.73512 to 0.73606, saving model to /content/drive/My Drive/Models/Xception/weights-07-0.736.hdf5\n",
            "Epoch 8/50\n",
            "44964/44964 [==============================] - 59s 1ms/step - loss: 0.6311 - accuracy: 0.7366 - val_loss: 0.7212 - val_accuracy: 0.7121\n",
            "\n",
            "Epoch 00008: accuracy improved from 0.73606 to 0.73657, saving model to /content/drive/My Drive/Models/Xception/weights-08-0.737.hdf5\n",
            "Epoch 9/50\n",
            "44964/44964 [==============================] - 59s 1ms/step - loss: 0.6298 - accuracy: 0.7383 - val_loss: 0.7609 - val_accuracy: 0.7091\n",
            "\n",
            "Epoch 00009: accuracy improved from 0.73657 to 0.73826, saving model to /content/drive/My Drive/Models/Xception/weights-09-0.738.hdf5\n",
            "Epoch 10/50\n",
            "44964/44964 [==============================] - 58s 1ms/step - loss: 0.6278 - accuracy: 0.7380 - val_loss: 0.8453 - val_accuracy: 0.6455\n",
            "\n",
            "Epoch 00010: accuracy did not improve from 0.73826\n",
            "Epoch 11/50\n",
            "44964/44964 [==============================] - 59s 1ms/step - loss: 0.6284 - accuracy: 0.7382 - val_loss: 0.7153 - val_accuracy: 0.7006\n",
            "\n",
            "Epoch 00011: accuracy did not improve from 0.73826\n",
            "Epoch 12/50\n",
            "44964/44964 [==============================] - 59s 1ms/step - loss: 0.6259 - accuracy: 0.7394 - val_loss: 0.7390 - val_accuracy: 0.7063\n",
            "\n",
            "Epoch 00012: accuracy improved from 0.73826 to 0.73941, saving model to /content/drive/My Drive/Models/Xception/weights-12-0.739.hdf5\n",
            "Epoch 13/50\n",
            "44964/44964 [==============================] - 58s 1ms/step - loss: 0.6268 - accuracy: 0.7381 - val_loss: 0.7160 - val_accuracy: 0.7065\n",
            "\n",
            "Epoch 00013: accuracy did not improve from 0.73941\n",
            "Epoch 14/50\n",
            "44964/44964 [==============================] - 58s 1ms/step - loss: 0.6253 - accuracy: 0.7392 - val_loss: 0.7184 - val_accuracy: 0.7016\n",
            "\n",
            "Epoch 00014: accuracy did not improve from 0.73941\n",
            "Epoch 15/50\n",
            "44964/44964 [==============================] - 58s 1ms/step - loss: 0.6238 - accuracy: 0.7393 - val_loss: 0.7444 - val_accuracy: 0.7052\n",
            "\n",
            "Epoch 00015: accuracy did not improve from 0.73941\n",
            "Epoch 16/50\n",
            "44964/44964 [==============================] - 59s 1ms/step - loss: 0.6198 - accuracy: 0.7406 - val_loss: 0.7858 - val_accuracy: 0.7111\n",
            "\n",
            "Epoch 00016: accuracy improved from 0.73941 to 0.74064, saving model to /content/drive/My Drive/Models/Xception/weights-16-0.741.hdf5\n",
            "Epoch 17/50\n",
            "44964/44964 [==============================] - 60s 1ms/step - loss: 0.6179 - accuracy: 0.7418 - val_loss: 0.7375 - val_accuracy: 0.7103\n",
            "\n",
            "Epoch 00017: accuracy improved from 0.74064 to 0.74184, saving model to /content/drive/My Drive/Models/Xception/weights-17-0.742.hdf5\n",
            "Epoch 18/50\n",
            "44964/44964 [==============================] - 59s 1ms/step - loss: 0.6203 - accuracy: 0.7398 - val_loss: 0.7462 - val_accuracy: 0.6871\n",
            "\n",
            "Epoch 00018: accuracy did not improve from 0.74184\n",
            "Epoch 19/50\n",
            "44964/44964 [==============================] - 59s 1ms/step - loss: 0.6171 - accuracy: 0.7431 - val_loss: 0.7135 - val_accuracy: 0.7092\n",
            "\n",
            "Epoch 00019: accuracy improved from 0.74184 to 0.74308, saving model to /content/drive/My Drive/Models/Xception/weights-19-0.743.hdf5\n",
            "Epoch 20/50\n",
            "44964/44964 [==============================] - 58s 1ms/step - loss: 0.6158 - accuracy: 0.7437 - val_loss: 0.7423 - val_accuracy: 0.6981\n",
            "\n",
            "Epoch 00020: accuracy improved from 0.74308 to 0.74368, saving model to /content/drive/My Drive/Models/Xception/weights-20-0.744.hdf5\n",
            "Epoch 21/50\n",
            "44964/44964 [==============================] - 58s 1ms/step - loss: 0.6111 - accuracy: 0.7431 - val_loss: 0.7508 - val_accuracy: 0.6981\n",
            "\n",
            "Epoch 00021: accuracy did not improve from 0.74368\n",
            "Epoch 22/50\n",
            "44964/44964 [==============================] - 59s 1ms/step - loss: 0.6104 - accuracy: 0.7460 - val_loss: 0.7604 - val_accuracy: 0.6941\n",
            "\n",
            "Epoch 00022: accuracy improved from 0.74368 to 0.74597, saving model to /content/drive/My Drive/Models/Xception/weights-22-0.746.hdf5\n",
            "Epoch 23/50\n",
            "44964/44964 [==============================] - 59s 1ms/step - loss: 0.6095 - accuracy: 0.7442 - val_loss: 0.7635 - val_accuracy: 0.6879\n",
            "\n",
            "Epoch 00023: accuracy did not improve from 0.74597\n",
            "Epoch 24/50\n",
            "44964/44964 [==============================] - 58s 1ms/step - loss: 0.6096 - accuracy: 0.7434 - val_loss: 0.7614 - val_accuracy: 0.6894\n",
            "\n",
            "Epoch 00024: accuracy did not improve from 0.74597\n",
            "Epoch 25/50\n",
            "44964/44964 [==============================] - 58s 1ms/step - loss: 0.6115 - accuracy: 0.7438 - val_loss: 0.7668 - val_accuracy: 0.6892\n",
            "\n",
            "Epoch 00025: accuracy did not improve from 0.74597\n",
            "Epoch 26/50\n",
            "44964/44964 [==============================] - 59s 1ms/step - loss: 0.6074 - accuracy: 0.7472 - val_loss: 0.7641 - val_accuracy: 0.7105\n",
            "\n",
            "Epoch 00026: accuracy improved from 0.74597 to 0.74718, saving model to /content/drive/My Drive/Models/Xception/weights-26-0.747.hdf5\n",
            "Epoch 27/50\n",
            "44964/44964 [==============================] - 60s 1ms/step - loss: 0.6055 - accuracy: 0.7462 - val_loss: 0.7446 - val_accuracy: 0.7016\n",
            "\n",
            "Epoch 00027: accuracy did not improve from 0.74718\n",
            "Epoch 28/50\n",
            "44964/44964 [==============================] - 59s 1ms/step - loss: 0.6051 - accuracy: 0.7458 - val_loss: 0.7747 - val_accuracy: 0.7010\n",
            "\n",
            "Epoch 00028: accuracy did not improve from 0.74718\n",
            "Epoch 29/50\n",
            "44964/44964 [==============================] - 59s 1ms/step - loss: 0.6059 - accuracy: 0.7457 - val_loss: 0.7506 - val_accuracy: 0.7001\n",
            "\n",
            "Epoch 00029: accuracy did not improve from 0.74718\n",
            "Epoch 30/50\n",
            "44964/44964 [==============================] - 59s 1ms/step - loss: 0.6131 - accuracy: 0.7443 - val_loss: 0.8252 - val_accuracy: 0.6956\n",
            "\n",
            "Epoch 00030: accuracy did not improve from 0.74718\n",
            "Epoch 31/50\n",
            "44964/44964 [==============================] - 59s 1ms/step - loss: 0.6115 - accuracy: 0.7430 - val_loss: 0.7329 - val_accuracy: 0.7020\n",
            "\n",
            "Epoch 00031: accuracy did not improve from 0.74718\n",
            "Epoch 32/50\n",
            "44964/44964 [==============================] - 59s 1ms/step - loss: 0.6012 - accuracy: 0.7481 - val_loss: 0.7321 - val_accuracy: 0.7100\n",
            "\n",
            "Epoch 00032: accuracy improved from 0.74718 to 0.74809, saving model to /content/drive/My Drive/Models/Xception/weights-32-0.748.hdf5\n",
            "Epoch 33/50\n",
            "44964/44964 [==============================] - 59s 1ms/step - loss: 0.5978 - accuracy: 0.7491 - val_loss: 0.7267 - val_accuracy: 0.7022\n",
            "\n",
            "Epoch 00033: accuracy improved from 0.74809 to 0.74911, saving model to /content/drive/My Drive/Models/Xception/weights-33-0.749.hdf5\n",
            "Epoch 34/50\n",
            "44964/44964 [==============================] - 58s 1ms/step - loss: 0.6004 - accuracy: 0.7486 - val_loss: 0.8656 - val_accuracy: 0.6571\n",
            "\n",
            "Epoch 00034: accuracy did not improve from 0.74911\n",
            "Epoch 35/50\n",
            "44964/44964 [==============================] - 59s 1ms/step - loss: 0.6960 - accuracy: 0.7177 - val_loss: 0.7511 - val_accuracy: 0.7039\n",
            "\n",
            "Epoch 00035: accuracy did not improve from 0.74911\n",
            "Epoch 36/50\n",
            "44964/44964 [==============================] - 59s 1ms/step - loss: 0.6240 - accuracy: 0.7429 - val_loss: 0.7856 - val_accuracy: 0.6796\n",
            "\n",
            "Epoch 00036: accuracy did not improve from 0.74911\n",
            "Epoch 37/50\n",
            "44964/44964 [==============================] - 60s 1ms/step - loss: 0.6000 - accuracy: 0.7490 - val_loss: 0.7848 - val_accuracy: 0.6998\n",
            "\n",
            "Epoch 00037: accuracy did not improve from 0.74911\n",
            "Epoch 38/50\n",
            "44964/44964 [==============================] - 60s 1ms/step - loss: 0.5965 - accuracy: 0.7497 - val_loss: 0.7961 - val_accuracy: 0.6572\n",
            "\n",
            "Epoch 00038: accuracy improved from 0.74911 to 0.74969, saving model to /content/drive/My Drive/Models/Xception/weights-38-0.750.hdf5\n",
            "Epoch 39/50\n",
            "44964/44964 [==============================] - 59s 1ms/step - loss: 0.5976 - accuracy: 0.7486 - val_loss: 0.7767 - val_accuracy: 0.6906\n",
            "\n",
            "Epoch 00039: accuracy did not improve from 0.74969\n",
            "Epoch 40/50\n",
            "44964/44964 [==============================] - 59s 1ms/step - loss: 0.5982 - accuracy: 0.7502 - val_loss: 0.7714 - val_accuracy: 0.7035\n",
            "\n",
            "Epoch 00040: accuracy improved from 0.74969 to 0.75018, saving model to /content/drive/My Drive/Models/Xception/weights-40-0.750.hdf5\n",
            "Epoch 41/50\n",
            "44964/44964 [==============================] - 59s 1ms/step - loss: 0.5957 - accuracy: 0.7515 - val_loss: 0.7471 - val_accuracy: 0.7090\n",
            "\n",
            "Epoch 00041: accuracy improved from 0.75018 to 0.75147, saving model to /content/drive/My Drive/Models/Xception/weights-41-0.751.hdf5\n",
            "Epoch 42/50\n",
            "44964/44964 [==============================] - 59s 1ms/step - loss: 0.5921 - accuracy: 0.7508 - val_loss: 0.7892 - val_accuracy: 0.7014\n",
            "\n",
            "Epoch 00042: accuracy did not improve from 0.75147\n",
            "Epoch 43/50\n",
            "44964/44964 [==============================] - 59s 1ms/step - loss: 0.5906 - accuracy: 0.7531 - val_loss: 0.7629 - val_accuracy: 0.7083\n",
            "\n",
            "Epoch 00043: accuracy improved from 0.75147 to 0.75309, saving model to /content/drive/My Drive/Models/Xception/weights-43-0.753.hdf5\n",
            "Epoch 44/50\n",
            "44964/44964 [==============================] - 60s 1ms/step - loss: 0.5902 - accuracy: 0.7529 - val_loss: 0.7864 - val_accuracy: 0.6584\n",
            "\n",
            "Epoch 00044: accuracy did not improve from 0.75309\n",
            "Epoch 45/50\n",
            "44964/44964 [==============================] - 59s 1ms/step - loss: 0.5887 - accuracy: 0.7534 - val_loss: 0.7531 - val_accuracy: 0.7062\n",
            "\n",
            "Epoch 00045: accuracy improved from 0.75309 to 0.75336, saving model to /content/drive/My Drive/Models/Xception/weights-45-0.753.hdf5\n",
            "Epoch 46/50\n",
            "44964/44964 [==============================] - 59s 1ms/step - loss: 0.5884 - accuracy: 0.7522 - val_loss: 0.7680 - val_accuracy: 0.6750\n",
            "\n",
            "Epoch 00046: accuracy did not improve from 0.75336\n",
            "Epoch 47/50\n",
            "44964/44964 [==============================] - 59s 1ms/step - loss: 0.5859 - accuracy: 0.7523 - val_loss: 0.7496 - val_accuracy: 0.7032\n",
            "\n",
            "Epoch 00047: accuracy did not improve from 0.75336\n",
            "Epoch 48/50\n",
            "44964/44964 [==============================] - 59s 1ms/step - loss: 0.5926 - accuracy: 0.7508 - val_loss: 0.7827 - val_accuracy: 0.7119\n",
            "\n",
            "Epoch 00048: accuracy did not improve from 0.75336\n",
            "Epoch 49/50\n",
            "44964/44964 [==============================] - 60s 1ms/step - loss: 0.5844 - accuracy: 0.7546 - val_loss: 0.7446 - val_accuracy: 0.6993\n",
            "\n",
            "Epoch 00049: accuracy improved from 0.75336 to 0.75456, saving model to /content/drive/My Drive/Models/Xception/weights-49-0.755.hdf5\n",
            "Epoch 50/50\n",
            "44964/44964 [==============================] - 59s 1ms/step - loss: 0.5857 - accuracy: 0.7523 - val_loss: 0.7864 - val_accuracy: 0.6644\n",
            "\n",
            "Epoch 00050: accuracy did not improve from 0.75456\n"
          ],
          "name": "stdout"
        },
        {
          "output_type": "execute_result",
          "data": {
            "text/plain": [
              "<keras.callbacks.callbacks.History at 0x7ff9abda88d0>"
            ]
          },
          "metadata": {
            "tags": []
          },
          "execution_count": 17
        }
      ]
    },
    {
      "cell_type": "code",
      "metadata": {
        "id": "ecZ2MRayqf_v",
        "colab_type": "code",
        "colab": {}
      },
      "source": [
        "import json\n",
        "history_dict = model_Saved.history.history\n",
        "json.dump(str(history_dict), open('/content/drive/My Drive/Models/Xception/History/Xception_History1.json', 'w'))"
      ],
      "execution_count": null,
      "outputs": []
    },
    {
      "cell_type": "code",
      "metadata": {
        "id": "d8nXxvHzVxb5",
        "colab_type": "code",
        "colab": {}
      },
      "source": [
        "acc = model_Saved.history.history['accuracy']\n",
        "val_accuracy = model_Saved.history.history['val_accuracy']\n",
        "loss  =  model_Saved.history.history['loss']\n",
        "val_loss = model_Saved.history.history['val_loss']"
      ],
      "execution_count": null,
      "outputs": []
    },
    {
      "cell_type": "code",
      "metadata": {
        "id": "XDnlMkVO3JyB",
        "colab_type": "code",
        "colab": {
          "base_uri": "https://localhost:8080/",
          "height": 545
        },
        "outputId": "f239d882-4d7b-4458-88e2-1775a88e070e"
      },
      "source": [
        "support.GenerateGraphs(acc,val_accuracy,loss,val_loss)"
      ],
      "execution_count": null,
      "outputs": [
        {
          "output_type": "display_data",
          "data": {
            "image/png": "[encoded data removed]",
            "text/plain": [
              "<Figure size 432x288 with 1 Axes>"
            ]
          },
          "metadata": {
            "tags": [],
            "needs_background": "light"
          }
        },
        {
          "output_type": "display_data",
          "data": {
            "image/png": "[encoded data removed]",
            "text/plain": [
              "<Figure size 432x288 with 1 Axes>"
            ]
          },
          "metadata": {
            "tags": [],
            "needs_background": "light"
          }
        }
      ]
    },
    {
      "cell_type": "code",
      "metadata": {
        "id": "K11TwLg-5iLv",
        "colab_type": "code",
        "colab": {
          "base_uri": "https://localhost:8080/",
          "height": 101
        },
        "outputId": "999cdfb5-9708-412f-d6bd-25605238ce05"
      },
      "source": [
        "support.PrintMetrics(testX_Pred,testY_Pred,model_Saved)"
      ],
      "execution_count": null,
      "outputs": [
        {
          "output_type": "stream",
          "text": [
            "Accuracy: 0.664443\n",
            "Precision: 0.676403\n",
            "Recall: 0.658654\n",
            "F1 score: 0.665604\n",
            "Cohens kappa: 0.502655\n"
          ],
          "name": "stdout"
        }
      ]
    }
  ]
}