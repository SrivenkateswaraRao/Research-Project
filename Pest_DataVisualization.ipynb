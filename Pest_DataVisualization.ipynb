{
  "nbformat": 4,
  "nbformat_minor": 0,
  "metadata": {
    "colab": {
      "name": "Pest_DataVisualization.ipynb",
      "provenance": [],
      "collapsed_sections": [],
      "machine_shape": "hm",
      "include_colab_link": true
    },
    "kernelspec": {
      "name": "python3",
      "display_name": "Python 3"
    },
    "accelerator": "TPU"
  },
  "cells": [
    {
      "cell_type": "markdown",
      "metadata": {
        "id": "view-in-github",
        "colab_type": "text"
      },
      "source": [
        "<a href=\"https://colab.research.google.com/github/SrivenkateswaraRao/Research-Project/blob/master/Pest_DataVisualization.ipynb\" target=\"_parent\"><img src=\"https://colab.research.google.com/assets/colab-badge.svg\" alt=\"Open In Colab\"/></a>"
      ]
    },
    {
      "cell_type": "code",
      "metadata": {
        "id": "8qEGjvudQQfq",
        "colab_type": "code",
        "colab": {
          "base_uri": "https://localhost:8080/",
          "height": 225
        },
        "outputId": "f1f0379d-c26b-4c7e-fa7a-b29bb60cc78c"
      },
      "source": [
        "import pandas as pd \n",
        "  \n",
        "# initialize list of lists \n",
        "data = [['VGG16', 0.95, 0.65], ['VGG19', 0.71,0.70], ['Inception V3', 0.75, 0.70],['ResNet50', 0.71, 0.68],['Xception ', 0.75, 0.66],['CNN from scratch', 0.85, 0.61]] \n",
        "  \n",
        "# Create the pandas DataFrame \n",
        "df = pd.DataFrame(data, columns = ['Model', 'Training Accuracy','Validation Accuracy']) \n",
        "  \n",
        "# print dataframe. \n",
        "df "
      ],
      "execution_count": null,
      "outputs": [
        {
          "output_type": "execute_result",
          "data": {
            "text/html": [
              "<div>\n",
              "<style scoped>\n",
              "    .dataframe tbody tr th:only-of-type {\n",
              "        vertical-align: middle;\n",
              "    }\n",
              "\n",
              "    .dataframe tbody tr th {\n",
              "        vertical-align: top;\n",
              "    }\n",
              "\n",
              "    .dataframe thead th {\n",
              "        text-align: right;\n",
              "    }\n",
              "</style>\n",
              "<table border=\"1\" class=\"dataframe\">\n",
              "  <thead>\n",
              "    <tr style=\"text-align: right;\">\n",
              "      <th></th>\n",
              "      <th>Model</th>\n",
              "      <th>Training Accuracy</th>\n",
              "      <th>Validation Accuracy</th>\n",
              "    </tr>\n",
              "  </thead>\n",
              "  <tbody>\n",
              "    <tr>\n",
              "      <th>0</th>\n",
              "      <td>VGG16</td>\n",
              "      <td>0.95</td>\n",
              "      <td>0.65</td>\n",
              "    </tr>\n",
              "    <tr>\n",
              "      <th>1</th>\n",
              "      <td>VGG19</td>\n",
              "      <td>0.71</td>\n",
              "      <td>0.70</td>\n",
              "    </tr>\n",
              "    <tr>\n",
              "      <th>2</th>\n",
              "      <td>Inception V3</td>\n",
              "      <td>0.75</td>\n",
              "      <td>0.70</td>\n",
              "    </tr>\n",
              "    <tr>\n",
              "      <th>3</th>\n",
              "      <td>ResNet50</td>\n",
              "      <td>0.71</td>\n",
              "      <td>0.68</td>\n",
              "    </tr>\n",
              "    <tr>\n",
              "      <th>4</th>\n",
              "      <td>Xception</td>\n",
              "      <td>0.75</td>\n",
              "      <td>0.66</td>\n",
              "    </tr>\n",
              "    <tr>\n",
              "      <th>5</th>\n",
              "      <td>CNN from scratch</td>\n",
              "      <td>0.85</td>\n",
              "      <td>0.61</td>\n",
              "    </tr>\n",
              "  </tbody>\n",
              "</table>\n",
              "</div>"
            ],
            "text/plain": [
              "              Model  Training Accuracy  Validation Accuracy\n",
              "0             VGG16               0.95                 0.65\n",
              "1             VGG19               0.71                 0.70\n",
              "2      Inception V3               0.75                 0.70\n",
              "3          ResNet50               0.71                 0.68\n",
              "4         Xception                0.75                 0.66\n",
              "5  CNN from scratch               0.85                 0.61"
            ]
          },
          "metadata": {
            "tags": []
          },
          "execution_count": 2
        }
      ]
    },
    {
      "cell_type": "code",
      "metadata": {
        "id": "9PeirpdrePK3",
        "colab_type": "code",
        "colab": {
          "base_uri": "https://localhost:8080/",
          "height": 279
        },
        "outputId": "48630d31-4edd-471e-c245-93589e272116"
      },
      "source": [
        "import seaborn as sns\n",
        "import pandas as pd\n",
        "import numpy as np\n",
        "\n",
        "\n",
        "valor_ano = pd.DataFrame({'Model':['VGG16', 'VGG19'\t, 'InceptionV3'\t, 'ResNet50', 'Xception', 'CNN-Scratch'\t], \n",
        "                         'Training Accuracy':[0.95, 0.71, 0.75, 0.71, 0.75 , 0.61]})\n",
        "\n",
        "\n",
        "\n",
        "valor_plot = sns.barplot(\n",
        "    data= valor_ano,\n",
        "    x= 'Model',\n",
        "    y= 'Training Accuracy',\n",
        "    ci = None,\n",
        "     )"
      ],
      "execution_count": null,
      "outputs": [
        {
          "output_type": "display_data",
          "data": {
            "image/png": "[encoded data removed]",
            "text/plain": [
              "<Figure size 432x288 with 1 Axes>"
            ]
          },
          "metadata": {
            "tags": [],
            "needs_background": "light"
          }
        }
      ]
    },
    {
      "cell_type": "code",
      "metadata": {
        "id": "o1Tpz5oKmzU7",
        "colab_type": "code",
        "colab": {}
      },
      "source": [
        ""
      ],
      "execution_count": null,
      "outputs": []
    },
    {
      "cell_type": "code",
      "metadata": {
        "id": "UsAGC7i0m1D3",
        "colab_type": "code",
        "colab": {
          "base_uri": "https://localhost:8080/",
          "height": 279
        },
        "outputId": "38b3931f-4075-4ba1-ffc9-ac09524213b4"
      },
      "source": [
        "\n",
        "\n",
        "\n",
        "valor_ano = pd.DataFrame({'Model':['VGG16', 'VGG19'\t, 'InceptionV3'\t, 'ResNet50', 'Xception', 'CNN-Scratch'\t], \n",
        "                         'Validation Accuracy':[0.65, 0.70, 0.70, 0.68, 0.66 , 0.61]})\n",
        "\n",
        "\n",
        "\n",
        "valor_plot = sns.barplot(\n",
        "    data= valor_ano,\n",
        "    x= 'Model',\n",
        "    y= 'Validation Accuracy',\n",
        "    ci = None,\n",
        "     )"
      ],
      "execution_count": null,
      "outputs": [
        {
          "output_type": "display_data",
          "data": {
            "image/png": "[encoded data removed]",
            "text/plain": [
              "<Figure size 432x288 with 1 Axes>"
            ]
          },
          "metadata": {
            "tags": [],
            "needs_background": "light"
          }
        }
      ]
    }
  ]
}