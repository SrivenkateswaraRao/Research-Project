{
  "nbformat": 4,
  "nbformat_minor": 0,
  "metadata": {
    "colab": {
      "name": "Pest_Classifier_VGG16.ipynb",
      "provenance": [],
      "collapsed_sections": [],
      "machine_shape": "hm",
      "include_colab_link": true
    },
    "kernelspec": {
      "name": "python3",
      "display_name": "Python 3"
    },
    "accelerator": "TPU"
  },
  "cells": [
    {
      "cell_type": "markdown",
      "metadata": {
        "id": "view-in-github",
        "colab_type": "text"
      },
      "source": [
        "<a href=\"https://colab.research.google.com/github/SrivenkateswaraRao/Research-Project/blob/master/Pest_Classifier_VGG16.ipynb\" target=\"_parent\"><img src=\"https://colab.research.google.com/assets/colab-badge.svg\" alt=\"Open In Colab\"/></a>"
      ]
    },
    {
      "cell_type": "code",
      "metadata": {
        "id": "vRXTdQDVKS6v",
        "colab_type": "code",
        "colab": {}
      },
      "source": [
        "import os\n",
        "from os import listdir\n",
        "from pydrive.auth import GoogleAuth\n",
        "from pydrive.drive import GoogleDrive\n",
        "from google.colab import auth\n",
        "from oauth2client.client import GoogleCredentials\n",
        "import numpy as np"
      ],
      "execution_count": null,
      "outputs": []
    },
    {
      "cell_type": "code",
      "metadata": {
        "id": "_zf7iSxzKaf0",
        "colab_type": "code",
        "colab": {}
      },
      "source": [
        "auth.authenticate_user()\n",
        "gauth = GoogleAuth()\n",
        "gauth.credentials = GoogleCredentials.get_application_default()\n",
        "drive = GoogleDrive(gauth)"
      ],
      "execution_count": null,
      "outputs": []
    },
    {
      "cell_type": "code",
      "metadata": {
        "id": "LCOxaKCJKzA0",
        "colab_type": "code",
        "colab": {}
      },
      "source": [
        "from google.colab import files\n",
        "files.upload() "
      ],
      "execution_count": null,
      "outputs": []
    },
    {
      "cell_type": "code",
      "metadata": {
        "id": "dbxnI4zrLATr",
        "colab_type": "code",
        "colab": {}
      },
      "source": [
        "import CreatePestImageData as Imagedataset\n",
        "import SupportingFunctions as support"
      ],
      "execution_count": null,
      "outputs": []
    },
    {
      "cell_type": "code",
      "metadata": {
        "id": "MsX9B9gWLClk",
        "colab_type": "code",
        "colab": {}
      },
      "source": [
        "support.DownLoadFiles('1aXb25Wp9sG7mL6AQgYY9ElrGcERi95JU',drive)"
      ],
      "execution_count": null,
      "outputs": []
    },
    {
      "cell_type": "code",
      "metadata": {
        "id": "HP63yquZOxes",
        "colab_type": "code",
        "colab": {}
      },
      "source": [
        "support.Unzip('/content/GREENPATROL_DB_V3.0.zip','/content/Pests/Images')"
      ],
      "execution_count": null,
      "outputs": []
    },
    {
      "cell_type": "code",
      "metadata": {
        "id": "FjdLhsa-PhAM",
        "colab_type": "code",
        "colab": {}
      },
      "source": [
        "support.fileCount('/content/Pests/Images')"
      ],
      "execution_count": null,
      "outputs": []
    },
    {
      "cell_type": "code",
      "metadata": {
        "id": "o9VJCEpZJ6TH",
        "colab_type": "code",
        "colab": {}
      },
      "source": [
        "dataSet = Imagedataset.createImageDataset()"
      ],
      "execution_count": null,
      "outputs": []
    },
    {
      "cell_type": "code",
      "metadata": {
        "id": "kJc_EiuuQB17",
        "colab_type": "code",
        "colab": {}
      },
      "source": [
        "class_object = {0 : 'egg_wf' ,\n",
        "                1 : 'egg_bt', 2 : 'egg_ta', 3 : 'wf', 4 : 'bt', 5 : 'tomato'}"
      ],
      "execution_count": null,
      "outputs": []
    },
    {
      "cell_type": "code",
      "metadata": {
        "id": "YQ4yg8zaQEmb",
        "colab_type": "code",
        "colab": {}
      },
      "source": [
        "dataSet.prepare_dataset('/content/Pests/Labels' , class_object ,32, '/content/Pests/Images',  test_size=11241 )"
      ],
      "execution_count": null,
      "outputs": []
    },
    {
      "cell_type": "code",
      "metadata": {
        "id": "rtF-jfjvR3Kr",
        "colab_type": "code",
        "colab": {}
      },
      "source": [
        "(trainY , trainX) , (testY , testX ) = (dataSet.trainY , dataSet.trainX ) , (dataSet.testY , dataSet.testX )\n"
      ],
      "execution_count": null,
      "outputs": []
    },
    {
      "cell_type": "code",
      "metadata": {
        "id": "4UTX-U4UvyFV",
        "colab_type": "code",
        "colab": {}
      },
      "source": [
        "from keras.models import Model\n",
        "from keras.layers import Dense\n",
        "from keras.layers import Flatten\n",
        "import tensorflow as tf"
      ],
      "execution_count": null,
      "outputs": []
    },
    {
      "cell_type": "code",
      "metadata": {
        "id": "N542LWKKcCMy",
        "colab_type": "code",
        "colab": {}
      },
      "source": [
        "from keras import backend as K\n",
        "if K.image_data_format() == 'channels_first':\n",
        "   input_shape = [3, 32, 32]\n",
        "else:\n",
        "   input_shape = [32, 32, 3]"
      ],
      "execution_count": null,
      "outputs": []
    },
    {
      "cell_type": "code",
      "metadata": {
        "id": "nveqACGYblLa",
        "colab_type": "code",
        "colab": {
          "base_uri": "https://localhost:8080/",
          "height": 857
        },
        "outputId": "05ab3dc5-2ef1-4778-bb70-9a70c82e9c0f"
      },
      "source": [
        "import tensorflow as tf\n",
        "from keras import models\n",
        "from keras.applications.vgg16 import VGG16\n",
        "vgg16 = VGG16(input_shape=input_shape, include_top=False, pooling='avg',weights='imagenet')\n",
        "vgg16.summary()"
      ],
      "execution_count": null,
      "outputs": [
        {
          "output_type": "stream",
          "text": [
            "Downloading data from https://github.com/fchollet/deep-learning-models/releases/download/v0.1/vgg16_weights_tf_dim_ordering_tf_kernels_notop.h5\n",
            "58892288/58889256 [==============================] - 10s 0us/step\n",
            "Model: \"vgg16\"\n",
            "_________________________________________________________________\n",
            "Layer (type)                 Output Shape              Param #   \n",
            "=================================================================\n",
            "input_1 (InputLayer)         (None, 32, 32, 3)         0         \n",
            "_________________________________________________________________\n",
            "block1_conv1 (Conv2D)        (None, 32, 32, 64)        1792      \n",
            "_________________________________________________________________\n",
            "block1_conv2 (Conv2D)        (None, 32, 32, 64)        36928     \n",
            "_________________________________________________________________\n",
            "block1_pool (MaxPooling2D)   (None, 16, 16, 64)        0         \n",
            "_________________________________________________________________\n",
            "block2_conv1 (Conv2D)        (None, 16, 16, 128)       73856     \n",
            "_________________________________________________________________\n",
            "block2_conv2 (Conv2D)        (None, 16, 16, 128)       147584    \n",
            "_________________________________________________________________\n",
            "block2_pool (MaxPooling2D)   (None, 8, 8, 128)         0         \n",
            "_________________________________________________________________\n",
            "block3_conv1 (Conv2D)        (None, 8, 8, 256)         295168    \n",
            "_________________________________________________________________\n",
            "block3_conv2 (Conv2D)        (None, 8, 8, 256)         590080    \n",
            "_________________________________________________________________\n",
            "block3_conv3 (Conv2D)        (None, 8, 8, 256)         590080    \n",
            "_________________________________________________________________\n",
            "block3_pool (MaxPooling2D)   (None, 4, 4, 256)         0         \n",
            "_________________________________________________________________\n",
            "block4_conv1 (Conv2D)        (None, 4, 4, 512)         1180160   \n",
            "_________________________________________________________________\n",
            "block4_conv2 (Conv2D)        (None, 4, 4, 512)         2359808   \n",
            "_________________________________________________________________\n",
            "block4_conv3 (Conv2D)        (None, 4, 4, 512)         2359808   \n",
            "_________________________________________________________________\n",
            "block4_pool (MaxPooling2D)   (None, 2, 2, 512)         0         \n",
            "_________________________________________________________________\n",
            "block5_conv1 (Conv2D)        (None, 2, 2, 512)         2359808   \n",
            "_________________________________________________________________\n",
            "block5_conv2 (Conv2D)        (None, 2, 2, 512)         2359808   \n",
            "_________________________________________________________________\n",
            "block5_conv3 (Conv2D)        (None, 2, 2, 512)         2359808   \n",
            "_________________________________________________________________\n",
            "block5_pool (MaxPooling2D)   (None, 1, 1, 512)         0         \n",
            "_________________________________________________________________\n",
            "global_average_pooling2d_1 ( (None, 512)               0         \n",
            "=================================================================\n",
            "Total params: 14,714,688\n",
            "Trainable params: 14,714,688\n",
            "Non-trainable params: 0\n",
            "_________________________________________________________________\n"
          ],
          "name": "stdout"
        }
      ]
    },
    {
      "cell_type": "code",
      "metadata": {
        "id": "xfFIwthrbvNB",
        "colab_type": "code",
        "colab": {
          "base_uri": "https://localhost:8080/",
          "height": 386
        },
        "outputId": "c807cd14-a4d2-4269-eb8a-13299b688766"
      },
      "source": [
        "from keras.models import Model\n",
        "layerName = 'block2_pool'\n",
        "mymodel = Model(inputs= vgg16.input , outputs=vgg16.get_layer(layerName).output)\n",
        "mymodel.summary()"
      ],
      "execution_count": null,
      "outputs": [
        {
          "output_type": "stream",
          "text": [
            "Model: \"model_1\"\n",
            "_________________________________________________________________\n",
            "Layer (type)                 Output Shape              Param #   \n",
            "=================================================================\n",
            "input_1 (InputLayer)         (None, 32, 32, 3)         0         \n",
            "_________________________________________________________________\n",
            "block1_conv1 (Conv2D)        (None, 32, 32, 64)        1792      \n",
            "_________________________________________________________________\n",
            "block1_conv2 (Conv2D)        (None, 32, 32, 64)        36928     \n",
            "_________________________________________________________________\n",
            "block1_pool (MaxPooling2D)   (None, 16, 16, 64)        0         \n",
            "_________________________________________________________________\n",
            "block2_conv1 (Conv2D)        (None, 16, 16, 128)       73856     \n",
            "_________________________________________________________________\n",
            "block2_conv2 (Conv2D)        (None, 16, 16, 128)       147584    \n",
            "_________________________________________________________________\n",
            "block2_pool (MaxPooling2D)   (None, 8, 8, 128)         0         \n",
            "=================================================================\n",
            "Total params: 260,160\n",
            "Trainable params: 260,160\n",
            "Non-trainable params: 0\n",
            "_________________________________________________________________\n"
          ],
          "name": "stdout"
        }
      ]
    },
    {
      "cell_type": "code",
      "metadata": {
        "id": "aQG9aEyzb10a",
        "colab_type": "code",
        "colab": {}
      },
      "source": [
        "from keras import applications\n",
        "from keras.models import Model\n",
        "from keras.layers import Conv2D, MaxPooling2D, GlobalAveragePooling2D\n",
        "from keras.layers import Dense, Dropout, Activation, Flatten\n",
        "from keras.layers.normalization import BatchNormalization\n",
        "import matplotlib.pyplot as plt"
      ],
      "execution_count": null,
      "outputs": []
    },
    {
      "cell_type": "code",
      "metadata": {
        "id": "OXeiKCTyb7VK",
        "colab_type": "code",
        "colab": {}
      },
      "source": [
        "model= models.Sequential()\n",
        "model.add(mymodel)\n",
        "model.add(Conv2D(16, (3, 3), activation='relu', padding='same'))\n",
        "model.add(MaxPooling2D(pool_size=(2, 2)))\n",
        "model.add(Conv2D(32, (3, 3), activation='relu', padding='same'))\n",
        "model.add(MaxPooling2D(pool_size=(2, 2)))\n",
        "model.add(GlobalAveragePooling2D())\n",
        "model.add(Dense(64, activation='relu'))\n",
        "model.add(BatchNormalization())\n",
        "model.add(Dense(6, activation='softmax'))\n",
        "model.layers[0].trainable = True\n",
        "\n",
        "# compile the model\n",
        "model.compile(optimizer='adam',\n",
        "              loss='categorical_crossentropy',\n",
        "              metrics=['accuracy'])"
      ],
      "execution_count": null,
      "outputs": []
    },
    {
      "cell_type": "code",
      "metadata": {
        "id": "bV8ZkmwKcETB",
        "colab_type": "code",
        "colab": {
          "base_uri": "https://localhost:8080/",
          "height": 454
        },
        "outputId": "4322b9c3-a6cd-48f4-93cc-bc4dd900b5c4"
      },
      "source": [
        "model.summary()"
      ],
      "execution_count": null,
      "outputs": [
        {
          "output_type": "stream",
          "text": [
            "Model: \"sequential_2\"\n",
            "_________________________________________________________________\n",
            "Layer (type)                 Output Shape              Param #   \n",
            "=================================================================\n",
            "model_1 (Model)              (None, 8, 8, 128)         260160    \n",
            "_________________________________________________________________\n",
            "conv2d_3 (Conv2D)            (None, 8, 8, 16)          18448     \n",
            "_________________________________________________________________\n",
            "max_pooling2d_3 (MaxPooling2 (None, 4, 4, 16)          0         \n",
            "_________________________________________________________________\n",
            "conv2d_4 (Conv2D)            (None, 4, 4, 32)          4640      \n",
            "_________________________________________________________________\n",
            "max_pooling2d_4 (MaxPooling2 (None, 2, 2, 32)          0         \n",
            "_________________________________________________________________\n",
            "global_average_pooling2d_3 ( (None, 32)                0         \n",
            "_________________________________________________________________\n",
            "dense_3 (Dense)              (None, 64)                2112      \n",
            "_________________________________________________________________\n",
            "batch_normalization_2 (Batch (None, 64)                256       \n",
            "_________________________________________________________________\n",
            "dense_4 (Dense)              (None, 6)                 390       \n",
            "=================================================================\n",
            "Total params: 286,006\n",
            "Trainable params: 285,878\n",
            "Non-trainable params: 128\n",
            "_________________________________________________________________\n"
          ],
          "name": "stdout"
        }
      ]
    },
    {
      "cell_type": "code",
      "metadata": {
        "id": "9lqwou8uGhJw",
        "colab_type": "code",
        "colab": {}
      },
      "source": [
        "from tensorflow.keras.utils import to_categorical\n",
        "trainY = to_categorical(trainY)\n",
        "testY = to_categorical(testY)"
      ],
      "execution_count": null,
      "outputs": []
    },
    {
      "cell_type": "code",
      "metadata": {
        "id": "CW_Lotmj0Hul",
        "colab_type": "code",
        "colab": {}
      },
      "source": [
        "filepath=\"/content/drive/My Drive/Models/VGG16/weights-{epoch:02d}-{accuracy:.3f}.hdf5\"\n",
        "from keras.callbacks import ModelCheckpoint\n",
        "checkpoint = ModelCheckpoint(filepath, monitor='accuracy',\n",
        "                               verbose=1, mode='max',save_best_only=True)\n",
        "\n",
        "callbacks_list = [checkpoint]"
      ],
      "execution_count": null,
      "outputs": []
    },
    {
      "cell_type": "code",
      "metadata": {
        "id": "VbdKKFVzNOLX",
        "colab_type": "code",
        "colab": {}
      },
      "source": [
        "tf.config.experimental_run_functions_eagerly(True)\n"
      ],
      "execution_count": null,
      "outputs": []
    },
    {
      "cell_type": "code",
      "metadata": {
        "id": "lIgG5ReV9Lqg",
        "colab_type": "code",
        "colab": {
          "base_uri": "https://localhost:8080/",
          "height": 1000
        },
        "outputId": "e7dd8f9c-40d5-4636-efb2-f5f2feb75f61"
      },
      "source": [
        "model.fit(trainX,trainY,verbose=1,epochs=50,validation_data=(testX,testY),callbacks=[checkpoint])"
      ],
      "execution_count": null,
      "outputs": [
        {
          "output_type": "stream",
          "text": [
            "Train on 44964 samples, validate on 11241 samples\n",
            "Epoch 1/50\n",
            "44964/44964 [==============================] - 82s 2ms/step - loss: 0.9439 - accuracy: 0.6295 - val_loss: 0.8672 - val_accuracy: 0.6528\n",
            "\n",
            "Epoch 00001: accuracy improved from -inf to 0.62946, saving model to /content/drive/My Drive/Models/VGG16/weights-01-0.629.hdf5\n",
            "Epoch 2/50\n",
            "44964/44964 [==============================] - 82s 2ms/step - loss: 0.8316 - accuracy: 0.6673 - val_loss: 0.7858 - val_accuracy: 0.6950\n",
            "\n",
            "Epoch 00002: accuracy improved from 0.62946 to 0.66727, saving model to /content/drive/My Drive/Models/VGG16/weights-02-0.667.hdf5\n",
            "Epoch 3/50\n",
            "44964/44964 [==============================] - 83s 2ms/step - loss: 0.7883 - accuracy: 0.6839 - val_loss: 1.1723 - val_accuracy: 0.5490\n",
            "\n",
            "Epoch 00003: accuracy improved from 0.66727 to 0.68388, saving model to /content/drive/My Drive/Models/VGG16/weights-03-0.684.hdf5\n",
            "Epoch 4/50\n",
            "44964/44964 [==============================] - 83s 2ms/step - loss: 0.7763 - accuracy: 0.6892 - val_loss: 1.3751 - val_accuracy: 0.6165\n",
            "\n",
            "Epoch 00004: accuracy improved from 0.68388 to 0.68915, saving model to /content/drive/My Drive/Models/VGG16/weights-04-0.689.hdf5\n",
            "Epoch 5/50\n",
            "44964/44964 [==============================] - 82s 2ms/step - loss: 0.7630 - accuracy: 0.6955 - val_loss: 2.0628 - val_accuracy: 0.3799\n",
            "\n",
            "Epoch 00005: accuracy improved from 0.68915 to 0.69547, saving model to /content/drive/My Drive/Models/VGG16/weights-05-0.695.hdf5\n",
            "Epoch 6/50\n",
            "44964/44964 [==============================] - 83s 2ms/step - loss: 0.7530 - accuracy: 0.7020 - val_loss: 0.7450 - val_accuracy: 0.7043\n",
            "\n",
            "Epoch 00006: accuracy improved from 0.69547 to 0.70198, saving model to /content/drive/My Drive/Models/VGG16/weights-06-0.702.hdf5\n",
            "Epoch 7/50\n",
            "44964/44964 [==============================] - 83s 2ms/step - loss: 0.7339 - accuracy: 0.7084 - val_loss: 0.7193 - val_accuracy: 0.7150\n",
            "\n",
            "Epoch 00007: accuracy improved from 0.70198 to 0.70841, saving model to /content/drive/My Drive/Models/VGG16/weights-07-0.708.hdf5\n",
            "Epoch 8/50\n",
            "44964/44964 [==============================] - 81s 2ms/step - loss: 0.7064 - accuracy: 0.7177 - val_loss: 0.7397 - val_accuracy: 0.7073\n",
            "\n",
            "Epoch 00008: accuracy improved from 0.70841 to 0.71771, saving model to /content/drive/My Drive/Models/VGG16/weights-08-0.718.hdf5\n",
            "Epoch 9/50\n",
            "44964/44964 [==============================] - 82s 2ms/step - loss: 0.7623 - accuracy: 0.6974 - val_loss: 0.7434 - val_accuracy: 0.7121\n",
            "\n",
            "Epoch 00009: accuracy did not improve from 0.71771\n",
            "Epoch 10/50\n",
            "44964/44964 [==============================] - 82s 2ms/step - loss: 0.7040 - accuracy: 0.7197 - val_loss: 0.7219 - val_accuracy: 0.7165\n",
            "\n",
            "Epoch 00010: accuracy improved from 0.71771 to 0.71966, saving model to /content/drive/My Drive/Models/VGG16/weights-10-0.720.hdf5\n",
            "Epoch 11/50\n",
            "44964/44964 [==============================] - 83s 2ms/step - loss: 0.6841 - accuracy: 0.7266 - val_loss: 0.8424 - val_accuracy: 0.7068\n",
            "\n",
            "Epoch 00011: accuracy improved from 0.71966 to 0.72663, saving model to /content/drive/My Drive/Models/VGG16/weights-11-0.727.hdf5\n",
            "Epoch 12/50\n",
            "44964/44964 [==============================] - 82s 2ms/step - loss: 0.6714 - accuracy: 0.7311 - val_loss: 0.7248 - val_accuracy: 0.7171\n",
            "\n",
            "Epoch 00012: accuracy improved from 0.72663 to 0.73114, saving model to /content/drive/My Drive/Models/VGG16/weights-12-0.731.hdf5\n",
            "Epoch 13/50\n",
            "44964/44964 [==============================] - 82s 2ms/step - loss: 0.6559 - accuracy: 0.7359 - val_loss: 3.8077 - val_accuracy: 0.7047\n",
            "\n",
            "Epoch 00013: accuracy improved from 0.73114 to 0.73594, saving model to /content/drive/My Drive/Models/VGG16/weights-13-0.736.hdf5\n",
            "Epoch 14/50\n",
            "44964/44964 [==============================] - 82s 2ms/step - loss: 0.6798 - accuracy: 0.7293 - val_loss: 0.7729 - val_accuracy: 0.6953\n",
            "\n",
            "Epoch 00014: accuracy did not improve from 0.73594\n",
            "Epoch 15/50\n",
            "44964/44964 [==============================] - 82s 2ms/step - loss: 0.6863 - accuracy: 0.7252 - val_loss: 3.0940 - val_accuracy: 0.6942\n",
            "\n",
            "Epoch 00015: accuracy did not improve from 0.73594\n",
            "Epoch 16/50\n",
            "44964/44964 [==============================] - 82s 2ms/step - loss: 0.6833 - accuracy: 0.7288 - val_loss: 3.8762 - val_accuracy: 0.6974\n",
            "\n",
            "Epoch 00016: accuracy did not improve from 0.73594\n",
            "Epoch 17/50\n",
            "44964/44964 [==============================] - 83s 2ms/step - loss: 0.6345 - accuracy: 0.7435 - val_loss: 1.1382 - val_accuracy: 0.7218\n",
            "\n",
            "Epoch 00017: accuracy improved from 0.73594 to 0.74348, saving model to /content/drive/My Drive/Models/VGG16/weights-17-0.743.hdf5\n",
            "Epoch 18/50\n",
            "44964/44964 [==============================] - 84s 2ms/step - loss: 0.6175 - accuracy: 0.7502 - val_loss: 0.7326 - val_accuracy: 0.7145\n",
            "\n",
            "Epoch 00018: accuracy improved from 0.74348 to 0.75016, saving model to /content/drive/My Drive/Models/VGG16/weights-18-0.750.hdf5\n",
            "Epoch 19/50\n",
            "44964/44964 [==============================] - 83s 2ms/step - loss: 0.5978 - accuracy: 0.7574 - val_loss: 0.7564 - val_accuracy: 0.7164\n",
            "\n",
            "Epoch 00019: accuracy improved from 0.75016 to 0.75743, saving model to /content/drive/My Drive/Models/VGG16/weights-19-0.757.hdf5\n",
            "Epoch 20/50\n",
            "44964/44964 [==============================] - 83s 2ms/step - loss: 0.5795 - accuracy: 0.7631 - val_loss: 0.7508 - val_accuracy: 0.6987\n",
            "\n",
            "Epoch 00020: accuracy improved from 0.75743 to 0.76310, saving model to /content/drive/My Drive/Models/VGG16/weights-20-0.763.hdf5\n",
            "Epoch 21/50\n",
            "44964/44964 [==============================] - 83s 2ms/step - loss: 0.5989 - accuracy: 0.7556 - val_loss: 0.7670 - val_accuracy: 0.7035\n",
            "\n",
            "Epoch 00021: accuracy did not improve from 0.76310\n",
            "Epoch 22/50\n",
            "44964/44964 [==============================] - 85s 2ms/step - loss: 0.5717 - accuracy: 0.7636 - val_loss: 0.8013 - val_accuracy: 0.7136\n",
            "\n",
            "Epoch 00022: accuracy improved from 0.76310 to 0.76363, saving model to /content/drive/My Drive/Models/VGG16/weights-22-0.764.hdf5\n",
            "Epoch 23/50\n",
            "44964/44964 [==============================] - 84s 2ms/step - loss: 0.5249 - accuracy: 0.7818 - val_loss: 0.8066 - val_accuracy: 0.7044\n",
            "\n",
            "Epoch 00023: accuracy improved from 0.76363 to 0.78183, saving model to /content/drive/My Drive/Models/VGG16/weights-23-0.782.hdf5\n",
            "Epoch 24/50\n",
            "44964/44964 [==============================] - 84s 2ms/step - loss: 0.5052 - accuracy: 0.7886 - val_loss: 0.7952 - val_accuracy: 0.7067\n",
            "\n",
            "Epoch 00024: accuracy improved from 0.78183 to 0.78856, saving model to /content/drive/My Drive/Models/VGG16/weights-24-0.789.hdf5\n",
            "Epoch 25/50\n",
            "44964/44964 [==============================] - 84s 2ms/step - loss: 0.4806 - accuracy: 0.8024 - val_loss: 0.8842 - val_accuracy: 0.7079\n",
            "\n",
            "Epoch 00025: accuracy improved from 0.78856 to 0.80235, saving model to /content/drive/My Drive/Models/VGG16/weights-25-0.802.hdf5\n",
            "Epoch 26/50\n",
            "44964/44964 [==============================] - 86s 2ms/step - loss: 0.4514 - accuracy: 0.8121 - val_loss: 0.8698 - val_accuracy: 0.6674\n",
            "\n",
            "Epoch 00026: accuracy improved from 0.80235 to 0.81209, saving model to /content/drive/My Drive/Models/VGG16/weights-26-0.812.hdf5\n",
            "Epoch 27/50\n",
            "44964/44964 [==============================] - 84s 2ms/step - loss: 0.4287 - accuracy: 0.8234 - val_loss: 0.8755 - val_accuracy: 0.7082\n",
            "\n",
            "Epoch 00027: accuracy improved from 0.81209 to 0.82344, saving model to /content/drive/My Drive/Models/VGG16/weights-27-0.823.hdf5\n",
            "Epoch 28/50\n",
            "44964/44964 [==============================] - 84s 2ms/step - loss: 0.4040 - accuracy: 0.8343 - val_loss: 0.9729 - val_accuracy: 0.6524\n",
            "\n",
            "Epoch 00028: accuracy improved from 0.82344 to 0.83431, saving model to /content/drive/My Drive/Models/VGG16/weights-28-0.834.hdf5\n",
            "Epoch 29/50\n",
            "44964/44964 [==============================] - 85s 2ms/step - loss: 0.3747 - accuracy: 0.8488 - val_loss: 0.9615 - val_accuracy: 0.7051\n",
            "\n",
            "Epoch 00029: accuracy improved from 0.83431 to 0.84877, saving model to /content/drive/My Drive/Models/VGG16/weights-29-0.849.hdf5\n",
            "Epoch 30/50\n",
            "44964/44964 [==============================] - 84s 2ms/step - loss: 0.3486 - accuracy: 0.8600 - val_loss: 0.9935 - val_accuracy: 0.6792\n",
            "\n",
            "Epoch 00030: accuracy improved from 0.84877 to 0.86004, saving model to /content/drive/My Drive/Models/VGG16/weights-30-0.860.hdf5\n",
            "Epoch 31/50\n",
            "44964/44964 [==============================] - 84s 2ms/step - loss: 0.3235 - accuracy: 0.8719 - val_loss: 1.0691 - val_accuracy: 0.6948\n",
            "\n",
            "Epoch 00031: accuracy improved from 0.86004 to 0.87190, saving model to /content/drive/My Drive/Models/VGG16/weights-31-0.872.hdf5\n",
            "Epoch 32/50\n",
            "44964/44964 [==============================] - 84s 2ms/step - loss: 0.3029 - accuracy: 0.8787 - val_loss: 1.1627 - val_accuracy: 0.6883\n",
            "\n",
            "Epoch 00032: accuracy improved from 0.87190 to 0.87866, saving model to /content/drive/My Drive/Models/VGG16/weights-32-0.879.hdf5\n",
            "Epoch 33/50\n",
            "44964/44964 [==============================] - 85s 2ms/step - loss: 0.2781 - accuracy: 0.8910 - val_loss: 1.2259 - val_accuracy: 0.6453\n",
            "\n",
            "Epoch 00033: accuracy improved from 0.87866 to 0.89105, saving model to /content/drive/My Drive/Models/VGG16/weights-33-0.891.hdf5\n",
            "Epoch 34/50\n",
            "44964/44964 [==============================] - 83s 2ms/step - loss: 0.2626 - accuracy: 0.8990 - val_loss: 1.1831 - val_accuracy: 0.6423\n",
            "\n",
            "Epoch 00034: accuracy improved from 0.89105 to 0.89899, saving model to /content/drive/My Drive/Models/VGG16/weights-34-0.899.hdf5\n",
            "Epoch 35/50\n",
            "44964/44964 [==============================] - 84s 2ms/step - loss: 0.2426 - accuracy: 0.9076 - val_loss: 1.2369 - val_accuracy: 0.6819\n",
            "\n",
            "Epoch 00035: accuracy improved from 0.89899 to 0.90759, saving model to /content/drive/My Drive/Models/VGG16/weights-35-0.908.hdf5\n",
            "Epoch 36/50\n",
            "44964/44964 [==============================] - 83s 2ms/step - loss: 0.2299 - accuracy: 0.9122 - val_loss: 2.6793 - val_accuracy: 0.6935\n",
            "\n",
            "Epoch 00036: accuracy improved from 0.90759 to 0.91217, saving model to /content/drive/My Drive/Models/VGG16/weights-36-0.912.hdf5\n",
            "Epoch 37/50\n",
            "44964/44964 [==============================] - 85s 2ms/step - loss: 0.2237 - accuracy: 0.9146 - val_loss: 1.5748 - val_accuracy: 0.6035\n",
            "\n",
            "Epoch 00037: accuracy improved from 0.91217 to 0.91460, saving model to /content/drive/My Drive/Models/VGG16/weights-37-0.915.hdf5\n",
            "Epoch 38/50\n",
            "44964/44964 [==============================] - 85s 2ms/step - loss: 0.2042 - accuracy: 0.9238 - val_loss: 1.3808 - val_accuracy: 0.6832\n",
            "\n",
            "Epoch 00038: accuracy improved from 0.91460 to 0.92383, saving model to /content/drive/My Drive/Models/VGG16/weights-38-0.924.hdf5\n",
            "Epoch 39/50\n",
            "44964/44964 [==============================] - 86s 2ms/step - loss: 0.1949 - accuracy: 0.9272 - val_loss: 1.5647 - val_accuracy: 0.6381\n",
            "\n",
            "Epoch 00039: accuracy improved from 0.92383 to 0.92723, saving model to /content/drive/My Drive/Models/VGG16/weights-39-0.927.hdf5\n",
            "Epoch 40/50\n",
            "44964/44964 [==============================] - 85s 2ms/step - loss: 0.1862 - accuracy: 0.9306 - val_loss: 2.0649 - val_accuracy: 0.6882\n",
            "\n",
            "Epoch 00040: accuracy improved from 0.92723 to 0.93059, saving model to /content/drive/My Drive/Models/VGG16/weights-40-0.931.hdf5\n",
            "Epoch 41/50\n",
            "44964/44964 [==============================] - 85s 2ms/step - loss: 0.1787 - accuracy: 0.9335 - val_loss: 3.5571 - val_accuracy: 0.6606\n",
            "\n",
            "Epoch 00041: accuracy improved from 0.93059 to 0.93355, saving model to /content/drive/My Drive/Models/VGG16/weights-41-0.934.hdf5\n",
            "Epoch 42/50\n",
            "44964/44964 [==============================] - 84s 2ms/step - loss: 0.1730 - accuracy: 0.9361 - val_loss: 1.5894 - val_accuracy: 0.6410\n",
            "\n",
            "Epoch 00042: accuracy improved from 0.93355 to 0.93615, saving model to /content/drive/My Drive/Models/VGG16/weights-42-0.936.hdf5\n",
            "Epoch 43/50\n",
            "44964/44964 [==============================] - 84s 2ms/step - loss: 0.1636 - accuracy: 0.9400 - val_loss: 1.5133 - val_accuracy: 0.6602\n",
            "\n",
            "Epoch 00043: accuracy improved from 0.93615 to 0.94000, saving model to /content/drive/My Drive/Models/VGG16/weights-43-0.940.hdf5\n",
            "Epoch 44/50\n",
            "44964/44964 [==============================] - 85s 2ms/step - loss: 0.1596 - accuracy: 0.9422 - val_loss: 1.5328 - val_accuracy: 0.6749\n",
            "\n",
            "Epoch 00044: accuracy improved from 0.94000 to 0.94224, saving model to /content/drive/My Drive/Models/VGG16/weights-44-0.942.hdf5\n",
            "Epoch 45/50\n",
            "44964/44964 [==============================] - 84s 2ms/step - loss: 0.1552 - accuracy: 0.9426 - val_loss: 1.5158 - val_accuracy: 0.6437\n",
            "\n",
            "Epoch 00045: accuracy improved from 0.94224 to 0.94264, saving model to /content/drive/My Drive/Models/VGG16/weights-45-0.943.hdf5\n",
            "Epoch 46/50\n",
            "44964/44964 [==============================] - 84s 2ms/step - loss: 0.1416 - accuracy: 0.9484 - val_loss: 1.8654 - val_accuracy: 0.6302\n",
            "\n",
            "Epoch 00046: accuracy improved from 0.94264 to 0.94836, saving model to /content/drive/My Drive/Models/VGG16/weights-46-0.948.hdf5\n",
            "Epoch 47/50\n",
            "44964/44964 [==============================] - 85s 2ms/step - loss: 0.1923 - accuracy: 0.9309 - val_loss: 1.1477 - val_accuracy: 0.6966\n",
            "\n",
            "Epoch 00047: accuracy did not improve from 0.94836\n",
            "Epoch 48/50\n",
            "44964/44964 [==============================] - 85s 2ms/step - loss: 0.2129 - accuracy: 0.9214 - val_loss: 1.6728 - val_accuracy: 0.6795\n",
            "\n",
            "Epoch 00048: accuracy did not improve from 0.94836\n",
            "Epoch 49/50\n",
            "44964/44964 [==============================] - 84s 2ms/step - loss: 0.1182 - accuracy: 0.9579 - val_loss: 1.8278 - val_accuracy: 0.6990\n",
            "\n",
            "Epoch 00049: accuracy improved from 0.94836 to 0.95790, saving model to /content/drive/My Drive/Models/VGG16/weights-49-0.958.hdf5\n",
            "Epoch 50/50\n",
            "44964/44964 [==============================] - 84s 2ms/step - loss: 0.1286 - accuracy: 0.9545 - val_loss: 1.7371 - val_accuracy: 0.6531\n",
            "\n",
            "Epoch 00050: accuracy did not improve from 0.95790\n"
          ],
          "name": "stdout"
        },
        {
          "output_type": "execute_result",
          "data": {
            "text/plain": [
              "<keras.callbacks.callbacks.History at 0x7f4d59a26ac8>"
            ]
          },
          "metadata": {
            "tags": []
          },
          "execution_count": 17
        }
      ]
    },
    {
      "cell_type": "code",
      "metadata": {
        "id": "ecZ2MRayqf_v",
        "colab_type": "code",
        "colab": {}
      },
      "source": [
        "import json\n",
        "history_dict = model.history.history\n",
        "json.dump(str(history_dict), open('/content/drive/My Drive/Models/VGG16/History/VGG16_History1.json', 'w'))"
      ],
      "execution_count": null,
      "outputs": []
    },
    {
      "cell_type": "code",
      "metadata": {
        "id": "d8nXxvHzVxb5",
        "colab_type": "code",
        "colab": {}
      },
      "source": [
        "acc = model.history.history['accuracy']\n",
        "val_accuracy = model.history.history['val_accuracy']\n",
        "loss  =  model.history.history['loss']\n",
        "val_loss = model.history.history['val_loss']"
      ],
      "execution_count": null,
      "outputs": []
    },
    {
      "cell_type": "code",
      "metadata": {
        "id": "Lr4k_zmDuKwx",
        "colab_type": "code",
        "colab": {
          "base_uri": "https://localhost:8080/",
          "height": 545
        },
        "outputId": "8f955b3a-f8a5-4403-cb0a-f23b8eb4df00"
      },
      "source": [
        "support.GenerateGraphs(acc, val_accuracy, loss, val_loss)"
      ],
      "execution_count": null,
      "outputs": [
        {
          "output_type": "display_data",
          "data": {
            "image/png": "[encoded data removed]",
            "text/plain": [
              "<Figure size 432x288 with 1 Axes>"
            ]
          },
          "metadata": {
            "tags": [],
            "needs_background": "light"
          }
        },
        {
          "output_type": "display_data",
          "data": {
            "image/png": "[encoded data removed]",
            "text/plain": [
              "<Figure size 432x288 with 1 Axes>"
            ]
          },
          "metadata": {
            "tags": [],
            "needs_background": "light"
          }
        }
      ]
    },
    {
      "cell_type": "code",
      "metadata": {
        "id": "bMKa5Fu8vBLv",
        "colab_type": "code",
        "colab": {
          "base_uri": "https://localhost:8080/",
          "height": 154
        },
        "outputId": "d13b030a-1e97-4a43-a82d-54e5b50bd0ac"
      },
      "source": [
        "support.PrintMetrics(testX_Pred,testY_Pred,model)"
      ],
      "execution_count": null,
      "outputs": [
        {
          "output_type": "stream",
          "text": [
            "Accuracy: 0.653145\n",
            "Precision: 0.557258\n",
            "Recall: 0.543670\n",
            "F1 score: 0.550013\n",
            "Cohens kappa: 0.495586\n"
          ],
          "name": "stdout"
        },
        {
          "output_type": "stream",
          "text": [
            "/usr/local/lib/python3.6/dist-packages/sklearn/metrics/_classification.py:1272: UndefinedMetricWarning: Recall is ill-defined and being set to 0.0 in labels with no true samples. Use `zero_division` parameter to control this behavior.\n",
            "  _warn_prf(average, modifier, msg_start, len(result))\n"
          ],
          "name": "stderr"
        }
      ]
    },
    {
      "cell_type": "code",
      "metadata": {
        "id": "CC1EpKHcvqcJ",
        "colab_type": "code",
        "colab": {}
      },
      "source": [
        "def plot_image(i, predictions_array, true_labels, images):\n",
        "  predictions_array, true_label, img = predictions_array[i], true_labels[i], images[i]\n",
        "  plt.grid(False)\n",
        "  plt.xticks([])\n",
        "  plt.yticks([])\n",
        "   \n",
        "  plt.imshow(img[...,0], cmap=plt.cm.binary)\n",
        " \n",
        "  predicted_label = np.argmax(predictions_array)\n",
        "  if predicted_label == true_label:\n",
        "    color = 'blue'\n",
        "  else:\n",
        "    color = 'red'\n",
        "   \n",
        "  plt.xlabel(\"{} {:2.0f}% ({})\".format(class_object[predicted_label],\n",
        "                                100*np.max(predictions_array),\n",
        "                                class_object[true_label]),\n",
        "                                color=color)"
      ],
      "execution_count": null,
      "outputs": []
    },
    {
      "cell_type": "code",
      "metadata": {
        "id": "yYZePezqvsHh",
        "colab_type": "code",
        "colab": {
          "base_uri": "https://localhost:8080/",
          "height": 441
        },
        "outputId": "3503ce3a-3b65-451a-ed27-6823099c20d2"
      },
      "source": [
        "num_rows = 3\n",
        "num_cols = 3\n",
        "num_images = num_rows*num_cols\n",
        "plt.figure(figsize=(2*num_cols, 2*num_rows))\n",
        "test_images = testX[:num_images]\n",
        "predictions = model.predict(testX_Pred)\n",
        "for i in range(num_images):    \n",
        "    plt.subplot(num_rows, num_cols, i+1)   \n",
        "    plot_image(i, predictions, testY_Pred, testX_Pred)    \n",
        " \n",
        "plt.tight_layout()\n",
        "plt.show()"
      ],
      "execution_count": null,
      "outputs": [
        {
          "output_type": "display_data",
          "data": {
            "image/png": "[encoded data removed]",
            "text/plain": [
              "<Figure size 432x432 with 9 Axes>"
            ]
          },
          "metadata": {
            "tags": []
          }
        }
      ]
    }
  ]
}