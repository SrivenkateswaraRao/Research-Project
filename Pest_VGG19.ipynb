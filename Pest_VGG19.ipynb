{
  "nbformat": 4,
  "nbformat_minor": 0,
  "metadata": {
    "colab": {
      "name": "Increase RAM Reference Notes By Techhawa .ipynb",
      "provenance": [],
      "collapsed_sections": [],
      "machine_shape": "hm",
      "include_colab_link": true
    },
    "kernelspec": {
      "name": "python3",
      "display_name": "Python 3"
    },
    "accelerator": "TPU"
  },
  "cells": [
    {
      "cell_type": "markdown",
      "metadata": {
        "id": "view-in-github",
        "colab_type": "text"
      },
      "source": [
        "<a href=\"https://colab.research.google.com/github/SrivenkateswaraRao/Research-Project/blob/master/Pest_VGG19.ipynb\" target=\"_parent\"><img src=\"https://colab.research.google.com/assets/colab-badge.svg\" alt=\"Open In Colab\"/></a>"
      ]
    },
    {
      "cell_type": "code",
      "metadata": {
        "id": "vRXTdQDVKS6v",
        "colab_type": "code",
        "colab": {}
      },
      "source": [
        "import os\n",
        "from os import listdir\n",
        "from pydrive.auth import GoogleAuth\n",
        "from pydrive.drive import GoogleDrive\n",
        "from google.colab import auth\n",
        "from oauth2client.client import GoogleCredentials\n",
        "import numpy as np"
      ],
      "execution_count": 1,
      "outputs": []
    },
    {
      "cell_type": "code",
      "metadata": {
        "id": "_zf7iSxzKaf0",
        "colab_type": "code",
        "colab": {}
      },
      "source": [
        "auth.authenticate_user()\n",
        "gauth = GoogleAuth()\n",
        "gauth.credentials = GoogleCredentials.get_application_default()\n",
        "drive = GoogleDrive(gauth)"
      ],
      "execution_count": 2,
      "outputs": []
    },
    {
      "cell_type": "code",
      "metadata": {
        "id": "LCOxaKCJKzA0",
        "colab_type": "code",
        "colab": {}
      },
      "source": [
        "from google.colab import files\n",
        "files.upload() "
      ],
      "execution_count": null,
      "outputs": []
    },
    {
      "cell_type": "code",
      "metadata": {
        "id": "dbxnI4zrLATr",
        "colab_type": "code",
        "colab": {}
      },
      "source": [
        "import CreatePestImageData as Imagedataset\n",
        "import SupportingFunctions as support"
      ],
      "execution_count": 28,
      "outputs": []
    },
    {
      "cell_type": "code",
      "metadata": {
        "id": "MsX9B9gWLClk",
        "colab_type": "code",
        "colab": {}
      },
      "source": [
        "support.DownLoadFiles('1aXb25Wp9sG7mL6AQgYY9ElrGcERi95JU',drive)"
      ],
      "execution_count": null,
      "outputs": []
    },
    {
      "cell_type": "code",
      "metadata": {
        "id": "HP63yquZOxes",
        "colab_type": "code",
        "colab": {}
      },
      "source": [
        "support.Unzip('/content/GREENPATROL_DB_V3.0.zip','/content/Pests/Images')"
      ],
      "execution_count": 12,
      "outputs": []
    },
    {
      "cell_type": "code",
      "metadata": {
        "id": "FjdLhsa-PhAM",
        "colab_type": "code",
        "colab": {
          "base_uri": "https://localhost:8080/",
          "height": 34
        },
        "outputId": "8d11ebc0-fe1f-4969-fd13-dc11ae15ea4f"
      },
      "source": [
        "support.fileCount('/content/Pests/Images')"
      ],
      "execution_count": 13,
      "outputs": [
        {
          "output_type": "stream",
          "text": [
            "4330\n"
          ],
          "name": "stdout"
        }
      ]
    },
    {
      "cell_type": "code",
      "metadata": {
        "id": "o9VJCEpZJ6TH",
        "colab_type": "code",
        "colab": {}
      },
      "source": [
        "dataSet = Imagedataset.createImageDataset()"
      ],
      "execution_count": 14,
      "outputs": []
    },
    {
      "cell_type": "code",
      "metadata": {
        "id": "kJc_EiuuQB17",
        "colab_type": "code",
        "colab": {}
      },
      "source": [
        "class_object = {0 : 'egg_wf' ,\n",
        "                1 : 'egg_bt', 2 : 'egg_ta', 3 : 'wf', 4 : 'bt', 5 : 'tomato'}"
      ],
      "execution_count": 24,
      "outputs": []
    },
    {
      "cell_type": "code",
      "metadata": {
        "id": "YQ4yg8zaQEmb",
        "colab_type": "code",
        "colab": {}
      },
      "source": [
        "dataSet.prepare_dataset('/content/Pests/Labels' , class_object ,32, '/content/Pests/Images/',  test_size=11241 )"
      ],
      "execution_count": null,
      "outputs": []
    },
    {
      "cell_type": "code",
      "metadata": {
        "id": "z8akPnARWYci",
        "colab_type": "code",
        "colab": {}
      },
      "source": [
        "listdir('/content/Pests/Labels')"
      ],
      "execution_count": null,
      "outputs": []
    },
    {
      "cell_type": "code",
      "metadata": {
        "id": "rtF-jfjvR3Kr",
        "colab_type": "code",
        "colab": {}
      },
      "source": [
        "(trainY , trainX) , (testY , testX ) = (dataSet.trainY , dataSet.trainX ) , (dataSet.testY , dataSet.testX )\n"
      ],
      "execution_count": 19,
      "outputs": []
    },
    {
      "cell_type": "code",
      "metadata": {
        "id": "VuJb61dJAmKX",
        "colab_type": "code",
        "colab": {}
      },
      "source": [
        "from keras.applications.vgg19 import VGG19\n",
        "from keras.models import Model\n",
        "from keras.layers import Dense\n",
        "from keras.layers import Flatten\n",
        "import tensorflow as tf"
      ],
      "execution_count": null,
      "outputs": []
    },
    {
      "cell_type": "code",
      "metadata": {
        "id": "kXXgL4gsTRQG",
        "colab_type": "code",
        "colab": {}
      },
      "source": [
        "from google.colab import drive\n",
        "drive.mount('/content/drive')"
      ],
      "execution_count": null,
      "outputs": []
    },
    {
      "cell_type": "code",
      "metadata": {
        "id": "nveqACGYblLa",
        "colab_type": "code",
        "colab": {
          "base_uri": "https://localhost:8080/",
          "height": 974
        },
        "outputId": "17fe9a7d-48ee-44de-87ac-afedc2a7b709"
      },
      "source": [
        "import tensorflow as tf\n",
        "from keras import models\n",
        "from keras.applications.vgg19 import VGG19\n",
        "vgg = VGG19(input_shape=[32,32,3], include_top=False, pooling='avg',weights='imagenet')\n",
        "vgg.summary()"
      ],
      "execution_count": 5,
      "outputs": [
        {
          "output_type": "stream",
          "text": [
            "Using TensorFlow backend.\n"
          ],
          "name": "stderr"
        },
        {
          "output_type": "stream",
          "text": [
            "Downloading data from https://github.com/fchollet/deep-learning-models/releases/download/v0.1/vgg19_weights_tf_dim_ordering_tf_kernels_notop.h5\n",
            "80142336/80134624 [==============================] - 1s 0us/step\n",
            "Model: \"vgg19\"\n",
            "_________________________________________________________________\n",
            "Layer (type)                 Output Shape              Param #   \n",
            "=================================================================\n",
            "input_1 (InputLayer)         (None, 32, 32, 3)         0         \n",
            "_________________________________________________________________\n",
            "block1_conv1 (Conv2D)        (None, 32, 32, 64)        1792      \n",
            "_________________________________________________________________\n",
            "block1_conv2 (Conv2D)        (None, 32, 32, 64)        36928     \n",
            "_________________________________________________________________\n",
            "block1_pool (MaxPooling2D)   (None, 16, 16, 64)        0         \n",
            "_________________________________________________________________\n",
            "block2_conv1 (Conv2D)        (None, 16, 16, 128)       73856     \n",
            "_________________________________________________________________\n",
            "block2_conv2 (Conv2D)        (None, 16, 16, 128)       147584    \n",
            "_________________________________________________________________\n",
            "block2_pool (MaxPooling2D)   (None, 8, 8, 128)         0         \n",
            "_________________________________________________________________\n",
            "block3_conv1 (Conv2D)        (None, 8, 8, 256)         295168    \n",
            "_________________________________________________________________\n",
            "block3_conv2 (Conv2D)        (None, 8, 8, 256)         590080    \n",
            "_________________________________________________________________\n",
            "block3_conv3 (Conv2D)        (None, 8, 8, 256)         590080    \n",
            "_________________________________________________________________\n",
            "block3_conv4 (Conv2D)        (None, 8, 8, 256)         590080    \n",
            "_________________________________________________________________\n",
            "block3_pool (MaxPooling2D)   (None, 4, 4, 256)         0         \n",
            "_________________________________________________________________\n",
            "block4_conv1 (Conv2D)        (None, 4, 4, 512)         1180160   \n",
            "_________________________________________________________________\n",
            "block4_conv2 (Conv2D)        (None, 4, 4, 512)         2359808   \n",
            "_________________________________________________________________\n",
            "block4_conv3 (Conv2D)        (None, 4, 4, 512)         2359808   \n",
            "_________________________________________________________________\n",
            "block4_conv4 (Conv2D)        (None, 4, 4, 512)         2359808   \n",
            "_________________________________________________________________\n",
            "block4_pool (MaxPooling2D)   (None, 2, 2, 512)         0         \n",
            "_________________________________________________________________\n",
            "block5_conv1 (Conv2D)        (None, 2, 2, 512)         2359808   \n",
            "_________________________________________________________________\n",
            "block5_conv2 (Conv2D)        (None, 2, 2, 512)         2359808   \n",
            "_________________________________________________________________\n",
            "block5_conv3 (Conv2D)        (None, 2, 2, 512)         2359808   \n",
            "_________________________________________________________________\n",
            "block5_conv4 (Conv2D)        (None, 2, 2, 512)         2359808   \n",
            "_________________________________________________________________\n",
            "block5_pool (MaxPooling2D)   (None, 1, 1, 512)         0         \n",
            "_________________________________________________________________\n",
            "global_average_pooling2d_1 ( (None, 512)               0         \n",
            "=================================================================\n",
            "Total params: 20,024,384\n",
            "Trainable params: 20,024,384\n",
            "Non-trainable params: 0\n",
            "_________________________________________________________________\n"
          ],
          "name": "stdout"
        }
      ]
    },
    {
      "cell_type": "code",
      "metadata": {
        "id": "xfFIwthrbvNB",
        "colab_type": "code",
        "colab": {
          "base_uri": "https://localhost:8080/",
          "height": 286
        },
        "outputId": "b0686105-8653-431c-c13d-ad05a9faa3d5"
      },
      "source": [
        "from keras.models import Model\n",
        "layerName = 'block1_pool'\n",
        "mymodel = Model(inputs= vgg.input , outputs=vgg.get_layer(layerName).output)\n",
        "mymodel.summary()"
      ],
      "execution_count": 6,
      "outputs": [
        {
          "output_type": "stream",
          "text": [
            "Model: \"model_1\"\n",
            "_________________________________________________________________\n",
            "Layer (type)                 Output Shape              Param #   \n",
            "=================================================================\n",
            "input_1 (InputLayer)         (None, 32, 32, 3)         0         \n",
            "_________________________________________________________________\n",
            "block1_conv1 (Conv2D)        (None, 32, 32, 64)        1792      \n",
            "_________________________________________________________________\n",
            "block1_conv2 (Conv2D)        (None, 32, 32, 64)        36928     \n",
            "_________________________________________________________________\n",
            "block1_pool (MaxPooling2D)   (None, 16, 16, 64)        0         \n",
            "=================================================================\n",
            "Total params: 38,720\n",
            "Trainable params: 38,720\n",
            "Non-trainable params: 0\n",
            "_________________________________________________________________\n"
          ],
          "name": "stdout"
        }
      ]
    },
    {
      "cell_type": "code",
      "metadata": {
        "id": "aQG9aEyzb10a",
        "colab_type": "code",
        "colab": {}
      },
      "source": [
        "from keras import applications\n",
        "from keras.models import Model\n",
        "from keras.layers import Conv2D, MaxPooling2D, GlobalAveragePooling2D\n",
        "from keras.layers import Dense, Dropout, Activation, Flatten\n",
        "from keras.layers.normalization import BatchNormalization\n",
        "import matplotlib.pyplot as plt\n"
      ],
      "execution_count": 18,
      "outputs": []
    },
    {
      "cell_type": "code",
      "metadata": {
        "id": "OXeiKCTyb7VK",
        "colab_type": "code",
        "colab": {}
      },
      "source": [
        "model= models.Sequential()\n",
        "model.add(mymodel)\n",
        "model.add(Conv2D(16, (3, 3), activation='relu', padding='same'))\n",
        "model.add(MaxPooling2D(pool_size=(2, 2)))\n",
        "model.add(Conv2D(32, (3, 3), activation='relu', padding='same'))\n",
        "model.add(MaxPooling2D(pool_size=(2, 2)))\n",
        "model.add(GlobalAveragePooling2D())\n",
        "model.add(Dense(64, activation='relu'))\n",
        "model.add(BatchNormalization())\n",
        "model.add(Dense(6, activation='softmax'))\n",
        "model.layers[0].trainable = False\n",
        "\n",
        "# compile the model\n",
        "model.compile(optimizer='adam',\n",
        "              loss='categorical_crossentropy',\n",
        "              metrics=['accuracy'])"
      ],
      "execution_count": 10,
      "outputs": []
    },
    {
      "cell_type": "code",
      "metadata": {
        "id": "bV8ZkmwKcETB",
        "colab_type": "code",
        "colab": {
          "base_uri": "https://localhost:8080/",
          "height": 454
        },
        "outputId": "1aa0b6b4-9257-4f01-e71a-260a6b3d801c"
      },
      "source": [
        "model.summary()"
      ],
      "execution_count": 11,
      "outputs": [
        {
          "output_type": "stream",
          "text": [
            "Model: \"sequential_2\"\n",
            "_________________________________________________________________\n",
            "Layer (type)                 Output Shape              Param #   \n",
            "=================================================================\n",
            "model_1 (Model)              (None, 16, 16, 64)        38720     \n",
            "_________________________________________________________________\n",
            "conv2d_3 (Conv2D)            (None, 16, 16, 16)        9232      \n",
            "_________________________________________________________________\n",
            "max_pooling2d_3 (MaxPooling2 (None, 8, 8, 16)          0         \n",
            "_________________________________________________________________\n",
            "conv2d_4 (Conv2D)            (None, 8, 8, 32)          4640      \n",
            "_________________________________________________________________\n",
            "max_pooling2d_4 (MaxPooling2 (None, 4, 4, 32)          0         \n",
            "_________________________________________________________________\n",
            "global_average_pooling2d_3 ( (None, 32)                0         \n",
            "_________________________________________________________________\n",
            "dense_3 (Dense)              (None, 64)                2112      \n",
            "_________________________________________________________________\n",
            "batch_normalization_2 (Batch (None, 64)                256       \n",
            "_________________________________________________________________\n",
            "dense_4 (Dense)              (None, 6)                 390       \n",
            "=================================================================\n",
            "Total params: 55,350\n",
            "Trainable params: 16,502\n",
            "Non-trainable params: 38,848\n",
            "_________________________________________________________________\n"
          ],
          "name": "stdout"
        }
      ]
    },
    {
      "cell_type": "code",
      "metadata": {
        "id": "9lqwou8uGhJw",
        "colab_type": "code",
        "colab": {}
      },
      "source": [
        "from tensorflow.keras.utils import to_categorical\n",
        "trainY = to_categorical(trainY)\n",
        "testY = to_categorical(testY)"
      ],
      "execution_count": 12,
      "outputs": []
    },
    {
      "cell_type": "code",
      "metadata": {
        "id": "CW_Lotmj0Hul",
        "colab_type": "code",
        "colab": {}
      },
      "source": [
        "filepath=\"/content/drive/My Drive/Models/VGG19/weights-{epoch:02d}-{accuracy:.3f}.hdf5\"\n",
        "from keras.callbacks import ModelCheckpoint\n",
        "checkpoint = ModelCheckpoint(filepath, monitor='accuracy',\n",
        "                               verbose=1, mode='max',save_best_only=True)\n",
        "\n",
        "callbacks_list = [checkpoint]"
      ],
      "execution_count": 13,
      "outputs": []
    },
    {
      "cell_type": "code",
      "metadata": {
        "id": "VbdKKFVzNOLX",
        "colab_type": "code",
        "colab": {}
      },
      "source": [
        "tf.config.experimental_run_functions_eagerly(True)\n"
      ],
      "execution_count": 14,
      "outputs": []
    },
    {
      "cell_type": "code",
      "metadata": {
        "id": "lIgG5ReV9Lqg",
        "colab_type": "code",
        "colab": {
          "base_uri": "https://localhost:8080/",
          "height": 1000
        },
        "outputId": "40a6532e-bbcc-4ca9-84a0-f92b57b8cd91"
      },
      "source": [
        "model.fit(trainX,trainY,verbose=1,epochs=50,validation_data=(testX,testY),callbacks=[checkpoint])"
      ],
      "execution_count": 15,
      "outputs": [
        {
          "output_type": "stream",
          "text": [
            "Train on 44964 samples, validate on 11241 samples\n",
            "Epoch 1/50\n",
            "44964/44964 [==============================] - 70s 2ms/step - loss: 0.9288 - accuracy: 0.6318 - val_loss: 0.8551 - val_accuracy: 0.6535\n",
            "\n",
            "Epoch 00001: accuracy improved from -inf to 0.63184, saving model to /content/drive/My Drive/Models/VGG19/weights-01-0.632.hdf5\n",
            "Epoch 2/50\n",
            "44964/44964 [==============================] - 69s 2ms/step - loss: 0.8401 - accuracy: 0.6637 - val_loss: 0.8912 - val_accuracy: 0.6612\n",
            "\n",
            "Epoch 00002: accuracy improved from 0.63184 to 0.66371, saving model to /content/drive/My Drive/Models/VGG19/weights-02-0.664.hdf5\n",
            "Epoch 3/50\n",
            "44964/44964 [==============================] - 70s 2ms/step - loss: 0.8156 - accuracy: 0.6724 - val_loss: 1.0797 - val_accuracy: 0.6410\n",
            "\n",
            "Epoch 00003: accuracy improved from 0.66371 to 0.67245, saving model to /content/drive/My Drive/Models/VGG19/weights-03-0.672.hdf5\n",
            "Epoch 4/50\n",
            "44964/44964 [==============================] - 69s 2ms/step - loss: 0.7974 - accuracy: 0.6796 - val_loss: 0.8160 - val_accuracy: 0.6695\n",
            "\n",
            "Epoch 00004: accuracy improved from 0.67245 to 0.67963, saving model to /content/drive/My Drive/Models/VGG19/weights-04-0.680.hdf5\n",
            "Epoch 5/50\n",
            "44964/44964 [==============================] - 68s 2ms/step - loss: 0.7888 - accuracy: 0.6843 - val_loss: 0.8565 - val_accuracy: 0.6792\n",
            "\n",
            "Epoch 00005: accuracy improved from 0.67963 to 0.68428, saving model to /content/drive/My Drive/Models/VGG19/weights-05-0.684.hdf5\n",
            "Epoch 6/50\n",
            "44964/44964 [==============================] - 68s 2ms/step - loss: 0.7761 - accuracy: 0.6898 - val_loss: 0.8334 - val_accuracy: 0.6789\n",
            "\n",
            "Epoch 00006: accuracy improved from 0.68428 to 0.68984, saving model to /content/drive/My Drive/Models/VGG19/weights-06-0.690.hdf5\n",
            "Epoch 7/50\n",
            "44964/44964 [==============================] - 69s 2ms/step - loss: 0.7889 - accuracy: 0.6849 - val_loss: 8.8022 - val_accuracy: 0.2473\n",
            "\n",
            "Epoch 00007: accuracy did not improve from 0.68984\n",
            "Epoch 8/50\n",
            "44964/44964 [==============================] - 69s 2ms/step - loss: 0.8430 - accuracy: 0.6588 - val_loss: 0.8525 - val_accuracy: 0.6561\n",
            "\n",
            "Epoch 00008: accuracy did not improve from 0.68984\n",
            "Epoch 9/50\n",
            "44964/44964 [==============================] - 69s 2ms/step - loss: 0.7998 - accuracy: 0.6803 - val_loss: 0.8911 - val_accuracy: 0.6317\n",
            "\n",
            "Epoch 00009: accuracy did not improve from 0.68984\n",
            "Epoch 10/50\n",
            "44964/44964 [==============================] - 70s 2ms/step - loss: 0.7893 - accuracy: 0.6834 - val_loss: 0.7928 - val_accuracy: 0.6763\n",
            "\n",
            "Epoch 00010: accuracy did not improve from 0.68984\n",
            "Epoch 11/50\n",
            "44964/44964 [==============================] - 69s 2ms/step - loss: 0.7771 - accuracy: 0.6902 - val_loss: 0.9114 - val_accuracy: 0.6641\n",
            "\n",
            "Epoch 00011: accuracy improved from 0.68984 to 0.69020, saving model to /content/drive/My Drive/Models/VGG19/weights-11-0.690.hdf5\n",
            "Epoch 12/50\n",
            "44964/44964 [==============================] - 70s 2ms/step - loss: 0.7707 - accuracy: 0.6916 - val_loss: 0.8012 - val_accuracy: 0.6743\n",
            "\n",
            "Epoch 00012: accuracy improved from 0.69020 to 0.69158, saving model to /content/drive/My Drive/Models/VGG19/weights-12-0.692.hdf5\n",
            "Epoch 13/50\n",
            "44964/44964 [==============================] - 69s 2ms/step - loss: 0.7735 - accuracy: 0.6906 - val_loss: 1.0095 - val_accuracy: 0.6228\n",
            "\n",
            "Epoch 00013: accuracy did not improve from 0.69158\n",
            "Epoch 14/50\n",
            "44964/44964 [==============================] - 70s 2ms/step - loss: 0.7845 - accuracy: 0.6857 - val_loss: 0.7954 - val_accuracy: 0.6788\n",
            "\n",
            "Epoch 00014: accuracy did not improve from 0.69158\n",
            "Epoch 15/50\n",
            "44964/44964 [==============================] - 70s 2ms/step - loss: 0.7677 - accuracy: 0.6914 - val_loss: 0.7959 - val_accuracy: 0.6789\n",
            "\n",
            "Epoch 00015: accuracy did not improve from 0.69158\n",
            "Epoch 16/50\n",
            "44964/44964 [==============================] - 70s 2ms/step - loss: 0.7913 - accuracy: 0.6855 - val_loss: 0.8242 - val_accuracy: 0.6727\n",
            "\n",
            "Epoch 00016: accuracy did not improve from 0.69158\n",
            "Epoch 17/50\n",
            "44964/44964 [==============================] - 70s 2ms/step - loss: 0.7887 - accuracy: 0.6835 - val_loss: 0.7820 - val_accuracy: 0.6831\n",
            "\n",
            "Epoch 00017: accuracy did not improve from 0.69158\n",
            "Epoch 18/50\n",
            "44964/44964 [==============================] - 70s 2ms/step - loss: 0.7596 - accuracy: 0.6964 - val_loss: 0.8036 - val_accuracy: 0.6816\n",
            "\n",
            "Epoch 00018: accuracy improved from 0.69158 to 0.69640, saving model to /content/drive/My Drive/Models/VGG19/weights-18-0.696.hdf5\n",
            "Epoch 19/50\n",
            "44964/44964 [==============================] - 70s 2ms/step - loss: 0.7913 - accuracy: 0.6836 - val_loss: 0.8903 - val_accuracy: 0.6449\n",
            "\n",
            "Epoch 00019: accuracy did not improve from 0.69640\n",
            "Epoch 20/50\n",
            "44964/44964 [==============================] - 71s 2ms/step - loss: 0.7891 - accuracy: 0.6836 - val_loss: 0.7815 - val_accuracy: 0.6845\n",
            "\n",
            "Epoch 00020: accuracy did not improve from 0.69640\n",
            "Epoch 21/50\n",
            "44964/44964 [==============================] - 70s 2ms/step - loss: 0.8082 - accuracy: 0.6761 - val_loss: 0.8057 - val_accuracy: 0.6713\n",
            "\n",
            "Epoch 00021: accuracy did not improve from 0.69640\n",
            "Epoch 22/50\n",
            "44964/44964 [==============================] - 70s 2ms/step - loss: 0.7791 - accuracy: 0.6882 - val_loss: 0.8218 - val_accuracy: 0.6679\n",
            "\n",
            "Epoch 00022: accuracy did not improve from 0.69640\n",
            "Epoch 23/50\n",
            "44964/44964 [==============================] - 70s 2ms/step - loss: 0.7746 - accuracy: 0.6932 - val_loss: 0.7862 - val_accuracy: 0.6872\n",
            "\n",
            "Epoch 00023: accuracy did not improve from 0.69640\n",
            "Epoch 24/50\n",
            "44964/44964 [==============================] - 70s 2ms/step - loss: 0.7672 - accuracy: 0.6934 - val_loss: 0.9904 - val_accuracy: 0.6835\n",
            "\n",
            "Epoch 00024: accuracy did not improve from 0.69640\n",
            "Epoch 25/50\n",
            "44964/44964 [==============================] - 71s 2ms/step - loss: 0.7535 - accuracy: 0.7010 - val_loss: 0.7793 - val_accuracy: 0.6845\n",
            "\n",
            "Epoch 00025: accuracy improved from 0.69640 to 0.70096, saving model to /content/drive/My Drive/Models/VGG19/weights-25-0.701.hdf5\n",
            "Epoch 26/50\n",
            "44964/44964 [==============================] - 70s 2ms/step - loss: 0.7711 - accuracy: 0.6939 - val_loss: 0.8961 - val_accuracy: 0.6594\n",
            "\n",
            "Epoch 00026: accuracy did not improve from 0.70096\n",
            "Epoch 27/50\n",
            "44964/44964 [==============================] - 71s 2ms/step - loss: 0.7504 - accuracy: 0.7024 - val_loss: 0.7768 - val_accuracy: 0.6882\n",
            "\n",
            "Epoch 00027: accuracy improved from 0.70096 to 0.70241, saving model to /content/drive/My Drive/Models/VGG19/weights-27-0.702.hdf5\n",
            "Epoch 28/50\n",
            "44964/44964 [==============================] - 71s 2ms/step - loss: 0.7377 - accuracy: 0.7061 - val_loss: 0.7905 - val_accuracy: 0.6827\n",
            "\n",
            "Epoch 00028: accuracy improved from 0.70241 to 0.70614, saving model to /content/drive/My Drive/Models/VGG19/weights-28-0.706.hdf5\n",
            "Epoch 29/50\n",
            "44964/44964 [==============================] - 71s 2ms/step - loss: 0.7358 - accuracy: 0.7085 - val_loss: 0.7826 - val_accuracy: 0.6886\n",
            "\n",
            "Epoch 00029: accuracy improved from 0.70614 to 0.70850, saving model to /content/drive/My Drive/Models/VGG19/weights-29-0.709.hdf5\n",
            "Epoch 30/50\n",
            "44964/44964 [==============================] - 71s 2ms/step - loss: 0.7339 - accuracy: 0.7073 - val_loss: 0.8111 - val_accuracy: 0.6839\n",
            "\n",
            "Epoch 00030: accuracy did not improve from 0.70850\n",
            "Epoch 31/50\n",
            "44964/44964 [==============================] - 71s 2ms/step - loss: 0.7281 - accuracy: 0.7097 - val_loss: 0.7631 - val_accuracy: 0.6916\n",
            "\n",
            "Epoch 00031: accuracy improved from 0.70850 to 0.70968, saving model to /content/drive/My Drive/Models/VGG19/weights-31-0.710.hdf5\n",
            "Epoch 32/50\n",
            "44964/44964 [==============================] - 71s 2ms/step - loss: 0.7261 - accuracy: 0.7097 - val_loss: 0.7807 - val_accuracy: 0.6835\n",
            "\n",
            "Epoch 00032: accuracy did not improve from 0.70968\n",
            "Epoch 33/50\n",
            "44964/44964 [==============================] - 69s 2ms/step - loss: 0.7464 - accuracy: 0.7029 - val_loss: 4.7153 - val_accuracy: 0.2527\n",
            "\n",
            "Epoch 00033: accuracy did not improve from 0.70968\n",
            "Epoch 34/50\n",
            "44964/44964 [==============================] - 69s 2ms/step - loss: 0.8129 - accuracy: 0.6785 - val_loss: 0.9125 - val_accuracy: 0.6426\n",
            "\n",
            "Epoch 00034: accuracy did not improve from 0.70968\n",
            "Epoch 35/50\n",
            "44964/44964 [==============================] - 69s 2ms/step - loss: 0.7750 - accuracy: 0.6909 - val_loss: 0.7716 - val_accuracy: 0.6868\n",
            "\n",
            "Epoch 00035: accuracy did not improve from 0.70968\n",
            "Epoch 36/50\n",
            "44964/44964 [==============================] - 70s 2ms/step - loss: 0.7528 - accuracy: 0.6993 - val_loss: 0.7597 - val_accuracy: 0.6924\n",
            "\n",
            "Epoch 00036: accuracy did not improve from 0.70968\n",
            "Epoch 37/50\n",
            "44964/44964 [==============================] - 71s 2ms/step - loss: 0.7411 - accuracy: 0.7050 - val_loss: 0.7525 - val_accuracy: 0.6948\n",
            "\n",
            "Epoch 00037: accuracy did not improve from 0.70968\n",
            "Epoch 38/50\n",
            "44964/44964 [==============================] - 71s 2ms/step - loss: 0.7369 - accuracy: 0.7063 - val_loss: 0.7818 - val_accuracy: 0.6917\n",
            "\n",
            "Epoch 00038: accuracy did not improve from 0.70968\n",
            "Epoch 39/50\n",
            "44964/44964 [==============================] - 70s 2ms/step - loss: 0.7289 - accuracy: 0.7095 - val_loss: 0.7551 - val_accuracy: 0.6958\n",
            "\n",
            "Epoch 00039: accuracy did not improve from 0.70968\n",
            "Epoch 40/50\n",
            "44964/44964 [==============================] - 70s 2ms/step - loss: 0.7274 - accuracy: 0.7095 - val_loss: 0.8017 - val_accuracy: 0.6852\n",
            "\n",
            "Epoch 00040: accuracy did not improve from 0.70968\n",
            "Epoch 41/50\n",
            "44964/44964 [==============================] - 70s 2ms/step - loss: 0.7256 - accuracy: 0.7097 - val_loss: 0.7474 - val_accuracy: 0.6996\n",
            "\n",
            "Epoch 00041: accuracy improved from 0.70968 to 0.70975, saving model to /content/drive/My Drive/Models/VGG19/weights-41-0.710.hdf5\n",
            "Epoch 42/50\n",
            "44964/44964 [==============================] - 70s 2ms/step - loss: 0.7201 - accuracy: 0.7138 - val_loss: 0.7692 - val_accuracy: 0.6917\n",
            "\n",
            "Epoch 00042: accuracy improved from 0.70975 to 0.71377, saving model to /content/drive/My Drive/Models/VGG19/weights-42-0.714.hdf5\n",
            "Epoch 43/50\n",
            "44964/44964 [==============================] - 70s 2ms/step - loss: 0.7230 - accuracy: 0.7131 - val_loss: 0.7803 - val_accuracy: 0.6910\n",
            "\n",
            "Epoch 00043: accuracy did not improve from 0.71377\n",
            "Epoch 44/50\n",
            "44964/44964 [==============================] - 70s 2ms/step - loss: 0.7321 - accuracy: 0.7079 - val_loss: 0.8120 - val_accuracy: 0.6762\n",
            "\n",
            "Epoch 00044: accuracy did not improve from 0.71377\n",
            "Epoch 45/50\n",
            "44964/44964 [==============================] - 70s 2ms/step - loss: 0.7175 - accuracy: 0.7147 - val_loss: 0.7614 - val_accuracy: 0.6929\n",
            "\n",
            "Epoch 00045: accuracy improved from 0.71377 to 0.71468, saving model to /content/drive/My Drive/Models/VGG19/weights-45-0.715.hdf5\n",
            "Epoch 46/50\n",
            "44964/44964 [==============================] - 70s 2ms/step - loss: 0.7087 - accuracy: 0.7168 - val_loss: 0.7628 - val_accuracy: 0.6956\n",
            "\n",
            "Epoch 00046: accuracy improved from 0.71468 to 0.71680, saving model to /content/drive/My Drive/Models/VGG19/weights-46-0.717.hdf5\n",
            "Epoch 47/50\n",
            "44964/44964 [==============================] - 70s 2ms/step - loss: 0.7471 - accuracy: 0.7034 - val_loss: 0.7779 - val_accuracy: 0.6915\n",
            "\n",
            "Epoch 00047: accuracy did not improve from 0.71680\n",
            "Epoch 48/50\n",
            "44964/44964 [==============================] - 70s 2ms/step - loss: 0.7297 - accuracy: 0.7103 - val_loss: 0.8330 - val_accuracy: 0.6659\n",
            "\n",
            "Epoch 00048: accuracy did not improve from 0.71680\n",
            "Epoch 49/50\n",
            "44964/44964 [==============================] - 71s 2ms/step - loss: 0.7173 - accuracy: 0.7146 - val_loss: 0.7629 - val_accuracy: 0.6932\n",
            "\n",
            "Epoch 00049: accuracy did not improve from 0.71680\n",
            "Epoch 50/50\n",
            "44964/44964 [==============================] - 71s 2ms/step - loss: 0.7096 - accuracy: 0.7185 - val_loss: 0.7428 - val_accuracy: 0.6995\n",
            "\n",
            "Epoch 00050: accuracy improved from 0.71680 to 0.71851, saving model to /content/drive/My Drive/Models/VGG19/weights-50-0.719.hdf5\n"
          ],
          "name": "stdout"
        },
        {
          "output_type": "execute_result",
          "data": {
            "text/plain": [
              "<keras.callbacks.callbacks.History at 0x7f45fb58fcf8>"
            ]
          },
          "metadata": {
            "tags": []
          },
          "execution_count": 15
        }
      ]
    },
    {
      "cell_type": "code",
      "metadata": {
        "id": "5AgOEbtdxXLe",
        "colab_type": "code",
        "colab": {}
      },
      "source": [
        "\n",
        "from keras.models import load_model\n",
        "model = load_model(\"/content/drive/My Drive/Models/VGG16/weights-25-0.767.hdf5\")\n",
        "model.fit(trainX,trainY,verbose=1,epochs=25,validation_data=(testX,testY),callbacks=[checkpoint])"
      ],
      "execution_count": null,
      "outputs": []
    },
    {
      "cell_type": "code",
      "metadata": {
        "id": "l6zXVxslDtZK",
        "colab_type": "code",
        "colab": {}
      },
      "source": [
        "import matplotlib.pyplot as plt\n",
        "def plot_image(i, predictions_array, true_labels, images):\n",
        "  predictions_array, true_label, img = predictions_array[i], true_labels[i], images[i]\n",
        "  plt.grid(False)\n",
        "  plt.xticks([])\n",
        "  plt.yticks([])\n",
        "   \n",
        "  plt.imshow(img[...,0], cmap=plt.cm.binary)\n",
        " \n",
        "  predicted_label = np.argmax(predictions_array)\n",
        "  if predicted_label == true_label:\n",
        "    color = 'blue'\n",
        "  else:\n",
        "    color = 'red'\n",
        "   \n",
        "  plt.xlabel(\"{} {:2.0f}% ({})\".format(class_object[predicted_label],\n",
        "                                100*np.max(predictions_array),\n",
        "                                class_object[true_label]),\n",
        "                                color=color)"
      ],
      "execution_count": 22,
      "outputs": []
    },
    {
      "cell_type": "code",
      "metadata": {
        "id": "x6Vtacy8Ee1m",
        "colab_type": "code",
        "colab": {
          "base_uri": "https://localhost:8080/",
          "height": 441
        },
        "outputId": "f9809148-c88f-4657-b5b6-1f8d246ef8ef"
      },
      "source": [
        "num_rows = 3\n",
        "num_cols = 3\n",
        "num_images = num_rows*num_cols\n",
        "plt.figure(figsize=(2*num_cols, 2*num_rows))\n",
        "test_images = testX[:num_images]\n",
        "predictions = model.predict(testX_Pred)\n",
        "for i in range(num_images):    \n",
        "    plt.subplot(num_rows, num_cols, i+1)   \n",
        "    plot_image(i, predictions, testY_Pred, testX_Pred)    \n",
        " \n",
        "plt.tight_layout()\n",
        "plt.show()"
      ],
      "execution_count": 25,
      "outputs": [
        {
          "output_type": "display_data",
          "data": {
            "image/png": "[encoded data removed]",
            "text/plain": [
              "<Figure size 432x432 with 9 Axes>"
            ]
          },
          "metadata": {
            "tags": []
          }
        }
      ]
    },
    {
      "cell_type": "code",
      "metadata": {
        "id": "qC2A2H28F7rq",
        "colab_type": "code",
        "colab": {}
      },
      "source": [
        "acc = model.history.history['accuracy']\n",
        "val_accuracy = model.history.history['val_accuracy']\n",
        "loss  =  model.history.history['loss']\n",
        "val_loss = model.history.history['val_loss']"
      ],
      "execution_count": 26,
      "outputs": []
    },
    {
      "cell_type": "code",
      "metadata": {
        "id": "njkT6F-0GEj2",
        "colab_type": "code",
        "colab": {
          "base_uri": "https://localhost:8080/",
          "height": 545
        },
        "outputId": "ea9f6cba-4ace-448a-d0c6-a0c9a998a6d7"
      },
      "source": [
        "support.GenerateGraphs(acc,val_accuracy,loss,val_loss)"
      ],
      "execution_count": 29,
      "outputs": [
        {
          "output_type": "display_data",
          "data": {
            "image/png": "[encoded data removed]",
            "text/plain": [
              "<Figure size 432x288 with 1 Axes>"
            ]
          },
          "metadata": {
            "tags": [],
            "needs_background": "light"
          }
        },
        {
          "output_type": "display_data",
          "data": {
            "image/png": "[encoded data removed]",
            "text/plain": [
              "<Figure size 432x288 with 1 Axes>"
            ]
          },
          "metadata": {
            "tags": [],
            "needs_background": "light"
          }
        }
      ]
    },
    {
      "cell_type": "code",
      "metadata": {
        "id": "SZmf-wCwHPRe",
        "colab_type": "code",
        "colab": {
          "base_uri": "https://localhost:8080/",
          "height": 154
        },
        "outputId": "b7e3ca5c-137c-4241-c09b-928efeaad438"
      },
      "source": [
        "support.PrintMetrics(testX_Pred,testY_Pred,model)"
      ],
      "execution_count": 32,
      "outputs": [
        {
          "output_type": "stream",
          "text": [
            "Accuracy: 0.714705\n",
            "Precision: 0.457005\n",
            "Recall: 0.459508\n",
            "F1 score: 0.411793\n",
            "Cohens kappa: 0.543492\n"
          ],
          "name": "stdout"
        },
        {
          "output_type": "stream",
          "text": [
            "/usr/local/lib/python3.6/dist-packages/sklearn/metrics/_classification.py:1272: UndefinedMetricWarning: Precision is ill-defined and being set to 0.0 in labels with no predicted samples. Use `zero_division` parameter to control this behavior.\n",
            "  _warn_prf(average, modifier, msg_start, len(result))\n"
          ],
          "name": "stderr"
        }
      ]
    }
  ]
}