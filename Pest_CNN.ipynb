{
  "nbformat": 4,
  "nbformat_minor": 0,
  "metadata": {
    "colab": {
      "name": "Pest_CNN.ipynb",
      "provenance": [],
      "collapsed_sections": [],
      "authorship_tag": "ABX9TyOEWWfNv1xoxX18x+giNa6z",
      "include_colab_link": true
    },
    "kernelspec": {
      "name": "python3",
      "display_name": "Python 3"
    }
  },
  "cells": [
    {
      "cell_type": "markdown",
      "metadata": {
        "id": "view-in-github",
        "colab_type": "text"
      },
      "source": [
        "<a href=\"https://colab.research.google.com/github/SrivenkateswaraRao/Research-Project/blob/master/Pest_CNN.ipynb\" target=\"_parent\"><img src=\"https://colab.research.google.com/assets/colab-badge.svg\" alt=\"Open In Colab\"/></a>"
      ]
    },
    {
      "cell_type": "code",
      "metadata": {
        "id": "rVzRci5UPGfv",
        "colab_type": "code",
        "colab": {}
      },
      "source": [
        "import os\n",
        "from os import listdir\n",
        "from pydrive.auth import GoogleAuth\n",
        "from pydrive.drive import GoogleDrive\n",
        "from google.colab import auth\n",
        "from oauth2client.client import GoogleCredentials\n"
      ],
      "execution_count": 0,
      "outputs": []
    },
    {
      "cell_type": "code",
      "metadata": {
        "id": "BC8zl-94Tc4J",
        "colab_type": "code",
        "colab": {}
      },
      "source": [
        "auth.authenticate_user()\n",
        "gauth = GoogleAuth()\n",
        "gauth.credentials = GoogleCredentials.get_application_default()\n",
        "drive = GoogleDrive(gauth)\n"
      ],
      "execution_count": 0,
      "outputs": []
    },
    {
      "cell_type": "code",
      "metadata": {
        "id": "A5dGqOVbqVDZ",
        "colab_type": "code",
        "colab": {}
      },
      "source": [
        "import tensorflow as tf "
      ],
      "execution_count": 0,
      "outputs": []
    },
    {
      "cell_type": "code",
      "metadata": {
        "id": "kTOimpocqbAG",
        "colab_type": "code",
        "colab": {}
      },
      "source": [
        "print(tf.__version__)"
      ],
      "execution_count": 0,
      "outputs": []
    },
    {
      "cell_type": "code",
      "metadata": {
        "id": "mHBkPYS9qiM-",
        "colab_type": "code",
        "outputId": "f365c01c-077b-4e51-f31d-7be3fd23342f",
        "colab": {
          "base_uri": "https://localhost:8080/",
          "height": 34
        }
      },
      "source": [
        "import keras as ks "
      ],
      "execution_count": 0,
      "outputs": [
        {
          "output_type": "stream",
          "text": [
            "Using TensorFlow backend.\n"
          ],
          "name": "stderr"
        }
      ]
    },
    {
      "cell_type": "code",
      "metadata": {
        "id": "SuKFyluYqp9l",
        "colab_type": "code",
        "colab": {}
      },
      "source": [
        "print(ks.__version__)"
      ],
      "execution_count": 0,
      "outputs": []
    },
    {
      "cell_type": "markdown",
      "metadata": {
        "id": "TIeokIV1-tt9",
        "colab_type": "text"
      },
      "source": [
        "# import the necessary packages\n"
      ]
    },
    {
      "cell_type": "code",
      "metadata": {
        "id": "o5tE9Pib-4Aj",
        "colab_type": "code",
        "colab": {
          "base_uri": "https://localhost:8080/",
          "height": 34
        },
        "outputId": "a6439254-2ef2-431d-8797-7fb4d11547ca"
      },
      "source": [
        "from tensorflow.keras.models import Sequential\n",
        "from tensorflow.keras.layers import Conv2D\n",
        "from tensorflow.keras.layers import MaxPooling2D\n",
        "from tensorflow.keras.layers import Activation\n",
        "from tensorflow.keras.layers import Flatten\n",
        "from tensorflow.keras.layers import Dense\n",
        "from tensorflow.keras import backend as K\n",
        "from keras.preprocessing.image import ImageDataGenerator\n",
        "\n"
      ],
      "execution_count": 3,
      "outputs": [
        {
          "output_type": "stream",
          "text": [
            "Using TensorFlow backend.\n"
          ],
          "name": "stderr"
        }
      ]
    },
    {
      "cell_type": "code",
      "metadata": {
        "id": "t5gc_Z8YvMAS",
        "colab_type": "code",
        "outputId": "5faf7bf7-bda2-4f69-dae3-7fa45fb357f7",
        "colab": {
          "resources": {
            "http://localhost:8080/nbextensions/google.colab/files.js": {
              "data": "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",
              "ok": true,
              "headers": [
                [
                  "content-type",
                  "application/javascript"
                ]
              ],
              "status": 200,
              "status_text": ""
            }
          },
          "base_uri": "https://localhost:8080/",
          "height": 41
        }
      },
      "source": [
        "from google.colab import files\n",
        "files.upload() "
      ],
      "execution_count": 0,
      "outputs": [
        {
          "output_type": "display_data",
          "data": {
            "text/html": [
              "\n",
              "     <input type=\"file\" id=\"files-aa024ddf-abad-45c6-9226-6b7b7d53b1b0\" name=\"files[]\" multiple disabled />\n",
              "     <output id=\"result-aa024ddf-abad-45c6-9226-6b7b7d53b1b0\">\n",
              "      Upload widget is only available when the cell has been executed in the\n",
              "      current browser session. Please rerun this cell to enable.\n",
              "      </output>\n",
              "      <script src=\"/nbextensions/google.colab/files.js\"></script> "
            ],
            "text/plain": [
              "<IPython.core.display.HTML object>"
            ]
          },
          "metadata": {
            "tags": []
          }
        }
      ]
    },
    {
      "cell_type": "code",
      "metadata": {
        "id": "5i2-ylQeq31q",
        "colab_type": "code",
        "colab": {}
      },
      "source": [
        "import createimagedataset as dataset"
      ],
      "execution_count": 0,
      "outputs": []
    },
    {
      "cell_type": "code",
      "metadata": {
        "id": "7uc_shwei50n",
        "colab_type": "code",
        "outputId": "77414ce8-a08a-42d7-8a97-f1f077087296",
        "colab": {
          "base_uri": "https://localhost:8080/",
          "height": 185
        }
      },
      "source": [
        "file_list = drive.ListFile(\n",
        "    {'q': \"'1RSwoFiYQXzwgRhR7HHlJ5TYRATyfXBai' in parents\"}).GetList()\n",
        "\n",
        "for f in file_list:\n",
        "    print('title: %s, id: %s' % (f['title'], f['id']))\n",
        "    fname = f['title']\n",
        "    print('downloading to {}'.format(fname))\n",
        "    f_ = drive.CreateFile({'id': f['id']})\n",
        "    f_.GetContentFile(fname)"
      ],
      "execution_count": 10,
      "outputs": [
        {
          "output_type": "stream",
          "text": [
            "title: LABELS.zip, id: 1KsW4XPz3Kcy8s1HfKEBqob48snm3AfiN\n",
            "downloading to LABELS.zip\n",
            "title: GREENPATROL_DB_V1.0.zip, id: 1IrF6nrEx7NUZ9kNFsuWZdLJgTRPHwg2F\n",
            "downloading to GREENPATROL_DB_V1.0.zip\n",
            "title: Untitled0.ipynb, id: 1VBu-bhwXGKUz_Ew25RH6VRzZD3IzN-BF\n",
            "downloading to Untitled0.ipynb\n",
            "title: predefined_classes.txt, id: 1O-dBOm30GdQn2m0C_5QCqrjWZAAhpPic\n",
            "downloading to predefined_classes.txt\n",
            "title: all_pictures.txt, id: 1lPM9fmGp_fmwzjUK4vjG6mUytjC7cFFw\n",
            "downloading to all_pictures.txt\n"
          ],
          "name": "stdout"
        }
      ]
    },
    {
      "cell_type": "code",
      "metadata": {
        "id": "v5CiU0vPL5CE",
        "colab_type": "code",
        "colab": {}
      },
      "source": [
        ""
      ],
      "execution_count": 0,
      "outputs": []
    },
    {
      "cell_type": "code",
      "metadata": {
        "id": "xbw_wss1_Mex",
        "colab_type": "code",
        "colab": {}
      },
      "source": [
        "download_Pests = drive.CreateFile({'id': '1IrF6nrEx7NUZ9kNFsuWZdLJgTRPHwg2F'})\n"
      ],
      "execution_count": 0,
      "outputs": []
    },
    {
      "cell_type": "code",
      "metadata": {
        "id": "DTdb6rVDyJPo",
        "colab_type": "code",
        "colab": {}
      },
      "source": [
        "download_Annotations = drive.CreateFile({'id': '1KsW4XPz3Kcy8s1HfKEBqob48snm3AfiN'})\n"
      ],
      "execution_count": 0,
      "outputs": []
    },
    {
      "cell_type": "code",
      "metadata": {
        "id": "dpL39rEq0KEP",
        "colab_type": "code",
        "colab": {}
      },
      "source": [
        "!unzip LABELS.zip -d '/Pests'\n"
      ],
      "execution_count": 0,
      "outputs": []
    },
    {
      "cell_type": "code",
      "metadata": {
        "id": "2LiIDPb80QUZ",
        "colab_type": "code",
        "colab": {}
      },
      "source": [
        "!unzip GREENPATROL_DB_V1.0.zip -d '/Pests'\n"
      ],
      "execution_count": 0,
      "outputs": []
    },
    {
      "cell_type": "code",
      "metadata": {
        "id": "91g1hPY1S-Hy",
        "colab_type": "code",
        "colab": {}
      },
      "source": [
        "# -*- coding: utf-8 -*-\n",
        "\"\"\"createImageDataset.ipynb\n",
        "\n",
        "Automatically generated by Colaboratory.\n",
        "\n",
        "Original file is located at\n",
        "    https://colab.research.google.com/drive/1FXiYKCQ-jtbL_O29BQb2Xy1bBd2inM9q\n",
        "\"\"\"\n",
        "\n",
        "from os import listdir\n",
        "import numpy as np\n",
        "import xml.etree.ElementTree as ET\n",
        "import cv2\n",
        "\n",
        "class createImageDataset(object):\n",
        "    \n",
        "    def __init__(self, class_map=None):\n",
        "        self.image_info = []\n",
        "        self.trainX = []\n",
        "        self.trainY = []\n",
        "        self.testX = []\n",
        "        self.testY = []\n",
        "            \n",
        "    def add_image_info(self , image_array , image_path , image_id , object_id , class_name , class_id):\n",
        "        \n",
        "        image_info_ = {'object_id': image_id,\n",
        "                       'object_class': class_name,\n",
        "                       'image_path': image_path,\n",
        "                       'image_array': image_array,\n",
        "                       'class_id' : class_id}\n",
        "        self.image_info.append(image_info_)\n",
        "\n",
        "    def parse_xml(self,filer):\n",
        "        boxes = list()\n",
        "        names = list()\n",
        "        root = ET.parse(filer).getroot() \n",
        "        for box in root.findall('.//object'):\n",
        "            xmin = int(box.find('.//bndbox/xmin').text)\n",
        "            xmax = int(box.find('.//bndbox/xmax').text)\n",
        "            ymin = int(box.find('.//bndbox/ymin').text)\n",
        "            ymax = int(box.find('.//bndbox/ymax').text)\n",
        "            name = root.find('.//name').text\n",
        "            coords = [xmin , ymin , xmax , ymax]\n",
        "            names.append(name)\n",
        "            boxes.append(coords)\n",
        "        width = int(root.find('.//size/width').text)\n",
        "        height = int(root.find('.//size/height').text)\n",
        "        path = root.find('.//path').text\n",
        "        filename = root.find('filename').text\n",
        "        filename = filename[:-4]\n",
        "\n",
        "        return boxes, width, height , names , path , filename\n",
        "\n",
        "    def get_image_arrays(self , annot_path , class_object):\n",
        "        \n",
        "        count = 0\n",
        "        for i in listdir(annot_path):\n",
        "            patt = annot_path +'/' + i\n",
        "            parsed = self.parse_xml(patt)\n",
        "            img = cv2.imread('/Pests/GREENPATROL_DB_V1.0/'+i[0:-4]+'.jpg')\n",
        "            for wh in range(0 , len(parsed[0])):\n",
        "                crop_img = img[parsed[0][wh][1]:parsed[0][wh][3] , parsed[0][wh][0]:parsed[0][wh][2] ]\n",
        "                \n",
        "                class_name = parsed[3][wh]\n",
        "                keys = list(class_object.keys())  \n",
        "                values = list(class_object.values())\n",
        "                class_id = keys[values.index(class_name)]\n",
        "                \n",
        "                resized_img = cv2.resize(crop_img,(32,32))\n",
        "                self.add_image_info( image_array = resized_img , image_path = parsed[4],\n",
        "                                   object_id = count , class_name=parsed[3][wh] , image_id= 0 , class_id=class_id )\n",
        "                print('İmage : ' + parsed[4] + ' added to dataset with class name \"' + parsed[3][wh]  +'\".'  )\n",
        "                count = count + 1\n",
        "    \n",
        "    def prepare_dataset(self , path , class_object , test_size):\n",
        "        \n",
        "        self.get_image_arrays(path , class_object)\n",
        "        \n",
        "        img_arrays = np.array([d['image_array'] for d in self.image_info if 'image_array' in d])\n",
        "        class_names = np.array([d['object_class'] for d in self.image_info if 'object_class' in d])\n",
        "        class_ids  = np.array([d['class_id'] for d in self.image_info if 'class_id' in d])\n",
        "        all_idx = range(0 , len(img_arrays))\n",
        "        test_idx = np.random.choice(np.arange(len(img_arrays)), test_size, replace=False)\n",
        "        train_idx = np.delete(all_idx , test_idx) \n",
        "        \n",
        "        \n",
        "        self.testX = img_arrays[test_idx]\n",
        "        self.testY = class_ids[test_idx]\n",
        "        \n",
        "        self.trainX = img_arrays[train_idx]        \n",
        "        self.trainY = class_ids[train_idx]\n",
        "        \n",
        "        return print('Image dataset succesfully saved.')"
      ],
      "execution_count": 0,
      "outputs": []
    },
    {
      "cell_type": "code",
      "metadata": {
        "id": "jAru1vs5L53C",
        "colab_type": "code",
        "colab": {}
      },
      "source": [
        "class_object = {0 : 'background' , 1 : 'egg_wf' ,\n",
        "                2 : 'egg_bt', 3 : 'egg_ta', 4 : 'wf', 5 : 'bt', 6 : 'ta', 7 : 'ta_maps', 8 : 'ta_larvae', 9 : 'ta_maps+larvae', 10 : 'tomato'}"
      ],
      "execution_count": 0,
      "outputs": []
    },
    {
      "cell_type": "code",
      "metadata": {
        "id": "G2m9iZAeOctf",
        "colab_type": "code",
        "colab": {}
      },
      "source": [
        "train_set = createImageDataset()\n"
      ],
      "execution_count": 0,
      "outputs": []
    },
    {
      "cell_type": "code",
      "metadata": {
        "id": "PHyH9sn3Tt5w",
        "colab_type": "code",
        "colab": {}
      },
      "source": [
        "train_set.prepare_dataset('/Pests/LABELS' , class_object,   test_size=30)"
      ],
      "execution_count": 0,
      "outputs": []
    },
    {
      "cell_type": "code",
      "metadata": {
        "id": "8ltvWjSrV4ox",
        "colab_type": "code",
        "colab": {}
      },
      "source": [
        "(trainY , trainX) , (testY , testX ) = (train_set.trainY , train_set.trainX ) , (train_set.testY , train_set.testX )\n",
        "\n"
      ],
      "execution_count": 0,
      "outputs": []
    },
    {
      "cell_type": "code",
      "metadata": {
        "id": "rxr5HVCWWJl6",
        "colab_type": "code",
        "colab": {
          "base_uri": "https://localhost:8080/",
          "height": 1000
        },
        "outputId": "ec8e3d89-e759-4aab-dd32-f991ef5304f1"
      },
      "source": [
        "print(testX)"
      ],
      "execution_count": 21,
      "outputs": [
        {
          "output_type": "stream",
          "text": [
            "[[[[ 53  94  63]\n",
            "   [ 56  94  66]\n",
            "   [ 48  79  54]\n",
            "   ...\n",
            "   [ 49  93  62]\n",
            "   [ 52  97  67]\n",
            "   [ 53  94  66]]\n",
            "\n",
            "  [[ 58 101  68]\n",
            "   [ 60 104  72]\n",
            "   [ 44  83  57]\n",
            "   ...\n",
            "   [ 55 100  67]\n",
            "   [ 57 105  72]\n",
            "   [ 59 101  70]]\n",
            "\n",
            "  [[ 58  98  64]\n",
            "   [ 61 103  68]\n",
            "   [ 55  98  66]\n",
            "   ...\n",
            "   [ 52  97  64]\n",
            "   [ 55 103  67]\n",
            "   [ 54  98  66]]\n",
            "\n",
            "  ...\n",
            "\n",
            "  [[ 41  83  55]\n",
            "   [ 44  82  54]\n",
            "   [ 50  90  60]\n",
            "   ...\n",
            "   [ 65 104  82]\n",
            "   [ 74 121  99]\n",
            "   [ 78 127 108]]\n",
            "\n",
            "  [[ 46  92  60]\n",
            "   [ 48  89  59]\n",
            "   [ 65 109  80]\n",
            "   ...\n",
            "   [ 98 144 121]\n",
            "   [105 163 134]\n",
            "   [109 168 142]]\n",
            "\n",
            "  [[ 56 102  69]\n",
            "   [ 64 106  72]\n",
            "   [ 85 129  96]\n",
            "   ...\n",
            "   [108 164 136]\n",
            "   [118 181 147]\n",
            "   [120 182 149]]]\n",
            "\n",
            "\n",
            " [[[ 43  67  49]\n",
            "   [ 45  67  49]\n",
            "   [ 47  72  54]\n",
            "   ...\n",
            "   [ 80 126  88]\n",
            "   [ 69 115  79]\n",
            "   [ 57 100  67]]\n",
            "\n",
            "  [[ 40  64  46]\n",
            "   [ 46  65  48]\n",
            "   [ 48  68  50]\n",
            "   ...\n",
            "   [ 82 134  96]\n",
            "   [ 66 117  80]\n",
            "   [ 59 104  71]]\n",
            "\n",
            "  [[ 42  65  50]\n",
            "   [ 47  69  51]\n",
            "   [ 51  72  52]\n",
            "   ...\n",
            "   [ 65 115  78]\n",
            "   [ 58 109  72]\n",
            "   [ 61 107  71]]\n",
            "\n",
            "  ...\n",
            "\n",
            "  [[ 38  60  42]\n",
            "   [ 29  53  35]\n",
            "   [ 30  54  36]\n",
            "   ...\n",
            "   [ 47  71  49]\n",
            "   [ 61  87  63]\n",
            "   [ 65  94  71]]\n",
            "\n",
            "  [[ 42  64  46]\n",
            "   [ 33  57  39]\n",
            "   [ 26  50  32]\n",
            "   ...\n",
            "   [ 48  73  50]\n",
            "   [ 59  88  63]\n",
            "   [ 56  85  62]]\n",
            "\n",
            "  [[ 40  66  48]\n",
            "   [ 31  55  37]\n",
            "   [ 26  49  32]\n",
            "   ...\n",
            "   [ 54  82  57]\n",
            "   [ 64  93  67]\n",
            "   [ 56  82  59]]]\n",
            "\n",
            "\n",
            " [[[ 98 187 127]\n",
            "   [ 80 175 134]\n",
            "   [ 98 209 171]\n",
            "   ...\n",
            "   [ 78 166 122]\n",
            "   [ 93 187 136]\n",
            "   [ 93 173 122]]\n",
            "\n",
            "  [[ 99 184 134]\n",
            "   [105 214 165]\n",
            "   [168 254 206]\n",
            "   ...\n",
            "   [105 187 133]\n",
            "   [ 90 172 118]\n",
            "   [ 85 172 119]]\n",
            "\n",
            "  [[ 97 182 130]\n",
            "   [102 194 146]\n",
            "   [110 200 139]\n",
            "   ...\n",
            "   [111 202 151]\n",
            "   [ 81 168 114]\n",
            "   [ 99 186 134]]\n",
            "\n",
            "  ...\n",
            "\n",
            "  [[103 208 152]\n",
            "   [125 215 161]\n",
            "   [104 217 169]\n",
            "   ...\n",
            "   [ 90 192 140]\n",
            "   [ 94 178 121]\n",
            "   [ 97 188 132]]\n",
            "\n",
            "  [[104 185 127]\n",
            "   [105 208 156]\n",
            "   [117 215 157]\n",
            "   ...\n",
            "   [ 89 171 121]\n",
            "   [ 87 170 119]\n",
            "   [102 200 147]]\n",
            "\n",
            "  [[114 221 171]\n",
            "   [116 210 149]\n",
            "   [106 188 136]\n",
            "   ...\n",
            "   [ 94 183 133]\n",
            "   [ 95 181 127]\n",
            "   [ 61 160 112]]]\n",
            "\n",
            "\n",
            " ...\n",
            "\n",
            "\n",
            " [[[ 96 180 138]\n",
            "   [ 99 179 137]\n",
            "   [ 99 175 133]\n",
            "   ...\n",
            "   [ 81 158 119]\n",
            "   [ 76 154 115]\n",
            "   [ 80 158 120]]\n",
            "\n",
            "  [[104 185 142]\n",
            "   [111 191 147]\n",
            "   [ 91 167 124]\n",
            "   ...\n",
            "   [ 73 148 113]\n",
            "   [ 63 141 103]\n",
            "   [ 74 151 114]]\n",
            "\n",
            "  [[ 84 158 116]\n",
            "   [ 85 159 116]\n",
            "   [ 73 146 104]\n",
            "   ...\n",
            "   [ 70 146 112]\n",
            "   [ 68 145 109]\n",
            "   [ 69 147 110]]\n",
            "\n",
            "  ...\n",
            "\n",
            "  [[ 73 144 104]\n",
            "   [ 71 142 102]\n",
            "   [ 70 143 103]\n",
            "   ...\n",
            "   [ 66 139 105]\n",
            "   [ 68 140 104]\n",
            "   [ 61 134  95]]\n",
            "\n",
            "  [[ 76 146 106]\n",
            "   [ 74 144 105]\n",
            "   [ 72 143 106]\n",
            "   ...\n",
            "   [ 71 146 107]\n",
            "   [ 83 159 119]\n",
            "   [ 64 139  99]]\n",
            "\n",
            "  [[ 78 151 111]\n",
            "   [ 70 143 104]\n",
            "   [ 72 142 105]\n",
            "   ...\n",
            "   [ 65 143 101]\n",
            "   [ 69 147 105]\n",
            "   [ 65 141 100]]]\n",
            "\n",
            "\n",
            " [[[ 48  97  59]\n",
            "   [ 47  93  57]\n",
            "   [ 43  93  51]\n",
            "   ...\n",
            "   [ 43  94  57]\n",
            "   [ 43  94  56]\n",
            "   [ 44  95  58]]\n",
            "\n",
            "  [[ 46  93  55]\n",
            "   [ 50  97  58]\n",
            "   [ 46  95  57]\n",
            "   ...\n",
            "   [ 40  91  53]\n",
            "   [ 43  94  57]\n",
            "   [ 40  91  54]]\n",
            "\n",
            "  [[ 45  93  57]\n",
            "   [ 44  93  55]\n",
            "   [ 42  91  53]\n",
            "   ...\n",
            "   [ 38  89  52]\n",
            "   [ 38  89  52]\n",
            "   [ 39  90  52]]\n",
            "\n",
            "  ...\n",
            "\n",
            "  [[ 43  88  55]\n",
            "   [ 39  83  52]\n",
            "   [ 40  85  52]\n",
            "   ...\n",
            "   [ 41  85  49]\n",
            "   [ 44  87  54]\n",
            "   [ 43  85  50]]\n",
            "\n",
            "  [[ 39  86  53]\n",
            "   [ 40  89  51]\n",
            "   [ 38  83  50]\n",
            "   ...\n",
            "   [ 46  90  54]\n",
            "   [ 44  85  53]\n",
            "   [ 43  87  51]]\n",
            "\n",
            "  [[ 43  90  57]\n",
            "   [ 37  84  51]\n",
            "   [ 38  86  50]\n",
            "   ...\n",
            "   [ 45  89  52]\n",
            "   [ 39  84  51]\n",
            "   [ 43  87  51]]]\n",
            "\n",
            "\n",
            " [[[ 47  94  62]\n",
            "   [ 39  83  52]\n",
            "   [ 44  82  56]\n",
            "   ...\n",
            "   [ 33  67  43]\n",
            "   [ 35  72  46]\n",
            "   [ 32  71  45]]\n",
            "\n",
            "  [[ 52  97  65]\n",
            "   [ 49  91  59]\n",
            "   [ 49  91  61]\n",
            "   ...\n",
            "   [ 35  70  44]\n",
            "   [ 35  71  45]\n",
            "   [ 33  71  44]]\n",
            "\n",
            "  [[ 57  97  67]\n",
            "   [ 55  93  65]\n",
            "   [ 56  95  65]\n",
            "   ...\n",
            "   [ 38  72  47]\n",
            "   [ 42  74  49]\n",
            "   [ 40  77  51]]\n",
            "\n",
            "  ...\n",
            "\n",
            "  [[ 55  92  62]\n",
            "   [ 41  81  53]\n",
            "   [ 34  74  48]\n",
            "   ...\n",
            "   [ 35  75  47]\n",
            "   [ 36  75  45]\n",
            "   [ 38  79  51]]\n",
            "\n",
            "  [[ 50  88  58]\n",
            "   [ 47  86  58]\n",
            "   [ 40  79  54]\n",
            "   ...\n",
            "   [ 39  77  50]\n",
            "   [ 30  71  45]\n",
            "   [ 31  71  43]]\n",
            "\n",
            "  [[ 43  83  53]\n",
            "   [ 42  80  52]\n",
            "   [ 36  74  48]\n",
            "   ...\n",
            "   [ 42  79  53]\n",
            "   [ 30  70  45]\n",
            "   [ 39  74  46]]]]\n"
          ],
          "name": "stdout"
        }
      ]
    },
    {
      "cell_type": "markdown",
      "metadata": {
        "id": "irk-K1nz1nkD",
        "colab_type": "text"
      },
      "source": [
        "# New Section"
      ]
    }
  ]
}