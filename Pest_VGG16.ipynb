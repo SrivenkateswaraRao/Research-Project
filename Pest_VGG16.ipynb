{
  "nbformat": 4,
  "nbformat_minor": 0,
  "metadata": {
    "colab": {
      "name": "Increase RAM Reference Notes By Techhawa .ipynb",
      "provenance": [],
      "collapsed_sections": [],
      "machine_shape": "hm",
      "include_colab_link": true
    },
    "kernelspec": {
      "name": "python3",
      "display_name": "Python 3"
    },
    "accelerator": "TPU"
  },
  "cells": [
    {
      "cell_type": "markdown",
      "metadata": {
        "id": "view-in-github",
        "colab_type": "text"
      },
      "source": [
        "<a href=\"https://colab.research.google.com/github/SrivenkateswaraRao/Research-Project/blob/master/Pest_VGG16.ipynb\" target=\"_parent\"><img src=\"https://colab.research.google.com/assets/colab-badge.svg\" alt=\"Open In Colab\"/></a>"
      ]
    },
    {
      "cell_type": "code",
      "metadata": {
        "id": "vRXTdQDVKS6v",
        "colab_type": "code",
        "colab": {}
      },
      "source": [
        "import os\n",
        "from os import listdir\n",
        "from pydrive.auth import GoogleAuth\n",
        "from pydrive.drive import GoogleDrive\n",
        "from google.colab import auth\n",
        "from oauth2client.client import GoogleCredentials\n",
        "import numpy as np"
      ],
      "execution_count": 1,
      "outputs": []
    },
    {
      "cell_type": "code",
      "metadata": {
        "id": "_zf7iSxzKaf0",
        "colab_type": "code",
        "colab": {}
      },
      "source": [
        "auth.authenticate_user()\n",
        "gauth = GoogleAuth()\n",
        "gauth.credentials = GoogleCredentials.get_application_default()\n",
        "drive = GoogleDrive(gauth)"
      ],
      "execution_count": 2,
      "outputs": []
    },
    {
      "cell_type": "code",
      "metadata": {
        "id": "LCOxaKCJKzA0",
        "colab_type": "code",
        "colab": {}
      },
      "source": [
        "from google.colab import files\n",
        "files.upload() "
      ],
      "execution_count": null,
      "outputs": []
    },
    {
      "cell_type": "code",
      "metadata": {
        "id": "dbxnI4zrLATr",
        "colab_type": "code",
        "colab": {}
      },
      "source": [
        "import CreatePestImageData as Imagedataset\n",
        "import SupportingFunctions as support"
      ],
      "execution_count": 4,
      "outputs": []
    },
    {
      "cell_type": "code",
      "metadata": {
        "id": "MsX9B9gWLClk",
        "colab_type": "code",
        "colab": {}
      },
      "source": [
        "support.DownLoadFiles('1aXb25Wp9sG7mL6AQgYY9ElrGcERi95JU',drive)"
      ],
      "execution_count": null,
      "outputs": []
    },
    {
      "cell_type": "code",
      "metadata": {
        "id": "HP63yquZOxes",
        "colab_type": "code",
        "colab": {}
      },
      "source": [
        "support.Unzip('/content/GREENPATROL_DB_V3.0.zip','/content/Pests/Images')"
      ],
      "execution_count": 12,
      "outputs": []
    },
    {
      "cell_type": "code",
      "metadata": {
        "id": "FjdLhsa-PhAM",
        "colab_type": "code",
        "colab": {
          "base_uri": "https://localhost:8080/",
          "height": 34
        },
        "outputId": "8d11ebc0-fe1f-4969-fd13-dc11ae15ea4f"
      },
      "source": [
        "support.fileCount('/content/Pests/Images')"
      ],
      "execution_count": 13,
      "outputs": [
        {
          "output_type": "stream",
          "text": [
            "4330\n"
          ],
          "name": "stdout"
        }
      ]
    },
    {
      "cell_type": "code",
      "metadata": {
        "id": "o9VJCEpZJ6TH",
        "colab_type": "code",
        "colab": {}
      },
      "source": [
        "dataSet = Imagedataset.createImageDataset()"
      ],
      "execution_count": 14,
      "outputs": []
    },
    {
      "cell_type": "code",
      "metadata": {
        "id": "kJc_EiuuQB17",
        "colab_type": "code",
        "colab": {}
      },
      "source": [
        "class_object = {0 : 'egg_wf' ,\n",
        "                1 : 'egg_bt', 2 : 'egg_ta', 3 : 'wf', 4 : 'bt', 5 : 'tomato'}"
      ],
      "execution_count": 16,
      "outputs": []
    },
    {
      "cell_type": "code",
      "metadata": {
        "id": "YQ4yg8zaQEmb",
        "colab_type": "code",
        "colab": {}
      },
      "source": [
        "dataSet.prepare_dataset('/content/Pests/Labels' , class_object ,32, '/content/Pests/Images/',  test_size=11241 )"
      ],
      "execution_count": null,
      "outputs": []
    },
    {
      "cell_type": "code",
      "metadata": {
        "id": "z8akPnARWYci",
        "colab_type": "code",
        "colab": {}
      },
      "source": [
        "listdir('/content/Pests/Labels')"
      ],
      "execution_count": null,
      "outputs": []
    },
    {
      "cell_type": "code",
      "metadata": {
        "id": "rtF-jfjvR3Kr",
        "colab_type": "code",
        "colab": {}
      },
      "source": [
        "(trainY , trainX) , (testY , testX ) = (dataSet.trainY , dataSet.trainX ) , (dataSet.testY , dataSet.testX )\n"
      ],
      "execution_count": 19,
      "outputs": []
    },
    {
      "cell_type": "code",
      "metadata": {
        "id": "VuJb61dJAmKX",
        "colab_type": "code",
        "colab": {}
      },
      "source": [
        "from keras.applications.vgg19 import VGG19\n",
        "from keras.models import Model\n",
        "from keras.layers import Dense\n",
        "from keras.layers import Flatten\n",
        "import tensorflow as tf"
      ],
      "execution_count": null,
      "outputs": []
    },
    {
      "cell_type": "code",
      "metadata": {
        "id": "kXXgL4gsTRQG",
        "colab_type": "code",
        "colab": {
          "base_uri": "https://localhost:8080/",
          "height": 121
        },
        "outputId": "676e0c59-7954-475f-a569-ebe34ffce247"
      },
      "source": [
        "from google.colab import drive\n",
        "drive.mount('/content/drive')"
      ],
      "execution_count": 22,
      "outputs": [
        {
          "output_type": "stream",
          "text": [
            "Go to this URL in a browser: https://accounts.google.com/o/oauth2/auth?client_id=947318989803-6bn6qk8qdgf4n4g3pfee6491hc0brc4i.apps.googleusercontent.com&redirect_uri=urn%3aietf%3awg%3aoauth%3a2.0%3aoob&response_type=code&scope=email%20https%3a%2f%2fwww.googleapis.com%2fauth%2fdocs.test%20https%3a%2f%2fwww.googleapis.com%2fauth%2fdrive%20https%3a%2f%2fwww.googleapis.com%2fauth%2fdrive.photos.readonly%20https%3a%2f%2fwww.googleapis.com%2fauth%2fpeopleapi.readonly\n",
            "\n",
            "Enter your authorization code:\n",
            "··········\n",
            "Mounted at /content/drive\n"
          ],
          "name": "stdout"
        }
      ]
    },
    {
      "cell_type": "code",
      "metadata": {
        "id": "Uy_EGcX3VAPW",
        "colab_type": "code",
        "colab": {
          "base_uri": "https://localhost:8080/",
          "height": 84
        },
        "outputId": "1958e608-e26f-4d82-8a5f-af1e237e5c4b"
      },
      "source": [
        "print(trainX.shape)\n",
        "print(trainY.shape)\n",
        "print(testX.shape)\n",
        "print(testY.shape)"
      ],
      "execution_count": 20,
      "outputs": [
        {
          "output_type": "stream",
          "text": [
            "(44964, 32, 32, 3)\n",
            "(44964,)\n",
            "(11241, 32, 32, 3)\n",
            "(11241,)\n"
          ],
          "name": "stdout"
        }
      ]
    },
    {
      "cell_type": "code",
      "metadata": {
        "id": "Le4oVzp0a2dl",
        "colab_type": "code",
        "colab": {}
      },
      "source": [
        "import numpy as np \n",
        "trainX = np.load('/content/drive/My Drive/Research-Data/trainX.npy') \n",
        "trainY = np.load('/content/drive/My Drive/Research-Data/trainY.npy') \n",
        "testX = np.load('/content/drive/My Drive/Research-Data/testX.npy') \n",
        "testY = np.load('/content/drive/My Drive/Research-Data/testY.npy') \n",
        "testX_Pred = np.load('/content/drive/My Drive/Research-Data/testX_Pred.npy') \n",
        "testY_Pred = np.load('/content/drive/My Drive/Research-Data/testY_Pred.npy')\n"
      ],
      "execution_count": 2,
      "outputs": []
    },
    {
      "cell_type": "code",
      "metadata": {
        "id": "4UTX-U4UvyFV",
        "colab_type": "code",
        "colab": {}
      },
      "source": [
        "import numpy as np \n",
        "np.save('/content/drive/My Drive/Research-Data/trainX',trainX) \n",
        "np.save('/content/drive/My Drive/Research-Data/trainY',trainY) \n",
        "np.save('/content/drive/My Drive/Research-Data/testX',testX) \n",
        "np.save('/content/drive/My Drive/Research-Data/testY', testY) "
      ],
      "execution_count": 23,
      "outputs": []
    },
    {
      "cell_type": "code",
      "metadata": {
        "id": "nveqACGYblLa",
        "colab_type": "code",
        "colab": {
          "base_uri": "https://localhost:8080/",
          "height": 857
        },
        "outputId": "a68b4073-60d0-40b9-8671-185d2842b2cd"
      },
      "source": [
        "import tensorflow as tf\n",
        "from keras import models\n",
        "from keras.applications.vgg16 import VGG16\n",
        "vgg = VGG16(input_shape=[32,32,3], include_top=False, pooling='avg',weights='imagenet')\n",
        "vgg.summary()"
      ],
      "execution_count": 27,
      "outputs": [
        {
          "output_type": "stream",
          "text": [
            "Downloading data from https://github.com/fchollet/deep-learning-models/releases/download/v0.1/vgg16_weights_tf_dim_ordering_tf_kernels_notop.h5\n",
            "58892288/58889256 [==============================] - 1s 0us/step\n",
            "Model: \"vgg16\"\n",
            "_________________________________________________________________\n",
            "Layer (type)                 Output Shape              Param #   \n",
            "=================================================================\n",
            "input_1 (InputLayer)         (None, 32, 32, 3)         0         \n",
            "_________________________________________________________________\n",
            "block1_conv1 (Conv2D)        (None, 32, 32, 64)        1792      \n",
            "_________________________________________________________________\n",
            "block1_conv2 (Conv2D)        (None, 32, 32, 64)        36928     \n",
            "_________________________________________________________________\n",
            "block1_pool (MaxPooling2D)   (None, 16, 16, 64)        0         \n",
            "_________________________________________________________________\n",
            "block2_conv1 (Conv2D)        (None, 16, 16, 128)       73856     \n",
            "_________________________________________________________________\n",
            "block2_conv2 (Conv2D)        (None, 16, 16, 128)       147584    \n",
            "_________________________________________________________________\n",
            "block2_pool (MaxPooling2D)   (None, 8, 8, 128)         0         \n",
            "_________________________________________________________________\n",
            "block3_conv1 (Conv2D)        (None, 8, 8, 256)         295168    \n",
            "_________________________________________________________________\n",
            "block3_conv2 (Conv2D)        (None, 8, 8, 256)         590080    \n",
            "_________________________________________________________________\n",
            "block3_conv3 (Conv2D)        (None, 8, 8, 256)         590080    \n",
            "_________________________________________________________________\n",
            "block3_pool (MaxPooling2D)   (None, 4, 4, 256)         0         \n",
            "_________________________________________________________________\n",
            "block4_conv1 (Conv2D)        (None, 4, 4, 512)         1180160   \n",
            "_________________________________________________________________\n",
            "block4_conv2 (Conv2D)        (None, 4, 4, 512)         2359808   \n",
            "_________________________________________________________________\n",
            "block4_conv3 (Conv2D)        (None, 4, 4, 512)         2359808   \n",
            "_________________________________________________________________\n",
            "block4_pool (MaxPooling2D)   (None, 2, 2, 512)         0         \n",
            "_________________________________________________________________\n",
            "block5_conv1 (Conv2D)        (None, 2, 2, 512)         2359808   \n",
            "_________________________________________________________________\n",
            "block5_conv2 (Conv2D)        (None, 2, 2, 512)         2359808   \n",
            "_________________________________________________________________\n",
            "block5_conv3 (Conv2D)        (None, 2, 2, 512)         2359808   \n",
            "_________________________________________________________________\n",
            "block5_pool (MaxPooling2D)   (None, 1, 1, 512)         0         \n",
            "_________________________________________________________________\n",
            "global_average_pooling2d_1 ( (None, 512)               0         \n",
            "=================================================================\n",
            "Total params: 14,714,688\n",
            "Trainable params: 14,714,688\n",
            "Non-trainable params: 0\n",
            "_________________________________________________________________\n"
          ],
          "name": "stdout"
        }
      ]
    },
    {
      "cell_type": "code",
      "metadata": {
        "id": "xfFIwthrbvNB",
        "colab_type": "code",
        "colab": {
          "base_uri": "https://localhost:8080/",
          "height": 286
        },
        "outputId": "7e2e562a-0d8c-416c-8c7b-773715b65fa0"
      },
      "source": [
        "from keras.models import Model\n",
        "layerName = 'block1_pool'\n",
        "mymodel = Model(inputs= vgg.input , outputs=vgg.get_layer(layerName).output)\n",
        "mymodel.summary()"
      ],
      "execution_count": 28,
      "outputs": [
        {
          "output_type": "stream",
          "text": [
            "Model: \"model_1\"\n",
            "_________________________________________________________________\n",
            "Layer (type)                 Output Shape              Param #   \n",
            "=================================================================\n",
            "input_1 (InputLayer)         (None, 32, 32, 3)         0         \n",
            "_________________________________________________________________\n",
            "block1_conv1 (Conv2D)        (None, 32, 32, 64)        1792      \n",
            "_________________________________________________________________\n",
            "block1_conv2 (Conv2D)        (None, 32, 32, 64)        36928     \n",
            "_________________________________________________________________\n",
            "block1_pool (MaxPooling2D)   (None, 16, 16, 64)        0         \n",
            "=================================================================\n",
            "Total params: 38,720\n",
            "Trainable params: 38,720\n",
            "Non-trainable params: 0\n",
            "_________________________________________________________________\n"
          ],
          "name": "stdout"
        }
      ]
    },
    {
      "cell_type": "code",
      "metadata": {
        "id": "aQG9aEyzb10a",
        "colab_type": "code",
        "colab": {}
      },
      "source": [
        "from keras import applications\n",
        "from keras.models import Model\n",
        "from keras.layers import Conv2D, MaxPooling2D, GlobalAveragePooling2D\n",
        "from keras.layers import Dense, Dropout, Activation, Flatten\n",
        "from keras.layers.normalization import BatchNormalization"
      ],
      "execution_count": 29,
      "outputs": []
    },
    {
      "cell_type": "code",
      "metadata": {
        "id": "OXeiKCTyb7VK",
        "colab_type": "code",
        "colab": {}
      },
      "source": [
        "model= models.Sequential()\n",
        "model.add(mymodel)\n",
        "model.add(Conv2D(16, (3, 3), activation='relu', padding='same'))\n",
        "model.add(MaxPooling2D(pool_size=(2, 2)))\n",
        "model.add(Conv2D(32, (3, 3), activation='relu', padding='same'))\n",
        "model.add(MaxPooling2D(pool_size=(2, 2)))\n",
        "model.add(GlobalAveragePooling2D())\n",
        "model.add(Dense(64, activation='relu'))\n",
        "model.add(BatchNormalization())\n",
        "model.add(Dense(6, activation='softmax'))\n",
        "model.layers[0].trainable = False\n",
        "\n",
        "# compile the model\n",
        "model.compile(optimizer='adam',\n",
        "              loss='categorical_crossentropy',\n",
        "              metrics=['accuracy'])"
      ],
      "execution_count": 30,
      "outputs": []
    },
    {
      "cell_type": "code",
      "metadata": {
        "id": "bV8ZkmwKcETB",
        "colab_type": "code",
        "colab": {
          "base_uri": "https://localhost:8080/",
          "height": 454
        },
        "outputId": "42d4308d-c51b-48ed-c406-e5cade91eb32"
      },
      "source": [
        "model.summary()"
      ],
      "execution_count": 33,
      "outputs": [
        {
          "output_type": "stream",
          "text": [
            "Model: \"sequential_1\"\n",
            "_________________________________________________________________\n",
            "Layer (type)                 Output Shape              Param #   \n",
            "=================================================================\n",
            "model_1 (Model)              (None, 16, 16, 64)        38720     \n",
            "_________________________________________________________________\n",
            "conv2d_1 (Conv2D)            (None, 16, 16, 16)        9232      \n",
            "_________________________________________________________________\n",
            "max_pooling2d_1 (MaxPooling2 (None, 8, 8, 16)          0         \n",
            "_________________________________________________________________\n",
            "conv2d_2 (Conv2D)            (None, 8, 8, 32)          4640      \n",
            "_________________________________________________________________\n",
            "max_pooling2d_2 (MaxPooling2 (None, 4, 4, 32)          0         \n",
            "_________________________________________________________________\n",
            "global_average_pooling2d_2 ( (None, 32)                0         \n",
            "_________________________________________________________________\n",
            "dense_1 (Dense)              (None, 64)                2112      \n",
            "_________________________________________________________________\n",
            "batch_normalization_1 (Batch (None, 64)                256       \n",
            "_________________________________________________________________\n",
            "dense_2 (Dense)              (None, 6)                 390       \n",
            "=================================================================\n",
            "Total params: 55,350\n",
            "Trainable params: 16,502\n",
            "Non-trainable params: 38,848\n",
            "_________________________________________________________________\n"
          ],
          "name": "stdout"
        }
      ]
    },
    {
      "cell_type": "code",
      "metadata": {
        "id": "9lqwou8uGhJw",
        "colab_type": "code",
        "colab": {}
      },
      "source": [
        "from tensorflow.keras.utils import to_categorical\n",
        "trainY = to_categorical(trainY)\n",
        "testY = to_categorical(testY)"
      ],
      "execution_count": 24,
      "outputs": []
    },
    {
      "cell_type": "code",
      "metadata": {
        "id": "CW_Lotmj0Hul",
        "colab_type": "code",
        "colab": {
          "base_uri": "https://localhost:8080/",
          "height": 34
        },
        "outputId": "d608f883-84bd-4240-f061-fdf911123204"
      },
      "source": [
        "filepath=\"/content/drive/My Drive/Models/VGG16/weights-{epoch:02d}-{accuracy:.3f}.hdf5\"\n",
        "from keras.callbacks import ModelCheckpoint\n",
        "checkpoint = ModelCheckpoint(filepath, monitor='accuracy',\n",
        "                               verbose=1, mode='max',save_best_only=True)\n",
        "\n",
        "callbacks_list = [checkpoint]"
      ],
      "execution_count": 25,
      "outputs": [
        {
          "output_type": "stream",
          "text": [
            "Using TensorFlow backend.\n"
          ],
          "name": "stderr"
        }
      ]
    },
    {
      "cell_type": "code",
      "metadata": {
        "id": "VbdKKFVzNOLX",
        "colab_type": "code",
        "colab": {}
      },
      "source": [
        "tf.config.experimental_run_functions_eagerly(True)\n"
      ],
      "execution_count": 32,
      "outputs": []
    },
    {
      "cell_type": "code",
      "metadata": {
        "id": "dpfQMEKJslzg",
        "colab_type": "code",
        "colab": {
          "base_uri": "https://localhost:8080/",
          "height": 34
        },
        "outputId": "56d2d821-b95e-43f1-91fe-948580900a66"
      },
      "source": [
        "print(model.history.history.keys())"
      ],
      "execution_count": null,
      "outputs": [
        {
          "output_type": "stream",
          "text": [
            "dict_keys(['val_loss', 'val_accuracy', 'loss', 'accuracy'])\n"
          ],
          "name": "stdout"
        }
      ]
    },
    {
      "cell_type": "code",
      "metadata": {
        "id": "lIgG5ReV9Lqg",
        "colab_type": "code",
        "colab": {
          "base_uri": "https://localhost:8080/",
          "height": 1000
        },
        "outputId": "cde14631-0cec-4764-c62b-9076d0af4d8c"
      },
      "source": [
        "model.fit(trainX,trainY,verbose=1,epochs=50,validation_data=(testX,testY),callbacks=[checkpoint])"
      ],
      "execution_count": 34,
      "outputs": [
        {
          "output_type": "stream",
          "text": [
            "Train on 44964 samples, validate on 11241 samples\n",
            "Epoch 1/50\n",
            "44964/44964 [==============================] - 29s 634us/step - loss: 1.0087 - accuracy: 0.6087 - val_loss: 0.9850 - val_accuracy: 0.5454\n",
            "\n",
            "Epoch 00001: accuracy improved from -inf to 0.60873, saving model to /content/drive/My Drive/Models/VGG16/weights-01-0.609.hdf5\n",
            "Epoch 2/50\n",
            "44964/44964 [==============================] - 28s 627us/step - loss: 0.9036 - accuracy: 0.6386 - val_loss: 1.1773 - val_accuracy: 0.5181\n",
            "\n",
            "Epoch 00002: accuracy improved from 0.60873 to 0.63856, saving model to /content/drive/My Drive/Models/VGG16/weights-02-0.639.hdf5\n",
            "Epoch 3/50\n",
            "44964/44964 [==============================] - 28s 625us/step - loss: 0.8634 - accuracy: 0.6530 - val_loss: 1.5526 - val_accuracy: 0.6471\n",
            "\n",
            "Epoch 00003: accuracy improved from 0.63856 to 0.65303, saving model to /content/drive/My Drive/Models/VGG16/weights-03-0.653.hdf5\n",
            "Epoch 4/50\n",
            "44964/44964 [==============================] - 27s 608us/step - loss: 0.8633 - accuracy: 0.6581 - val_loss: 1.0661 - val_accuracy: 0.6074\n",
            "\n",
            "Epoch 00004: accuracy improved from 0.65303 to 0.65813, saving model to /content/drive/My Drive/Models/VGG16/weights-04-0.658.hdf5\n",
            "Epoch 5/50\n",
            "44964/44964 [==============================] - 28s 628us/step - loss: 0.8287 - accuracy: 0.6688 - val_loss: 0.8673 - val_accuracy: 0.6595\n",
            "\n",
            "Epoch 00005: accuracy improved from 0.65813 to 0.66878, saving model to /content/drive/My Drive/Models/VGG16/weights-05-0.669.hdf5\n",
            "Epoch 6/50\n",
            "44964/44964 [==============================] - 28s 628us/step - loss: 0.8124 - accuracy: 0.6765 - val_loss: 0.8232 - val_accuracy: 0.6735\n",
            "\n",
            "Epoch 00006: accuracy improved from 0.66878 to 0.67654, saving model to /content/drive/My Drive/Models/VGG16/weights-06-0.677.hdf5\n",
            "Epoch 7/50\n",
            "44964/44964 [==============================] - 28s 627us/step - loss: 0.8035 - accuracy: 0.6788 - val_loss: 1.3974 - val_accuracy: 0.6699\n",
            "\n",
            "Epoch 00007: accuracy improved from 0.67654 to 0.67881, saving model to /content/drive/My Drive/Models/VGG16/weights-07-0.679.hdf5\n",
            "Epoch 8/50\n",
            "44964/44964 [==============================] - 27s 602us/step - loss: 0.7939 - accuracy: 0.6853 - val_loss: 0.9725 - val_accuracy: 0.6350\n",
            "\n",
            "Epoch 00008: accuracy improved from 0.67881 to 0.68533, saving model to /content/drive/My Drive/Models/VGG16/weights-08-0.685.hdf5\n",
            "Epoch 9/50\n",
            "44964/44964 [==============================] - 27s 598us/step - loss: 0.7906 - accuracy: 0.6854 - val_loss: 0.8129 - val_accuracy: 0.6765\n",
            "\n",
            "Epoch 00009: accuracy improved from 0.68533 to 0.68539, saving model to /content/drive/My Drive/Models/VGG16/weights-09-0.685.hdf5\n",
            "Epoch 10/50\n",
            "44964/44964 [==============================] - 28s 616us/step - loss: 0.7815 - accuracy: 0.6892 - val_loss: 0.9857 - val_accuracy: 0.6269\n",
            "\n",
            "Epoch 00010: accuracy improved from 0.68539 to 0.68917, saving model to /content/drive/My Drive/Models/VGG16/weights-10-0.689.hdf5\n",
            "Epoch 11/50\n",
            "44964/44964 [==============================] - 28s 617us/step - loss: 0.7789 - accuracy: 0.6889 - val_loss: 0.8598 - val_accuracy: 0.6848\n",
            "\n",
            "Epoch 00011: accuracy did not improve from 0.68917\n",
            "Epoch 12/50\n",
            "44964/44964 [==============================] - 28s 629us/step - loss: 0.7745 - accuracy: 0.6909 - val_loss: 0.7821 - val_accuracy: 0.6864\n",
            "\n",
            "Epoch 00012: accuracy improved from 0.68917 to 0.69093, saving model to /content/drive/My Drive/Models/VGG16/weights-12-0.691.hdf5\n",
            "Epoch 13/50\n",
            "44964/44964 [==============================] - 28s 631us/step - loss: 0.7752 - accuracy: 0.6924 - val_loss: 0.8793 - val_accuracy: 0.6575\n",
            "\n",
            "Epoch 00013: accuracy improved from 0.69093 to 0.69244, saving model to /content/drive/My Drive/Models/VGG16/weights-13-0.692.hdf5\n",
            "Epoch 14/50\n",
            "44964/44964 [==============================] - 28s 614us/step - loss: 0.7654 - accuracy: 0.6946 - val_loss: 0.8129 - val_accuracy: 0.6624\n",
            "\n",
            "Epoch 00014: accuracy improved from 0.69244 to 0.69460, saving model to /content/drive/My Drive/Models/VGG16/weights-14-0.695.hdf5\n",
            "Epoch 15/50\n",
            "44964/44964 [==============================] - 28s 625us/step - loss: 0.7622 - accuracy: 0.6961 - val_loss: 0.7939 - val_accuracy: 0.6831\n",
            "\n",
            "Epoch 00015: accuracy improved from 0.69460 to 0.69609, saving model to /content/drive/My Drive/Models/VGG16/weights-15-0.696.hdf5\n",
            "Epoch 16/50\n",
            "44964/44964 [==============================] - 27s 597us/step - loss: 0.7580 - accuracy: 0.6990 - val_loss: 0.7864 - val_accuracy: 0.6850\n",
            "\n",
            "Epoch 00016: accuracy improved from 0.69609 to 0.69898, saving model to /content/drive/My Drive/Models/VGG16/weights-16-0.699.hdf5\n",
            "Epoch 17/50\n",
            "44964/44964 [==============================] - 28s 617us/step - loss: 0.7546 - accuracy: 0.6990 - val_loss: 1.0224 - val_accuracy: 0.6894\n",
            "\n",
            "Epoch 00017: accuracy improved from 0.69898 to 0.69900, saving model to /content/drive/My Drive/Models/VGG16/weights-17-0.699.hdf5\n",
            "Epoch 18/50\n",
            "44964/44964 [==============================] - 27s 604us/step - loss: 0.7534 - accuracy: 0.6993 - val_loss: 0.7929 - val_accuracy: 0.6834\n",
            "\n",
            "Epoch 00018: accuracy improved from 0.69900 to 0.69929, saving model to /content/drive/My Drive/Models/VGG16/weights-18-0.699.hdf5\n",
            "Epoch 19/50\n",
            "44964/44964 [==============================] - 28s 617us/step - loss: 0.7483 - accuracy: 0.7016 - val_loss: 0.8101 - val_accuracy: 0.6685\n",
            "\n",
            "Epoch 00019: accuracy improved from 0.69929 to 0.70156, saving model to /content/drive/My Drive/Models/VGG16/weights-19-0.702.hdf5\n",
            "Epoch 20/50\n",
            "44964/44964 [==============================] - 28s 612us/step - loss: 0.7485 - accuracy: 0.7027 - val_loss: 0.8635 - val_accuracy: 0.6735\n",
            "\n",
            "Epoch 00020: accuracy improved from 0.70156 to 0.70272, saving model to /content/drive/My Drive/Models/VGG16/weights-20-0.703.hdf5\n",
            "Epoch 21/50\n",
            "44964/44964 [==============================] - 27s 604us/step - loss: 0.7457 - accuracy: 0.7024 - val_loss: 0.9209 - val_accuracy: 0.6609\n",
            "\n",
            "Epoch 00021: accuracy did not improve from 0.70272\n",
            "Epoch 22/50\n",
            "44964/44964 [==============================] - 27s 595us/step - loss: 0.8487 - accuracy: 0.6616 - val_loss: 0.9226 - val_accuracy: 0.6429\n",
            "\n",
            "Epoch 00022: accuracy did not improve from 0.70272\n",
            "Epoch 23/50\n",
            "44964/44964 [==============================] - 26s 577us/step - loss: 0.8334 - accuracy: 0.6676 - val_loss: 0.8344 - val_accuracy: 0.6652\n",
            "\n",
            "Epoch 00023: accuracy did not improve from 0.70272\n",
            "Epoch 24/50\n",
            "44964/44964 [==============================] - 26s 587us/step - loss: 0.7965 - accuracy: 0.6844 - val_loss: 0.9196 - val_accuracy: 0.6491\n",
            "\n",
            "Epoch 00024: accuracy did not improve from 0.70272\n",
            "Epoch 25/50\n",
            "44964/44964 [==============================] - 26s 588us/step - loss: 0.7629 - accuracy: 0.6966 - val_loss: 0.7922 - val_accuracy: 0.6841\n",
            "\n",
            "Epoch 00025: accuracy did not improve from 0.70272\n",
            "Epoch 26/50\n",
            "44964/44964 [==============================] - 26s 567us/step - loss: 0.7564 - accuracy: 0.6997 - val_loss: 0.7745 - val_accuracy: 0.6892\n",
            "\n",
            "Epoch 00026: accuracy did not improve from 0.70272\n",
            "Epoch 27/50\n",
            "44964/44964 [==============================] - 26s 569us/step - loss: 0.7536 - accuracy: 0.7026 - val_loss: 0.9522 - val_accuracy: 0.6745\n",
            "\n",
            "Epoch 00027: accuracy did not improve from 0.70272\n",
            "Epoch 28/50\n",
            "44964/44964 [==============================] - 26s 582us/step - loss: 0.7454 - accuracy: 0.7034 - val_loss: 0.7802 - val_accuracy: 0.6864\n",
            "\n",
            "Epoch 00028: accuracy improved from 0.70272 to 0.70336, saving model to /content/drive/My Drive/Models/VGG16/weights-28-0.703.hdf5\n",
            "Epoch 29/50\n",
            "44964/44964 [==============================] - 26s 581us/step - loss: 0.7391 - accuracy: 0.7050 - val_loss: 0.8266 - val_accuracy: 0.6662\n",
            "\n",
            "Epoch 00029: accuracy improved from 0.70336 to 0.70501, saving model to /content/drive/My Drive/Models/VGG16/weights-29-0.705.hdf5\n",
            "Epoch 30/50\n",
            "44964/44964 [==============================] - 26s 586us/step - loss: 0.7399 - accuracy: 0.7054 - val_loss: 0.7715 - val_accuracy: 0.6899\n",
            "\n",
            "Epoch 00030: accuracy improved from 0.70501 to 0.70541, saving model to /content/drive/My Drive/Models/VGG16/weights-30-0.705.hdf5\n",
            "Epoch 31/50\n",
            "44964/44964 [==============================] - 26s 585us/step - loss: 0.7363 - accuracy: 0.7055 - val_loss: 0.9960 - val_accuracy: 0.5704\n",
            "\n",
            "Epoch 00031: accuracy improved from 0.70541 to 0.70548, saving model to /content/drive/My Drive/Models/VGG16/weights-31-0.705.hdf5\n",
            "Epoch 32/50\n",
            "44964/44964 [==============================] - 27s 593us/step - loss: 0.7344 - accuracy: 0.7079 - val_loss: 0.7934 - val_accuracy: 0.6858\n",
            "\n",
            "Epoch 00032: accuracy improved from 0.70548 to 0.70792, saving model to /content/drive/My Drive/Models/VGG16/weights-32-0.708.hdf5\n",
            "Epoch 33/50\n",
            "44964/44964 [==============================] - 27s 610us/step - loss: 0.7313 - accuracy: 0.7076 - val_loss: 0.8188 - val_accuracy: 0.6835\n",
            "\n",
            "Epoch 00033: accuracy did not improve from 0.70792\n",
            "Epoch 34/50\n",
            "44964/44964 [==============================] - 28s 614us/step - loss: 0.7301 - accuracy: 0.7075 - val_loss: 0.7621 - val_accuracy: 0.6912\n",
            "\n",
            "Epoch 00034: accuracy did not improve from 0.70792\n",
            "Epoch 35/50\n",
            "44964/44964 [==============================] - 28s 612us/step - loss: 0.7745 - accuracy: 0.6927 - val_loss: 0.8038 - val_accuracy: 0.6783\n",
            "\n",
            "Epoch 00035: accuracy did not improve from 0.70792\n",
            "Epoch 36/50\n",
            "44964/44964 [==============================] - 29s 638us/step - loss: 0.7358 - accuracy: 0.7062 - val_loss: 0.7708 - val_accuracy: 0.6940\n",
            "\n",
            "Epoch 00036: accuracy did not improve from 0.70792\n",
            "Epoch 37/50\n",
            "44964/44964 [==============================] - 28s 614us/step - loss: 0.7248 - accuracy: 0.7114 - val_loss: 1.0906 - val_accuracy: 0.6931\n",
            "\n",
            "Epoch 00037: accuracy improved from 0.70792 to 0.71137, saving model to /content/drive/My Drive/Models/VGG16/weights-37-0.711.hdf5\n",
            "Epoch 38/50\n",
            "44964/44964 [==============================] - 27s 590us/step - loss: 0.7229 - accuracy: 0.7113 - val_loss: 0.7569 - val_accuracy: 0.6966\n",
            "\n",
            "Epoch 00038: accuracy did not improve from 0.71137\n",
            "Epoch 39/50\n",
            "44964/44964 [==============================] - 27s 594us/step - loss: 0.7205 - accuracy: 0.7121 - val_loss: 0.7990 - val_accuracy: 0.6818\n",
            "\n",
            "Epoch 00039: accuracy improved from 0.71137 to 0.71206, saving model to /content/drive/My Drive/Models/VGG16/weights-39-0.712.hdf5\n",
            "Epoch 40/50\n",
            "44964/44964 [==============================] - 27s 600us/step - loss: 0.7222 - accuracy: 0.7127 - val_loss: 0.7674 - val_accuracy: 0.6925\n",
            "\n",
            "Epoch 00040: accuracy improved from 0.71206 to 0.71268, saving model to /content/drive/My Drive/Models/VGG16/weights-40-0.713.hdf5\n",
            "Epoch 41/50\n",
            "44964/44964 [==============================] - 26s 578us/step - loss: 0.7175 - accuracy: 0.7132 - val_loss: 0.7907 - val_accuracy: 0.6802\n",
            "\n",
            "Epoch 00041: accuracy improved from 0.71268 to 0.71321, saving model to /content/drive/My Drive/Models/VGG16/weights-41-0.713.hdf5\n",
            "Epoch 42/50\n",
            "44964/44964 [==============================] - 26s 582us/step - loss: 0.7199 - accuracy: 0.7119 - val_loss: 0.8556 - val_accuracy: 0.6862\n",
            "\n",
            "Epoch 00042: accuracy did not improve from 0.71321\n",
            "Epoch 43/50\n",
            "44964/44964 [==============================] - 27s 592us/step - loss: 0.7148 - accuracy: 0.7141 - val_loss: 0.7634 - val_accuracy: 0.6950\n",
            "\n",
            "Epoch 00043: accuracy improved from 0.71321 to 0.71415, saving model to /content/drive/My Drive/Models/VGG16/weights-43-0.714.hdf5\n",
            "Epoch 44/50\n",
            "44964/44964 [==============================] - 26s 580us/step - loss: 0.7131 - accuracy: 0.7162 - val_loss: 0.8257 - val_accuracy: 0.6789\n",
            "\n",
            "Epoch 00044: accuracy improved from 0.71415 to 0.71617, saving model to /content/drive/My Drive/Models/VGG16/weights-44-0.716.hdf5\n",
            "Epoch 45/50\n",
            "44964/44964 [==============================] - 27s 591us/step - loss: 0.7267 - accuracy: 0.7108 - val_loss: 0.7574 - val_accuracy: 0.6959\n",
            "\n",
            "Epoch 00045: accuracy did not improve from 0.71617\n",
            "Epoch 46/50\n",
            "44964/44964 [==============================] - 27s 594us/step - loss: 0.7266 - accuracy: 0.7107 - val_loss: 0.7973 - val_accuracy: 0.6867\n",
            "\n",
            "Epoch 00046: accuracy did not improve from 0.71617\n",
            "Epoch 47/50\n",
            "44964/44964 [==============================] - 27s 591us/step - loss: 0.7123 - accuracy: 0.7143 - val_loss: 0.7636 - val_accuracy: 0.6964\n",
            "\n",
            "Epoch 00047: accuracy did not improve from 0.71617\n",
            "Epoch 48/50\n",
            "44964/44964 [==============================] - 28s 615us/step - loss: 0.7106 - accuracy: 0.7154 - val_loss: 0.7639 - val_accuracy: 0.6950\n",
            "\n",
            "Epoch 00048: accuracy did not improve from 0.71617\n",
            "Epoch 49/50\n",
            "44964/44964 [==============================] - 27s 598us/step - loss: 0.7404 - accuracy: 0.7075 - val_loss: 0.7558 - val_accuracy: 0.6942\n",
            "\n",
            "Epoch 00049: accuracy did not improve from 0.71617\n",
            "Epoch 50/50\n",
            "44964/44964 [==============================] - 27s 607us/step - loss: 0.7064 - accuracy: 0.7179 - val_loss: 0.7612 - val_accuracy: 0.6934\n",
            "\n",
            "Epoch 00050: accuracy improved from 0.71617 to 0.71786, saving model to /content/drive/My Drive/Models/VGG16/weights-50-0.718.hdf5\n"
          ],
          "name": "stdout"
        },
        {
          "output_type": "execute_result",
          "data": {
            "text/plain": [
              "<keras.callbacks.callbacks.History at 0x7f2531a6b5f8>"
            ]
          },
          "metadata": {
            "tags": []
          },
          "execution_count": 34
        }
      ]
    },
    {
      "cell_type": "code",
      "metadata": {
        "id": "ecZ2MRayqf_v",
        "colab_type": "code",
        "colab": {}
      },
      "source": [
        "import json\n",
        "history_dict = model.history.history\n",
        "json.dump(str(history_dict), open('/content/drive/My Drive/Models/VGG16/History/VGG16_History4.json', 'w'))"
      ],
      "execution_count": 42,
      "outputs": []
    },
    {
      "cell_type": "code",
      "metadata": {
        "id": "Ubv4dWYJCiHH",
        "colab_type": "code",
        "colab": {}
      },
      "source": [
        "(augtrainX,augtrainY) = support.PrepareAugmentedData(trainX,trainY)"
      ],
      "execution_count": 36,
      "outputs": []
    },
    {
      "cell_type": "code",
      "metadata": {
        "id": "5AgOEbtdxXLe",
        "colab_type": "code",
        "colab": {
          "base_uri": "https://localhost:8080/",
          "height": 1000
        },
        "outputId": "5c8b74af-eac2-40f0-84b8-42311a8527bf"
      },
      "source": [
        "\n",
        "from keras.models import load_model\n",
        "model = load_model(\"/content/drive/My Drive/Models/VGG16/weights-25-0.767.hdf5\")\n",
        "model.fit(trainX,trainY,verbose=1,epochs=25,validation_data=(testX,testY),callbacks=[checkpoint])"
      ],
      "execution_count": 44,
      "outputs": [
        {
          "output_type": "stream",
          "text": [
            "Train on 44964 samples, validate on 11241 samples\n",
            "Epoch 1/25\n",
            "44964/44964 [==============================] - 45s 1ms/step - loss: 0.5693 - accuracy: 0.7680 - val_loss: 0.8500 - val_accuracy: 0.6870\n",
            "\n",
            "Epoch 00001: accuracy improved from 0.76692 to 0.76797, saving model to /content/drive/My Drive/Models/VGG16/weights-01-0.768.hdf5\n",
            "Epoch 2/25\n",
            "44964/44964 [==============================] - 43s 954us/step - loss: 0.5696 - accuracy: 0.7677 - val_loss: 0.8212 - val_accuracy: 0.6998\n",
            "\n",
            "Epoch 00002: accuracy did not improve from 0.76797\n",
            "Epoch 3/25\n",
            "44964/44964 [==============================] - 43s 949us/step - loss: 0.5668 - accuracy: 0.7688 - val_loss: 0.8354 - val_accuracy: 0.6939\n",
            "\n",
            "Epoch 00003: accuracy improved from 0.76797 to 0.76877, saving model to /content/drive/My Drive/Models/VGG16/weights-03-0.769.hdf5\n",
            "Epoch 4/25\n",
            "44964/44964 [==============================] - 42s 931us/step - loss: 0.6165 - accuracy: 0.7503 - val_loss: 0.7986 - val_accuracy: 0.6939\n",
            "\n",
            "Epoch 00004: accuracy did not improve from 0.76877\n",
            "Epoch 5/25\n",
            "44964/44964 [==============================] - 42s 943us/step - loss: 0.5970 - accuracy: 0.7580 - val_loss: 0.7947 - val_accuracy: 0.7042\n",
            "\n",
            "Epoch 00005: accuracy did not improve from 0.76877\n",
            "Epoch 6/25\n",
            "44964/44964 [==============================] - 43s 947us/step - loss: 0.5656 - accuracy: 0.7680 - val_loss: 0.8099 - val_accuracy: 0.7027\n",
            "\n",
            "Epoch 00006: accuracy did not improve from 0.76877\n",
            "Epoch 7/25\n",
            "44964/44964 [==============================] - 43s 953us/step - loss: 0.5605 - accuracy: 0.7720 - val_loss: 0.8471 - val_accuracy: 0.6903\n",
            "\n",
            "Epoch 00007: accuracy improved from 0.76877 to 0.77200, saving model to /content/drive/My Drive/Models/VGG16/weights-07-0.772.hdf5\n",
            "Epoch 8/25\n",
            "44964/44964 [==============================] - 43s 946us/step - loss: 0.5617 - accuracy: 0.7705 - val_loss: 0.8597 - val_accuracy: 0.6776\n",
            "\n",
            "Epoch 00008: accuracy did not improve from 0.77200\n",
            "Epoch 9/25\n",
            "44964/44964 [==============================] - 42s 935us/step - loss: 0.5593 - accuracy: 0.7705 - val_loss: 2.8052 - val_accuracy: 0.6958\n",
            "\n",
            "Epoch 00009: accuracy did not improve from 0.77200\n",
            "Epoch 10/25\n",
            "44964/44964 [==============================] - 42s 934us/step - loss: 0.5595 - accuracy: 0.7714 - val_loss: 0.8472 - val_accuracy: 0.6997\n",
            "\n",
            "Epoch 00010: accuracy did not improve from 0.77200\n",
            "Epoch 11/25\n",
            "44964/44964 [==============================] - 42s 932us/step - loss: 0.5602 - accuracy: 0.7691 - val_loss: 0.8438 - val_accuracy: 0.6918\n",
            "\n",
            "Epoch 00011: accuracy did not improve from 0.77200\n",
            "Epoch 12/25\n",
            "44964/44964 [==============================] - 42s 931us/step - loss: 0.5581 - accuracy: 0.7713 - val_loss: 1.9335 - val_accuracy: 0.6963\n",
            "\n",
            "Epoch 00012: accuracy did not improve from 0.77200\n",
            "Epoch 13/25\n",
            "44964/44964 [==============================] - 42s 927us/step - loss: 0.5592 - accuracy: 0.7700 - val_loss: 0.8284 - val_accuracy: 0.6995\n",
            "\n",
            "Epoch 00013: accuracy did not improve from 0.77200\n",
            "Epoch 14/25\n",
            "44964/44964 [==============================] - 42s 928us/step - loss: 0.5538 - accuracy: 0.7723 - val_loss: 0.8458 - val_accuracy: 0.6966\n",
            "\n",
            "Epoch 00014: accuracy improved from 0.77200 to 0.77231, saving model to /content/drive/My Drive/Models/VGG16/weights-14-0.772.hdf5\n",
            "Epoch 15/25\n",
            "44964/44964 [==============================] - 44s 975us/step - loss: 0.5495 - accuracy: 0.7727 - val_loss: 0.9336 - val_accuracy: 0.6980\n",
            "\n",
            "Epoch 00015: accuracy improved from 0.77231 to 0.77266, saving model to /content/drive/My Drive/Models/VGG16/weights-15-0.773.hdf5\n",
            "Epoch 16/25\n",
            "44964/44964 [==============================] - 42s 940us/step - loss: 0.5493 - accuracy: 0.7746 - val_loss: 0.8644 - val_accuracy: 0.7005\n",
            "\n",
            "Epoch 00016: accuracy improved from 0.77266 to 0.77462, saving model to /content/drive/My Drive/Models/VGG16/weights-16-0.775.hdf5\n",
            "Epoch 17/25\n",
            "44964/44964 [==============================] - 42s 941us/step - loss: 0.5474 - accuracy: 0.7753 - val_loss: 0.9228 - val_accuracy: 0.6981\n",
            "\n",
            "Epoch 00017: accuracy improved from 0.77462 to 0.77533, saving model to /content/drive/My Drive/Models/VGG16/weights-17-0.775.hdf5\n",
            "Epoch 18/25\n",
            "44964/44964 [==============================] - 43s 949us/step - loss: 0.5470 - accuracy: 0.7769 - val_loss: 0.8670 - val_accuracy: 0.7020\n",
            "\n",
            "Epoch 00018: accuracy improved from 0.77533 to 0.77691, saving model to /content/drive/My Drive/Models/VGG16/weights-18-0.777.hdf5\n",
            "Epoch 19/25\n",
            "44964/44964 [==============================] - 43s 959us/step - loss: 0.5441 - accuracy: 0.7758 - val_loss: 0.8645 - val_accuracy: 0.6920\n",
            "\n",
            "Epoch 00019: accuracy did not improve from 0.77691\n",
            "Epoch 20/25\n",
            "44964/44964 [==============================] - 42s 945us/step - loss: 0.5383 - accuracy: 0.7777 - val_loss: 0.8554 - val_accuracy: 0.6940\n",
            "\n",
            "Epoch 00020: accuracy improved from 0.77691 to 0.77769, saving model to /content/drive/My Drive/Models/VGG16/weights-20-0.778.hdf5\n",
            "Epoch 21/25\n",
            "44964/44964 [==============================] - 43s 953us/step - loss: 0.5376 - accuracy: 0.7782 - val_loss: 0.8656 - val_accuracy: 0.6944\n",
            "\n",
            "Epoch 00021: accuracy improved from 0.77769 to 0.77820, saving model to /content/drive/My Drive/Models/VGG16/weights-21-0.778.hdf5\n",
            "Epoch 22/25\n",
            "44964/44964 [==============================] - 43s 950us/step - loss: 0.5410 - accuracy: 0.7768 - val_loss: 0.8542 - val_accuracy: 0.6961\n",
            "\n",
            "Epoch 00022: accuracy did not improve from 0.77820\n",
            "Epoch 23/25\n",
            "44964/44964 [==============================] - 44s 972us/step - loss: 0.5400 - accuracy: 0.7770 - val_loss: 0.9007 - val_accuracy: 0.7022\n",
            "\n",
            "Epoch 00023: accuracy did not improve from 0.77820\n",
            "Epoch 24/25\n",
            "44964/44964 [==============================] - 43s 955us/step - loss: 0.5363 - accuracy: 0.7793 - val_loss: 0.9055 - val_accuracy: 0.6918\n",
            "\n",
            "Epoch 00024: accuracy improved from 0.77820 to 0.77933, saving model to /content/drive/My Drive/Models/VGG16/weights-24-0.779.hdf5\n",
            "Epoch 25/25\n",
            "44964/44964 [==============================] - 43s 948us/step - loss: 0.5356 - accuracy: 0.7781 - val_loss: 0.8988 - val_accuracy: 0.6986\n",
            "\n",
            "Epoch 00025: accuracy did not improve from 0.77933\n"
          ],
          "name": "stdout"
        },
        {
          "output_type": "execute_result",
          "data": {
            "text/plain": [
              "<keras.callbacks.callbacks.History at 0x7f2530619710>"
            ]
          },
          "metadata": {
            "tags": []
          },
          "execution_count": 44
        }
      ]
    },
    {
      "cell_type": "code",
      "metadata": {
        "id": "d8nXxvHzVxb5",
        "colab_type": "code",
        "colab": {}
      },
      "source": [
        ""
      ],
      "execution_count": null,
      "outputs": []
    }
  ]
}