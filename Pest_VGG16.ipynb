{
  "nbformat": 4,
  "nbformat_minor": 0,
  "metadata": {
    "colab": {
      "name": "Increase RAM Reference Notes By Techhawa .ipynb",
      "provenance": [],
      "collapsed_sections": [],
      "machine_shape": "hm",
      "include_colab_link": true
    },
    "kernelspec": {
      "name": "python3",
      "display_name": "Python 3"
    },
    "accelerator": "TPU"
  },
  "cells": [
    {
      "cell_type": "markdown",
      "metadata": {
        "id": "view-in-github",
        "colab_type": "text"
      },
      "source": [
        "<a href=\"https://colab.research.google.com/github/SrivenkateswaraRao/Research-Project/blob/master/Pest_VGG16.ipynb\" target=\"_parent\"><img src=\"https://colab.research.google.com/assets/colab-badge.svg\" alt=\"Open In Colab\"/></a>"
      ]
    },
    {
      "cell_type": "code",
      "metadata": {
        "id": "vRXTdQDVKS6v",
        "colab_type": "code",
        "colab": {}
      },
      "source": [
        "import os\n",
        "from os import listdir\n",
        "from pydrive.auth import GoogleAuth\n",
        "from pydrive.drive import GoogleDrive\n",
        "from google.colab import auth\n",
        "from oauth2client.client import GoogleCredentials\n",
        "import numpy as np"
      ],
      "execution_count": 1,
      "outputs": []
    },
    {
      "cell_type": "code",
      "metadata": {
        "id": "_zf7iSxzKaf0",
        "colab_type": "code",
        "colab": {}
      },
      "source": [
        "auth.authenticate_user()\n",
        "gauth = GoogleAuth()\n",
        "gauth.credentials = GoogleCredentials.get_application_default()\n",
        "drive = GoogleDrive(gauth)"
      ],
      "execution_count": 2,
      "outputs": []
    },
    {
      "cell_type": "code",
      "metadata": {
        "id": "LCOxaKCJKzA0",
        "colab_type": "code",
        "colab": {}
      },
      "source": [
        "from google.colab import files\n",
        "files.upload() "
      ],
      "execution_count": null,
      "outputs": []
    },
    {
      "cell_type": "code",
      "metadata": {
        "id": "dbxnI4zrLATr",
        "colab_type": "code",
        "colab": {}
      },
      "source": [
        "import CreatePestImageData as Imagedataset\n",
        "import SupportingFunctions as support"
      ],
      "execution_count": 3,
      "outputs": []
    },
    {
      "cell_type": "code",
      "metadata": {
        "id": "MsX9B9gWLClk",
        "colab_type": "code",
        "colab": {}
      },
      "source": [
        "support.DownLoadFiles('1aXb25Wp9sG7mL6AQgYY9ElrGcERi95JU',drive)"
      ],
      "execution_count": null,
      "outputs": []
    },
    {
      "cell_type": "code",
      "metadata": {
        "id": "HP63yquZOxes",
        "colab_type": "code",
        "colab": {}
      },
      "source": [
        "support.Unzip('/content/LABELS_V3.0.zip','/content/Pests/Labels')"
      ],
      "execution_count": 11,
      "outputs": []
    },
    {
      "cell_type": "code",
      "metadata": {
        "id": "FjdLhsa-PhAM",
        "colab_type": "code",
        "colab": {}
      },
      "source": [
        "support.fileCount('/content/Pests/Labels')"
      ],
      "execution_count": null,
      "outputs": []
    },
    {
      "cell_type": "code",
      "metadata": {
        "id": "o9VJCEpZJ6TH",
        "colab_type": "code",
        "colab": {}
      },
      "source": [
        "dataSet = Imagedataset.createImageDataset()"
      ],
      "execution_count": 13,
      "outputs": []
    },
    {
      "cell_type": "code",
      "metadata": {
        "id": "kJc_EiuuQB17",
        "colab_type": "code",
        "colab": {}
      },
      "source": [
        "class_object = {0 : 'egg_wf' ,\n",
        "                1 : 'egg_bt', 2 : 'egg_ta', 3 : 'wf', 4 : 'bt', 5 : 'ta', 6 : 'ta_maps', 7 : 'ta_larvae', 8 : 'ta_maps+larvae', 9 : 'tomato'}"
      ],
      "execution_count": 14,
      "outputs": []
    },
    {
      "cell_type": "code",
      "metadata": {
        "id": "YQ4yg8zaQEmb",
        "colab_type": "code",
        "colab": {}
      },
      "source": [
        "dataSet.prepare_dataset('/content/Pests/Labels' , class_object ,32, '/content/Pests/Images/',  test_size=11241 )"
      ],
      "execution_count": null,
      "outputs": []
    },
    {
      "cell_type": "code",
      "metadata": {
        "id": "z8akPnARWYci",
        "colab_type": "code",
        "colab": {}
      },
      "source": [
        "listdir('/content/Pests/Labels')"
      ],
      "execution_count": null,
      "outputs": []
    },
    {
      "cell_type": "code",
      "metadata": {
        "id": "rtF-jfjvR3Kr",
        "colab_type": "code",
        "colab": {}
      },
      "source": [
        "(trainY , trainX) , (testY , testX ) = (dataSet.trainY , dataSet.trainX ) , (dataSet.testY , dataSet.testX )\n"
      ],
      "execution_count": 16,
      "outputs": []
    },
    {
      "cell_type": "code",
      "metadata": {
        "id": "VuJb61dJAmKX",
        "colab_type": "code",
        "colab": {}
      },
      "source": [
        "from keras.applications.vgg19 import VGG19\n",
        "from keras.models import Model\n",
        "from keras.layers import Dense\n",
        "from keras.layers import Flatten\n",
        "import tensorflow as tf"
      ],
      "execution_count": null,
      "outputs": []
    },
    {
      "cell_type": "code",
      "metadata": {
        "id": "kXXgL4gsTRQG",
        "colab_type": "code",
        "colab": {
          "base_uri": "https://localhost:8080/",
          "height": 121
        },
        "outputId": "34ac14a4-3d25-446d-befd-cde50b7e406d"
      },
      "source": [
        "from google.colab import drive\n",
        "drive.mount('/content/drive')"
      ],
      "execution_count": 1,
      "outputs": [
        {
          "output_type": "stream",
          "text": [
            "Go to this URL in a browser: https://accounts.google.com/o/oauth2/auth?client_id=947318989803-6bn6qk8qdgf4n4g3pfee6491hc0brc4i.apps.googleusercontent.com&redirect_uri=urn%3aietf%3awg%3aoauth%3a2.0%3aoob&response_type=code&scope=email%20https%3a%2f%2fwww.googleapis.com%2fauth%2fdocs.test%20https%3a%2f%2fwww.googleapis.com%2fauth%2fdrive%20https%3a%2f%2fwww.googleapis.com%2fauth%2fdrive.photos.readonly%20https%3a%2f%2fwww.googleapis.com%2fauth%2fpeopleapi.readonly\n",
            "\n",
            "Enter your authorization code:\n",
            "··········\n",
            "Mounted at /content/drive\n"
          ],
          "name": "stdout"
        }
      ]
    },
    {
      "cell_type": "code",
      "metadata": {
        "id": "Uy_EGcX3VAPW",
        "colab_type": "code",
        "colab": {
          "base_uri": "https://localhost:8080/",
          "height": 84
        },
        "outputId": "2a7cae76-fbac-4c41-cb46-d354d509d998"
      },
      "source": [
        "print(trainX.shape)\n",
        "print(trainY.shape)\n",
        "print(testX.shape)\n",
        "print(testY.shape)"
      ],
      "execution_count": 48,
      "outputs": [
        {
          "output_type": "stream",
          "text": [
            "(44964, 32, 32, 3)\n",
            "(44964, 10)\n",
            "(11241, 32, 32, 3)\n",
            "(11241, 10)\n"
          ],
          "name": "stdout"
        }
      ]
    },
    {
      "cell_type": "code",
      "metadata": {
        "id": "Le4oVzp0a2dl",
        "colab_type": "code",
        "colab": {}
      },
      "source": [
        "import numpy as np \n",
        "trainX = np.load('/content/drive/My Drive/Research-Data/trainX.npy') \n",
        "trainY = np.load('/content/drive/My Drive/Research-Data/trainY.npy') \n",
        "testX = np.load('/content/drive/My Drive/Research-Data/testX.npy') \n",
        "testY = np.load('/content/drive/My Drive/Research-Data/testY.npy') "
      ],
      "execution_count": 47,
      "outputs": []
    },
    {
      "cell_type": "code",
      "metadata": {
        "id": "4UTX-U4UvyFV",
        "colab_type": "code",
        "colab": {}
      },
      "source": [
        "import numpy as np \n",
        "np.save('/content/drive/My Drive/Research-Data/trainX',trainX) \n",
        "np.save('/content/drive/My Drive/Research-Data/trainY',trainY) \n",
        "np.save('/content/drive/My Drive/Research-Data/testX',testX) \n",
        "np.save('/content/drive/My Drive/Research-Data/testY', testY) "
      ],
      "execution_count": 45,
      "outputs": []
    },
    {
      "cell_type": "code",
      "metadata": {
        "id": "nveqACGYblLa",
        "colab_type": "code",
        "colab": {
          "base_uri": "https://localhost:8080/",
          "height": 840
        },
        "outputId": "624f10a6-d58b-4fcf-eeb7-3b1bb0d6bf19"
      },
      "source": [
        "import tensorflow as tf\n",
        "from keras import models\n",
        "from keras.applications.vgg16 import VGG16\n",
        "vgg = VGG16(input_shape=[32,32,3], include_top=False, pooling='avg',weights='imagenet')\n",
        "vgg.summary()"
      ],
      "execution_count": 18,
      "outputs": [
        {
          "output_type": "stream",
          "text": [
            "Using TensorFlow backend.\n"
          ],
          "name": "stderr"
        },
        {
          "output_type": "stream",
          "text": [
            "Model: \"vgg16\"\n",
            "_________________________________________________________________\n",
            "Layer (type)                 Output Shape              Param #   \n",
            "=================================================================\n",
            "input_1 (InputLayer)         (None, 32, 32, 3)         0         \n",
            "_________________________________________________________________\n",
            "block1_conv1 (Conv2D)        (None, 32, 32, 64)        1792      \n",
            "_________________________________________________________________\n",
            "block1_conv2 (Conv2D)        (None, 32, 32, 64)        36928     \n",
            "_________________________________________________________________\n",
            "block1_pool (MaxPooling2D)   (None, 16, 16, 64)        0         \n",
            "_________________________________________________________________\n",
            "block2_conv1 (Conv2D)        (None, 16, 16, 128)       73856     \n",
            "_________________________________________________________________\n",
            "block2_conv2 (Conv2D)        (None, 16, 16, 128)       147584    \n",
            "_________________________________________________________________\n",
            "block2_pool (MaxPooling2D)   (None, 8, 8, 128)         0         \n",
            "_________________________________________________________________\n",
            "block3_conv1 (Conv2D)        (None, 8, 8, 256)         295168    \n",
            "_________________________________________________________________\n",
            "block3_conv2 (Conv2D)        (None, 8, 8, 256)         590080    \n",
            "_________________________________________________________________\n",
            "block3_conv3 (Conv2D)        (None, 8, 8, 256)         590080    \n",
            "_________________________________________________________________\n",
            "block3_pool (MaxPooling2D)   (None, 4, 4, 256)         0         \n",
            "_________________________________________________________________\n",
            "block4_conv1 (Conv2D)        (None, 4, 4, 512)         1180160   \n",
            "_________________________________________________________________\n",
            "block4_conv2 (Conv2D)        (None, 4, 4, 512)         2359808   \n",
            "_________________________________________________________________\n",
            "block4_conv3 (Conv2D)        (None, 4, 4, 512)         2359808   \n",
            "_________________________________________________________________\n",
            "block4_pool (MaxPooling2D)   (None, 2, 2, 512)         0         \n",
            "_________________________________________________________________\n",
            "block5_conv1 (Conv2D)        (None, 2, 2, 512)         2359808   \n",
            "_________________________________________________________________\n",
            "block5_conv2 (Conv2D)        (None, 2, 2, 512)         2359808   \n",
            "_________________________________________________________________\n",
            "block5_conv3 (Conv2D)        (None, 2, 2, 512)         2359808   \n",
            "_________________________________________________________________\n",
            "block5_pool (MaxPooling2D)   (None, 1, 1, 512)         0         \n",
            "_________________________________________________________________\n",
            "global_average_pooling2d_1 ( (None, 512)               0         \n",
            "=================================================================\n",
            "Total params: 14,714,688\n",
            "Trainable params: 14,714,688\n",
            "Non-trainable params: 0\n",
            "_________________________________________________________________\n"
          ],
          "name": "stdout"
        }
      ]
    },
    {
      "cell_type": "code",
      "metadata": {
        "id": "xfFIwthrbvNB",
        "colab_type": "code",
        "colab": {
          "base_uri": "https://localhost:8080/",
          "height": 286
        },
        "outputId": "9ae1b545-0048-4f2c-8731-0b99f99b51ce"
      },
      "source": [
        "from keras.models import Model\n",
        "layerName = 'block1_pool'\n",
        "mymodel = Model(inputs= vgg.input , outputs=vgg.get_layer(layerName).output)\n",
        "mymodel.summary()"
      ],
      "execution_count": 21,
      "outputs": [
        {
          "output_type": "stream",
          "text": [
            "Model: \"model_1\"\n",
            "_________________________________________________________________\n",
            "Layer (type)                 Output Shape              Param #   \n",
            "=================================================================\n",
            "input_1 (InputLayer)         (None, 32, 32, 3)         0         \n",
            "_________________________________________________________________\n",
            "block1_conv1 (Conv2D)        (None, 32, 32, 64)        1792      \n",
            "_________________________________________________________________\n",
            "block1_conv2 (Conv2D)        (None, 32, 32, 64)        36928     \n",
            "_________________________________________________________________\n",
            "block1_pool (MaxPooling2D)   (None, 16, 16, 64)        0         \n",
            "=================================================================\n",
            "Total params: 38,720\n",
            "Trainable params: 38,720\n",
            "Non-trainable params: 0\n",
            "_________________________________________________________________\n"
          ],
          "name": "stdout"
        }
      ]
    },
    {
      "cell_type": "code",
      "metadata": {
        "id": "aQG9aEyzb10a",
        "colab_type": "code",
        "colab": {}
      },
      "source": [
        "from keras import applications\n",
        "from keras.models import Model\n",
        "from keras.layers import Conv2D, MaxPooling2D, GlobalAveragePooling2D\n",
        "from keras.layers import Dense, Dropout, Activation, Flatten\n",
        "from keras.layers.normalization import BatchNormalization"
      ],
      "execution_count": 22,
      "outputs": []
    },
    {
      "cell_type": "code",
      "metadata": {
        "id": "OXeiKCTyb7VK",
        "colab_type": "code",
        "colab": {}
      },
      "source": [
        "model= models.Sequential()\n",
        "model.add(mymodel)\n",
        "model.add(Conv2D(16, (3, 3), activation='relu', padding='same'))\n",
        "model.add(MaxPooling2D(pool_size=(2, 2)))\n",
        "model.add(Conv2D(32, (3, 3), activation='relu', padding='same'))\n",
        "model.add(MaxPooling2D(pool_size=(2, 2)))\n",
        "model.add(GlobalAveragePooling2D())\n",
        "model.add(Dense(64, activation='relu'))\n",
        "model.add(BatchNormalization())\n",
        "model.add(Dense(10, activation='softmax'))\n",
        "model.layers[0].trainable = False\n",
        "\n",
        "# compile the model\n",
        "model.compile(optimizer='adam',\n",
        "              loss='categorical_crossentropy',\n",
        "              metrics=['accuracy'])"
      ],
      "execution_count": 23,
      "outputs": []
    },
    {
      "cell_type": "code",
      "metadata": {
        "id": "bV8ZkmwKcETB",
        "colab_type": "code",
        "colab": {
          "base_uri": "https://localhost:8080/",
          "height": 454
        },
        "outputId": "3aa25f1c-5611-4911-ee2e-ddb5d2c98c29"
      },
      "source": [
        "model.summary()"
      ],
      "execution_count": 24,
      "outputs": [
        {
          "output_type": "stream",
          "text": [
            "Model: \"sequential_2\"\n",
            "_________________________________________________________________\n",
            "Layer (type)                 Output Shape              Param #   \n",
            "=================================================================\n",
            "model_1 (Model)              (None, 16, 16, 64)        38720     \n",
            "_________________________________________________________________\n",
            "conv2d_1 (Conv2D)            (None, 16, 16, 16)        9232      \n",
            "_________________________________________________________________\n",
            "max_pooling2d_1 (MaxPooling2 (None, 8, 8, 16)          0         \n",
            "_________________________________________________________________\n",
            "conv2d_2 (Conv2D)            (None, 8, 8, 32)          4640      \n",
            "_________________________________________________________________\n",
            "max_pooling2d_2 (MaxPooling2 (None, 4, 4, 32)          0         \n",
            "_________________________________________________________________\n",
            "global_average_pooling2d_2 ( (None, 32)                0         \n",
            "_________________________________________________________________\n",
            "dense_1 (Dense)              (None, 64)                2112      \n",
            "_________________________________________________________________\n",
            "batch_normalization_1 (Batch (None, 64)                256       \n",
            "_________________________________________________________________\n",
            "dense_2 (Dense)              (None, 10)                650       \n",
            "=================================================================\n",
            "Total params: 55,610\n",
            "Trainable params: 16,762\n",
            "Non-trainable params: 38,848\n",
            "_________________________________________________________________\n"
          ],
          "name": "stdout"
        }
      ]
    },
    {
      "cell_type": "code",
      "metadata": {
        "id": "9lqwou8uGhJw",
        "colab_type": "code",
        "colab": {}
      },
      "source": [
        "from tensorflow.keras.utils import to_categorical\n",
        "trainY = to_categorical(trainY)\n",
        "testY = to_categorical(testY)"
      ],
      "execution_count": 25,
      "outputs": []
    },
    {
      "cell_type": "code",
      "metadata": {
        "id": "CW_Lotmj0Hul",
        "colab_type": "code",
        "colab": {}
      },
      "source": [
        "filepath=\"/content/drive/My Drive/Models/VGG16/weights-{epoch:02d}-{accuracy:.3f}.hdf5\"\n",
        "from keras.callbacks import ModelCheckpoint\n",
        "checkpoint = ModelCheckpoint(filepath, monitor='accuracy',\n",
        "                               verbose=1, mode='max',save_best_only=True)\n",
        "\n",
        "callbacks_list = [checkpoint]"
      ],
      "execution_count": 26,
      "outputs": []
    },
    {
      "cell_type": "code",
      "metadata": {
        "id": "VbdKKFVzNOLX",
        "colab_type": "code",
        "colab": {}
      },
      "source": [
        "tf.config.experimental_run_functions_eagerly(True)\n"
      ],
      "execution_count": 11,
      "outputs": []
    },
    {
      "cell_type": "code",
      "metadata": {
        "id": "JnZP3o5-ci19",
        "colab_type": "code",
        "colab": {
          "base_uri": "https://localhost:8080/",
          "height": 1000
        },
        "outputId": "50e3bc8c-7293-4c49-a484-443f371c9ac8"
      },
      "source": [
        "history = model.fit(trainX,trainY,verbose=1,epochs=20,validation_data=(testX,testY),callbacks=[checkpoint])"
      ],
      "execution_count": 27,
      "outputs": [
        {
          "output_type": "stream",
          "text": [
            "Train on 44964 samples, validate on 11241 samples\n",
            "Epoch 1/20\n",
            "44964/44964 [==============================] - 38s 845us/step - loss: 1.0581 - accuracy: 0.5999 - val_loss: 0.9323 - val_accuracy: 0.6351\n",
            "\n",
            "Epoch 00001: accuracy improved from -inf to 0.59990, saving model to /content/drive/My Drive/Models/VGG16/weights-01-0.600.hdf5\n",
            "Epoch 2/20\n",
            "44964/44964 [==============================] - 37s 826us/step - loss: 0.9094 - accuracy: 0.6342 - val_loss: 1.1659 - val_accuracy: 0.6384\n",
            "\n",
            "Epoch 00002: accuracy improved from 0.59990 to 0.63420, saving model to /content/drive/My Drive/Models/VGG16/weights-02-0.634.hdf5\n",
            "Epoch 3/20\n",
            "44964/44964 [==============================] - 38s 842us/step - loss: 0.8812 - accuracy: 0.6425 - val_loss: 0.9535 - val_accuracy: 0.6322\n",
            "\n",
            "Epoch 00003: accuracy improved from 0.63420 to 0.64254, saving model to /content/drive/My Drive/Models/VGG16/weights-03-0.643.hdf5\n",
            "Epoch 4/20\n",
            "44964/44964 [==============================] - 37s 826us/step - loss: 0.9280 - accuracy: 0.6267 - val_loss: 1.0060 - val_accuracy: 0.6025\n",
            "\n",
            "Epoch 00004: accuracy did not improve from 0.64254\n",
            "Epoch 5/20\n",
            "44964/44964 [==============================] - 37s 829us/step - loss: 0.8800 - accuracy: 0.6407 - val_loss: 0.8693 - val_accuracy: 0.6475\n",
            "\n",
            "Epoch 00005: accuracy did not improve from 0.64254\n",
            "Epoch 6/20\n",
            "44964/44964 [==============================] - 37s 827us/step - loss: 0.8599 - accuracy: 0.6525 - val_loss: 0.8450 - val_accuracy: 0.6645\n",
            "\n",
            "Epoch 00006: accuracy improved from 0.64254 to 0.65254, saving model to /content/drive/My Drive/Models/VGG16/weights-06-0.653.hdf5\n",
            "Epoch 7/20\n",
            "44964/44964 [==============================] - 37s 823us/step - loss: 0.8448 - accuracy: 0.6586 - val_loss: 0.8472 - val_accuracy: 0.6597\n",
            "\n",
            "Epoch 00007: accuracy improved from 0.65254 to 0.65857, saving model to /content/drive/My Drive/Models/VGG16/weights-07-0.659.hdf5\n",
            "Epoch 8/20\n",
            "44964/44964 [==============================] - 37s 825us/step - loss: 0.8341 - accuracy: 0.6631 - val_loss: 1.0813 - val_accuracy: 0.6741\n",
            "\n",
            "Epoch 00008: accuracy improved from 0.65857 to 0.66313, saving model to /content/drive/My Drive/Models/VGG16/weights-08-0.663.hdf5\n",
            "Epoch 9/20\n",
            "44964/44964 [==============================] - 37s 822us/step - loss: 0.8247 - accuracy: 0.6674 - val_loss: 0.9245 - val_accuracy: 0.6629\n",
            "\n",
            "Epoch 00009: accuracy improved from 0.66313 to 0.66736, saving model to /content/drive/My Drive/Models/VGG16/weights-09-0.667.hdf5\n",
            "Epoch 10/20\n",
            "44964/44964 [==============================] - 37s 824us/step - loss: 0.8163 - accuracy: 0.6721 - val_loss: 0.8318 - val_accuracy: 0.6564\n",
            "\n",
            "Epoch 00010: accuracy improved from 0.66736 to 0.67214, saving model to /content/drive/My Drive/Models/VGG16/weights-10-0.672.hdf5\n",
            "Epoch 11/20\n",
            "44964/44964 [==============================] - 38s 839us/step - loss: 0.8043 - accuracy: 0.6765 - val_loss: 0.8190 - val_accuracy: 0.6794\n",
            "\n",
            "Epoch 00011: accuracy improved from 0.67214 to 0.67652, saving model to /content/drive/My Drive/Models/VGG16/weights-11-0.677.hdf5\n",
            "Epoch 12/20\n",
            "44964/44964 [==============================] - 37s 825us/step - loss: 0.8016 - accuracy: 0.6783 - val_loss: 0.8405 - val_accuracy: 0.6535\n",
            "\n",
            "Epoch 00012: accuracy improved from 0.67652 to 0.67832, saving model to /content/drive/My Drive/Models/VGG16/weights-12-0.678.hdf5\n",
            "Epoch 13/20\n",
            "44964/44964 [==============================] - 37s 831us/step - loss: 0.7896 - accuracy: 0.6831 - val_loss: 0.7903 - val_accuracy: 0.6859\n",
            "\n",
            "Epoch 00013: accuracy improved from 0.67832 to 0.68310, saving model to /content/drive/My Drive/Models/VGG16/weights-13-0.683.hdf5\n",
            "Epoch 14/20\n",
            "44964/44964 [==============================] - 37s 832us/step - loss: 0.7885 - accuracy: 0.6838 - val_loss: 0.8016 - val_accuracy: 0.6793\n",
            "\n",
            "Epoch 00014: accuracy improved from 0.68310 to 0.68384, saving model to /content/drive/My Drive/Models/VGG16/weights-14-0.684.hdf5\n",
            "Epoch 15/20\n",
            "44964/44964 [==============================] - 37s 822us/step - loss: 0.7787 - accuracy: 0.6871 - val_loss: 0.7801 - val_accuracy: 0.6875\n",
            "\n",
            "Epoch 00015: accuracy improved from 0.68384 to 0.68711, saving model to /content/drive/My Drive/Models/VGG16/weights-15-0.687.hdf5\n",
            "Epoch 16/20\n",
            "44964/44964 [==============================] - 37s 823us/step - loss: 0.7850 - accuracy: 0.6853 - val_loss: 0.8297 - val_accuracy: 0.6784\n",
            "\n",
            "Epoch 00016: accuracy did not improve from 0.68711\n",
            "Epoch 17/20\n",
            "44964/44964 [==============================] - 37s 822us/step - loss: 0.7733 - accuracy: 0.6897 - val_loss: 0.8587 - val_accuracy: 0.6663\n",
            "\n",
            "Epoch 00017: accuracy improved from 0.68711 to 0.68973, saving model to /content/drive/My Drive/Models/VGG16/weights-17-0.690.hdf5\n",
            "Epoch 18/20\n",
            "44964/44964 [==============================] - 37s 824us/step - loss: 0.7689 - accuracy: 0.6916 - val_loss: 0.8017 - val_accuracy: 0.6863\n",
            "\n",
            "Epoch 00018: accuracy improved from 0.68973 to 0.69162, saving model to /content/drive/My Drive/Models/VGG16/weights-18-0.692.hdf5\n",
            "Epoch 19/20\n",
            "44964/44964 [==============================] - 37s 832us/step - loss: 0.7652 - accuracy: 0.6919 - val_loss: 0.8754 - val_accuracy: 0.6610\n",
            "\n",
            "Epoch 00019: accuracy improved from 0.69162 to 0.69189, saving model to /content/drive/My Drive/Models/VGG16/weights-19-0.692.hdf5\n",
            "Epoch 20/20\n",
            "44964/44964 [==============================] - 37s 831us/step - loss: 0.7636 - accuracy: 0.6946 - val_loss: 0.7768 - val_accuracy: 0.6920\n",
            "\n",
            "Epoch 00020: accuracy improved from 0.69189 to 0.69456, saving model to /content/drive/My Drive/Models/VGG16/weights-20-0.695.hdf5\n"
          ],
          "name": "stdout"
        }
      ]
    },
    {
      "cell_type": "code",
      "metadata": {
        "id": "dpfQMEKJslzg",
        "colab_type": "code",
        "colab": {
          "base_uri": "https://localhost:8080/",
          "height": 34
        },
        "outputId": "56d2d821-b95e-43f1-91fe-948580900a66"
      },
      "source": [
        "print(model.history.history.keys())"
      ],
      "execution_count": 34,
      "outputs": [
        {
          "output_type": "stream",
          "text": [
            "dict_keys(['val_loss', 'val_accuracy', 'loss', 'accuracy'])\n"
          ],
          "name": "stdout"
        }
      ]
    },
    {
      "cell_type": "code",
      "metadata": {
        "id": "ecZ2MRayqf_v",
        "colab_type": "code",
        "colab": {}
      },
      "source": [
        "import json\n",
        "history_dict = model.history.history\n",
        "json.dump(str(history_dict), open('/content/drive/My Drive/Models/VGG16/History.json', 'w'))"
      ],
      "execution_count": 42,
      "outputs": []
    },
    {
      "cell_type": "code",
      "metadata": {
        "id": "5AgOEbtdxXLe",
        "colab_type": "code",
        "colab": {
          "base_uri": "https://localhost:8080/",
          "height": 121
        },
        "outputId": "62ded9cf-1739-4162-e475-82027487924b"
      },
      "source": [
        "\n",
        "from keras.models import load_model\n",
        "model = load_model(\"/content/drive/My Drive/Models/VGG16/weights-20-0.695.hdf5\")\n",
        "model.fit(trainX,trainY,verbose=1,epochs=50,validation_data=(testX,testY),callbacks=[checkpoint])"
      ],
      "execution_count": null,
      "outputs": [
        {
          "output_type": "stream",
          "text": [
            "/usr/local/lib/python3.6/dist-packages/keras/engine/saving.py:384: UserWarning: Error in loading the saved optimizer state. As a result, your model is starting with a freshly initialized optimizer.\n",
            "  warnings.warn('Error in loading the saved optimizer '\n"
          ],
          "name": "stderr"
        },
        {
          "output_type": "stream",
          "text": [
            "Train on 44964 samples, validate on 11241 samples\n",
            "Epoch 1/50\n",
            "42368/44964 [===========================>..] - ETA: 7s - loss: 0.7792 - accuracy: 0.6852"
          ],
          "name": "stdout"
        }
      ]
    }
  ]
}