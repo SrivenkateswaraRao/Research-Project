{
  "nbformat": 4,
  "nbformat_minor": 0,
  "metadata": {
    "colab": {
      "name": "Pest_Classifier_GoogleNet.ipynb",
      "provenance": [],
      "collapsed_sections": [],
      "include_colab_link": true
    },
    "kernelspec": {
      "name": "python3",
      "display_name": "Python 3"
    }
  },
  "cells": [
    {
      "cell_type": "markdown",
      "metadata": {
        "id": "view-in-github",
        "colab_type": "text"
      },
      "source": [
        "<a href=\"https://colab.research.google.com/github/SrivenkateswaraRao/Research-Project/blob/master/Pest_Classifier_GoogleNet.ipynb\" target=\"_parent\"><img src=\"https://colab.research.google.com/assets/colab-badge.svg\" alt=\"Open In Colab\"/></a>"
      ]
    },
    {
      "cell_type": "code",
      "metadata": {
        "id": "soOpO2RCms5q",
        "colab_type": "code",
        "colab": {}
      },
      "source": [
        "import keras\n",
        "from keras.layers.core import Layer\n",
        "import keras.backend as K\n",
        "import tensorflow as tf\n",
        "import matplotlib.pyplot as plt\n"
      ],
      "execution_count": null,
      "outputs": []
    },
    {
      "cell_type": "code",
      "metadata": {
        "id": "Krr1MXdPf3I6",
        "colab_type": "code",
        "colab": {}
      },
      "source": [
        "from keras.models import Model\n",
        "from keras.layers import Conv2D, MaxPool2D,  \\\n",
        "    Dropout, Dense, Input, concatenate,      \\\n",
        "    GlobalAveragePooling2D, AveragePooling2D,\\\n",
        "    Flatten\n",
        "\n",
        "import cv2 \n",
        "import numpy as np \n",
        "from keras import backend as K \n",
        "from keras.utils import np_utils\n",
        "\n",
        "import math \n",
        "from keras.optimizers import SGD \n",
        "from keras.callbacks import LearningRateScheduler"
      ],
      "execution_count": null,
      "outputs": []
    },
    {
      "cell_type": "code",
      "metadata": {
        "id": "m5o1HfjhJITq",
        "colab_type": "code",
        "colab": {}
      },
      "source": [
        "def inception_module(x,\n",
        "                     filters_1x1,\n",
        "                     filters_3x3_reduce,\n",
        "                     filters_3x3,\n",
        "                     filters_5x5_reduce,\n",
        "                     filters_5x5,\n",
        "                     filters_pool_proj,\n",
        "                     name=None):\n",
        "    \n",
        "    conv_1x1 = Conv2D(filters_1x1, (1, 1), padding='same', activation='relu', kernel_initializer=kernel_init, bias_initializer=bias_init)(x)\n",
        "    \n",
        "    conv_3x3 = Conv2D(filters_3x3_reduce, (1, 1), padding='same', activation='relu', kernel_initializer=kernel_init, bias_initializer=bias_init)(x)\n",
        "    conv_3x3 = Conv2D(filters_3x3, (3, 3), padding='same', activation='relu', kernel_initializer=kernel_init, bias_initializer=bias_init)(conv_3x3)\n",
        "\n",
        "    conv_5x5 = Conv2D(filters_5x5_reduce, (1, 1), padding='same', activation='relu', kernel_initializer=kernel_init, bias_initializer=bias_init)(x)\n",
        "    conv_5x5 = Conv2D(filters_5x5, (5, 5), padding='same', activation='relu', kernel_initializer=kernel_init, bias_initializer=bias_init)(conv_5x5)\n",
        "\n",
        "    pool_proj = MaxPool2D((3, 3), strides=(1, 1), padding='same')(x)\n",
        "    pool_proj = Conv2D(filters_pool_proj, (1, 1), padding='same', activation='relu', kernel_initializer=kernel_init, bias_initializer=bias_init)(pool_proj)\n",
        "\n",
        "    output = concatenate([conv_1x1, conv_3x3, conv_5x5, pool_proj], axis=3, name=name)\n",
        "    \n",
        "    return output\n"
      ],
      "execution_count": null,
      "outputs": []
    },
    {
      "cell_type": "code",
      "metadata": {
        "id": "FCxcTyMwhy0Z",
        "colab_type": "code",
        "colab": {}
      },
      "source": [
        "kernel_init = keras.initializers.glorot_uniform()\n",
        "bias_init = keras.initializers.Constant(value=0.2)\n"
      ],
      "execution_count": null,
      "outputs": []
    },
    {
      "cell_type": "code",
      "metadata": {
        "id": "JHKB0qR2N93H",
        "colab_type": "code",
        "colab": {}
      },
      "source": [
        "input_layer = Input(shape=(224, 224, 3))\n",
        "\n",
        "x = Conv2D(64, (7, 7), padding='same', strides=(2, 2), activation='relu', name='conv_1_7x7/2', kernel_initializer=kernel_init, bias_initializer=bias_init)(input_layer)\n",
        "x = MaxPool2D((3, 3), padding='same', strides=(2, 2), name='max_pool_1_3x3/2')(x)\n",
        "x = Conv2D(64, (1, 1), padding='same', strides=(1, 1), activation='relu', name='conv_2a_3x3/1')(x)\n",
        "x = Conv2D(192, (3, 3), padding='same', strides=(1, 1), activation='relu', name='conv_2b_3x3/1')(x)\n",
        "x = MaxPool2D((3, 3), padding='same', strides=(2, 2), name='max_pool_2_3x3/2')(x)\n",
        "\n",
        "x = inception_module(x,\n",
        "                     filters_1x1=64,\n",
        "                     filters_3x3_reduce=96,\n",
        "                     filters_3x3=128,\n",
        "                     filters_5x5_reduce=16,\n",
        "                     filters_5x5=32,\n",
        "                     filters_pool_proj=32,\n",
        "                     name='inception_3a')\n",
        "\n",
        "x = inception_module(x,\n",
        "                     filters_1x1=128,\n",
        "                     filters_3x3_reduce=128,\n",
        "                     filters_3x3=192,\n",
        "                     filters_5x5_reduce=32,\n",
        "                     filters_5x5=96,\n",
        "                     filters_pool_proj=64,\n",
        "                     name='inception_3b')\n",
        "\n",
        "x = MaxPool2D((3, 3), padding='same', strides=(2, 2), name='max_pool_3_3x3/2')(x)\n",
        "\n",
        "x = inception_module(x,\n",
        "                     filters_1x1=192,\n",
        "                     filters_3x3_reduce=96,\n",
        "                     filters_3x3=208,\n",
        "                     filters_5x5_reduce=16,\n",
        "                     filters_5x5=48,\n",
        "                     filters_pool_proj=64,\n",
        "                     name='inception_4a')\n",
        "\n",
        "\n",
        "x1 = AveragePooling2D((5, 5), strides=3)(x)\n",
        "x1 = Conv2D(128, (1, 1), padding='same', activation='relu')(x1)\n",
        "x1 = Flatten()(x1)\n",
        "x1 = Dense(1024, activation='relu')(x1)\n",
        "x1 = Dropout(0.7)(x1)\n",
        "x1 = Dense(10, activation='softmax', name='auxilliary_output_1')(x1)\n",
        "\n",
        "x = inception_module(x,\n",
        "                     filters_1x1=160,\n",
        "                     filters_3x3_reduce=112,\n",
        "                     filters_3x3=224,\n",
        "                     filters_5x5_reduce=24,\n",
        "                     filters_5x5=64,\n",
        "                     filters_pool_proj=64,\n",
        "                     name='inception_4b')\n",
        "\n",
        "x = inception_module(x,\n",
        "                     filters_1x1=128,\n",
        "                     filters_3x3_reduce=128,\n",
        "                     filters_3x3=256,\n",
        "                     filters_5x5_reduce=24,\n",
        "                     filters_5x5=64,\n",
        "                     filters_pool_proj=64,\n",
        "                     name='inception_4c')\n",
        "\n",
        "x = inception_module(x,\n",
        "                     filters_1x1=112,\n",
        "                     filters_3x3_reduce=144,\n",
        "                     filters_3x3=288,\n",
        "                     filters_5x5_reduce=32,\n",
        "                     filters_5x5=64,\n",
        "                     filters_pool_proj=64,\n",
        "                     name='inception_4d')\n",
        "\n",
        "\n",
        "x2 = AveragePooling2D((5, 5), strides=3)(x)\n",
        "x2 = Conv2D(128, (1, 1), padding='same', activation='relu')(x2)\n",
        "x2 = Flatten()(x2)\n",
        "x2 = Dense(1024, activation='relu')(x2)\n",
        "x2 = Dropout(0.7)(x2)\n",
        "x2 = Dense(10, activation='softmax', name='auxilliary_output_2')(x2)\n",
        "\n",
        "x = inception_module(x,\n",
        "                     filters_1x1=256,\n",
        "                     filters_3x3_reduce=160,\n",
        "                     filters_3x3=320,\n",
        "                     filters_5x5_reduce=32,\n",
        "                     filters_5x5=128,\n",
        "                     filters_pool_proj=128,\n",
        "                     name='inception_4e')\n",
        "\n",
        "x = MaxPool2D((3, 3), padding='same', strides=(2, 2), name='max_pool_4_3x3/2')(x)\n",
        "\n",
        "x = inception_module(x,\n",
        "                     filters_1x1=256,\n",
        "                     filters_3x3_reduce=160,\n",
        "                     filters_3x3=320,\n",
        "                     filters_5x5_reduce=32,\n",
        "                     filters_5x5=128,\n",
        "                     filters_pool_proj=128,\n",
        "                     name='inception_5a')\n",
        "\n",
        "x = inception_module(x,\n",
        "                     filters_1x1=384,\n",
        "                     filters_3x3_reduce=192,\n",
        "                     filters_3x3=384,\n",
        "                     filters_5x5_reduce=48,\n",
        "                     filters_5x5=128,\n",
        "                     filters_pool_proj=128,\n",
        "                     name='inception_5b')\n",
        "\n",
        "x = GlobalAveragePooling2D(name='avg_pool_5_3x3/1')(x)\n",
        "\n",
        "x = Dropout(0.4)(x)\n",
        "\n",
        "x = Dense(10, activation='softmax', name='output')(x)\n"
      ],
      "execution_count": null,
      "outputs": []
    },
    {
      "cell_type": "code",
      "metadata": {
        "id": "brVdXaqrOD2E",
        "colab_type": "code",
        "colab": {}
      },
      "source": [
        "model = Model(input_layer, [x, x1, x2], name='inception_v1')\n"
      ],
      "execution_count": null,
      "outputs": []
    },
    {
      "cell_type": "code",
      "metadata": {
        "id": "6ixn3T50OLcA",
        "colab_type": "code",
        "colab": {
          "base_uri": "https://localhost:8080/",
          "height": 1000
        },
        "outputId": "4767b0ca-ca94-4242-89f2-fa34a2439fa9"
      },
      "source": [
        "model.summary()\n"
      ],
      "execution_count": null,
      "outputs": [
        {
          "output_type": "stream",
          "text": [
            "Model: \"inception_v1\"\n",
            "__________________________________________________________________________________________________\n",
            "Layer (type)                    Output Shape         Param #     Connected to                     \n",
            "==================================================================================================\n",
            "input_8 (InputLayer)            (None, 224, 224, 3)  0                                            \n",
            "__________________________________________________________________________________________________\n",
            "conv_1_7x7/2 (Conv2D)           (None, 112, 112, 64) 9472        input_8[0][0]                    \n",
            "__________________________________________________________________________________________________\n",
            "max_pool_1_3x3/2 (MaxPooling2D) (None, 56, 56, 64)   0           conv_1_7x7/2[0][0]               \n",
            "__________________________________________________________________________________________________\n",
            "conv_2a_3x3/1 (Conv2D)          (None, 56, 56, 64)   4160        max_pool_1_3x3/2[0][0]           \n",
            "__________________________________________________________________________________________________\n",
            "conv_2b_3x3/1 (Conv2D)          (None, 56, 56, 192)  110784      conv_2a_3x3/1[0][0]              \n",
            "__________________________________________________________________________________________________\n",
            "max_pool_2_3x3/2 (MaxPooling2D) (None, 28, 28, 192)  0           conv_2b_3x3/1[0][0]              \n",
            "__________________________________________________________________________________________________\n",
            "conv2d_394 (Conv2D)             (None, 28, 28, 96)   18528       max_pool_2_3x3/2[0][0]           \n",
            "__________________________________________________________________________________________________\n",
            "conv2d_396 (Conv2D)             (None, 28, 28, 16)   3088        max_pool_2_3x3/2[0][0]           \n",
            "__________________________________________________________________________________________________\n",
            "max_pooling2d_64 (MaxPooling2D) (None, 28, 28, 192)  0           max_pool_2_3x3/2[0][0]           \n",
            "__________________________________________________________________________________________________\n",
            "conv2d_393 (Conv2D)             (None, 28, 28, 64)   12352       max_pool_2_3x3/2[0][0]           \n",
            "__________________________________________________________________________________________________\n",
            "conv2d_395 (Conv2D)             (None, 28, 28, 128)  110720      conv2d_394[0][0]                 \n",
            "__________________________________________________________________________________________________\n",
            "conv2d_397 (Conv2D)             (None, 28, 28, 32)   12832       conv2d_396[0][0]                 \n",
            "__________________________________________________________________________________________________\n",
            "conv2d_398 (Conv2D)             (None, 28, 28, 32)   6176        max_pooling2d_64[0][0]           \n",
            "__________________________________________________________________________________________________\n",
            "inception_3a (Concatenate)      (None, 28, 28, 256)  0           conv2d_393[0][0]                 \n",
            "                                                                 conv2d_395[0][0]                 \n",
            "                                                                 conv2d_397[0][0]                 \n",
            "                                                                 conv2d_398[0][0]                 \n",
            "__________________________________________________________________________________________________\n",
            "conv2d_400 (Conv2D)             (None, 28, 28, 128)  32896       inception_3a[0][0]               \n",
            "__________________________________________________________________________________________________\n",
            "conv2d_402 (Conv2D)             (None, 28, 28, 32)   8224        inception_3a[0][0]               \n",
            "__________________________________________________________________________________________________\n",
            "max_pooling2d_65 (MaxPooling2D) (None, 28, 28, 256)  0           inception_3a[0][0]               \n",
            "__________________________________________________________________________________________________\n",
            "conv2d_399 (Conv2D)             (None, 28, 28, 128)  32896       inception_3a[0][0]               \n",
            "__________________________________________________________________________________________________\n",
            "conv2d_401 (Conv2D)             (None, 28, 28, 192)  221376      conv2d_400[0][0]                 \n",
            "__________________________________________________________________________________________________\n",
            "conv2d_403 (Conv2D)             (None, 28, 28, 96)   76896       conv2d_402[0][0]                 \n",
            "__________________________________________________________________________________________________\n",
            "conv2d_404 (Conv2D)             (None, 28, 28, 64)   16448       max_pooling2d_65[0][0]           \n",
            "__________________________________________________________________________________________________\n",
            "inception_3b (Concatenate)      (None, 28, 28, 480)  0           conv2d_399[0][0]                 \n",
            "                                                                 conv2d_401[0][0]                 \n",
            "                                                                 conv2d_403[0][0]                 \n",
            "                                                                 conv2d_404[0][0]                 \n",
            "__________________________________________________________________________________________________\n",
            "max_pool_3_3x3/2 (MaxPooling2D) (None, 14, 14, 480)  0           inception_3b[0][0]               \n",
            "__________________________________________________________________________________________________\n",
            "conv2d_406 (Conv2D)             (None, 14, 14, 96)   46176       max_pool_3_3x3/2[0][0]           \n",
            "__________________________________________________________________________________________________\n",
            "conv2d_408 (Conv2D)             (None, 14, 14, 16)   7696        max_pool_3_3x3/2[0][0]           \n",
            "__________________________________________________________________________________________________\n",
            "max_pooling2d_66 (MaxPooling2D) (None, 14, 14, 480)  0           max_pool_3_3x3/2[0][0]           \n",
            "__________________________________________________________________________________________________\n",
            "conv2d_405 (Conv2D)             (None, 14, 14, 192)  92352       max_pool_3_3x3/2[0][0]           \n",
            "__________________________________________________________________________________________________\n",
            "conv2d_407 (Conv2D)             (None, 14, 14, 208)  179920      conv2d_406[0][0]                 \n",
            "__________________________________________________________________________________________________\n",
            "conv2d_409 (Conv2D)             (None, 14, 14, 48)   19248       conv2d_408[0][0]                 \n",
            "__________________________________________________________________________________________________\n",
            "conv2d_410 (Conv2D)             (None, 14, 14, 64)   30784       max_pooling2d_66[0][0]           \n",
            "__________________________________________________________________________________________________\n",
            "inception_4a (Concatenate)      (None, 14, 14, 512)  0           conv2d_405[0][0]                 \n",
            "                                                                 conv2d_407[0][0]                 \n",
            "                                                                 conv2d_409[0][0]                 \n",
            "                                                                 conv2d_410[0][0]                 \n",
            "__________________________________________________________________________________________________\n",
            "conv2d_413 (Conv2D)             (None, 14, 14, 112)  57456       inception_4a[0][0]               \n",
            "__________________________________________________________________________________________________\n",
            "conv2d_415 (Conv2D)             (None, 14, 14, 24)   12312       inception_4a[0][0]               \n",
            "__________________________________________________________________________________________________\n",
            "max_pooling2d_67 (MaxPooling2D) (None, 14, 14, 512)  0           inception_4a[0][0]               \n",
            "__________________________________________________________________________________________________\n",
            "conv2d_412 (Conv2D)             (None, 14, 14, 160)  82080       inception_4a[0][0]               \n",
            "__________________________________________________________________________________________________\n",
            "conv2d_414 (Conv2D)             (None, 14, 14, 224)  226016      conv2d_413[0][0]                 \n",
            "__________________________________________________________________________________________________\n",
            "conv2d_416 (Conv2D)             (None, 14, 14, 64)   38464       conv2d_415[0][0]                 \n",
            "__________________________________________________________________________________________________\n",
            "conv2d_417 (Conv2D)             (None, 14, 14, 64)   32832       max_pooling2d_67[0][0]           \n",
            "__________________________________________________________________________________________________\n",
            "inception_4b (Concatenate)      (None, 14, 14, 512)  0           conv2d_412[0][0]                 \n",
            "                                                                 conv2d_414[0][0]                 \n",
            "                                                                 conv2d_416[0][0]                 \n",
            "                                                                 conv2d_417[0][0]                 \n",
            "__________________________________________________________________________________________________\n",
            "conv2d_419 (Conv2D)             (None, 14, 14, 128)  65664       inception_4b[0][0]               \n",
            "__________________________________________________________________________________________________\n",
            "conv2d_421 (Conv2D)             (None, 14, 14, 24)   12312       inception_4b[0][0]               \n",
            "__________________________________________________________________________________________________\n",
            "max_pooling2d_68 (MaxPooling2D) (None, 14, 14, 512)  0           inception_4b[0][0]               \n",
            "__________________________________________________________________________________________________\n",
            "conv2d_418 (Conv2D)             (None, 14, 14, 128)  65664       inception_4b[0][0]               \n",
            "__________________________________________________________________________________________________\n",
            "conv2d_420 (Conv2D)             (None, 14, 14, 256)  295168      conv2d_419[0][0]                 \n",
            "__________________________________________________________________________________________________\n",
            "conv2d_422 (Conv2D)             (None, 14, 14, 64)   38464       conv2d_421[0][0]                 \n",
            "__________________________________________________________________________________________________\n",
            "conv2d_423 (Conv2D)             (None, 14, 14, 64)   32832       max_pooling2d_68[0][0]           \n",
            "__________________________________________________________________________________________________\n",
            "inception_4c (Concatenate)      (None, 14, 14, 512)  0           conv2d_418[0][0]                 \n",
            "                                                                 conv2d_420[0][0]                 \n",
            "                                                                 conv2d_422[0][0]                 \n",
            "                                                                 conv2d_423[0][0]                 \n",
            "__________________________________________________________________________________________________\n",
            "conv2d_425 (Conv2D)             (None, 14, 14, 144)  73872       inception_4c[0][0]               \n",
            "__________________________________________________________________________________________________\n",
            "conv2d_427 (Conv2D)             (None, 14, 14, 32)   16416       inception_4c[0][0]               \n",
            "__________________________________________________________________________________________________\n",
            "max_pooling2d_69 (MaxPooling2D) (None, 14, 14, 512)  0           inception_4c[0][0]               \n",
            "__________________________________________________________________________________________________\n",
            "conv2d_424 (Conv2D)             (None, 14, 14, 112)  57456       inception_4c[0][0]               \n",
            "__________________________________________________________________________________________________\n",
            "conv2d_426 (Conv2D)             (None, 14, 14, 288)  373536      conv2d_425[0][0]                 \n",
            "__________________________________________________________________________________________________\n",
            "conv2d_428 (Conv2D)             (None, 14, 14, 64)   51264       conv2d_427[0][0]                 \n",
            "__________________________________________________________________________________________________\n",
            "conv2d_429 (Conv2D)             (None, 14, 14, 64)   32832       max_pooling2d_69[0][0]           \n",
            "__________________________________________________________________________________________________\n",
            "inception_4d (Concatenate)      (None, 14, 14, 528)  0           conv2d_424[0][0]                 \n",
            "                                                                 conv2d_426[0][0]                 \n",
            "                                                                 conv2d_428[0][0]                 \n",
            "                                                                 conv2d_429[0][0]                 \n",
            "__________________________________________________________________________________________________\n",
            "conv2d_432 (Conv2D)             (None, 14, 14, 160)  84640       inception_4d[0][0]               \n",
            "__________________________________________________________________________________________________\n",
            "conv2d_434 (Conv2D)             (None, 14, 14, 32)   16928       inception_4d[0][0]               \n",
            "__________________________________________________________________________________________________\n",
            "max_pooling2d_70 (MaxPooling2D) (None, 14, 14, 528)  0           inception_4d[0][0]               \n",
            "__________________________________________________________________________________________________\n",
            "conv2d_431 (Conv2D)             (None, 14, 14, 256)  135424      inception_4d[0][0]               \n",
            "__________________________________________________________________________________________________\n",
            "conv2d_433 (Conv2D)             (None, 14, 14, 320)  461120      conv2d_432[0][0]                 \n",
            "__________________________________________________________________________________________________\n",
            "conv2d_435 (Conv2D)             (None, 14, 14, 128)  102528      conv2d_434[0][0]                 \n",
            "__________________________________________________________________________________________________\n",
            "conv2d_436 (Conv2D)             (None, 14, 14, 128)  67712       max_pooling2d_70[0][0]           \n",
            "__________________________________________________________________________________________________\n",
            "inception_4e (Concatenate)      (None, 14, 14, 832)  0           conv2d_431[0][0]                 \n",
            "                                                                 conv2d_433[0][0]                 \n",
            "                                                                 conv2d_435[0][0]                 \n",
            "                                                                 conv2d_436[0][0]                 \n",
            "__________________________________________________________________________________________________\n",
            "max_pool_4_3x3/2 (MaxPooling2D) (None, 7, 7, 832)    0           inception_4e[0][0]               \n",
            "__________________________________________________________________________________________________\n",
            "conv2d_438 (Conv2D)             (None, 7, 7, 160)    133280      max_pool_4_3x3/2[0][0]           \n",
            "__________________________________________________________________________________________________\n",
            "conv2d_440 (Conv2D)             (None, 7, 7, 32)     26656       max_pool_4_3x3/2[0][0]           \n",
            "__________________________________________________________________________________________________\n",
            "max_pooling2d_71 (MaxPooling2D) (None, 7, 7, 832)    0           max_pool_4_3x3/2[0][0]           \n",
            "__________________________________________________________________________________________________\n",
            "conv2d_437 (Conv2D)             (None, 7, 7, 256)    213248      max_pool_4_3x3/2[0][0]           \n",
            "__________________________________________________________________________________________________\n",
            "conv2d_439 (Conv2D)             (None, 7, 7, 320)    461120      conv2d_438[0][0]                 \n",
            "__________________________________________________________________________________________________\n",
            "conv2d_441 (Conv2D)             (None, 7, 7, 128)    102528      conv2d_440[0][0]                 \n",
            "__________________________________________________________________________________________________\n",
            "conv2d_442 (Conv2D)             (None, 7, 7, 128)    106624      max_pooling2d_71[0][0]           \n",
            "__________________________________________________________________________________________________\n",
            "inception_5a (Concatenate)      (None, 7, 7, 832)    0           conv2d_437[0][0]                 \n",
            "                                                                 conv2d_439[0][0]                 \n",
            "                                                                 conv2d_441[0][0]                 \n",
            "                                                                 conv2d_442[0][0]                 \n",
            "__________________________________________________________________________________________________\n",
            "conv2d_444 (Conv2D)             (None, 7, 7, 192)    159936      inception_5a[0][0]               \n",
            "__________________________________________________________________________________________________\n",
            "conv2d_446 (Conv2D)             (None, 7, 7, 48)     39984       inception_5a[0][0]               \n",
            "__________________________________________________________________________________________________\n",
            "max_pooling2d_72 (MaxPooling2D) (None, 7, 7, 832)    0           inception_5a[0][0]               \n",
            "__________________________________________________________________________________________________\n",
            "average_pooling2d_15 (AveragePo (None, 4, 4, 512)    0           inception_4a[0][0]               \n",
            "__________________________________________________________________________________________________\n",
            "average_pooling2d_16 (AveragePo (None, 4, 4, 528)    0           inception_4d[0][0]               \n",
            "__________________________________________________________________________________________________\n",
            "conv2d_443 (Conv2D)             (None, 7, 7, 384)    319872      inception_5a[0][0]               \n",
            "__________________________________________________________________________________________________\n",
            "conv2d_445 (Conv2D)             (None, 7, 7, 384)    663936      conv2d_444[0][0]                 \n",
            "__________________________________________________________________________________________________\n",
            "conv2d_447 (Conv2D)             (None, 7, 7, 128)    153728      conv2d_446[0][0]                 \n",
            "__________________________________________________________________________________________________\n",
            "conv2d_448 (Conv2D)             (None, 7, 7, 128)    106624      max_pooling2d_72[0][0]           \n",
            "__________________________________________________________________________________________________\n",
            "conv2d_411 (Conv2D)             (None, 4, 4, 128)    65664       average_pooling2d_15[0][0]       \n",
            "__________________________________________________________________________________________________\n",
            "conv2d_430 (Conv2D)             (None, 4, 4, 128)    67712       average_pooling2d_16[0][0]       \n",
            "__________________________________________________________________________________________________\n",
            "inception_5b (Concatenate)      (None, 7, 7, 1024)   0           conv2d_443[0][0]                 \n",
            "                                                                 conv2d_445[0][0]                 \n",
            "                                                                 conv2d_447[0][0]                 \n",
            "                                                                 conv2d_448[0][0]                 \n",
            "__________________________________________________________________________________________________\n",
            "flatten_15 (Flatten)            (None, 2048)         0           conv2d_411[0][0]                 \n",
            "__________________________________________________________________________________________________\n",
            "flatten_16 (Flatten)            (None, 2048)         0           conv2d_430[0][0]                 \n",
            "__________________________________________________________________________________________________\n",
            "avg_pool_5_3x3/1 (GlobalAverage (None, 1024)         0           inception_5b[0][0]               \n",
            "__________________________________________________________________________________________________\n",
            "dense_15 (Dense)                (None, 1024)         2098176     flatten_15[0][0]                 \n",
            "__________________________________________________________________________________________________\n",
            "dense_16 (Dense)                (None, 1024)         2098176     flatten_16[0][0]                 \n",
            "__________________________________________________________________________________________________\n",
            "dropout_24 (Dropout)            (None, 1024)         0           avg_pool_5_3x3/1[0][0]           \n",
            "__________________________________________________________________________________________________\n",
            "dropout_22 (Dropout)            (None, 1024)         0           dense_15[0][0]                   \n",
            "__________________________________________________________________________________________________\n",
            "dropout_23 (Dropout)            (None, 1024)         0           dense_16[0][0]                   \n",
            "__________________________________________________________________________________________________\n",
            "output (Dense)                  (None, 10)           10250       dropout_24[0][0]                 \n",
            "__________________________________________________________________________________________________\n",
            "auxilliary_output_1 (Dense)     (None, 10)           10250       dropout_22[0][0]                 \n",
            "__________________________________________________________________________________________________\n",
            "auxilliary_output_2 (Dense)     (None, 10)           10250       dropout_23[0][0]                 \n",
            "==================================================================================================\n",
            "Total params: 10,334,030\n",
            "Trainable params: 10,334,030\n",
            "Non-trainable params: 0\n",
            "__________________________________________________________________________________________________\n"
          ],
          "name": "stdout"
        }
      ]
    },
    {
      "cell_type": "code",
      "metadata": {
        "id": "XEfvuJecQSkL",
        "colab_type": "code",
        "colab": {}
      },
      "source": [
        "epochs = 25\n",
        "initial_lrate = 0.01\n",
        "\n",
        "def decay(epoch, steps=100):\n",
        "    initial_lrate = 0.01\n",
        "    drop = 0.96\n",
        "    epochs_drop = 8\n",
        "    lrate = initial_lrate * math.pow(drop, math.floor((1+epoch)/epochs_drop))\n",
        "    return lrate\n",
        "\n",
        "sgd = SGD(lr=initial_lrate, momentum=0.9, nesterov=False)\n",
        "\n",
        "lr_sc = LearningRateScheduler(decay, verbose=1)\n",
        "\n",
        "model.compile(loss=['sparse_categorical_crossentropy', 'sparse_categorical_crossentropy', 'sparse_categorical_crossentropy'], loss_weights=[1, 0.3, 0.3], optimizer=sgd, metrics=['accuracy'])\n"
      ],
      "execution_count": null,
      "outputs": []
    },
    {
      "cell_type": "code",
      "metadata": {
        "id": "V7vzzjHROHPb",
        "colab_type": "code",
        "colab": {}
      },
      "source": [
        "import os\n",
        "from os import listdir\n",
        "from pydrive.auth import GoogleAuth\n",
        "from pydrive.drive import GoogleDrive\n",
        "from google.colab import auth\n",
        "from oauth2client.client import GoogleCredentials\n",
        "import numpy as np"
      ],
      "execution_count": null,
      "outputs": []
    },
    {
      "cell_type": "code",
      "metadata": {
        "id": "rCvi02xGOM2W",
        "colab_type": "code",
        "colab": {}
      },
      "source": [
        "auth.authenticate_user()\n",
        "gauth = GoogleAuth()\n",
        "gauth.credentials = GoogleCredentials.get_application_default()\n",
        "drive = GoogleDrive(gauth)"
      ],
      "execution_count": null,
      "outputs": []
    },
    {
      "cell_type": "code",
      "metadata": {
        "id": "s9X20o48OaLm",
        "colab_type": "code",
        "colab": {
          "base_uri": "https://localhost:8080/",
          "height": 118
        },
        "outputId": "7014fb2b-89b7-4729-b69e-489c09bb5da2"
      },
      "source": [
        "file_list = drive.ListFile(\n",
        "    {'q': \"'1MzurTS9xeNSss_hYgko4ATZ5qNVn45ty' in parents\"}).GetList()\n",
        "\n",
        "for f in file_list:\n",
        "    print('title: %s, id: %s' % (f['title'], f['id']))\n",
        "    fname = f['title']\n",
        "    print('downloading to {}'.format(fname))\n",
        "    f_ = drive.CreateFile({'id': f['id']})\n",
        "    f_.GetContentFile(fname)"
      ],
      "execution_count": null,
      "outputs": [
        {
          "output_type": "stream",
          "text": [
            "title: LABELS.zip, id: 1dYxm-yV2sCOxiQQSvzRY6-gKtlfo0WLH\n",
            "downloading to LABELS.zip\n",
            "title: GREENPATROL_DB_V1.0.zip, id: 1wJw1Ci1OTUoKjiiT3lwWqwonTunGPMB1\n",
            "downloading to GREENPATROL_DB_V1.0.zip\n",
            "title: predefined_classes.txt, id: 1XQkqHvepaPEXxJ5XXSZmMMk9qrxTOSzJ\n",
            "downloading to predefined_classes.txt\n"
          ],
          "name": "stdout"
        }
      ]
    },
    {
      "cell_type": "code",
      "metadata": {
        "id": "M2HF9GCsOwtw",
        "colab_type": "code",
        "colab": {
          "base_uri": "https://localhost:8080/",
          "height": 353
        },
        "outputId": "9fe18d84-40a4-4dab-e904-36f2a4476b87"
      },
      "source": [
        "#------------------------------- Load Train Data ----------------------------------------------#\n",
        "download_Pests = drive.CreateFile({'id': '1wJw1Ci1OTUoKjiiT3lwWqwonTunGPMB1'})\n",
        "download_Annotations = drive.CreateFile({'id': '1dYxm-yV2sCOxiQQSvzRY6-gKtlfo0WLH'})\n",
        "!unzip LABELS.zip -d '/Tomato-Pests'\n",
        "!unzip GREENPATROL_DB_V1.0.zip -d '/Tomato-Pests'\n"
      ],
      "execution_count": null,
      "outputs": [
        {
          "output_type": "stream",
          "text": [
            "Archive:  LABELS.zip\n",
            "  inflating: /Tomato-Pests/LABELS/1_2_2_6_1_1_20180622-102849.xml  \n",
            "  inflating: /Tomato-Pests/LABELS/1_2_2_6_1_1_20180622-102918.xml  \n",
            "  inflating: /Tomato-Pests/LABELS/1_2_2_6_1_1_20180622-110731.xml  \n",
            "  inflating: /Tomato-Pests/LABELS/1_2_2_6_1_1_20180622-110804.xml  \n",
            "  inflating: /Tomato-Pests/LABELS/1_2_2_6_1_1_20180622-110827.xml  \n",
            "  inflating: /Tomato-Pests/LABELS/1_2_2_6_1_1_20180622-110905.xml  \n",
            "  inflating: /Tomato-Pests/LABELS/1_2_2_6_1_1_20180622-110931.xml  \n",
            "  inflating: /Tomato-Pests/LABELS/1_2_2_6_1_1_20180622-111004.xml  \n",
            "  inflating: /Tomato-Pests/LABELS/1_2_2_6_1_1_20180622-111118.xml  \n",
            "Archive:  GREENPATROL_DB_V1.0.zip\n",
            "  inflating: /Tomato-Pests/GREENPATROL_DB_V1.0/1_2_2_6_1_1_20180622-102849.jpg  \n",
            "  inflating: /Tomato-Pests/GREENPATROL_DB_V1.0/1_2_2_6_1_1_20180622-102918.jpg  \n",
            "  inflating: /Tomato-Pests/GREENPATROL_DB_V1.0/1_2_2_6_1_1_20180622-110731.jpg  \n",
            "  inflating: /Tomato-Pests/GREENPATROL_DB_V1.0/1_2_2_6_1_1_20180622-110804.jpg  \n",
            "  inflating: /Tomato-Pests/GREENPATROL_DB_V1.0/1_2_2_6_1_1_20180622-110827.jpg  \n",
            "  inflating: /Tomato-Pests/GREENPATROL_DB_V1.0/1_2_2_6_1_1_20180622-110905.jpg  \n",
            "  inflating: /Tomato-Pests/GREENPATROL_DB_V1.0/1_2_2_6_1_1_20180622-110931.jpg  \n",
            "  inflating: /Tomato-Pests/GREENPATROL_DB_V1.0/1_2_2_6_1_1_20180622-111004.jpg  \n",
            "  inflating: /Tomato-Pests/GREENPATROL_DB_V1.0/1_2_2_6_1_1_20180622-111118.jpg  \n"
          ],
          "name": "stdout"
        }
      ]
    },
    {
      "cell_type": "code",
      "metadata": {
        "id": "mIs49GJ_R2Cm",
        "colab_type": "code",
        "colab": {
          "resources": {
            "http://localhost:8080/nbextensions/google.colab/files.js": {
              "data": "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",
              "ok": true,
              "headers": [
                [
                  "content-type",
                  "application/javascript"
                ]
              ],
              "status": 200,
              "status_text": ""
            }
          },
          "base_uri": "https://localhost:8080/",
          "height": 110
        },
        "outputId": "f0076b90-99f4-4fdc-9336-bc474b71987f"
      },
      "source": [
        "from google.colab import files\n",
        "files.upload() "
      ],
      "execution_count": null,
      "outputs": [
        {
          "output_type": "display_data",
          "data": {
            "text/html": [
              "\n",
              "     <input type=\"file\" id=\"files-62cb9cb6-bdba-404c-8f04-1fc4946c8f6b\" name=\"files[]\" multiple disabled\n",
              "        style=\"border:none\" />\n",
              "     <output id=\"result-62cb9cb6-bdba-404c-8f04-1fc4946c8f6b\">\n",
              "      Upload widget is only available when the cell has been executed in the\n",
              "      current browser session. Please rerun this cell to enable.\n",
              "      </output>\n",
              "      <script src=\"/nbextensions/google.colab/files.js\"></script> "
            ],
            "text/plain": [
              "<IPython.core.display.HTML object>"
            ]
          },
          "metadata": {
            "tags": []
          }
        },
        {
          "output_type": "stream",
          "text": [
            "Saving CreatePestImageData_GoogleNet.py to CreatePestImageData_GoogleNet.py\n"
          ],
          "name": "stdout"
        },
        {
          "output_type": "execute_result",
          "data": {
            "text/plain": [
              "{'CreatePestImageData_GoogleNet.py': b'# -*- coding: utf-8 -*-\\r\\n\"\"\"createImageDataset.ipynb\\r\\n\\r\\nAutomatically generated by Colaboratory.\\r\\n\\r\\nOriginal file is located at\\r\\n    https://colab.research.google.com/drive/1FXiYKCQ-jtbL_O29BQb2Xy1bBd2inM9q\\r\\n\"\"\"\\r\\n\\r\\nfrom os import listdir\\r\\nimport numpy as np\\r\\nimport xml.etree.ElementTree as ET\\r\\nimport cv2\\r\\nimport tensorflow as tf \\r\\n\\r\\nclass createImageDataset(object):\\r\\n    \\r\\n    def __init__(self, class_map=None):\\r\\n        self.image_info = []\\r\\n        self.trainX = []\\r\\n        self.trainY = []\\r\\n        self.testX = []\\r\\n        self.testY = []\\r\\n            \\r\\n    def add_image_info(self , image_array , image_path , image_id , object_id , class_name , class_id):\\r\\n        \\r\\n        image_info_ = {\\'object_id\\': image_id,\\r\\n                       \\'object_class\\': class_name,\\r\\n                       \\'image_path\\': image_path,\\r\\n                       \\'image_array\\': image_array,\\r\\n                       \\'class_id\\' : class_id}\\r\\n        self.image_info.append(image_info_)\\r\\n\\r\\n    def parse_xml(self,filer):\\r\\n        boxes = list()\\r\\n        names = list()\\r\\n        root = ET.parse(filer).getroot() \\r\\n        for box in root.findall(\\'.//object\\'):\\r\\n            xmin = int(box.find(\\'.//bndbox/xmin\\').text)\\r\\n            xmax = int(box.find(\\'.//bndbox/xmax\\').text)\\r\\n            ymin = int(box.find(\\'.//bndbox/ymin\\').text)\\r\\n            ymax = int(box.find(\\'.//bndbox/ymax\\').text)\\r\\n            name = root.find(\\'.//name\\').text\\r\\n            coords = [xmin , ymin , xmax , ymax]\\r\\n            names.append(name)\\r\\n            boxes.append(coords)\\r\\n        width = int(root.find(\\'.//size/width\\').text)\\r\\n        height = int(root.find(\\'.//size/height\\').text)\\r\\n        path = root.find(\\'.//path\\').text\\r\\n        filename = root.find(\\'filename\\').text\\r\\n        filename = filename[:-4]\\r\\n\\r\\n        return boxes, width, height , names , path , filename\\r\\n\\r\\n    def get_image_arrays(self , annot_path , class_object, imageFilePath):\\r\\n        \\r\\n        count = 0\\r\\n        for i in listdir(annot_path):\\r\\n            patt = annot_path +\\'/\\' + i\\r\\n            parsed = self.parse_xml(patt)\\r\\n            img = cv2.imread(imageFilePath + i[0:-4]+\\'.jpg\\')\\r\\n            for wh in range(0 , len(parsed[0])):\\r\\n                crop_img = img[parsed[0][wh][1]:parsed[0][wh][3] , parsed[0][wh][0]:parsed[0][wh][2] ]\\r\\n                \\r\\n                class_name = parsed[3][wh]\\r\\n                keys = list(class_object.keys())  \\r\\n                values = list(class_object.values())\\r\\n                class_id = keys[values.index(class_name)]\\r\\n                \\r\\n                resized_img = cv2.resize(crop_img,(224,224))\\r\\n                \\r\\n                self.add_image_info( image_array = resized_img , image_path = parsed[4],\\r\\n                                   object_id = count , class_name=parsed[3][wh] , image_id= 0 , class_id=class_id )\\r\\n                print(\\'Image : \\' + parsed[4] + \\' added to dataset with class name \"\\' + parsed[3][wh]  +\\'\".\\'  )\\r\\n                count = count + 1\\r\\n    \\r\\n    def prepare_dataset(self , path , class_object , imagePath, test_size):\\r\\n        \\r\\n        self.get_image_arrays(path , class_object, imagePath)\\r\\n        \\r\\n        img_arrays = np.array([d[\\'image_array\\'] for d in self.image_info if \\'image_array\\' in d])\\r\\n        class_names = np.array([d[\\'object_class\\'] for d in self.image_info if \\'object_class\\' in d])\\r\\n        class_ids  = np.array([d[\\'class_id\\'] for d in self.image_info if \\'class_id\\' in d])\\r\\n        all_idx = range(0 , len(img_arrays))\\r\\n        test_idx = np.random.choice(np.arange(len(img_arrays)), test_size, replace=False)\\r\\n        train_idx = np.delete(all_idx , test_idx) \\r\\n        \\r\\n        \\r\\n        self.testX = img_arrays[test_idx]\\r\\n        self.testY = class_ids[test_idx]\\r\\n        \\r\\n        self.trainX = img_arrays[train_idx]        \\r\\n        self.trainY = class_ids[train_idx]\\r\\n        \\r\\n        return print(\\'Image dataset succesfully saved.\\')'}"
            ]
          },
          "metadata": {
            "tags": []
          },
          "execution_count": 15
        }
      ]
    },
    {
      "cell_type": "code",
      "metadata": {
        "id": "nSsoPPQGSAev",
        "colab_type": "code",
        "colab": {}
      },
      "source": [
        "import CreatePestImageData_GoogleNet as Imagedataset"
      ],
      "execution_count": null,
      "outputs": []
    },
    {
      "cell_type": "code",
      "metadata": {
        "id": "0Azx7bC9SIEQ",
        "colab_type": "code",
        "colab": {}
      },
      "source": [
        "dataSet = Imagedataset.createImageDataset()"
      ],
      "execution_count": null,
      "outputs": []
    },
    {
      "cell_type": "code",
      "metadata": {
        "id": "SuVcF3GKSULO",
        "colab_type": "code",
        "colab": {}
      },
      "source": [
        "class_object = {0 : 'egg_wf' ,\n",
        "                1 : 'egg_bt', 2 : 'egg_ta', 3 : 'wf', 4 : 'bt', 5 : 'ta', 6 : 'ta_maps', 7 : 'ta_larvae', 8 : 'ta_maps+larvae', 9 : 'tomato'}"
      ],
      "execution_count": null,
      "outputs": []
    },
    {
      "cell_type": "code",
      "metadata": {
        "id": "9pN9cay4SMNE",
        "colab_type": "code",
        "colab": {}
      },
      "source": [
        " dataSet.prepare_dataset('/Tomato-Pests/LABELS/' , class_object , '/Tomato-Pests/GREENPATROL_DB_V1.0/',  test_size=5 )"
      ],
      "execution_count": null,
      "outputs": []
    },
    {
      "cell_type": "code",
      "metadata": {
        "id": "zrF-aR03ZYMm",
        "colab_type": "code",
        "colab": {}
      },
      "source": [
        "(trainY , trainX) , (testY , testX ) = (dataSet.trainY , dataSet.trainX ) , (dataSet.testY , dataSet.testX )\n"
      ],
      "execution_count": null,
      "outputs": []
    },
    {
      "cell_type": "code",
      "metadata": {
        "id": "fPk_rwBzQ7Jp",
        "colab_type": "code",
        "colab": {
          "base_uri": "https://localhost:8080/",
          "height": 1000
        },
        "outputId": "6d7ffc4d-cb1e-46c8-bf30-ea107eba6a85"
      },
      "source": [
        "history = model.fit(trainX, [trainY, trainY, trainY], validation_data=(testX, [testY, testY, testY]), epochs=epochs, batch_size=256, callbacks=[lr_sc])\n"
      ],
      "execution_count": null,
      "outputs": [
        {
          "output_type": "stream",
          "text": [
            "Train on 67 samples, validate on 5 samples\n",
            "Epoch 1/25\n",
            "\n",
            "Epoch 00001: LearningRateScheduler setting learning rate to 0.01.\n",
            "67/67 [==============================] - 15s 220ms/step - loss: 6.7824 - output_loss: 2.5714 - auxilliary_output_1_loss: 9.2897 - auxilliary_output_2_loss: 4.7471 - output_accuracy: 0.1045 - auxilliary_output_1_accuracy: 0.0896 - auxilliary_output_2_accuracy: 0.0448 - val_loss: 15.5496 - val_output_loss: 9.5369 - val_auxilliary_output_1_loss: 16.5786 - val_auxilliary_output_2_loss: 3.4640 - val_output_accuracy: 0.6000 - val_auxilliary_output_1_accuracy: 0.6000 - val_auxilliary_output_2_accuracy: 0.6000\n",
            "Epoch 2/25\n",
            "\n",
            "Epoch 00002: LearningRateScheduler setting learning rate to 0.01.\n",
            "67/67 [==============================] - 13s 197ms/step - loss: 6.1630 - output_loss: 3.8999 - auxilliary_output_1_loss: 6.0687 - auxilliary_output_2_loss: 1.4749 - output_accuracy: 0.8358 - auxilliary_output_1_accuracy: 0.8358 - auxilliary_output_2_accuracy: 0.8060 - val_loss: 3.6210 - val_output_loss: 2.7087 - val_auxilliary_output_1_loss: 0.7860 - val_auxilliary_output_2_loss: 2.2550 - val_output_accuracy: 0.6000 - val_auxilliary_output_1_accuracy: 0.4000 - val_auxilliary_output_2_accuracy: 0.6000\n",
            "Epoch 3/25\n",
            "\n",
            "Epoch 00003: LearningRateScheduler setting learning rate to 0.01.\n",
            "67/67 [==============================] - 13s 195ms/step - loss: 2.1617 - output_loss: 0.9154 - auxilliary_output_1_loss: 3.1499 - auxilliary_output_2_loss: 1.0044 - output_accuracy: 0.8358 - auxilliary_output_1_accuracy: 0.5373 - auxilliary_output_2_accuracy: 0.8060 - val_loss: 8.0713 - val_output_loss: 1.9153 - val_auxilliary_output_1_loss: 19.1030 - val_auxilliary_output_2_loss: 1.4169 - val_output_accuracy: 0.4000 - val_auxilliary_output_1_accuracy: 0.6000 - val_auxilliary_output_2_accuracy: 0.6000\n",
            "Epoch 4/25\n",
            "\n",
            "Epoch 00004: LearningRateScheduler setting learning rate to 0.01.\n",
            "67/67 [==============================] - 13s 198ms/step - loss: 6.0960 - output_loss: 3.1919 - auxilliary_output_1_loss: 8.8632 - auxilliary_output_2_loss: 0.8170 - output_accuracy: 0.1791 - auxilliary_output_1_accuracy: 0.8358 - auxilliary_output_2_accuracy: 0.7910 - val_loss: 12.6786 - val_output_loss: 8.9469 - val_auxilliary_output_1_loss: 10.5126 - val_auxilliary_output_2_loss: 1.9263 - val_output_accuracy: 0.6000 - val_auxilliary_output_1_accuracy: 0.6000 - val_auxilliary_output_2_accuracy: 0.6000\n",
            "Epoch 5/25\n",
            "\n",
            "Epoch 00005: LearningRateScheduler setting learning rate to 0.01.\n",
            "67/67 [==============================] - 13s 194ms/step - loss: 5.4909 - output_loss: 3.9248 - auxilliary_output_1_loss: 3.9831 - auxilliary_output_2_loss: 1.2373 - output_accuracy: 0.8358 - auxilliary_output_1_accuracy: 0.8060 - auxilliary_output_2_accuracy: 0.7463 - val_loss: 8.3285 - val_output_loss: 6.0914 - val_auxilliary_output_1_loss: 6.6369 - val_auxilliary_output_2_loss: 0.8201 - val_output_accuracy: 0.6000 - val_auxilliary_output_1_accuracy: 0.4000 - val_auxilliary_output_2_accuracy: 0.6000\n",
            "Epoch 6/25\n",
            "\n",
            "Epoch 00006: LearningRateScheduler setting learning rate to 0.01.\n",
            "67/67 [==============================] - 13s 197ms/step - loss: 5.7763 - output_loss: 2.4883 - auxilliary_output_1_loss: 10.3457 - auxilliary_output_2_loss: 0.6140 - output_accuracy: 0.8358 - auxilliary_output_1_accuracy: 0.1642 - auxilliary_output_2_accuracy: 0.7910 - val_loss: 8.0466 - val_output_loss: 5.3552 - val_auxilliary_output_1_loss: 8.1553 - val_auxilliary_output_2_loss: 0.8158 - val_output_accuracy: 0.6000 - val_auxilliary_output_1_accuracy: 0.6000 - val_auxilliary_output_2_accuracy: 0.6000\n",
            "Epoch 7/25\n",
            "\n",
            "Epoch 00007: LearningRateScheduler setting learning rate to 0.01.\n",
            "67/67 [==============================] - 13s 194ms/step - loss: 3.4176 - output_loss: 2.1740 - auxilliary_output_1_loss: 3.4923 - auxilliary_output_2_loss: 0.6532 - output_accuracy: 0.8358 - auxilliary_output_1_accuracy: 0.8358 - auxilliary_output_2_accuracy: 0.7164 - val_loss: 5.7816 - val_output_loss: 3.7099 - val_auxilliary_output_1_loss: 5.9733 - val_auxilliary_output_2_loss: 0.9322 - val_output_accuracy: 0.6000 - val_auxilliary_output_1_accuracy: 0.6000 - val_auxilliary_output_2_accuracy: 0.6000\n",
            "Epoch 8/25\n",
            "\n",
            "Epoch 00008: LearningRateScheduler setting learning rate to 0.0096.\n",
            "67/67 [==============================] - 13s 194ms/step - loss: 2.4785 - output_loss: 1.5558 - auxilliary_output_1_loss: 2.4836 - auxilliary_output_2_loss: 0.5918 - output_accuracy: 0.8358 - auxilliary_output_1_accuracy: 0.8358 - auxilliary_output_2_accuracy: 0.8209 - val_loss: 4.3215 - val_output_loss: 2.4282 - val_auxilliary_output_1_loss: 5.2430 - val_auxilliary_output_2_loss: 1.0681 - val_output_accuracy: 0.6000 - val_auxilliary_output_1_accuracy: 0.4000 - val_auxilliary_output_2_accuracy: 0.6000\n",
            "Epoch 9/25\n",
            "\n",
            "Epoch 00009: LearningRateScheduler setting learning rate to 0.0096.\n",
            "67/67 [==============================] - 13s 193ms/step - loss: 3.7885 - output_loss: 0.9495 - auxilliary_output_1_loss: 8.7800 - auxilliary_output_2_loss: 0.6832 - output_accuracy: 0.8358 - auxilliary_output_1_accuracy: 0.1642 - auxilliary_output_2_accuracy: 0.8060 - val_loss: 3.4177 - val_output_loss: 1.2462 - val_auxilliary_output_1_loss: 6.3890 - val_auxilliary_output_2_loss: 0.8494 - val_output_accuracy: 0.6000 - val_auxilliary_output_1_accuracy: 0.6000 - val_auxilliary_output_2_accuracy: 0.6000\n",
            "Epoch 10/25\n",
            "\n",
            "Epoch 00010: LearningRateScheduler setting learning rate to 0.0096.\n",
            "67/67 [==============================] - 13s 193ms/step - loss: 1.5951 - output_loss: 0.6009 - auxilliary_output_1_loss: 2.7771 - auxilliary_output_2_loss: 0.5368 - output_accuracy: 0.8358 - auxilliary_output_1_accuracy: 0.8358 - auxilliary_output_2_accuracy: 0.8209 - val_loss: 2.5852 - val_output_loss: 0.6787 - val_auxilliary_output_1_loss: 5.5427 - val_auxilliary_output_2_loss: 0.8123 - val_output_accuracy: 0.6000 - val_auxilliary_output_1_accuracy: 0.6000 - val_auxilliary_output_2_accuracy: 0.6000\n",
            "Epoch 11/25\n",
            "\n",
            "Epoch 00011: LearningRateScheduler setting learning rate to 0.0096.\n",
            "67/67 [==============================] - 13s 193ms/step - loss: 1.4772 - output_loss: 0.6114 - auxilliary_output_1_loss: 2.3887 - auxilliary_output_2_loss: 0.4973 - output_accuracy: 0.7164 - auxilliary_output_1_accuracy: 0.8358 - auxilliary_output_2_accuracy: 0.8060 - val_loss: 1.6032 - val_output_loss: 0.6988 - val_auxilliary_output_1_loss: 2.1037 - val_auxilliary_output_2_loss: 0.9111 - val_output_accuracy: 0.6000 - val_auxilliary_output_1_accuracy: 0.6000 - val_auxilliary_output_2_accuracy: 0.6000\n",
            "Epoch 12/25\n",
            "\n",
            "Epoch 00012: LearningRateScheduler setting learning rate to 0.0096.\n",
            "67/67 [==============================] - 13s 194ms/step - loss: 1.1774 - output_loss: 0.7049 - auxilliary_output_1_loss: 1.0346 - auxilliary_output_2_loss: 0.5405 - output_accuracy: 0.6567 - auxilliary_output_1_accuracy: 0.8358 - auxilliary_output_2_accuracy: 0.8358 - val_loss: 1.4734 - val_output_loss: 0.7598 - val_auxilliary_output_1_loss: 1.4865 - val_auxilliary_output_2_loss: 0.8922 - val_output_accuracy: 0.6000 - val_auxilliary_output_1_accuracy: 0.6000 - val_auxilliary_output_2_accuracy: 0.6000\n",
            "Epoch 13/25\n",
            "\n",
            "Epoch 00013: LearningRateScheduler setting learning rate to 0.0096.\n",
            "67/67 [==============================] - 13s 195ms/step - loss: 1.0397 - output_loss: 0.5091 - auxilliary_output_1_loss: 1.2425 - auxilliary_output_2_loss: 0.5263 - output_accuracy: 0.8358 - auxilliary_output_1_accuracy: 0.8209 - auxilliary_output_2_accuracy: 0.8358 - val_loss: 2.1311 - val_output_loss: 1.0995 - val_auxilliary_output_1_loss: 2.3714 - val_auxilliary_output_2_loss: 1.0673 - val_output_accuracy: 0.6000 - val_auxilliary_output_1_accuracy: 0.6000 - val_auxilliary_output_2_accuracy: 0.6000\n",
            "Epoch 14/25\n",
            "\n",
            "Epoch 00014: LearningRateScheduler setting learning rate to 0.0096.\n",
            "67/67 [==============================] - 13s 194ms/step - loss: 1.0238 - output_loss: 0.4946 - auxilliary_output_1_loss: 1.3101 - auxilliary_output_2_loss: 0.4538 - output_accuracy: 0.8358 - auxilliary_output_1_accuracy: 0.8358 - auxilliary_output_2_accuracy: 0.8358 - val_loss: 1.9008 - val_output_loss: 1.2899 - val_auxilliary_output_1_loss: 1.0952 - val_auxilliary_output_2_loss: 0.9411 - val_output_accuracy: 0.6000 - val_auxilliary_output_1_accuracy: 0.6000 - val_auxilliary_output_2_accuracy: 0.6000\n",
            "Epoch 15/25\n",
            "\n",
            "Epoch 00015: LearningRateScheduler setting learning rate to 0.0096.\n",
            "67/67 [==============================] - 13s 195ms/step - loss: 0.9951 - output_loss: 0.5674 - auxilliary_output_1_loss: 0.8834 - auxilliary_output_2_loss: 0.5422 - output_accuracy: 0.8358 - auxilliary_output_1_accuracy: 0.7910 - auxilliary_output_2_accuracy: 0.8358 - val_loss: 2.4457 - val_output_loss: 1.3452 - val_auxilliary_output_1_loss: 2.4318 - val_auxilliary_output_2_loss: 1.2366 - val_output_accuracy: 0.6000 - val_auxilliary_output_1_accuracy: 0.6000 - val_auxilliary_output_2_accuracy: 0.6000\n",
            "Epoch 16/25\n",
            "\n",
            "Epoch 00016: LearningRateScheduler setting learning rate to 0.009216.\n",
            "67/67 [==============================] - 13s 194ms/step - loss: 1.0909 - output_loss: 0.5618 - auxilliary_output_1_loss: 1.1382 - auxilliary_output_2_loss: 0.6257 - output_accuracy: 0.8358 - auxilliary_output_1_accuracy: 0.7612 - auxilliary_output_2_accuracy: 0.8060 - val_loss: 1.5282 - val_output_loss: 1.0226 - val_auxilliary_output_1_loss: 0.7848 - val_auxilliary_output_2_loss: 0.9007 - val_output_accuracy: 0.6000 - val_auxilliary_output_1_accuracy: 0.2000 - val_auxilliary_output_2_accuracy: 0.6000\n",
            "Epoch 17/25\n",
            "\n",
            "Epoch 00017: LearningRateScheduler setting learning rate to 0.009216.\n",
            "67/67 [==============================] - 13s 194ms/step - loss: 1.1869 - output_loss: 0.4817 - auxilliary_output_1_loss: 1.8475 - auxilliary_output_2_loss: 0.5029 - output_accuracy: 0.8358 - auxilliary_output_1_accuracy: 0.4328 - auxilliary_output_2_accuracy: 0.8358 - val_loss: 1.3590 - val_output_loss: 0.7782 - val_auxilliary_output_1_loss: 1.2009 - val_auxilliary_output_2_loss: 0.7350 - val_output_accuracy: 0.6000 - val_auxilliary_output_1_accuracy: 0.6000 - val_auxilliary_output_2_accuracy: 0.6000\n",
            "Epoch 18/25\n",
            "\n",
            "Epoch 00018: LearningRateScheduler setting learning rate to 0.009216.\n",
            "67/67 [==============================] - 13s 194ms/step - loss: 0.7980 - output_loss: 0.4374 - auxilliary_output_1_loss: 0.6276 - auxilliary_output_2_loss: 0.5746 - output_accuracy: 0.8507 - auxilliary_output_1_accuracy: 0.8209 - auxilliary_output_2_accuracy: 0.7463 - val_loss: 1.2888 - val_output_loss: 0.7115 - val_auxilliary_output_1_loss: 1.1438 - val_auxilliary_output_2_loss: 0.7807 - val_output_accuracy: 0.6000 - val_auxilliary_output_1_accuracy: 0.6000 - val_auxilliary_output_2_accuracy: 0.6000\n",
            "Epoch 19/25\n",
            "\n",
            "Epoch 00019: LearningRateScheduler setting learning rate to 0.009216.\n",
            "67/67 [==============================] - 13s 189ms/step - loss: 0.8617 - output_loss: 0.5212 - auxilliary_output_1_loss: 0.6109 - auxilliary_output_2_loss: 0.5241 - output_accuracy: 0.8209 - auxilliary_output_1_accuracy: 0.8358 - auxilliary_output_2_accuracy: 0.8209 - val_loss: 1.3690 - val_output_loss: 0.7150 - val_auxilliary_output_1_loss: 1.3739 - val_auxilliary_output_2_loss: 0.8061 - val_output_accuracy: 0.6000 - val_auxilliary_output_1_accuracy: 0.6000 - val_auxilliary_output_2_accuracy: 0.6000\n",
            "Epoch 20/25\n",
            "\n",
            "Epoch 00020: LearningRateScheduler setting learning rate to 0.009216.\n",
            "67/67 [==============================] - 13s 190ms/step - loss: 0.8388 - output_loss: 0.5065 - auxilliary_output_1_loss: 0.6190 - auxilliary_output_2_loss: 0.4887 - output_accuracy: 0.8358 - auxilliary_output_1_accuracy: 0.8358 - auxilliary_output_2_accuracy: 0.8209 - val_loss: 1.4993 - val_output_loss: 0.7858 - val_auxilliary_output_1_loss: 1.5276 - val_auxilliary_output_2_loss: 0.8506 - val_output_accuracy: 0.6000 - val_auxilliary_output_1_accuracy: 0.6000 - val_auxilliary_output_2_accuracy: 0.6000\n",
            "Epoch 21/25\n",
            "\n",
            "Epoch 00021: LearningRateScheduler setting learning rate to 0.009216.\n",
            "67/67 [==============================] - 13s 189ms/step - loss: 0.8377 - output_loss: 0.5014 - auxilliary_output_1_loss: 0.6723 - auxilliary_output_2_loss: 0.4486 - output_accuracy: 0.8358 - auxilliary_output_1_accuracy: 0.8358 - auxilliary_output_2_accuracy: 0.8358 - val_loss: 1.6513 - val_output_loss: 0.9182 - val_auxilliary_output_1_loss: 1.5533 - val_auxilliary_output_2_loss: 0.8906 - val_output_accuracy: 0.6000 - val_auxilliary_output_1_accuracy: 0.6000 - val_auxilliary_output_2_accuracy: 0.6000\n",
            "Epoch 22/25\n",
            "\n",
            "Epoch 00022: LearningRateScheduler setting learning rate to 0.009216.\n",
            "67/67 [==============================] - 13s 191ms/step - loss: 0.8083 - output_loss: 0.4762 - auxilliary_output_1_loss: 0.6848 - auxilliary_output_2_loss: 0.4222 - output_accuracy: 0.8358 - auxilliary_output_1_accuracy: 0.8358 - auxilliary_output_2_accuracy: 0.8358 - val_loss: 1.7521 - val_output_loss: 1.0329 - val_auxilliary_output_1_loss: 1.4630 - val_auxilliary_output_2_loss: 0.9342 - val_output_accuracy: 0.6000 - val_auxilliary_output_1_accuracy: 0.6000 - val_auxilliary_output_2_accuracy: 0.6000\n",
            "Epoch 23/25\n",
            "\n",
            "Epoch 00023: LearningRateScheduler setting learning rate to 0.009216.\n",
            "67/67 [==============================] - 13s 189ms/step - loss: 0.8620 - output_loss: 0.5088 - auxilliary_output_1_loss: 0.7057 - auxilliary_output_2_loss: 0.4719 - output_accuracy: 0.8358 - auxilliary_output_1_accuracy: 0.8358 - auxilliary_output_2_accuracy: 0.8358 - val_loss: 1.7416 - val_output_loss: 1.0615 - val_auxilliary_output_1_loss: 1.3020 - val_auxilliary_output_2_loss: 0.9647 - val_output_accuracy: 0.6000 - val_auxilliary_output_1_accuracy: 0.6000 - val_auxilliary_output_2_accuracy: 0.6000\n",
            "Epoch 24/25\n",
            "\n",
            "Epoch 00024: LearningRateScheduler setting learning rate to 0.008847359999999999.\n",
            "67/67 [==============================] - 13s 190ms/step - loss: 0.8249 - output_loss: 0.4738 - auxilliary_output_1_loss: 0.6289 - auxilliary_output_2_loss: 0.5414 - output_accuracy: 0.8358 - auxilliary_output_1_accuracy: 0.8358 - auxilliary_output_2_accuracy: 0.8358 - val_loss: 1.6436 - val_output_loss: 1.0147 - val_auxilliary_output_1_loss: 1.1312 - val_auxilliary_output_2_loss: 0.9653 - val_output_accuracy: 0.6000 - val_auxilliary_output_1_accuracy: 0.6000 - val_auxilliary_output_2_accuracy: 0.6000\n",
            "Epoch 25/25\n",
            "\n",
            "Epoch 00025: LearningRateScheduler setting learning rate to 0.008847359999999999.\n",
            "67/67 [==============================] - 13s 190ms/step - loss: 0.7926 - output_loss: 0.4675 - auxilliary_output_1_loss: 0.5678 - auxilliary_output_2_loss: 0.5160 - output_accuracy: 0.8358 - auxilliary_output_1_accuracy: 0.8358 - auxilliary_output_2_accuracy: 0.8358 - val_loss: 1.4976 - val_output_loss: 0.9039 - val_auxilliary_output_1_loss: 1.0287 - val_auxilliary_output_2_loss: 0.9505 - val_output_accuracy: 0.6000 - val_auxilliary_output_1_accuracy: 0.6000 - val_auxilliary_output_2_accuracy: 0.6000\n"
          ],
          "name": "stdout"
        }
      ]
    },
    {
      "cell_type": "code",
      "metadata": {
        "id": "le0_4vZpZ9gD",
        "colab_type": "code",
        "colab": {
          "base_uri": "https://localhost:8080/",
          "height": 84
        },
        "outputId": "e928acca-ba04-433d-84a1-66a5ede19006"
      },
      "source": [
        "print(trainX.shape)\n",
        "print(trainY.shape)\n",
        "print(testX.shape)\n",
        "print(testY.shape)"
      ],
      "execution_count": null,
      "outputs": [
        {
          "output_type": "stream",
          "text": [
            "(67, 224, 224, 3)\n",
            "(67,)\n",
            "(5, 224, 224, 3)\n",
            "(5,)\n"
          ],
          "name": "stdout"
        }
      ]
    },
    {
      "cell_type": "code",
      "metadata": {
        "id": "q4PbzI39GJ2-",
        "colab_type": "code",
        "colab": {}
      },
      "source": [
        "def plot_image(i, predictions_array, true_labels, images):\n",
        "  predictions_array, true_label, img = predictions_array[i], true_labels[i], images[i]\n",
        "  plt.grid(False)\n",
        "  plt.xticks([])\n",
        "  plt.yticks([])\n",
        "   \n",
        "  plt.imshow(img[...,0], cmap=plt.cm.binary)\n",
        " \n",
        "  predicted_label = np.argmax(predictions_array)\n",
        "  if predicted_label == true_label:\n",
        "    color = 'blue'\n",
        "  else:\n",
        "    color = 'red'\n",
        "   \n",
        "  plt.xlabel(\"{} {:2.0f}% ({})\".format(class_object[predicted_label],\n",
        "                                100*np.max(predictions_array),\n",
        "                                class_object[true_label]),\n",
        "                                color=color)\n"
      ],
      "execution_count": null,
      "outputs": []
    },
    {
      "cell_type": "code",
      "metadata": {
        "id": "XhDYhlRvGbji",
        "colab_type": "code",
        "colab": {
          "base_uri": "https://localhost:8080/",
          "height": 153
        },
        "outputId": "e6428a21-7293-49e3-f5d2-6de4dd8940eb"
      },
      "source": [
        "num_rows = 1\n",
        "num_cols = 1\n",
        "num_images = num_rows*num_cols\n",
        "plt.figure(figsize=(2*num_cols, 2*num_rows))\n",
        "test_images = testX[:num_images]\n",
        "predictions = model.predict(testX)\n",
        "for i in range(num_images):    \n",
        "    plt.subplot(num_rows, num_cols, i+1)   \n",
        "    plot_image(i, predictions, testY, testX)    \n",
        " \n",
        "plt.tight_layout()\n",
        "plt.show()"
      ],
      "execution_count": null,
      "outputs": [
        {
          "output_type": "display_data",
          "data": {
            "image/png": "[encoded data removed]",
            "text/plain": [
              "<Figure size 144x144 with 1 Axes>"
            ]
          },
          "metadata": {
            "tags": []
          }
        }
      ]
    }
  ]
}