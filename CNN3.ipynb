{
  "nbformat": 4,
  "nbformat_minor": 0,
  "metadata": {
    "colab": {
      "name": "Increase RAM Reference Notes By Techhawa .ipynb",
      "provenance": [],
      "collapsed_sections": [],
      "machine_shape": "hm",
      "include_colab_link": true
    },
    "kernelspec": {
      "name": "python3",
      "display_name": "Python 3"
    },
    "accelerator": "TPU"
  },
  "cells": [
    {
      "cell_type": "markdown",
      "metadata": {
        "id": "view-in-github",
        "colab_type": "text"
      },
      "source": [
        "<a href=\"https://colab.research.google.com/github/SrivenkateswaraRao/Research-Project/blob/master/CNN3.ipynb\" target=\"_parent\"><img src=\"https://colab.research.google.com/assets/colab-badge.svg\" alt=\"Open In Colab\"/></a>"
      ]
    },
    {
      "cell_type": "code",
      "metadata": {
        "id": "vRXTdQDVKS6v",
        "colab_type": "code",
        "colab": {}
      },
      "source": [
        "import os\n",
        "from os import listdir\n",
        "from pydrive.auth import GoogleAuth\n",
        "from pydrive.drive import GoogleDrive\n",
        "from google.colab import auth\n",
        "from oauth2client.client import GoogleCredentials\n",
        "import numpy as np"
      ],
      "execution_count": 1,
      "outputs": []
    },
    {
      "cell_type": "code",
      "metadata": {
        "id": "_zf7iSxzKaf0",
        "colab_type": "code",
        "colab": {}
      },
      "source": [
        "auth.authenticate_user()\n",
        "gauth = GoogleAuth()\n",
        "gauth.credentials = GoogleCredentials.get_application_default()\n",
        "drive = GoogleDrive(gauth)"
      ],
      "execution_count": 2,
      "outputs": []
    },
    {
      "cell_type": "code",
      "metadata": {
        "id": "LCOxaKCJKzA0",
        "colab_type": "code",
        "colab": {
          "resources": {
            "http://localhost:8080/nbextensions/google.colab/files.js": {
              "data": "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",
              "ok": true,
              "headers": [
                [
                  "content-type",
                  "application/javascript"
                ]
              ],
              "status": 200,
              "status_text": ""
            }
          },
          "base_uri": "https://localhost:8080/",
          "height": 160
        },
        "outputId": "507cdff3-d853-4ab5-9570-8160d56c0d45"
      },
      "source": [
        "from google.colab import files\n",
        "files.upload() "
      ],
      "execution_count": 3,
      "outputs": [
        {
          "output_type": "display_data",
          "data": {
            "text/html": [
              "\n",
              "     <input type=\"file\" id=\"files-f0075806-71f8-4c3f-80ed-ad077c808f69\" name=\"files[]\" multiple disabled\n",
              "        style=\"border:none\" />\n",
              "     <output id=\"result-f0075806-71f8-4c3f-80ed-ad077c808f69\">\n",
              "      Upload widget is only available when the cell has been executed in the\n",
              "      current browser session. Please rerun this cell to enable.\n",
              "      </output>\n",
              "      <script src=\"/nbextensions/google.colab/files.js\"></script> "
            ],
            "text/plain": [
              "<IPython.core.display.HTML object>"
            ]
          },
          "metadata": {
            "tags": []
          }
        },
        {
          "output_type": "stream",
          "text": [
            "Saving CreatePestImageData.py to CreatePestImageData.py\n",
            "Saving SupportingFunctions.py to SupportingFunctions.py\n"
          ],
          "name": "stdout"
        },
        {
          "output_type": "execute_result",
          "data": {
            "text/plain": [
              "{'CreatePestImageData.py': b'# -*- coding: utf-8 -*-\\r\\n\"\"\"createImageDataset.ipynb\\r\\n\\r\\nAutomatically generated by Colaboratory.\\r\\n\\r\\nOriginal file is located at\\r\\n    https://colab.research.google.com/drive/1FXiYKCQ-jtbL_O29BQb2Xy1bBd2inM9q\\r\\n\"\"\"\\r\\n\\r\\nfrom os import listdir\\r\\nimport numpy as np\\r\\nimport xml.etree.ElementTree as ET\\r\\nimport cv2\\r\\nimport tensorflow as tf \\r\\n\\r\\nclass createImageDataset(object):\\r\\n    \\r\\n    def __init__(self, class_map=None):\\r\\n        self.image_info = []\\r\\n        self.trainX = []\\r\\n        self.trainY = []\\r\\n        self.testX = []\\r\\n        self.testY = []\\r\\n            \\r\\n    def add_image_info(self , image_array , image_path , image_id , object_id , class_name , class_id):\\r\\n        \\r\\n        image_info_ = {\\'object_id\\': image_id,\\r\\n                       \\'object_class\\': class_name,\\r\\n                       \\'image_path\\': image_path,\\r\\n                       \\'image_array\\': image_array,\\r\\n                       \\'class_id\\' : class_id}\\r\\n        self.image_info.append(image_info_)\\r\\n\\r\\n    def parse_xml(self,filer):\\r\\n        boxes = list()\\r\\n        names = list()\\r\\n        root = ET.parse(filer).getroot() \\r\\n        for box in root.findall(\\'.//object\\'):\\r\\n            xmin = int(box.find(\\'.//bndbox/xmin\\').text)\\r\\n            xmax = int(box.find(\\'.//bndbox/xmax\\').text)\\r\\n            ymin = int(box.find(\\'.//bndbox/ymin\\').text)\\r\\n            ymax = int(box.find(\\'.//bndbox/ymax\\').text)\\r\\n            name = box.find(\\'.//name\\').text\\r\\n            coords = [xmin , ymin , xmax , ymax]\\r\\n            names.append(name)\\r\\n            boxes.append(coords)\\r\\n        width = int(root.find(\\'.//size/width\\').text)\\r\\n        height = int(root.find(\\'.//size/height\\').text)\\r\\n        path = root.find(\\'.//path\\').text\\r\\n        filename = root.find(\\'filename\\').text\\r\\n        filename = filename[:-4]\\r\\n\\r\\n        return boxes, width, height , names , path , filename\\r\\n\\r\\n    def get_image_arrays(self , annot_path , class_object, img_Size, imageFilePath):\\r\\n        \\r\\n        count = 0\\r\\n        for i in listdir(annot_path):\\r\\n            patt = annot_path +\\'/\\' + i\\r\\n            parsed = self.parse_xml(patt)\\r\\n            img = cv2.imread(imageFilePath + i[0:-4] + \\'.jpg\\')\\r\\n            for wh in range(0 , len(parsed[0])):\\r\\n                crop_img = img[parsed[0][wh][1]:parsed[0][wh][3] , parsed[0][wh][0]:parsed[0][wh][2] ]\\r\\n                \\r\\n                class_name = parsed[3][wh]\\r\\n                keys = list(class_object.keys())  \\r\\n                values = list(class_object.values())\\r\\n                class_id = keys[values.index(class_name)]\\r\\n                \\r\\n                try:  \\r\\n                    if np.shape(crop_img) != ():\\r\\n                       resized_img = cv2.resize(crop_img,(img_Size,img_Size))\\r\\n                       self.add_image_info( image_array = resized_img , image_path = parsed[4],\\r\\n                                   object_id = count , class_name=parsed[3][wh] , image_id= 0 , class_id=class_id )\\r\\n                       print(\\'Image : \\' + parsed[4] + \\' added to dataset with class name \"\\' + parsed[3][wh]  +\\'\".\\'  )\\r\\n                    else:\\r\\n                       print(\\'Image : \\' + parsed[4] + \\' Failed to be added to the  dataset with class name \"\\' + parsed[3][wh]  +\\'\".\\'  )  \\r\\n                except Exception as e:  \\r\\n                     print(str(e))                \\r\\n                count = count + 1\\r\\n    \\r\\n    def prepare_dataset(self , path , class_object , image_Size, imagePath, test_size):\\r\\n        \\r\\n        self.get_image_arrays(path , class_object, image_Size, imagePath)\\r\\n        \\r\\n        img_arrays = np.array([d[\\'image_array\\'] for d in self.image_info if \\'image_array\\' in d])\\r\\n        class_names = np.array([d[\\'object_class\\'] for d in self.image_info if \\'object_class\\' in d])\\r\\n        class_ids  = np.array([d[\\'class_id\\'] for d in self.image_info if \\'class_id\\' in d])\\r\\n        all_idx = range(0 , len(img_arrays))\\r\\n        test_idx = np.random.choice(np.arange(len(img_arrays)), test_size, replace=False)\\r\\n        train_idx = np.delete(all_idx , test_idx) \\r\\n        \\r\\n        \\r\\n        self.testX = img_arrays[test_idx]\\r\\n        self.testY = class_ids[test_idx]\\r\\n        \\r\\n        self.trainX = img_arrays[train_idx]        \\r\\n        self.trainY = class_ids[train_idx]\\r\\n        \\r\\n        return print(\\'Image dataset succesfully saved.\\')',\n",
              " 'SupportingFunctions.py': b'import zipfile\\r\\nimport os\\r\\nimport re, os.path\\r\\nimport numpy as np\\r\\nimport matplotlib.pyplot as plt\\r\\nfrom sklearn.metrics import accuracy_score\\r\\nfrom sklearn.metrics import precision_score\\r\\nfrom sklearn.metrics import recall_score\\r\\nfrom sklearn.metrics import f1_score\\r\\nfrom sklearn.metrics import cohen_kappa_score\\r\\n\\r\\n\\r\\n\\r\\n\\r\\n\\r\\ndef DownLoadFiles(folderId,drive):\\r\\n    file_list = drive.ListFile(\\r\\n    {\\'q\\': \"\\'\"+folderId+\"\\' in parents\"}).GetList()\\r\\n\\r\\n    for f in file_list:\\r\\n         print(\\'title: %s, id: %s\\' % (f[\\'title\\'], f[\\'id\\']))\\r\\n         fname = f[\\'title\\']\\r\\n         print(\\'downloading to {}\\'.format(fname))\\r\\n         f_ = drive.CreateFile({\\'id\\': f[\\'id\\']})\\r\\n         f_.GetContentFile(fname)\\r\\n\\r\\n\\r\\ndef Unzip(source_Path, dest_Path):\\r\\n    zip = zipfile.ZipFile(source_Path, \\'r\\')\\r\\n    zip.setpassword(b\"virus\")\\r\\n    for name in zip.namelist():\\r\\n        if not name.endswith((\\'/\\', \\'\\\\\\\\\\')):\\r\\n            with open(os.path.join(dest_Path, os.path.basename(name)), \\'wb\\') as f:\\r\\n                 f.write(zip.read(name))\\r\\n    zip.close()\\r\\n\\r\\n\\r\\ndef fileCount(directory):\\r\\n    count = 0\\r\\n    d = directory\\r\\n    for path in os.listdir(d):\\r\\n        if os.path.isfile(os.path.join(d, path)):\\r\\n            count += 1\\r\\n    print(count)\\r\\n\\r\\n\\r\\n\\r\\ndef RemoveFiles(directory):   \\r\\n    mypath = directory\\r\\n    for root, dirs, files in os.walk(mypath):\\r\\n        for file in files:\\r\\n            os.remove(os.path.join(root, file))\\r\\n\\r\\n\\r\\n#-------------------------------- Data Augmentation Functions ----------------------------------------------------------------------------#\\r\\n\\r\\ndef PrepareAugmentedData(trainX,trainY):\\r\\n    arr1  = np.fliplr(trainX)\\r\\n    resultX = np.concatenate((trainX,arr1), axis=0)\\r\\n    resultY = np.concatenate((trainY,trainY), axis=0) \\r\\n    return resultX, resultY\\r\\n#---------------------------------\\r\\n\\r\\ndef GenerateGraphs(acc, val_acc, loss, val_loss):\\r\\n     epochs = range(len(acc))\\r\\n     plt.plot(epochs, acc, \\'bo\\', label=\\'Training accuracy\\')\\r\\n     plt.plot(epochs, val_acc, \\'b\\', label=\\'Validation accuracy\\')\\r\\n     plt.title(\\'Training and validation accuracy\\')\\r\\n     plt.figure()\\r\\n     plt.plot(epochs, loss, \\'bo\\', label=\\'Training Loss\\')\\r\\n     plt.plot(epochs, val_loss, \\'b\\', label=\\'Validation Loss\\')\\r\\n     plt.title(\\'Training and validation loss\\')\\r\\n     plt.legend()\\r\\n     plt.show()\\r\\n     \\r\\n     \\r\\n     \\r\\ndef plot_image(i, predictions_array, true_labels, images):\\r\\n  predictions_array, true_label, img = predictions_array[i], true_labels[i], images[i]\\r\\n  plt.grid(False)\\r\\n  plt.xticks([])\\r\\n  plt.yticks([])\\r\\n   \\r\\n  plt.imshow(img[...,0], cmap=plt.cm.binary)\\r\\n \\r\\n  predicted_label = np.argmax(predictions_array)\\r\\n  if predicted_label == true_label:\\r\\n    color = \\'blue\\'\\r\\n  else:\\r\\n    color = \\'red\\'\\r\\n   \\r\\n  plt.xlabel(\"{} {:2.0f}% ({})\".format(class_object[predicted_label],\\r\\n                                100*np.max(predictions_array),\\r\\n                                class_object[true_label]),\\r\\n                                color=color)\\r\\n\\r\\n\\r\\n\\r\\n\\r\\n\\r\\n\\r\\ndef averageOfList(num):\\r\\n    sumOfNumbers = 0\\r\\n    for t in num:\\r\\n        sumOfNumbers = sumOfNumbers + t\\r\\n\\r\\n    avg = sumOfNumbers / len(num)\\r\\n    return avg\\r\\n\\r\\n\\r\\n\\r\\n\\r\\n\\r\\n\\r\\n\\r\\n\\r\\n\\r\\ndef PrintMetrics(testX, testY, model):\\r\\n    yhat_probs = model.predict(testX, verbose=0)\\r\\n    yhat_classes = model.predict_classes(testX, verbose=0)\\r\\n    accuracy = accuracy_score(testY, yhat_classes)\\r\\n    precision = precision_score(testY, yhat_classes, average=\"macro\")\\r\\n    print(\\'Accuracy: %f\\' % accuracy)\\r\\n    print(\\'Precision: %f\\' % precision)\\r\\n    recall = recall_score(testY, yhat_classes,average=\"macro\")\\r\\n    print(\\'Recall: %f\\' % recall)\\r\\n    f1 = f1_score(testY, yhat_classes,average=\"macro\")\\r\\n    print(\\'F1 score: %f\\' % f1)\\r\\n    kappa = cohen_kappa_score(testY, yhat_classes)\\r\\n    print(\\'Cohens kappa: %f\\' % kappa)\\r\\n \\r\\n\\r\\n\\r\\n'}"
            ]
          },
          "metadata": {
            "tags": []
          },
          "execution_count": 3
        }
      ]
    },
    {
      "cell_type": "code",
      "metadata": {
        "id": "dbxnI4zrLATr",
        "colab_type": "code",
        "colab": {}
      },
      "source": [
        "import CreatePestImageData as Imagedataset\n",
        "import SupportingFunctions as support"
      ],
      "execution_count": 1,
      "outputs": []
    },
    {
      "cell_type": "code",
      "metadata": {
        "id": "MsX9B9gWLClk",
        "colab_type": "code",
        "colab": {}
      },
      "source": [
        "support.DownLoadFiles('1aXb25Wp9sG7mL6AQgYY9ElrGcERi95JU',drive)"
      ],
      "execution_count": null,
      "outputs": []
    },
    {
      "cell_type": "code",
      "metadata": {
        "id": "HP63yquZOxes",
        "colab_type": "code",
        "colab": {}
      },
      "source": [
        "support.Unzip('/content/GREENPATROL_DB_V1.0.zip','/content/Pests/Images')"
      ],
      "execution_count": 8,
      "outputs": []
    },
    {
      "cell_type": "code",
      "metadata": {
        "id": "FjdLhsa-PhAM",
        "colab_type": "code",
        "colab": {
          "base_uri": "https://localhost:8080/",
          "height": 34
        },
        "outputId": "bec11e56-4bb4-4916-cf1b-c4c7039239de"
      },
      "source": [
        "support.fileCount('/content/Pests/Images')"
      ],
      "execution_count": 9,
      "outputs": [
        {
          "output_type": "stream",
          "text": [
            "2000\n"
          ],
          "name": "stdout"
        }
      ]
    },
    {
      "cell_type": "code",
      "metadata": {
        "id": "o9VJCEpZJ6TH",
        "colab_type": "code",
        "colab": {}
      },
      "source": [
        "dataSet = Imagedataset.createImageDataset()"
      ],
      "execution_count": 4,
      "outputs": []
    },
    {
      "cell_type": "code",
      "metadata": {
        "id": "kJc_EiuuQB17",
        "colab_type": "code",
        "colab": {}
      },
      "source": [
        "class_object = {0 : 'egg_wf' ,\n",
        "                1 : 'egg_bt', 2 : 'egg_ta', 3 : 'wf', 4 : 'bt', 5 : 'ta', 6 : 'ta_maps', 7 : 'ta_larvae', 8 : 'ta_maps+larvae', 9 : 'tomato'}"
      ],
      "execution_count": null,
      "outputs": []
    },
    {
      "cell_type": "code",
      "metadata": {
        "id": "5Go1GO1j1_Ks",
        "colab_type": "code",
        "colab": {}
      },
      "source": [
        "class_object = {0 : 'egg_wf' ,\n",
        "                1 : 'egg_bt', 2 : 'wf', 3 : 'bt', 4 : 'tomato'}"
      ],
      "execution_count": 2,
      "outputs": []
    },
    {
      "cell_type": "code",
      "metadata": {
        "id": "YQ4yg8zaQEmb",
        "colab_type": "code",
        "colab": {}
      },
      "source": [
        "dataSet.prepare_dataset('/content/Pests/Labels' , class_object , 224,  '/content/Pests/Images/',  test_size=5000 )"
      ],
      "execution_count": null,
      "outputs": []
    },
    {
      "cell_type": "code",
      "metadata": {
        "id": "rtF-jfjvR3Kr",
        "colab_type": "code",
        "colab": {}
      },
      "source": [
        "(trainY , trainX) , (testY , testX ) = (dataSet.trainY , dataSet.trainX ) , (dataSet.testY , dataSet.testX )\n"
      ],
      "execution_count": 6,
      "outputs": []
    },
    {
      "cell_type": "code",
      "metadata": {
        "id": "SHb4SjEzk8Q0",
        "colab_type": "code",
        "colab": {
          "base_uri": "https://localhost:8080/",
          "height": 521
        },
        "outputId": "f2cf128f-dbb0-447d-add3-a6a3f8eaa271"
      },
      "source": [
        "from keras.utils import plot_model\n",
        "from keras.models import Model\n",
        "from keras.layers import Input\n",
        "from keras.layers import Dense\n",
        "from keras.layers import Flatten\n",
        "from keras.layers.convolutional import Conv2D\n",
        "from keras.layers.pooling import MaxPooling2D\n",
        "from keras.layers.merge import concatenate\n",
        "# input layer\n",
        "visible = Input(shape=(224,224,3))\n",
        "# first feature extractor\n",
        "conv1 = Conv2D(32, kernel_size=4, activation='relu')(visible)\n",
        "pool1 = MaxPooling2D(pool_size=(2, 2))(conv1)\n",
        "flat1 = Flatten()(pool1)\n",
        "# second feature extractor\n",
        "conv2 = Conv2D(16, kernel_size=8, activation='relu')(visible)\n",
        "pool2 = MaxPooling2D(pool_size=(2, 2))(conv2)\n",
        "flat2 = Flatten()(pool2)\n",
        "# merge feature extractors\n",
        "merge = concatenate([flat1, flat2])\n",
        "# interpretation layer\n",
        "hidden1 = Dense(10, activation='relu')(merge)\n",
        "# prediction output\n",
        "output = Dense(5, activation='softmax')(hidden1)\n",
        "model = Model(inputs=visible, outputs=output)\n",
        "# summarize layers\n",
        "print(model.summary())\n",
        "model.compile(optimizer='adam',loss='categorical_crossentropy', metrics=['accuracy'])\n"
      ],
      "execution_count": 29,
      "outputs": [
        {
          "output_type": "stream",
          "text": [
            "Model: \"model_4\"\n",
            "__________________________________________________________________________________________________\n",
            "Layer (type)                    Output Shape         Param #     Connected to                     \n",
            "==================================================================================================\n",
            "input_13 (InputLayer)           (None, 224, 224, 3)  0                                            \n",
            "__________________________________________________________________________________________________\n",
            "conv2d_9 (Conv2D)               (None, 221, 221, 32) 1568        input_13[0][0]                   \n",
            "__________________________________________________________________________________________________\n",
            "conv2d_10 (Conv2D)              (None, 217, 217, 16) 3088        input_13[0][0]                   \n",
            "__________________________________________________________________________________________________\n",
            "max_pooling2d_5 (MaxPooling2D)  (None, 110, 110, 32) 0           conv2d_9[0][0]                   \n",
            "__________________________________________________________________________________________________\n",
            "max_pooling2d_6 (MaxPooling2D)  (None, 108, 108, 16) 0           conv2d_10[0][0]                  \n",
            "__________________________________________________________________________________________________\n",
            "flatten_5 (Flatten)             (None, 387200)       0           max_pooling2d_5[0][0]            \n",
            "__________________________________________________________________________________________________\n",
            "flatten_6 (Flatten)             (None, 186624)       0           max_pooling2d_6[0][0]            \n",
            "__________________________________________________________________________________________________\n",
            "concatenate_3 (Concatenate)     (None, 573824)       0           flatten_5[0][0]                  \n",
            "                                                                 flatten_6[0][0]                  \n",
            "__________________________________________________________________________________________________\n",
            "dense_7 (Dense)                 (None, 10)           5738250     concatenate_3[0][0]              \n",
            "__________________________________________________________________________________________________\n",
            "dense_8 (Dense)                 (None, 5)            55          dense_7[0][0]                    \n",
            "==================================================================================================\n",
            "Total params: 5,742,961\n",
            "Trainable params: 5,742,961\n",
            "Non-trainable params: 0\n",
            "__________________________________________________________________________________________________\n",
            "None\n"
          ],
          "name": "stdout"
        }
      ]
    },
    {
      "cell_type": "code",
      "metadata": {
        "id": "kXXgL4gsTRQG",
        "colab_type": "code",
        "colab": {}
      },
      "source": [
        "from google.colab import drive\n",
        "drive.mount('/content/drive')"
      ],
      "execution_count": null,
      "outputs": []
    },
    {
      "cell_type": "code",
      "metadata": {
        "id": "Uy_EGcX3VAPW",
        "colab_type": "code",
        "colab": {
          "base_uri": "https://localhost:8080/",
          "height": 84
        },
        "outputId": "9c66b3a6-97f4-424f-b70f-2a36cc4b87cd"
      },
      "source": [
        "print(trainX.shape)\n",
        "print(trainY.shape)\n",
        "print(testX.shape)\n",
        "print(testY.shape)"
      ],
      "execution_count": 21,
      "outputs": [
        {
          "output_type": "stream",
          "text": [
            "(16474, 224, 224, 3)\n",
            "(16474,)\n",
            "(5000, 224, 224, 3)\n",
            "(5000,)\n"
          ],
          "name": "stdout"
        }
      ]
    },
    {
      "cell_type": "code",
      "metadata": {
        "id": "CW_Lotmj0Hul",
        "colab_type": "code",
        "colab": {
          "base_uri": "https://localhost:8080/",
          "height": 34
        },
        "outputId": "70756c84-1d97-4c7f-f167-b09dd1898847"
      },
      "source": [
        "filepath=\"/content/drive/My Drive/Models/CNN3/weights-{epoch:02d}-{val_output_accuracy:.3f}.hdf5\"\n",
        "from keras.callbacks import ModelCheckpoint\n",
        "checkpoint = ModelCheckpoint(filepath, monitor='val_output_accuracy',\n",
        "                               verbose=1, mode='max',save_best_only=True)\n",
        "\n",
        "callbacks_list = [checkpoint]"
      ],
      "execution_count": 17,
      "outputs": [
        {
          "output_type": "stream",
          "text": [
            "Using TensorFlow backend.\n"
          ],
          "name": "stderr"
        }
      ]
    },
    {
      "cell_type": "code",
      "metadata": {
        "id": "vMlkOgXM30KS",
        "colab_type": "code",
        "colab": {}
      },
      "source": [
        "\n",
        "from keras.utils import to_categorical\n",
        "trainY = to_categorical(trainY)\n",
        "testY = to_categorical(testY)"
      ],
      "execution_count": 31,
      "outputs": []
    },
    {
      "cell_type": "code",
      "metadata": {
        "id": "lp2nwdj90d6u",
        "colab_type": "code",
        "colab": {
          "base_uri": "https://localhost:8080/",
          "height": 67
        },
        "outputId": "348ec8f9-28d8-4400-98d0-ab94b95fd62e"
      },
      "source": [
        "model.fit(trainX,trainY,verbose=1,epochs=1)"
      ],
      "execution_count": 32,
      "outputs": [
        {
          "output_type": "stream",
          "text": [
            "Epoch 1/1\n",
            "16474/16474 [==============================] - 335s 20ms/step - loss: 21.1666 - accuracy: 0.4862\n"
          ],
          "name": "stdout"
        },
        {
          "output_type": "execute_result",
          "data": {
            "text/plain": [
              "<keras.callbacks.callbacks.History at 0x7f3d008dc828>"
            ]
          },
          "metadata": {
            "tags": []
          },
          "execution_count": 32
        }
      ]
    }
  ]
}