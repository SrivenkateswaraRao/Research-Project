{
  "nbformat": 4,
  "nbformat_minor": 0,
  "metadata": {
    "colab": {
      "name": "Increase RAM Reference Notes By Techhawa .ipynb",
      "provenance": [],
      "collapsed_sections": [],
      "machine_shape": "hm",
      "include_colab_link": true
    },
    "kernelspec": {
      "name": "python3",
      "display_name": "Python 3"
    },
    "accelerator": "TPU"
  },
  "cells": [
    {
      "cell_type": "markdown",
      "metadata": {
        "id": "view-in-github",
        "colab_type": "text"
      },
      "source": [
        "<a href=\"https://colab.research.google.com/github/SrivenkateswaraRao/Research-Project/blob/master/VGG16.ipynb\" target=\"_parent\"><img src=\"https://colab.research.google.com/assets/colab-badge.svg\" alt=\"Open In Colab\"/></a>"
      ]
    },
    {
      "cell_type": "code",
      "metadata": {
        "id": "vRXTdQDVKS6v",
        "colab_type": "code",
        "colab": {}
      },
      "source": [
        "import os\n",
        "from os import listdir\n",
        "from pydrive.auth import GoogleAuth\n",
        "from pydrive.drive import GoogleDrive\n",
        "from google.colab import auth\n",
        "from oauth2client.client import GoogleCredentials\n",
        "import numpy as np"
      ],
      "execution_count": 1,
      "outputs": []
    },
    {
      "cell_type": "code",
      "metadata": {
        "id": "_zf7iSxzKaf0",
        "colab_type": "code",
        "colab": {}
      },
      "source": [
        "auth.authenticate_user()\n",
        "gauth = GoogleAuth()\n",
        "gauth.credentials = GoogleCredentials.get_application_default()\n",
        "drive = GoogleDrive(gauth)"
      ],
      "execution_count": 2,
      "outputs": []
    },
    {
      "cell_type": "code",
      "metadata": {
        "id": "LCOxaKCJKzA0",
        "colab_type": "code",
        "colab": {}
      },
      "source": [
        "from google.colab import files\n",
        "files.upload() "
      ],
      "execution_count": null,
      "outputs": []
    },
    {
      "cell_type": "code",
      "metadata": {
        "id": "dbxnI4zrLATr",
        "colab_type": "code",
        "colab": {}
      },
      "source": [
        "import CreatePestImageData_AlexNetCopy as Imagedataset\n",
        "import SupportingFunctions as support"
      ],
      "execution_count": 4,
      "outputs": []
    },
    {
      "cell_type": "code",
      "metadata": {
        "id": "MsX9B9gWLClk",
        "colab_type": "code",
        "colab": {}
      },
      "source": [
        "support.DownLoadFiles('1aXb25Wp9sG7mL6AQgYY9ElrGcERi95JU',drive)"
      ],
      "execution_count": null,
      "outputs": []
    },
    {
      "cell_type": "code",
      "metadata": {
        "id": "HP63yquZOxes",
        "colab_type": "code",
        "colab": {}
      },
      "source": [
        "support.Unzip('/content/GREENPATROL_DB_V3.0.zip','/content/Pests/Images')"
      ],
      "execution_count": 12,
      "outputs": []
    },
    {
      "cell_type": "code",
      "metadata": {
        "id": "FjdLhsa-PhAM",
        "colab_type": "code",
        "colab": {
          "base_uri": "https://localhost:8080/",
          "height": 34
        },
        "outputId": "a525a073-e131-4f70-c85c-d9a5c8013e1f"
      },
      "source": [
        "support.fileCount('/content/Pests/Labels')"
      ],
      "execution_count": 17,
      "outputs": [
        {
          "output_type": "stream",
          "text": [
            "4330\n"
          ],
          "name": "stdout"
        }
      ]
    },
    {
      "cell_type": "code",
      "metadata": {
        "id": "o9VJCEpZJ6TH",
        "colab_type": "code",
        "colab": {}
      },
      "source": [
        "dataSet = Imagedataset.createImageDataset()"
      ],
      "execution_count": 5,
      "outputs": []
    },
    {
      "cell_type": "code",
      "metadata": {
        "id": "kJc_EiuuQB17",
        "colab_type": "code",
        "colab": {}
      },
      "source": [
        "class_object = {0 : 'egg_wf' ,\n",
        "                1 : 'egg_bt', 2 : 'egg_ta', 3 : 'wf', 4 : 'bt', 5 : 'ta', 6 : 'ta_maps', 7 : 'ta_larvae', 8 : 'ta_maps+larvae', 9 : 'tomato'}"
      ],
      "execution_count": 6,
      "outputs": []
    },
    {
      "cell_type": "code",
      "metadata": {
        "id": "YQ4yg8zaQEmb",
        "colab_type": "code",
        "colab": {}
      },
      "source": [
        "dataSet.prepare_dataset('/content/Pests/Labels' , class_object , '/content/Pests/Images/',  test_size=11241 )"
      ],
      "execution_count": null,
      "outputs": []
    },
    {
      "cell_type": "code",
      "metadata": {
        "id": "z8akPnARWYci",
        "colab_type": "code",
        "colab": {}
      },
      "source": [
        "listdir('/content/Pests/Labels')"
      ],
      "execution_count": null,
      "outputs": []
    },
    {
      "cell_type": "code",
      "metadata": {
        "id": "5YHiYQd9Wj4L",
        "colab_type": "code",
        "colab": {}
      },
      "source": [
        "import cv2\n",
        "\n",
        "img = cv2.imread('/content/Pests/Images/' + '1_2_2_6_1_1_20180824-093745.xml'[0:-4] + '.jpg')"
      ],
      "execution_count": null,
      "outputs": []
    },
    {
      "cell_type": "code",
      "metadata": {
        "id": "BZS7e__iWW7l",
        "colab_type": "code",
        "colab": {}
      },
      "source": [
        "patt = annot_path +'/' + i\n",
        "            parsed = self.parse_xml(patt)\n",
        "            img = cv2.imread(image_Path + i[0:-4] + '.jpg') "
      ],
      "execution_count": null,
      "outputs": []
    },
    {
      "cell_type": "code",
      "metadata": {
        "id": "2y2uivdprd2H",
        "colab_type": "code",
        "colab": {}
      },
      "source": [
        "dataSet.prepare_dataset('/content/Pests/Labels' , class_object , '/content/Pests/Images/',  test_size=11241 )"
      ],
      "execution_count": null,
      "outputs": []
    },
    {
      "cell_type": "code",
      "metadata": {
        "id": "rtF-jfjvR3Kr",
        "colab_type": "code",
        "colab": {}
      },
      "source": [
        "(trainY , trainX) , (testY , testX ) = (dataSet.trainY , dataSet.trainX ) , (dataSet.testY , dataSet.testX )\n"
      ],
      "execution_count": 8,
      "outputs": []
    },
    {
      "cell_type": "code",
      "metadata": {
        "id": "srnccxXqSGOq",
        "colab_type": "code",
        "colab": {}
      },
      "source": [
        "import numpy as geek \n",
        "  \n",
        "trainX = geek.load('/content/drive/My Drive/Research-Data/trainX.npy') \n",
        "trainY = geek.load('/content/drive/My Drive/Research-Data/trainY') \n",
        "testX = geek.load('/content/drive/My Drive/Research-Data/testX') \n",
        "testY = geek.load('/content/drive/My Drive/Research-Data/testY') "
      ],
      "execution_count": null,
      "outputs": []
    },
    {
      "cell_type": "code",
      "metadata": {
        "id": "kXXgL4gsTRQG",
        "colab_type": "code",
        "colab": {}
      },
      "source": [
        "from google.colab import drive\n",
        "drive.mount('/content/drive')"
      ],
      "execution_count": null,
      "outputs": []
    },
    {
      "cell_type": "code",
      "metadata": {
        "id": "Uy_EGcX3VAPW",
        "colab_type": "code",
        "colab": {
          "base_uri": "https://localhost:8080/",
          "height": 84
        },
        "outputId": "d75624e2-9c9c-4266-f660-82edd4413df8"
      },
      "source": [
        "print(trainX.shape)\n",
        "print(trainY.shape)\n",
        "print(testX.shape)\n",
        "print(testY.shape)"
      ],
      "execution_count": 9,
      "outputs": [
        {
          "output_type": "stream",
          "text": [
            "(44964, 32, 32, 3)\n",
            "(44964,)\n",
            "(11241, 32, 32, 3)\n",
            "(11241,)\n"
          ],
          "name": "stdout"
        }
      ]
    },
    {
      "cell_type": "code",
      "metadata": {
        "id": "fmgTq3mq2LGb",
        "colab_type": "code",
        "colab": {}
      },
      "source": [
        "(augTrainX,augTrainY) = support.PrepareAugmentedData(trainX,trainY)\n"
      ],
      "execution_count": 42,
      "outputs": []
    },
    {
      "cell_type": "code",
      "metadata": {
        "id": "CW_Lotmj0Hul",
        "colab_type": "code",
        "colab": {}
      },
      "source": [
        "filepath=\"/content/drive/My Drive/Models/VGG16/weights-{epoch:02d}-{accuracy:.3f}.hdf5\"\n",
        "from keras.callbacks import ModelCheckpoint\n",
        "checkpoint = ModelCheckpoint(filepath, monitor='accuracy',\n",
        "                               verbose=1, mode='max',save_best_only=True)\n",
        "\n",
        "callbacks_list = [checkpoint]"
      ],
      "execution_count": 16,
      "outputs": []
    },
    {
      "cell_type": "code",
      "metadata": {
        "id": "z6w5cCThELiV",
        "colab_type": "code",
        "colab": {
          "base_uri": "https://localhost:8080/",
          "height": 890
        },
        "outputId": "6bf3b265-88c9-4d66-e7e7-f35adf1b86d3"
      },
      "source": [
        "\n",
        "import keras\n",
        "from keras.models import Sequential\n",
        "from keras.layers import Dense, Activation, Dropout, Flatten\n",
        "from keras.layers import Conv2D\n",
        "from keras.layers import MaxPooling2D\n",
        "input_shape = (32, 32, 3)\n",
        "\n",
        "model = Sequential([\n",
        "Conv2D(32, (3, 3), input_shape=input_shape, padding='same', activation='relu'),\n",
        "Conv2D(32, (3, 3), activation='relu', padding='same'),\n",
        "MaxPooling2D(pool_size=(2, 2), strides=(2, 2)),\n",
        "Conv2D(64, (3, 3), activation='relu', padding='same'),\n",
        "Conv2D(64, (3, 3), activation='relu', padding='same',),\n",
        "MaxPooling2D(pool_size=(2, 2), strides=(2, 2)),\n",
        "Conv2D(128, (3, 3), activation='relu', padding='same',),\n",
        "Conv2D(128, (3, 3), activation='relu', padding='same',),\n",
        "Conv2D(128, (3, 3), activation='relu', padding='same',),\n",
        "MaxPooling2D(pool_size=(2, 2), strides=(2, 2)),\n",
        "Conv2D(256, (3, 3), activation='relu', padding='same',),\n",
        "Conv2D(256, (3, 3), activation='relu', padding='same',),\n",
        "Conv2D(256, (3, 3), activation='relu', padding='same',),\n",
        "MaxPooling2D(pool_size=(2, 2), strides=(2, 2)),\n",
        "Conv2D(512, (3, 3), activation='relu', padding='same',),\n",
        "Conv2D(512, (3, 3), activation='relu', padding='same',),\n",
        "Conv2D(512, (3, 3), activation='relu', padding='same',),\n",
        "MaxPooling2D(pool_size=(2, 2), strides=(2, 2)),\n",
        "Flatten(),\n",
        "Dense(4096, activation='relu'),\n",
        "Dense(4096, activation='relu'),\n",
        "Dense(10, activation='softmax')\n",
        "])\n",
        "\n",
        "model.summary()\n",
        "\n",
        "# Compile the model\n",
        "model.compile(loss=keras.losses.categorical_crossentropy, optimizer='adam', metrics=['accuracy'])"
      ],
      "execution_count": 17,
      "outputs": [
        {
          "output_type": "stream",
          "text": [
            "Model: \"sequential_2\"\n",
            "_________________________________________________________________\n",
            "Layer (type)                 Output Shape              Param #   \n",
            "=================================================================\n",
            "conv2d_14 (Conv2D)           (None, 32, 32, 32)        896       \n",
            "_________________________________________________________________\n",
            "conv2d_15 (Conv2D)           (None, 32, 32, 32)        9248      \n",
            "_________________________________________________________________\n",
            "max_pooling2d_6 (MaxPooling2 (None, 16, 16, 32)        0         \n",
            "_________________________________________________________________\n",
            "conv2d_16 (Conv2D)           (None, 16, 16, 64)        18496     \n",
            "_________________________________________________________________\n",
            "conv2d_17 (Conv2D)           (None, 16, 16, 64)        36928     \n",
            "_________________________________________________________________\n",
            "max_pooling2d_7 (MaxPooling2 (None, 8, 8, 64)          0         \n",
            "_________________________________________________________________\n",
            "conv2d_18 (Conv2D)           (None, 8, 8, 128)         73856     \n",
            "_________________________________________________________________\n",
            "conv2d_19 (Conv2D)           (None, 8, 8, 128)         147584    \n",
            "_________________________________________________________________\n",
            "conv2d_20 (Conv2D)           (None, 8, 8, 128)         147584    \n",
            "_________________________________________________________________\n",
            "max_pooling2d_8 (MaxPooling2 (None, 4, 4, 128)         0         \n",
            "_________________________________________________________________\n",
            "conv2d_21 (Conv2D)           (None, 4, 4, 256)         295168    \n",
            "_________________________________________________________________\n",
            "conv2d_22 (Conv2D)           (None, 4, 4, 256)         590080    \n",
            "_________________________________________________________________\n",
            "conv2d_23 (Conv2D)           (None, 4, 4, 256)         590080    \n",
            "_________________________________________________________________\n",
            "max_pooling2d_9 (MaxPooling2 (None, 2, 2, 256)         0         \n",
            "_________________________________________________________________\n",
            "conv2d_24 (Conv2D)           (None, 2, 2, 512)         1180160   \n",
            "_________________________________________________________________\n",
            "conv2d_25 (Conv2D)           (None, 2, 2, 512)         2359808   \n",
            "_________________________________________________________________\n",
            "conv2d_26 (Conv2D)           (None, 2, 2, 512)         2359808   \n",
            "_________________________________________________________________\n",
            "max_pooling2d_10 (MaxPooling (None, 1, 1, 512)         0         \n",
            "_________________________________________________________________\n",
            "flatten_2 (Flatten)          (None, 512)               0         \n",
            "_________________________________________________________________\n",
            "dense_4 (Dense)              (None, 4096)              2101248   \n",
            "_________________________________________________________________\n",
            "dense_5 (Dense)              (None, 4096)              16781312  \n",
            "_________________________________________________________________\n",
            "dense_6 (Dense)              (None, 10)                40970     \n",
            "=================================================================\n",
            "Total params: 26,733,226\n",
            "Trainable params: 26,733,226\n",
            "Non-trainable params: 0\n",
            "_________________________________________________________________\n"
          ],
          "name": "stdout"
        }
      ]
    },
    {
      "cell_type": "code",
      "metadata": {
        "id": "di_oY2ifRg9v",
        "colab_type": "code",
        "colab": {}
      },
      "source": [
        "from keras.utils import to_categorical\n",
        "trainY = to_categorical(trainY)\n",
        "testY = to_categorical(testY)"
      ],
      "execution_count": 12,
      "outputs": []
    },
    {
      "cell_type": "code",
      "metadata": {
        "id": "IkgLhyoMRlZ5",
        "colab_type": "code",
        "colab": {
          "base_uri": "https://localhost:8080/",
          "height": 34
        },
        "outputId": "faea07af-cec0-42b1-a897-d95340e27bde"
      },
      "source": [
        "print(trainY.shape)"
      ],
      "execution_count": 13,
      "outputs": [
        {
          "output_type": "stream",
          "text": [
            "(44964, 10)\n"
          ],
          "name": "stdout"
        }
      ]
    },
    {
      "cell_type": "code",
      "metadata": {
        "id": "lp2nwdj90d6u",
        "colab_type": "code",
        "colab": {
          "base_uri": "https://localhost:8080/",
          "height": 1000
        },
        "outputId": "a2df01b9-d9fa-442d-d459-22d08bdcdfe4"
      },
      "source": [
        "model.fit(trainX,trainY,verbose=1,epochs=25, validation_data= (testX,testY),callbacks=callbacks_list)"
      ],
      "execution_count": null,
      "outputs": [
        {
          "output_type": "stream",
          "text": [
            "Train on 44964 samples, validate on 11241 samples\n",
            "Epoch 1/25\n",
            "44964/44964 [==============================] - 180s 4ms/step - loss: 1.0253 - accuracy: 0.6004 - val_loss: 0.8993 - val_accuracy: 0.6452\n",
            "\n",
            "Epoch 00001: accuracy improved from -inf to 0.60044, saving model to /content/drive/My Drive/Models/VGG16/weights-01-0.600.hdf5\n",
            "Epoch 2/25\n",
            "44964/44964 [==============================] - 182s 4ms/step - loss: 0.9177 - accuracy: 0.6377 - val_loss: 0.9217 - val_accuracy: 0.6368\n",
            "\n",
            "Epoch 00002: accuracy improved from 0.60044 to 0.63773, saving model to /content/drive/My Drive/Models/VGG16/weights-02-0.638.hdf5\n",
            "Epoch 3/25\n",
            "44964/44964 [==============================] - 180s 4ms/step - loss: 0.8963 - accuracy: 0.6429 - val_loss: 0.9129 - val_accuracy: 0.6338\n",
            "\n",
            "Epoch 00003: accuracy improved from 0.63773 to 0.64289, saving model to /content/drive/My Drive/Models/VGG16/weights-03-0.643.hdf5\n",
            "Epoch 4/25\n",
            "44964/44964 [==============================] - 180s 4ms/step - loss: 0.8814 - accuracy: 0.6470 - val_loss: 0.8548 - val_accuracy: 0.6561\n",
            "\n",
            "Epoch 00004: accuracy improved from 0.64289 to 0.64703, saving model to /content/drive/My Drive/Models/VGG16/weights-04-0.647.hdf5\n",
            "Epoch 5/25\n",
            "44964/44964 [==============================] - 182s 4ms/step - loss: 0.8604 - accuracy: 0.6518 - val_loss: 0.8565 - val_accuracy: 0.6561\n",
            "\n",
            "Epoch 00005: accuracy improved from 0.64703 to 0.65177, saving model to /content/drive/My Drive/Models/VGG16/weights-05-0.652.hdf5\n",
            "Epoch 6/25\n",
            "44964/44964 [==============================] - 185s 4ms/step - loss: 0.8554 - accuracy: 0.6526 - val_loss: 0.8339 - val_accuracy: 0.6596\n",
            "\n",
            "Epoch 00006: accuracy improved from 0.65177 to 0.65263, saving model to /content/drive/My Drive/Models/VGG16/weights-06-0.653.hdf5\n",
            "Epoch 7/25\n",
            "44964/44964 [==============================] - 183s 4ms/step - loss: 0.8371 - accuracy: 0.6572 - val_loss: 0.8159 - val_accuracy: 0.6628\n",
            "\n",
            "Epoch 00007: accuracy improved from 0.65263 to 0.65717, saving model to /content/drive/My Drive/Models/VGG16/weights-07-0.657.hdf5\n",
            "Epoch 8/25\n",
            "44964/44964 [==============================] - 182s 4ms/step - loss: 0.8380 - accuracy: 0.6559 - val_loss: 0.8038 - val_accuracy: 0.6671\n",
            "\n",
            "Epoch 00008: accuracy did not improve from 0.65717\n",
            "Epoch 9/25\n",
            "44964/44964 [==============================] - 183s 4ms/step - loss: 0.8423 - accuracy: 0.6555 - val_loss: 0.8753 - val_accuracy: 0.6506\n",
            "\n",
            "Epoch 00009: accuracy did not improve from 0.65717\n",
            "Epoch 10/25\n",
            "44964/44964 [==============================] - 183s 4ms/step - loss: 0.8462 - accuracy: 0.6530 - val_loss: 0.8246 - val_accuracy: 0.6598\n",
            "\n",
            "Epoch 00010: accuracy did not improve from 0.65717\n",
            "Epoch 11/25\n",
            "44964/44964 [==============================] - 181s 4ms/step - loss: 0.8325 - accuracy: 0.6561 - val_loss: 0.8097 - val_accuracy: 0.6639\n",
            "\n",
            "Epoch 00011: accuracy did not improve from 0.65717\n",
            "Epoch 12/25\n",
            "44964/44964 [==============================] - 181s 4ms/step - loss: 0.8146 - accuracy: 0.6608 - val_loss: 0.8051 - val_accuracy: 0.6652\n",
            "\n",
            "Epoch 00012: accuracy improved from 0.65717 to 0.66082, saving model to /content/drive/My Drive/Models/VGG16/weights-12-0.661.hdf5\n",
            "Epoch 13/25\n",
            "44964/44964 [==============================] - 181s 4ms/step - loss: 0.7925 - accuracy: 0.6670 - val_loss: 0.8027 - val_accuracy: 0.6610\n",
            "\n",
            "Epoch 00013: accuracy improved from 0.66082 to 0.66700, saving model to /content/drive/My Drive/Models/VGG16/weights-13-0.667.hdf5\n",
            "Epoch 14/25\n",
            "44964/44964 [==============================] - 183s 4ms/step - loss: 0.8716 - accuracy: 0.6491 - val_loss: 0.8341 - val_accuracy: 0.6595\n",
            "\n",
            "Epoch 00014: accuracy did not improve from 0.66700\n",
            "Epoch 15/25\n",
            "44964/44964 [==============================] - 187s 4ms/step - loss: 0.8268 - accuracy: 0.6604 - val_loss: 0.7927 - val_accuracy: 0.6798\n",
            "\n",
            "Epoch 00015: accuracy did not improve from 0.66700\n",
            "Epoch 16/25\n",
            " 9312/44964 [=====>........................] - ETA: 2:18 - loss: 0.7865 - accuracy: 0.6846"
          ],
          "name": "stdout"
        }
      ]
    }
  ]
}