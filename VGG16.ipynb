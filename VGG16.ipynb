{
  "nbformat": 4,
  "nbformat_minor": 0,
  "metadata": {
    "colab": {
      "name": "Increase RAM Reference Notes By Techhawa .ipynb",
      "provenance": [],
      "collapsed_sections": [],
      "machine_shape": "hm",
      "include_colab_link": true
    },
    "kernelspec": {
      "name": "python3",
      "display_name": "Python 3"
    },
    "accelerator": "TPU"
  },
  "cells": [
    {
      "cell_type": "markdown",
      "metadata": {
        "id": "view-in-github",
        "colab_type": "text"
      },
      "source": [
        "<a href=\"https://colab.research.google.com/github/SrivenkateswaraRao/Research-Project/blob/master/VGG16.ipynb\" target=\"_parent\"><img src=\"https://colab.research.google.com/assets/colab-badge.svg\" alt=\"Open In Colab\"/></a>"
      ]
    },
    {
      "cell_type": "code",
      "metadata": {
        "id": "vRXTdQDVKS6v",
        "colab_type": "code",
        "colab": {}
      },
      "source": [
        "import os\n",
        "from os import listdir\n",
        "from pydrive.auth import GoogleAuth\n",
        "from pydrive.drive import GoogleDrive\n",
        "from google.colab import auth\n",
        "from oauth2client.client import GoogleCredentials\n",
        "import numpy as np"
      ],
      "execution_count": 1,
      "outputs": []
    },
    {
      "cell_type": "code",
      "metadata": {
        "id": "_zf7iSxzKaf0",
        "colab_type": "code",
        "colab": {}
      },
      "source": [
        "auth.authenticate_user()\n",
        "gauth = GoogleAuth()\n",
        "gauth.credentials = GoogleCredentials.get_application_default()\n",
        "drive = GoogleDrive(gauth)"
      ],
      "execution_count": 2,
      "outputs": []
    },
    {
      "cell_type": "code",
      "metadata": {
        "id": "LCOxaKCJKzA0",
        "colab_type": "code",
        "colab": {}
      },
      "source": [
        "from google.colab import files\n",
        "files.upload() "
      ],
      "execution_count": null,
      "outputs": []
    },
    {
      "cell_type": "code",
      "metadata": {
        "id": "dbxnI4zrLATr",
        "colab_type": "code",
        "colab": {}
      },
      "source": [
        "import CreatePestImageData_AlexNetCopy as Imagedataset\n",
        "import SupportingFunctions as support"
      ],
      "execution_count": 9,
      "outputs": []
    },
    {
      "cell_type": "code",
      "metadata": {
        "id": "MsX9B9gWLClk",
        "colab_type": "code",
        "colab": {}
      },
      "source": [
        "support.DownLoadFiles('1aXb25Wp9sG7mL6AQgYY9ElrGcERi95JU',drive)"
      ],
      "execution_count": null,
      "outputs": []
    },
    {
      "cell_type": "code",
      "metadata": {
        "id": "HP63yquZOxes",
        "colab_type": "code",
        "colab": {}
      },
      "source": [
        "support.Unzip('/content/GREENPATROL_DB_V3.0.zip','/content/Pests/Images')"
      ],
      "execution_count": 11,
      "outputs": []
    },
    {
      "cell_type": "code",
      "metadata": {
        "id": "FjdLhsa-PhAM",
        "colab_type": "code",
        "colab": {
          "base_uri": "https://localhost:8080/",
          "height": 34
        },
        "outputId": "0d7b4d15-a20a-42d6-b2eb-8fbe0648ceaa"
      },
      "source": [
        "support.fileCount('/content/Pests/Images')"
      ],
      "execution_count": 10,
      "outputs": [
        {
          "output_type": "stream",
          "text": [
            "4330\n"
          ],
          "name": "stdout"
        }
      ]
    },
    {
      "cell_type": "code",
      "metadata": {
        "id": "o9VJCEpZJ6TH",
        "colab_type": "code",
        "colab": {}
      },
      "source": [
        "dataSet = Imagedataset.createImageDataset()"
      ],
      "execution_count": 11,
      "outputs": []
    },
    {
      "cell_type": "code",
      "metadata": {
        "id": "kJc_EiuuQB17",
        "colab_type": "code",
        "colab": {}
      },
      "source": [
        "class_object = {0 : 'egg_wf' ,\n",
        "                1 : 'egg_bt', 2 : 'egg_ta', 3 : 'wf', 4 : 'bt', 5 : 'ta', 6 : 'ta_maps', 7 : 'ta_larvae', 8 : 'ta_maps+larvae', 9 : 'tomato'}"
      ],
      "execution_count": 12,
      "outputs": []
    },
    {
      "cell_type": "code",
      "metadata": {
        "id": "YQ4yg8zaQEmb",
        "colab_type": "code",
        "colab": {}
      },
      "source": [
        "dataSet.prepare_dataset('/content/Pests/Labels' , class_object , '/content/Pests/Images/',  test_size=11241 )"
      ],
      "execution_count": null,
      "outputs": []
    },
    {
      "cell_type": "code",
      "metadata": {
        "id": "z8akPnARWYci",
        "colab_type": "code",
        "colab": {}
      },
      "source": [
        "listdir('/content/Pests/Labels')"
      ],
      "execution_count": null,
      "outputs": []
    },
    {
      "cell_type": "code",
      "metadata": {
        "id": "5YHiYQd9Wj4L",
        "colab_type": "code",
        "colab": {}
      },
      "source": [
        "import tensorflow as tf"
      ],
      "execution_count": 39,
      "outputs": []
    },
    {
      "cell_type": "code",
      "metadata": {
        "id": "BZS7e__iWW7l",
        "colab_type": "code",
        "colab": {}
      },
      "source": [
        "patt = annot_path +'/' + i\n",
        "            parsed = self.parse_xml(patt)\n",
        "            img = cv2.imread(image_Path + i[0:-4] + '.jpg') "
      ],
      "execution_count": null,
      "outputs": []
    },
    {
      "cell_type": "code",
      "metadata": {
        "id": "2y2uivdprd2H",
        "colab_type": "code",
        "colab": {}
      },
      "source": [
        "dataSet.prepare_dataset('/content/Pests/Labels' , class_object , '/content/Pests/Images/',  test_size=11241 )"
      ],
      "execution_count": null,
      "outputs": []
    },
    {
      "cell_type": "code",
      "metadata": {
        "id": "rtF-jfjvR3Kr",
        "colab_type": "code",
        "colab": {}
      },
      "source": [
        "(trainY , trainX) , (testY , testX ) = (dataSet.trainY , dataSet.trainX ) , (dataSet.testY , dataSet.testX )\n"
      ],
      "execution_count": 14,
      "outputs": []
    },
    {
      "cell_type": "code",
      "metadata": {
        "id": "srnccxXqSGOq",
        "colab_type": "code",
        "colab": {}
      },
      "source": [
        "import numpy as geek \n",
        "  \n",
        "trainX = geek.load('/content/drive/My Drive/Research-Data/trainX.npy') \n",
        "trainY = geek.load('/content/drive/My Drive/Research-Data/trainY') \n",
        "testX = geek.load('/content/drive/My Drive/Research-Data/testX') \n",
        "testY = geek.load('/content/drive/My Drive/Research-Data/testY') "
      ],
      "execution_count": null,
      "outputs": []
    },
    {
      "cell_type": "code",
      "metadata": {
        "id": "kXXgL4gsTRQG",
        "colab_type": "code",
        "colab": {}
      },
      "source": [
        "from google.colab import drive\n",
        "drive.mount('/content/drive')"
      ],
      "execution_count": null,
      "outputs": []
    },
    {
      "cell_type": "code",
      "metadata": {
        "id": "Uy_EGcX3VAPW",
        "colab_type": "code",
        "colab": {
          "base_uri": "https://localhost:8080/",
          "height": 84
        },
        "outputId": "e316fa59-7ee6-4b16-9e7e-f13c73a38663"
      },
      "source": [
        "print(trainX.shape)\n",
        "print(trainY.shape)\n",
        "print(testX.shape)\n",
        "print(testY.shape)"
      ],
      "execution_count": 15,
      "outputs": [
        {
          "output_type": "stream",
          "text": [
            "(44964, 32, 32, 3)\n",
            "(44964,)\n",
            "(11241, 32, 32, 3)\n",
            "(11241,)\n"
          ],
          "name": "stdout"
        }
      ]
    },
    {
      "cell_type": "code",
      "metadata": {
        "id": "fmgTq3mq2LGb",
        "colab_type": "code",
        "colab": {}
      },
      "source": [
        "(augTrainX,augTrainY) = support.PrepareAugmentedData(trainX,trainY)\n"
      ],
      "execution_count": null,
      "outputs": []
    },
    {
      "cell_type": "code",
      "metadata": {
        "id": "CW_Lotmj0Hul",
        "colab_type": "code",
        "colab": {}
      },
      "source": [
        "filepath=\"/content/drive/My Drive/Models/VGG16/weights-{epoch:02d}-{accuracy:.3f}.hdf5\"\n",
        "from keras.callbacks import ModelCheckpoint\n",
        "checkpoint = ModelCheckpoint(filepath, monitor='accuracy',\n",
        "                               verbose=1, mode='max',save_best_only=True)\n",
        "\n",
        "callbacks_list = [checkpoint]"
      ],
      "execution_count": 16,
      "outputs": []
    },
    {
      "cell_type": "code",
      "metadata": {
        "id": "Aon5rKsaXDMC",
        "colab_type": "code",
        "colab": {}
      },
      "source": [
        "from keras.regularizers import l2"
      ],
      "execution_count": 23,
      "outputs": []
    },
    {
      "cell_type": "code",
      "metadata": {
        "id": "z6w5cCThELiV",
        "colab_type": "code",
        "colab": {
          "base_uri": "https://localhost:8080/",
          "height": 622
        },
        "outputId": "f7745f56-218c-4248-e38e-98718eb31e35"
      },
      "source": [
        "\n",
        "import keras\n",
        "from keras.models import Sequential\n",
        "from keras.layers import Dense, Activation, Dropout, Flatten\n",
        "from keras.layers import Conv2D\n",
        "from keras.layers import MaxPooling2D\n",
        "input_shape = (32, 32, 3)\n",
        "\n",
        "model = Sequential([\n",
        "Conv2D(32, (3, 3), input_shape=input_shape, padding='same', activation='relu',kernel_regularizer=l2(0.01), bias_regularizer=l2(0.01)),\n",
        "Conv2D(32, (3, 3), activation='relu', padding='same',kernel_regularizer=l2(0.01), bias_regularizer=l2(0.01)),\n",
        "MaxPooling2D(pool_size=(2, 2), strides=(2, 2)),\n",
        "Conv2D(64, (3, 3), activation='relu', padding='same',kernel_regularizer=l2(0.01), bias_regularizer=l2(0.01)),\n",
        "MaxPooling2D(pool_size=(2, 2), strides=(2, 2)),\n",
        "Conv2D(128, (3, 3), activation='relu', padding='same',kernel_regularizer=l2(0.01), bias_regularizer=l2(0.01)),\n",
        "MaxPooling2D(pool_size=(2, 2), strides=(2, 2)),\n",
        "Conv2D(256, (3, 3), activation='relu', padding='same',kernel_regularizer=l2(0.01), bias_regularizer=l2(0.01)),\n",
        "MaxPooling2D(pool_size=(2, 2), strides=(2, 2)),\n",
        "Conv2D(512, (3, 3), activation='relu', padding='same',kernel_regularizer=l2(0.01), bias_regularizer=l2(0.01)),\n",
        "MaxPooling2D(pool_size=(2, 2), strides=(2, 2)),\n",
        "Flatten(),\n",
        "Dense(1024, activation='relu',kernel_regularizer=l2(0.01), bias_regularizer=l2(0.01)),\n",
        "Dense(10, activation='softmax',kernel_regularizer=l2(0.01), bias_regularizer=l2(0.01))\n",
        "])\n",
        "\n",
        "model.summary()\n",
        "\n",
        "# Compile the model\n",
        "model.compile(loss=keras.losses.categorical_crossentropy, optimizer='adam', metrics=['accuracy'])"
      ],
      "execution_count": 27,
      "outputs": [
        {
          "output_type": "stream",
          "text": [
            "Model: \"sequential_9\"\n",
            "_________________________________________________________________\n",
            "Layer (type)                 Output Shape              Param #   \n",
            "=================================================================\n",
            "conv2d_73 (Conv2D)           (None, 32, 32, 32)        896       \n",
            "_________________________________________________________________\n",
            "conv2d_74 (Conv2D)           (None, 32, 32, 32)        9248      \n",
            "_________________________________________________________________\n",
            "max_pooling2d_41 (MaxPooling (None, 16, 16, 32)        0         \n",
            "_________________________________________________________________\n",
            "conv2d_75 (Conv2D)           (None, 16, 16, 64)        18496     \n",
            "_________________________________________________________________\n",
            "max_pooling2d_42 (MaxPooling (None, 8, 8, 64)          0         \n",
            "_________________________________________________________________\n",
            "conv2d_76 (Conv2D)           (None, 8, 8, 128)         73856     \n",
            "_________________________________________________________________\n",
            "max_pooling2d_43 (MaxPooling (None, 4, 4, 128)         0         \n",
            "_________________________________________________________________\n",
            "conv2d_77 (Conv2D)           (None, 4, 4, 256)         295168    \n",
            "_________________________________________________________________\n",
            "max_pooling2d_44 (MaxPooling (None, 2, 2, 256)         0         \n",
            "_________________________________________________________________\n",
            "conv2d_78 (Conv2D)           (None, 2, 2, 512)         1180160   \n",
            "_________________________________________________________________\n",
            "max_pooling2d_45 (MaxPooling (None, 1, 1, 512)         0         \n",
            "_________________________________________________________________\n",
            "flatten_9 (Flatten)          (None, 512)               0         \n",
            "_________________________________________________________________\n",
            "dense_17 (Dense)             (None, 1024)              525312    \n",
            "_________________________________________________________________\n",
            "dense_18 (Dense)             (None, 10)                10250     \n",
            "=================================================================\n",
            "Total params: 2,113,386\n",
            "Trainable params: 2,113,386\n",
            "Non-trainable params: 0\n",
            "_________________________________________________________________\n"
          ],
          "name": "stdout"
        }
      ]
    },
    {
      "cell_type": "code",
      "metadata": {
        "id": "di_oY2ifRg9v",
        "colab_type": "code",
        "colab": {}
      },
      "source": [
        "from keras.utils import to_categorical\n",
        "trainY = to_categorical(trainY)\n",
        "testY = to_categorical(testY)"
      ],
      "execution_count": 20,
      "outputs": []
    },
    {
      "cell_type": "code",
      "metadata": {
        "id": "Os4xIuoEojC9",
        "colab_type": "code",
        "colab": {
          "base_uri": "https://localhost:8080/",
          "height": 34
        },
        "outputId": "716ed40f-4e9f-4da8-b9ce-73250e0787ea"
      },
      "source": [
        "print(trainY.shape)"
      ],
      "execution_count": 25,
      "outputs": [
        {
          "output_type": "stream",
          "text": [
            "(44964, 10)\n"
          ],
          "name": "stdout"
        }
      ]
    },
    {
      "cell_type": "code",
      "metadata": {
        "id": "IkgLhyoMRlZ5",
        "colab_type": "code",
        "colab": {}
      },
      "source": [
        "from keras.models import load_model\n",
        "model = load_model(\"/content/drive/My Drive/Models/VGG16/weights-04-0.674.hdf5\")"
      ],
      "execution_count": 21,
      "outputs": []
    },
    {
      "cell_type": "code",
      "metadata": {
        "id": "lp2nwdj90d6u",
        "colab_type": "code",
        "colab": {
          "base_uri": "https://localhost:8080/",
          "height": 1000
        },
        "outputId": "7433b3b0-98de-4850-a95b-41d36bbce4d4"
      },
      "source": [
        "model.fit(trainX,trainY,verbose=1,epochs=25, validation_data= (testX,testY),callbacks=callbacks_list)"
      ],
      "execution_count": null,
      "outputs": [
        {
          "output_type": "stream",
          "text": [
            "Train on 44964 samples, validate on 11241 samples\n",
            "Epoch 1/25\n",
            "44964/44964 [==============================] - 84s 2ms/step - loss: 2.5582 - accuracy: 0.6210 - val_loss: 1.1174 - val_accuracy: 0.6499\n",
            "\n",
            "Epoch 00001: accuracy did not improve from 0.64634\n",
            "Epoch 2/25\n",
            "44964/44964 [==============================] - 83s 2ms/step - loss: 1.0774 - accuracy: 0.6325 - val_loss: 1.0453 - val_accuracy: 0.6396\n",
            "\n",
            "Epoch 00002: accuracy did not improve from 0.64634\n",
            "Epoch 3/25\n",
            "44964/44964 [==============================] - 84s 2ms/step - loss: 1.0265 - accuracy: 0.6343 - val_loss: 0.9957 - val_accuracy: 0.6488\n",
            "\n",
            "Epoch 00003: accuracy did not improve from 0.64634\n",
            "Epoch 4/25\n",
            "44964/44964 [==============================] - 85s 2ms/step - loss: 1.0053 - accuracy: 0.6359 - val_loss: 1.0243 - val_accuracy: 0.6336\n",
            "\n",
            "Epoch 00004: accuracy did not improve from 0.64634\n",
            "Epoch 5/25\n",
            "44964/44964 [==============================] - 85s 2ms/step - loss: 0.9991 - accuracy: 0.6363 - val_loss: 0.9717 - val_accuracy: 0.6529\n",
            "\n",
            "Epoch 00005: accuracy did not improve from 0.64634\n",
            "Epoch 6/25\n",
            "44964/44964 [==============================] - 85s 2ms/step - loss: 0.9961 - accuracy: 0.6371 - val_loss: 0.9557 - val_accuracy: 0.6527\n",
            "\n",
            "Epoch 00006: accuracy did not improve from 0.64634\n",
            "Epoch 7/25\n",
            "44964/44964 [==============================] - 86s 2ms/step - loss: 0.9858 - accuracy: 0.6380 - val_loss: 0.9708 - val_accuracy: 0.6515\n",
            "\n",
            "Epoch 00007: accuracy did not improve from 0.64634\n",
            "Epoch 8/25\n",
            "44964/44964 [==============================] - 86s 2ms/step - loss: 0.9905 - accuracy: 0.6367 - val_loss: 0.9730 - val_accuracy: 0.6488\n",
            "\n",
            "Epoch 00008: accuracy did not improve from 0.64634\n",
            "Epoch 9/25\n",
            "44964/44964 [==============================] - 85s 2ms/step - loss: 0.9878 - accuracy: 0.6375 - val_loss: 0.9610 - val_accuracy: 0.6514\n",
            "\n",
            "Epoch 00009: accuracy did not improve from 0.64634\n",
            "Epoch 10/25\n",
            "44964/44964 [==============================] - 85s 2ms/step - loss: 0.9785 - accuracy: 0.6390 - val_loss: 0.9643 - val_accuracy: 0.6492\n",
            "\n",
            "Epoch 00010: accuracy did not improve from 0.64634\n",
            "Epoch 11/25\n",
            "44964/44964 [==============================] - 87s 2ms/step - loss: 0.9843 - accuracy: 0.6387 - val_loss: 0.9592 - val_accuracy: 0.6531\n",
            "\n",
            "Epoch 00011: accuracy did not improve from 0.64634\n",
            "Epoch 12/25\n",
            "44964/44964 [==============================] - 85s 2ms/step - loss: 0.9786 - accuracy: 0.6386 - val_loss: 1.0584 - val_accuracy: 0.6233\n",
            "\n",
            "Epoch 00012: accuracy did not improve from 0.64634\n",
            "Epoch 13/25\n",
            "44964/44964 [==============================] - 86s 2ms/step - loss: 0.9818 - accuracy: 0.6383 - val_loss: 0.9574 - val_accuracy: 0.6532\n",
            "\n",
            "Epoch 00013: accuracy did not improve from 0.64634\n",
            "Epoch 14/25\n",
            "44964/44964 [==============================] - 86s 2ms/step - loss: 0.9745 - accuracy: 0.6392 - val_loss: 0.9482 - val_accuracy: 0.6539\n",
            "\n",
            "Epoch 00014: accuracy did not improve from 0.64634\n",
            "Epoch 15/25\n",
            "44964/44964 [==============================] - 87s 2ms/step - loss: 0.9828 - accuracy: 0.6380 - val_loss: 0.9519 - val_accuracy: 0.6499\n",
            "\n",
            "Epoch 00015: accuracy did not improve from 0.64634\n",
            "Epoch 16/25\n",
            "44964/44964 [==============================] - 86s 2ms/step - loss: 0.9748 - accuracy: 0.6398 - val_loss: 0.9829 - val_accuracy: 0.6478\n",
            "\n",
            "Epoch 00016: accuracy did not improve from 0.64634\n",
            "Epoch 17/25\n",
            "44964/44964 [==============================] - 86s 2ms/step - loss: 0.9779 - accuracy: 0.6384 - val_loss: 0.9561 - val_accuracy: 0.6511\n",
            "\n",
            "Epoch 00017: accuracy did not improve from 0.64634\n",
            "Epoch 18/25\n",
            "44964/44964 [==============================] - 87s 2ms/step - loss: 0.9763 - accuracy: 0.6388 - val_loss: 0.9768 - val_accuracy: 0.6455\n",
            "\n",
            "Epoch 00018: accuracy did not improve from 0.64634\n",
            "Epoch 19/25\n",
            "44964/44964 [==============================] - 84s 2ms/step - loss: 0.9719 - accuracy: 0.6398 - val_loss: 0.9780 - val_accuracy: 0.6453\n",
            "\n",
            "Epoch 00019: accuracy did not improve from 0.64634\n",
            "Epoch 20/25\n",
            "44964/44964 [==============================] - 87s 2ms/step - loss: 0.9770 - accuracy: 0.6391 - val_loss: 0.9794 - val_accuracy: 0.6540\n",
            "\n",
            "Epoch 00020: accuracy did not improve from 0.64634\n",
            "Epoch 21/25\n",
            "44964/44964 [==============================] - 85s 2ms/step - loss: 0.9741 - accuracy: 0.6389 - val_loss: 0.9535 - val_accuracy: 0.6516\n",
            "\n",
            "Epoch 00021: accuracy did not improve from 0.64634\n",
            "Epoch 22/25\n",
            "44960/44964 [============================>.] - ETA: 0s - loss: 0.9766 - accuracy: 0.6381"
          ],
          "name": "stdout"
        }
      ]
    }
  ]
}