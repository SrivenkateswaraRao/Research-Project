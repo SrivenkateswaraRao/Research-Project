{
  "nbformat": 4,
  "nbformat_minor": 0,
  "metadata": {
    "colab": {
      "name": "Pest_Classifier_Inception_V3.ipynb",
      "provenance": [],
      "collapsed_sections": [],
      "authorship_tag": "ABX9TyPRei6kqFUqefsjnJng3AOJ",
      "include_colab_link": true
    },
    "kernelspec": {
      "name": "python3",
      "display_name": "Python 3"
    }
  },
  "cells": [
    {
      "cell_type": "markdown",
      "metadata": {
        "id": "view-in-github",
        "colab_type": "text"
      },
      "source": [
        "<a href=\"https://colab.research.google.com/github/SrivenkateswaraRao/Research-Project/blob/master/Pest_Classifier_Inception_V3.ipynb\" target=\"_parent\"><img src=\"https://colab.research.google.com/assets/colab-badge.svg\" alt=\"Open In Colab\"/></a>"
      ]
    },
    {
      "cell_type": "code",
      "metadata": {
        "id": "soOpO2RCms5q",
        "colab_type": "code",
        "colab": {}
      },
      "source": [
        "\n",
        "import os\n",
        "import zipfile\n",
        "import tensorflow as tf\n",
        "from tensorflow.keras.optimizers import RMSprop\n",
        "from tensorflow.keras.preprocessing.image import ImageDataGenerator\n",
        "from tensorflow.keras import layers\n",
        "from tensorflow.keras import Model"
      ],
      "execution_count": 6,
      "outputs": []
    },
    {
      "cell_type": "code",
      "metadata": {
        "id": "YXpDIkQZ1-dJ",
        "colab_type": "code",
        "colab": {}
      },
      "source": [
        "from tensorflow.keras.applications.inception_v3 import InceptionV3\n"
      ],
      "execution_count": 8,
      "outputs": []
    },
    {
      "cell_type": "code",
      "metadata": {
        "id": "E04zkcN4mGQA",
        "colab_type": "code",
        "colab": {}
      },
      "source": [
        "import os\n",
        "from os import listdir\n",
        "from pydrive.auth import GoogleAuth\n",
        "from pydrive.drive import GoogleDrive\n",
        "from google.colab import auth\n",
        "from oauth2client.client import GoogleCredentials\n"
      ],
      "execution_count": 9,
      "outputs": []
    },
    {
      "cell_type": "code",
      "metadata": {
        "id": "V9v7kKE4mF_L",
        "colab_type": "code",
        "colab": {}
      },
      "source": [
        "auth.authenticate_user()\n",
        "gauth = GoogleAuth()\n",
        "gauth.credentials = GoogleCredentials.get_application_default()\n",
        "drive = GoogleDrive(gauth)\n"
      ],
      "execution_count": 33,
      "outputs": []
    },
    {
      "cell_type": "code",
      "metadata": {
        "id": "vC-myt1xmFrE",
        "colab_type": "code",
        "colab": {
          "base_uri": "https://localhost:8080/",
          "height": 34
        },
        "outputId": "5988dea2-8be5-45b0-b317-a748baf04ed6"
      },
      "source": [
        "import tensorflow as tf \n",
        "import numpy as np\n",
        "import keras as ks \n"
      ],
      "execution_count": 10,
      "outputs": [
        {
          "output_type": "stream",
          "text": [
            "Using TensorFlow backend.\n"
          ],
          "name": "stderr"
        }
      ]
    },
    {
      "cell_type": "code",
      "metadata": {
        "id": "pGamPLpr27Px",
        "colab_type": "code",
        "colab": {}
      },
      "source": [
        "pre_trained_model = InceptionV3(input_shape = (150, 150, 3), # Shape of our images\n",
        "                                include_top = False, # Leave out the last fully connected layer\n",
        "                                weights = 'imagenet')"
      ],
      "execution_count": 11,
      "outputs": []
    },
    {
      "cell_type": "code",
      "metadata": {
        "id": "354YyQH_4i_d",
        "colab_type": "code",
        "colab": {
          "base_uri": "https://localhost:8080/",
          "height": 118
        },
        "outputId": "8e7e9014-6224-49bf-8e5f-67be7998e1c6"
      },
      "source": [
        "file_list = drive.ListFile(\n",
        "    {'q': \"'1MzurTS9xeNSss_hYgko4ATZ5qNVn45ty' in parents\"}).GetList()\n",
        "\n",
        "for f in file_list:\n",
        "    print('title: %s, id: %s' % (f['title'], f['id']))\n",
        "    fname = f['title']\n",
        "    print('downloading to {}'.format(fname))\n",
        "    f_ = drive.CreateFile({'id': f['id']})\n",
        "    f_.GetContentFile(fname)"
      ],
      "execution_count": 34,
      "outputs": [
        {
          "output_type": "stream",
          "text": [
            "title: LABELS.zip, id: 1dYxm-yV2sCOxiQQSvzRY6-gKtlfo0WLH\n",
            "downloading to LABELS.zip\n",
            "title: GREENPATROL_DB_V1.0.zip, id: 1wJw1Ci1OTUoKjiiT3lwWqwonTunGPMB1\n",
            "downloading to GREENPATROL_DB_V1.0.zip\n",
            "title: predefined_classes.txt, id: 1XQkqHvepaPEXxJ5XXSZmMMk9qrxTOSzJ\n",
            "downloading to predefined_classes.txt\n"
          ],
          "name": "stdout"
        }
      ]
    },
    {
      "cell_type": "code",
      "metadata": {
        "id": "kNe8i-6cbNoK",
        "colab_type": "code",
        "colab": {
          "base_uri": "https://localhost:8080/",
          "height": 84
        },
        "outputId": "c522d834-30ef-4cca-e26a-5c7be974840f"
      },
      "source": [
        "file_list = drive.ListFile(\n",
        "    {'q': \"'1lc25fXo3qb8OIV_4v-UygT3GFS0s7JBK' in parents\"}).GetList()\n",
        "\n",
        "for f in file_list:\n",
        "    print('title: %s, id: %s' % (f['title'], f['id']))\n",
        "    fname = f['title']\n",
        "    print('downloading to {}'.format(fname))\n",
        "    f_ = drive.CreateFile({'id': f['id']})\n",
        "    f_.GetContentFile(fname)"
      ],
      "execution_count": null,
      "outputs": [
        {
          "output_type": "stream",
          "text": [
            "title: LABELS_Test.zip, id: 1rs9OZDuvy4XkV89PMx4F6dZTSJe5gbCI\n",
            "downloading to LABELS_Test.zip\n",
            "title: GREENPATROL_DB_V1.0_Test.zip, id: 15scYv3E4bmMB9pkbrumhea6EhhfxvLBL\n",
            "downloading to GREENPATROL_DB_V1.0_Test.zip\n"
          ],
          "name": "stdout"
        }
      ]
    },
    {
      "cell_type": "code",
      "metadata": {
        "id": "FP_XVHhw45cE",
        "colab_type": "code",
        "colab": {}
      },
      "source": [
        "#------------------------------- Load Train Data ----------------------------------------------#\n",
        "download_Pests_Test = drive.CreateFile({'id': '15scYv3E4bmMB9pkbrumhea6EhhfxvLBL'})\n",
        "download_Annotations_Test = drive.CreateFile({'id': '1rs9OZDuvy4XkV89PMx4F6dZTSJe5gbCI'})\n",
        "!unzip LABELS_Test.zip -d '/Tomato-Pests'\n",
        "!unzip GREENPATROL_DB_V1.0_Test.zip -d '/Tomato-Pests'\n"
      ],
      "execution_count": null,
      "outputs": []
    },
    {
      "cell_type": "code",
      "metadata": {
        "id": "1v8Vsmp849hJ",
        "colab_type": "code",
        "colab": {
          "base_uri": "https://localhost:8080/",
          "height": 50
        },
        "outputId": "4165abed-7962-4be2-a17a-e0bd9826b4c0"
      },
      "source": [
        "download_Pests_Validate = drive.CreateFile({'id': '1wJw1Ci1OTUoKjiiT3lwWqwonTunGPMB1'})\n",
        "download_Annotations_Validate = drive.CreateFile({'id': '1dYxm-yV2sCOxiQQSvzRY6-gKtlfo0WLH'})\n",
        "!unzip LABELS_Validation.zip -d '/Tomato-Pests/Validation'\n",
        "!unzip GREENPATROL_DB_V1.0_Validation.zip -d '/Tomato-Pests/Validation'"
      ],
      "execution_count": 36,
      "outputs": [
        {
          "output_type": "stream",
          "text": [
            "unzip:  cannot find or open LABELS_Validation.zip, LABELS_Validation.zip.zip or LABELS_Validation.zip.ZIP.\n",
            "unzip:  cannot find or open GREENPATROL_DB_V1.0_Validation.zip, GREENPATROL_DB_V1.0_Validation.zip.zip or GREENPATROL_DB_V1.0_Validation.zip.ZIP.\n"
          ],
          "name": "stdout"
        }
      ]
    },
    {
      "cell_type": "code",
      "metadata": {
        "id": "SJl6Yo8P5Hyb",
        "colab_type": "code",
        "colab": {}
      },
      "source": [
        ""
      ],
      "execution_count": null,
      "outputs": []
    },
    {
      "cell_type": "code",
      "metadata": {
        "id": "GLaqYRyt5IoR",
        "colab_type": "code",
        "colab": {}
      },
      "source": [
        ""
      ],
      "execution_count": null,
      "outputs": []
    },
    {
      "cell_type": "code",
      "metadata": {
        "id": "XuJAI9O_5ZMj",
        "colab_type": "code",
        "colab": {}
      },
      "source": [
        "class_object = {0 : 'egg_wf' ,\n",
        "                1 : 'egg_bt', 2 : 'egg_ta', 3 : 'wf', 4 : 'bt', 5 : 'ta', 6 : 'ta_maps', 7 : 'ta_larvae', 8 : 'ta_maps+larvae', 9 : 'tomato'}"
      ],
      "execution_count": 12,
      "outputs": []
    },
    {
      "cell_type": "code",
      "metadata": {
        "id": "xhsnJIDR3b8D",
        "colab_type": "code",
        "colab": {}
      },
      "source": [
        "for layer in pre_trained_model.layers:\n",
        "  layer.trainable = False"
      ],
      "execution_count": 13,
      "outputs": []
    },
    {
      "cell_type": "code",
      "metadata": {
        "id": "0tF8DLCU3e-y",
        "colab_type": "code",
        "colab": {}
      },
      "source": [
        "\n",
        "class myCallback(tf.keras.callbacks.Callback):\n",
        "  def on_epoch_end(self, epoch, logs={}):\n",
        "    if(logs.get('acc')>0.959):\n",
        "      print(\"\\nReached 99.9% accuracy so cancelling training!\")\n",
        "      self.model.stop_training = True"
      ],
      "execution_count": 14,
      "outputs": []
    },
    {
      "cell_type": "code",
      "metadata": {
        "id": "U3h47V7r49Oe",
        "colab_type": "code",
        "colab": {}
      },
      "source": [
        "\n",
        "from tensorflow.keras.optimizers import RMSprop\n",
        "\n",
        "# Flatten the output layer to 1 dimension\n",
        "x = layers.Flatten()(pre_trained_model.output)\n",
        "# Add a fully connected layer with 1,024 hidden units and ReLU activation\n",
        "x = layers.Dense(1024, activation='relu')(x)\n",
        "# Add a dropout rate of 0.2\n",
        "x = layers.Dropout(0.2)(x)                  \n",
        "# Add a final sigmoid layer for classification\n",
        "x = layers.Dense  (1, activation='sigmoid')(x)           \n",
        "\n",
        "model = Model( pre_trained_model.input, x) \n",
        "\n",
        "model.compile(optimizer = RMSprop(lr=0.0001), \n",
        "              loss = 'binary_crossentropy', \n",
        "              metrics = ['acc'])"
      ],
      "execution_count": 27,
      "outputs": []
    },
    {
      "cell_type": "code",
      "metadata": {
        "id": "O4-k5A8p0QJm",
        "colab_type": "code",
        "colab": {}
      },
      "source": [
        "base_dir = '/Tomato-Pests'\n",
        "train_dir = \"/Tomato-Pests/Train\"\n",
        "validation_dir = \"/Tomato-Pests/Test\"\n"
      ],
      "execution_count": 16,
      "outputs": []
    },
    {
      "cell_type": "code",
      "metadata": {
        "id": "0qvEvpqS6M-o",
        "colab_type": "code",
        "colab": {}
      },
      "source": [
        "train_datagen = ImageDataGenerator(rescale = 1./255.,\n",
        "                                   rotation_range = 40,\n",
        "                                   width_shift_range = 0.2,\n",
        "                                   height_shift_range = 0.2,\n",
        "                                   shear_range = 0.2,\n",
        "                                   zoom_range = 0.2,\n",
        "                                   horizontal_flip = True)"
      ],
      "execution_count": 17,
      "outputs": []
    },
    {
      "cell_type": "code",
      "metadata": {
        "id": "FMBDSPOs0Lz0",
        "colab_type": "code",
        "colab": {}
      },
      "source": [
        "test_datagen = ImageDataGenerator( rescale = 1.0/255. )"
      ],
      "execution_count": 18,
      "outputs": []
    },
    {
      "cell_type": "code",
      "metadata": {
        "id": "sciLKr1V0Nwk",
        "colab_type": "code",
        "colab": {
          "base_uri": "https://localhost:8080/",
          "height": 34
        },
        "outputId": "2b1e4e46-1054-4a4d-fe9a-2639feed1f1d"
      },
      "source": [
        "# Flow training images in batches of 20 using train_datagen generator\n",
        "train_generator = train_datagen.flow_from_directory(train_dir,\n",
        "                                                    batch_size = 20,\n",
        "                                                    class_mode = 'categorical', \n",
        "                                                    target_size = (150, 150))     \n"
      ],
      "execution_count": 19,
      "outputs": [
        {
          "output_type": "stream",
          "text": [
            "Found 21474 images belonging to 5 classes.\n"
          ],
          "name": "stdout"
        }
      ]
    },
    {
      "cell_type": "code",
      "metadata": {
        "id": "x8hPXXCRJwBQ",
        "colab_type": "code",
        "colab": {
          "base_uri": "https://localhost:8080/",
          "height": 34
        },
        "outputId": "002c66b1-6296-4871-a5fd-e5c35c76d8ed"
      },
      "source": [
        "# Flow validation images in batches of 20 using test_datagen generator\n",
        "validation_generator =  test_datagen.flow_from_directory( validation_dir,\n",
        "                                                          batch_size  = 20,\n",
        "                                                          class_mode  = 'categorical', \n",
        "                                                          target_size = (150, 150))"
      ],
      "execution_count": 20,
      "outputs": [
        {
          "output_type": "stream",
          "text": [
            "Found 2800 images belonging to 5 classes.\n"
          ],
          "name": "stdout"
        }
      ]
    },
    {
      "cell_type": "code",
      "metadata": {
        "id": "GTnkatJq7Vgw",
        "colab_type": "code",
        "colab": {}
      },
      "source": [
        "#------------------------------------Create Folder Structure--------------------------------------------#\n",
        "def createFolder(ParentFolder):\n",
        "  directory_Train = \"Train\"\n",
        "  directory_Test = \"Test\"\n",
        "  parent_dir = \"/\"+ParentFolder+\"/\"\n",
        "  path_Train = os.path.join(parent_dir, directory_Train)\n",
        "  path_Test = os.path.join(parent_dir, directory_Test)\n",
        "  os.mkdir(path_Train) \n",
        "  os.mkdir(path_Test)   "
      ],
      "execution_count": null,
      "outputs": []
    },
    {
      "cell_type": "code",
      "metadata": {
        "id": "QaU6lt68_6ht",
        "colab_type": "code",
        "colab": {}
      },
      "source": [
        "createFolder('Tomato-Pests')"
      ],
      "execution_count": null,
      "outputs": []
    },
    {
      "cell_type": "code",
      "metadata": {
        "id": "pYsgAPHyJzcH",
        "colab_type": "code",
        "colab": {}
      },
      "source": [
        "  \n",
        "  directory_Train = \"Tomato-Pests/Train\"\n",
        "  directory_Test = \"Tomato-Pests/Test\"\n",
        "  \n",
        "  directory_wf = \"egg_wf\"\n",
        "  directory_bt = \"egg_bt\"\n",
        "  directory_egg_wf = \"wf\"\n",
        "  directory_egg_bt = \"bt\"\n",
        "  directory_tomato = \"tomato\"\n",
        " \n",
        "    #-----------------Training Foder Structure ---------------------------#\n",
        "  path_wf_Train = os.path.join(\"/\" + directory_Train + \"/\", directory_wf)\n",
        "  path_bt_Train = os.path.join(\"/\" + directory_Train + \"/\", directory_bt) \n",
        "  path_egg_wf_Train = os.path.join(\"/\" + directory_Train + \"/\", directory_egg_wf) \n",
        "  path_egg_bt_Train = os.path.join(\"/\" + directory_Train + \"/\", directory_egg_bt) \n",
        "  path_tomato_Train = os.path.join(\"/\" + directory_Train + \"/\", directory_tomato) \n",
        "\n",
        "  os.mkdir(path_wf_Train)\n",
        "  os.mkdir(path_bt_Train) \n",
        "  os.mkdir(path_egg_wf_Train) \n",
        "  os.mkdir(path_egg_bt_Train) \n",
        "  os.mkdir(path_tomato_Train) \n",
        "\n",
        "  #------------------- Testing Folder Structure -------------------------#\n",
        "  path_wf_Test = os.path.join(\"/\" + directory_Test + \"/\", directory_wf)\n",
        "  path_bt_Test = os.path.join(\"/\" + directory_Test + \"/\", directory_bt) \n",
        "  path_egg_wf_Test = os.path.join(\"/\" + directory_Test + \"/\", directory_egg_wf) \n",
        "  path_egg_bt_Test = os.path.join(\"/\" + directory_Test + \"/\", directory_egg_bt) \n",
        "  path_tomato_Test = os.path.join(\"/\" + directory_Test + \"/\", directory_tomato)\n",
        "\n",
        "  os.mkdir(path_wf_Test)\n",
        "  os.mkdir(path_bt_Test) \n",
        "  os.mkdir(path_egg_wf_Test) \n",
        "  os.mkdir(path_egg_bt_Test) \n",
        "  os.mkdir(path_tomato_Test) "
      ],
      "execution_count": null,
      "outputs": []
    },
    {
      "cell_type": "code",
      "metadata": {
        "id": "7M_M3obgA-8O",
        "colab_type": "code",
        "colab": {
          "resources": {
            "http://localhost:8080/nbextensions/google.colab/files.js": {
              "data": "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",
              "ok": true,
              "headers": [
                [
                  "content-type",
                  "application/javascript"
                ]
              ],
              "status": 200,
              "status_text": ""
            }
          },
          "base_uri": "https://localhost:8080/",
          "height": 110
        },
        "outputId": "e253eb2f-b090-4513-b281-7d2e44ebff47"
      },
      "source": [
        "from google.colab import files\n",
        "files.upload() "
      ],
      "execution_count": 1,
      "outputs": [
        {
          "output_type": "display_data",
          "data": {
            "text/html": [
              "\n",
              "     <input type=\"file\" id=\"files-ac8ddf11-42ab-4ad6-ab88-82c2a35d72d6\" name=\"files[]\" multiple disabled\n",
              "        style=\"border:none\" />\n",
              "     <output id=\"result-ac8ddf11-42ab-4ad6-ab88-82c2a35d72d6\">\n",
              "      Upload widget is only available when the cell has been executed in the\n",
              "      current browser session. Please rerun this cell to enable.\n",
              "      </output>\n",
              "      <script src=\"/nbextensions/google.colab/files.js\"></script> "
            ],
            "text/plain": [
              "<IPython.core.display.HTML object>"
            ]
          },
          "metadata": {
            "tags": []
          }
        },
        {
          "output_type": "stream",
          "text": [
            "Saving CreatePestImageData_Inception_V3.py to CreatePestImageData_Inception_V3.py\n"
          ],
          "name": "stdout"
        },
        {
          "output_type": "execute_result",
          "data": {
            "text/plain": [
              "{'CreatePestImageData_Inception_V3.py': b'# -*- coding: utf-8 -*-\\r\\n\"\"\"createImageDataset.ipynb\\r\\n\\r\\nAutomatically generated by Colaboratory.\\r\\n\\r\\nOriginal file is located at\\r\\n    https://colab.research.google.com/drive/1FXiYKCQ-jtbL_O29BQb2Xy1bBd2inM9q\\r\\n\"\"\"\\r\\n\\r\\nfrom os import listdir\\r\\nimport numpy as np\\r\\nimport xml.etree.ElementTree as ET\\r\\nimport cv2\\r\\nimport tensorflow as tf \\r\\nimport os \\r\\n\\r\\n\\r\\nclass createImageDataset(object):\\r\\n    \\r\\n    def __init__(self, class_map=None):\\r\\n        self.image_info = []\\r\\n        self.trainX = []\\r\\n        self.trainY = []\\r\\n        self.testX = []\\r\\n        self.testY = []\\r\\n            \\r\\n    def add_image_info(self , image_array , image_path , image_id , object_id , class_name , class_id):\\r\\n        \\r\\n        image_info_ = {\\'object_id\\': image_id,\\r\\n                       \\'object_class\\': class_name,\\r\\n                       \\'image_path\\': image_path,\\r\\n                       \\'image_array\\': image_array,\\r\\n                       \\'class_id\\' : class_id}\\r\\n        self.image_info.append(image_info_)\\r\\n\\r\\n    def parse_xml(self,filer):\\r\\n        boxes = list()\\r\\n        names = list()\\r\\n        root = ET.parse(filer).getroot() \\r\\n        for box in root.findall(\\'.//object\\'):\\r\\n            xmin = int(box.find(\\'.//bndbox/xmin\\').text)\\r\\n            xmax = int(box.find(\\'.//bndbox/xmax\\').text)\\r\\n            ymin = int(box.find(\\'.//bndbox/ymin\\').text)\\r\\n            ymax = int(box.find(\\'.//bndbox/ymax\\').text)\\r\\n            name = root.find(\\'.//name\\').text\\r\\n            coords = [xmin , ymin , xmax , ymax]\\r\\n            names.append(name)\\r\\n            boxes.append(coords)\\r\\n        width = int(root.find(\\'.//size/width\\').text)\\r\\n        height = int(root.find(\\'.//size/height\\').text)\\r\\n        path = root.find(\\'.//path\\').text\\r\\n        filename = root.find(\\'filename\\').text\\r\\n        filename = filename[:-4]\\r\\n\\r\\n        return boxes, width, height , names , path , filename\\r\\n\\r\\n    def get_image_arrays(self , annot_path , class_object, image_Path, test_OrTrain):\\r\\n        \\r\\n        count = 0\\r\\n        for i in listdir(annot_path):\\r\\n            patt = annot_path +\\'/\\' + i\\r\\n            parsed = self.parse_xml(patt)\\r\\n            img = cv2.imread(image_Path + i[0:-4]+\\'.jpg\\')\\r\\n            for wh in range(0 , len(parsed[0])):\\r\\n                crop_img = img[parsed[0][wh][1]:parsed[0][wh][3] , parsed[0][wh][0]:parsed[0][wh][2] ]\\r\\n                \\r\\n                class_name = parsed[3][wh]\\r\\n                keys = list(class_object.keys())  \\r\\n                values = list(class_object.values())\\r\\n                class_id = keys[values.index(class_name)]\\r\\n                \\r\\n                resized_img = cv2.resize(crop_img,(150,150))\\r\\n                path = \"/Tomato-Pests/\" + test_OrTrain + \"/\" + class_name + \"/\"\\r\\n                #cv2.imwrite(class_name+\"_img_\"+ i + \"_\" + wh + \".jpg\", resized_img) \\r\\n                cv2.imwrite(os.path.join(path , class_name+ \"_img_\" + str(i)[:-4] + \"_\" + str(wh) + \".jpg\"), resized_img)\\r\\n                \\r\\n                print(\\'Image : \\' + parsed[4] + \\' added to dataset with class name \"\\' + parsed[3][wh]  +\\'\".\\'  )\\r\\n                count = count + 1\\r\\n    \\r\\n    def prepare_dataset(self , path , class_object , imagePath, testOrTrain):   \\r\\n        self.get_image_arrays(path , class_object, imagePath, testOrTrain)\\r\\n        return print(\\'Image dataset succesfully saved.\\')'}"
            ]
          },
          "metadata": {
            "tags": []
          },
          "execution_count": 1
        }
      ]
    },
    {
      "cell_type": "code",
      "metadata": {
        "id": "tyCITm0nBQ3Z",
        "colab_type": "code",
        "colab": {}
      },
      "source": [
        "import CreatePestImageData_Inception_V3 as Imagedataset"
      ],
      "execution_count": 2,
      "outputs": []
    },
    {
      "cell_type": "code",
      "metadata": {
        "id": "2XG029xPeyfH",
        "colab_type": "code",
        "colab": {}
      },
      "source": [
        ""
      ],
      "execution_count": null,
      "outputs": []
    },
    {
      "cell_type": "code",
      "metadata": {
        "id": "ckOkDenBEZZb",
        "colab_type": "code",
        "colab": {}
      },
      "source": [
        "dataSet = Imagedataset.createImageDataset()"
      ],
      "execution_count": 4,
      "outputs": []
    },
    {
      "cell_type": "code",
      "metadata": {
        "id": "5eVf6IeJEM1-",
        "colab_type": "code",
        "colab": {}
      },
      "source": [
        " dataSet.prepare_dataset('/Tomato-Pests/LABELS/' , class_object,   '/Tomato-Pests/GREENPATROL_DB_V1.0/','Train')"
      ],
      "execution_count": null,
      "outputs": []
    },
    {
      "cell_type": "code",
      "metadata": {
        "id": "0OUo_PjgxICC",
        "colab_type": "code",
        "colab": {}
      },
      "source": [
        " dataSet.prepare_dataset('/Tomato-Pests/LABELS_Test/' , class_object,   '/Tomato-Pests/GREENPATROL_DB_V1.0_Test/','Test')"
      ],
      "execution_count": null,
      "outputs": []
    },
    {
      "cell_type": "code",
      "metadata": {
        "id": "mAcbfEnONZcO",
        "colab_type": "code",
        "colab": {}
      },
      "source": [
        "import os, re, os.path\n",
        "mypath = \"/Tomato-Pests/bt\"\n",
        "for root, dirs, files in os.walk(mypath):\n",
        "    for file in files:\n",
        "        os.remove(os.path.join(root, file))"
      ],
      "execution_count": null,
      "outputs": []
    },
    {
      "cell_type": "code",
      "metadata": {
        "id": "PtPqyENqkj2i",
        "colab_type": "code",
        "colab": {}
      },
      "source": [
        "from tensorflow.keras.preprocessing.image import ImageDataGenerator\n"
      ],
      "execution_count": 21,
      "outputs": []
    },
    {
      "cell_type": "code",
      "metadata": {
        "id": "9UsvCzgDkdNw",
        "colab_type": "code",
        "colab": {}
      },
      "source": [
        "# Add our data-augmentation parameters to ImageDataGenerator\n",
        "train_datagen = ImageDataGenerator(rescale = 1./255.,\n",
        "                                   rotation_range = 40,\n",
        "                                   width_shift_range = 0.2,\n",
        "                                   height_shift_range = 0.2,\n",
        "                                   shear_range = 0.2,\n",
        "                                   zoom_range = 0.2,\n",
        "                                   horizontal_flip = True)\n",
        "\n",
        "# Note that the validation data should not be augmented!\n",
        "test_datagen = ImageDataGenerator( rescale = 1.0/255. )"
      ],
      "execution_count": 22,
      "outputs": []
    },
    {
      "cell_type": "code",
      "metadata": {
        "id": "iUf25yBkkdFK",
        "colab_type": "code",
        "colab": {}
      },
      "source": [
        ""
      ],
      "execution_count": null,
      "outputs": []
    },
    {
      "cell_type": "code",
      "metadata": {
        "id": "kYHLwg6i1i_1",
        "colab_type": "code",
        "colab": {
          "base_uri": "https://localhost:8080/",
          "height": 1000
        },
        "outputId": "ab406755-cbb1-45c1-dfa9-f68d73ac6678"
      },
      "source": [
        "callbacks = myCallback()\n",
        "history = model.fit(\n",
        "            train_generator,\n",
        "            validation_data = validation_generator,\n",
        "            steps_per_epoch = 25,\n",
        "            epochs = 50,\n",
        "            validation_steps = 20,\n",
        "            verbose = 1,\n",
        "            callbacks=[callbacks])\n"
      ],
      "execution_count": 30,
      "outputs": [
        {
          "output_type": "stream",
          "text": [
            "Epoch 1/50\n",
            "25/25 [==============================] - 42s 2s/step - loss: 0.9318 - acc: 0.7424 - val_loss: 0.5573 - val_acc: 0.7550\n",
            "Epoch 2/50\n",
            "25/25 [==============================] - 41s 2s/step - loss: 0.5537 - acc: 0.7868 - val_loss: 0.5219 - val_acc: 0.7985\n",
            "Epoch 3/50\n",
            "25/25 [==============================] - 41s 2s/step - loss: 0.5196 - acc: 0.7964 - val_loss: 0.5336 - val_acc: 0.8000\n",
            "Epoch 4/50\n",
            "25/25 [==============================] - 41s 2s/step - loss: 0.5146 - acc: 0.8000 - val_loss: 0.5158 - val_acc: 0.8000\n",
            "Epoch 5/50\n",
            "25/25 [==============================] - 41s 2s/step - loss: 0.5125 - acc: 0.7988 - val_loss: 0.5146 - val_acc: 0.8000\n",
            "Epoch 6/50\n",
            "25/25 [==============================] - 41s 2s/step - loss: 0.5099 - acc: 0.8000 - val_loss: 0.5196 - val_acc: 0.8000\n",
            "Epoch 7/50\n",
            "25/25 [==============================] - 41s 2s/step - loss: 0.5093 - acc: 0.8000 - val_loss: 0.5039 - val_acc: 0.8000\n",
            "Epoch 8/50\n",
            "25/25 [==============================] - 41s 2s/step - loss: 0.5085 - acc: 0.8000 - val_loss: 0.5105 - val_acc: 0.8000\n",
            "Epoch 9/50\n",
            "25/25 [==============================] - 41s 2s/step - loss: 0.5072 - acc: 0.8000 - val_loss: 0.5168 - val_acc: 0.8000\n",
            "Epoch 10/50\n",
            "25/25 [==============================] - 41s 2s/step - loss: 0.5078 - acc: 0.8000 - val_loss: 0.5034 - val_acc: 0.8000\n",
            "Epoch 11/50\n",
            "25/25 [==============================] - 41s 2s/step - loss: 0.5074 - acc: 0.8000 - val_loss: 0.5030 - val_acc: 0.8000\n",
            "Epoch 12/50\n",
            "25/25 [==============================] - 41s 2s/step - loss: 0.5070 - acc: 0.8000 - val_loss: 0.5076 - val_acc: 0.8000\n",
            "Epoch 13/50\n",
            "25/25 [==============================] - 41s 2s/step - loss: 0.5068 - acc: 0.8000 - val_loss: 0.5030 - val_acc: 0.8000\n",
            "Epoch 14/50\n",
            "25/25 [==============================] - 41s 2s/step - loss: 0.5061 - acc: 0.8000 - val_loss: 0.5056 - val_acc: 0.8000\n",
            "Epoch 15/50\n",
            "25/25 [==============================] - 41s 2s/step - loss: 0.5055 - acc: 0.8000 - val_loss: 0.5070 - val_acc: 0.8000\n",
            "Epoch 16/50\n",
            "25/25 [==============================] - 41s 2s/step - loss: 0.5060 - acc: 0.8000 - val_loss: 0.5083 - val_acc: 0.8000\n",
            "Epoch 17/50\n",
            "25/25 [==============================] - 42s 2s/step - loss: 0.5055 - acc: 0.8000 - val_loss: 0.5038 - val_acc: 0.8000\n",
            "Epoch 18/50\n",
            "25/25 [==============================] - 41s 2s/step - loss: 0.5051 - acc: 0.8000 - val_loss: 0.5041 - val_acc: 0.8000\n",
            "Epoch 19/50\n",
            "25/25 [==============================] - 41s 2s/step - loss: 0.5053 - acc: 0.8000 - val_loss: 0.5028 - val_acc: 0.8000\n",
            "Epoch 20/50\n",
            "25/25 [==============================] - 41s 2s/step - loss: 0.5053 - acc: 0.8000 - val_loss: 0.5040 - val_acc: 0.8000\n",
            "Epoch 21/50\n",
            "25/25 [==============================] - 41s 2s/step - loss: 0.5054 - acc: 0.8000 - val_loss: 0.5028 - val_acc: 0.8000\n",
            "Epoch 22/50\n",
            "25/25 [==============================] - 41s 2s/step - loss: 0.5042 - acc: 0.8000 - val_loss: 0.5026 - val_acc: 0.8000\n",
            "Epoch 23/50\n",
            "25/25 [==============================] - 41s 2s/step - loss: 0.5036 - acc: 0.8000 - val_loss: 0.5031 - val_acc: 0.8000\n",
            "Epoch 24/50\n",
            "25/25 [==============================] - 42s 2s/step - loss: 0.5046 - acc: 0.8000 - val_loss: 0.5053 - val_acc: 0.8000\n",
            "Epoch 25/50\n",
            "25/25 [==============================] - 41s 2s/step - loss: 0.5043 - acc: 0.8000 - val_loss: 0.5031 - val_acc: 0.8000\n",
            "Epoch 26/50\n",
            "25/25 [==============================] - 41s 2s/step - loss: 0.5045 - acc: 0.8000 - val_loss: 0.5022 - val_acc: 0.8000\n",
            "Epoch 27/50\n",
            "25/25 [==============================] - 41s 2s/step - loss: 0.5044 - acc: 0.8000 - val_loss: 0.5023 - val_acc: 0.8000\n",
            "Epoch 28/50\n",
            "25/25 [==============================] - 41s 2s/step - loss: 0.5042 - acc: 0.8000 - val_loss: 0.5028 - val_acc: 0.8000\n",
            "Epoch 29/50\n",
            "25/25 [==============================] - 41s 2s/step - loss: 0.5040 - acc: 0.8000 - val_loss: 0.5030 - val_acc: 0.8000\n",
            "Epoch 30/50\n",
            "25/25 [==============================] - 41s 2s/step - loss: 0.5042 - acc: 0.8000 - val_loss: 0.5024 - val_acc: 0.8000\n",
            "Epoch 31/50\n",
            "25/25 [==============================] - 42s 2s/step - loss: 0.5042 - acc: 0.8000 - val_loss: 0.5035 - val_acc: 0.8000\n",
            "Epoch 32/50\n",
            "25/25 [==============================] - 42s 2s/step - loss: 0.5039 - acc: 0.8000 - val_loss: 0.5059 - val_acc: 0.8000\n",
            "Epoch 33/50\n",
            "25/25 [==============================] - 42s 2s/step - loss: 0.5038 - acc: 0.8000 - val_loss: 0.5024 - val_acc: 0.8000\n",
            "Epoch 34/50\n",
            "25/25 [==============================] - 42s 2s/step - loss: 0.5041 - acc: 0.8000 - val_loss: 0.5026 - val_acc: 0.8000\n",
            "Epoch 35/50\n",
            "25/25 [==============================] - 41s 2s/step - loss: 0.5038 - acc: 0.8000 - val_loss: 0.5021 - val_acc: 0.8000\n",
            "Epoch 36/50\n",
            "25/25 [==============================] - 41s 2s/step - loss: 0.5040 - acc: 0.8000 - val_loss: 0.5054 - val_acc: 0.8000\n",
            "Epoch 37/50\n",
            "25/25 [==============================] - 41s 2s/step - loss: 0.5039 - acc: 0.8000 - val_loss: 0.5032 - val_acc: 0.8000\n",
            "Epoch 38/50\n",
            "25/25 [==============================] - 42s 2s/step - loss: 0.5042 - acc: 0.8000 - val_loss: 0.5024 - val_acc: 0.8000\n",
            "Epoch 39/50\n",
            "25/25 [==============================] - 42s 2s/step - loss: 0.5035 - acc: 0.8000 - val_loss: 0.5021 - val_acc: 0.8000\n",
            "Epoch 40/50\n",
            "25/25 [==============================] - 41s 2s/step - loss: 0.5035 - acc: 0.8000 - val_loss: 0.5046 - val_acc: 0.8000\n",
            "Epoch 41/50\n",
            "25/25 [==============================] - 41s 2s/step - loss: 0.5039 - acc: 0.8000 - val_loss: 0.5025 - val_acc: 0.8000\n",
            "Epoch 42/50\n",
            "25/25 [==============================] - 41s 2s/step - loss: 0.5035 - acc: 0.8000 - val_loss: 0.5022 - val_acc: 0.8000\n",
            "Epoch 43/50\n",
            "25/25 [==============================] - 41s 2s/step - loss: 0.5029 - acc: 0.8000 - val_loss: 0.5030 - val_acc: 0.8000\n",
            "Epoch 44/50\n",
            "25/25 [==============================] - 41s 2s/step - loss: 0.5033 - acc: 0.8000 - val_loss: 0.5025 - val_acc: 0.8000\n",
            "Epoch 45/50\n",
            "25/25 [==============================] - 42s 2s/step - loss: 0.5035 - acc: 0.8000 - val_loss: 0.5021 - val_acc: 0.8000\n",
            "Epoch 46/50\n",
            "25/25 [==============================] - 42s 2s/step - loss: 0.5028 - acc: 0.8000 - val_loss: 0.5019 - val_acc: 0.8000\n",
            "Epoch 47/50\n",
            "25/25 [==============================] - 41s 2s/step - loss: 0.5034 - acc: 0.8000 - val_loss: 0.5022 - val_acc: 0.8000\n",
            "Epoch 48/50\n",
            "25/25 [==============================] - 41s 2s/step - loss: 0.5035 - acc: 0.8000 - val_loss: 0.5019 - val_acc: 0.8000\n",
            "Epoch 49/50\n",
            "25/25 [==============================] - 41s 2s/step - loss: 0.5034 - acc: 0.8000 - val_loss: 0.5029 - val_acc: 0.8000\n",
            "Epoch 50/50\n",
            "25/25 [==============================] - 41s 2s/step - loss: 0.5032 - acc: 0.8000 - val_loss: 0.5021 - val_acc: 0.8000\n"
          ],
          "name": "stdout"
        }
      ]
    },
    {
      "cell_type": "code",
      "metadata": {
        "id": "nq7CusUMRDda",
        "colab_type": "code",
        "colab": {
          "base_uri": "https://localhost:8080/",
          "height": 545
        },
        "outputId": "1721249a-78b3-428c-db97-8b9f7224fec0"
      },
      "source": [
        "import matplotlib.pyplot as plt\n",
        "acc = history.history['acc']\n",
        "val_acc = history.history['val_acc']\n",
        "loss = history.history['loss']\n",
        "val_loss = history.history['val_loss']\n",
        "\n",
        "epochs = range(len(acc))\n",
        "\n",
        "plt.plot(epochs, acc, 'bo', label='Training accuracy')\n",
        "plt.plot(epochs, val_acc, 'b', label='Validation accuracy')\n",
        "plt.title('Training and validation accuracy')\n",
        "\n",
        "plt.figure()\n",
        "\n",
        "plt.plot(epochs, loss, 'bo', label='Training Loss')\n",
        "plt.plot(epochs, val_loss, 'b', label='Validation Loss')\n",
        "plt.title('Training and validation loss')\n",
        "plt.legend()\n",
        "\n",
        "plt.show()"
      ],
      "execution_count": 31,
      "outputs": [
        {
          "output_type": "display_data",
          "data": {
            "image/png": "[encoded data removed]",
            "text/plain": [
              "<Figure size 432x288 with 1 Axes>"
            ]
          },
          "metadata": {
            "tags": [],
            "needs_background": "light"
          }
        },
        {
          "output_type": "display_data",
          "data": {
            "image/png": "[encoded data removed]",
            "text/plain": [
              "<Figure size 432x288 with 1 Axes>"
            ]
          },
          "metadata": {
            "tags": [],
            "needs_background": "light"
          }
        }
      ]
    },
    {
      "cell_type": "code",
      "metadata": {
        "id": "7TcokYTTRDFk",
        "colab_type": "code",
        "colab": {
          "resources": {
            "http://localhost:8080/nbextensions/google.colab/files.js": {
              "data": "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",
              "ok": true,
              "headers": [
                [
                  "content-type",
                  "application/javascript"
                ]
              ],
              "status": 200,
              "status_text": ""
            }
          },
          "base_uri": "https://localhost:8080/",
          "height": 39
        },
        "outputId": "405f93e2-f955-4765-d298-0e0f102feddc"
      },
      "source": [
        "from google.colab import files\n",
        "\n",
        "uploaded = files.upload()\n"
      ],
      "execution_count": 29,
      "outputs": [
        {
          "output_type": "display_data",
          "data": {
            "text/html": [
              "\n",
              "     <input type=\"file\" id=\"files-58d19f74-c245-40d2-91ea-a6c642e54ee9\" name=\"files[]\" multiple disabled\n",
              "        style=\"border:none\" />\n",
              "     <output id=\"result-58d19f74-c245-40d2-91ea-a6c642e54ee9\">\n",
              "      Upload widget is only available when the cell has been executed in the\n",
              "      current browser session. Please rerun this cell to enable.\n",
              "      </output>\n",
              "      <script src=\"/nbextensions/google.colab/files.js\"></script> "
            ],
            "text/plain": [
              "<IPython.core.display.HTML object>"
            ]
          },
          "metadata": {
            "tags": []
          }
        }
      ]
    },
    {
      "cell_type": "code",
      "metadata": {
        "id": "LRWGEo-9lig-",
        "colab_type": "code",
        "colab": {}
      },
      "source": [
        "Creae the x_test\n",
        "  x_test = []\n",
        "  \n",
        "  for i in tqdm(test_data['id'].values):\n",
        "      img = cv2.imread('../input/dog-breed-identification/test/{}.jpg'.format(i))\n",
        "      x_test.append(cv2.resize(img, (150, 150)))\n"
      ],
      "execution_count": null,
      "outputs": []
    },
    {
      "cell_type": "markdown",
      "metadata": {
        "id": "naG6tbS2Bqk8",
        "colab_type": "text"
      },
      "source": [
        "# New Section"
      ]
    }
  ]
}