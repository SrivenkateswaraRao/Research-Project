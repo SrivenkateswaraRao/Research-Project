{
  "nbformat": 4,
  "nbformat_minor": 0,
  "metadata": {
    "colab": {
      "name": "Increase RAM Reference Notes By Techhawa .ipynb",
      "provenance": [],
      "collapsed_sections": [],
      "machine_shape": "hm",
      "include_colab_link": true
    },
    "kernelspec": {
      "name": "python3",
      "display_name": "Python 3"
    },
    "accelerator": "TPU"
  },
  "cells": [
    {
      "cell_type": "markdown",
      "metadata": {
        "id": "view-in-github",
        "colab_type": "text"
      },
      "source": [
        "<a href=\"https://colab.research.google.com/github/SrivenkateswaraRao/Research-Project/blob/master/CNN2.ipynb\" target=\"_parent\"><img src=\"https://colab.research.google.com/assets/colab-badge.svg\" alt=\"Open In Colab\"/></a>"
      ]
    },
    {
      "cell_type": "code",
      "metadata": {
        "id": "vRXTdQDVKS6v",
        "colab_type": "code",
        "colab": {}
      },
      "source": [
        "import os\n",
        "from os import listdir\n",
        "from pydrive.auth import GoogleAuth\n",
        "from pydrive.drive import GoogleDrive\n",
        "from google.colab import auth\n",
        "from oauth2client.client import GoogleCredentials\n",
        "import numpy as np"
      ],
      "execution_count": null,
      "outputs": []
    },
    {
      "cell_type": "code",
      "metadata": {
        "id": "_zf7iSxzKaf0",
        "colab_type": "code",
        "colab": {}
      },
      "source": [
        "auth.authenticate_user()\n",
        "gauth = GoogleAuth()\n",
        "gauth.credentials = GoogleCredentials.get_application_default()\n",
        "drive = GoogleDrive(gauth)"
      ],
      "execution_count": null,
      "outputs": []
    },
    {
      "cell_type": "code",
      "metadata": {
        "id": "LCOxaKCJKzA0",
        "colab_type": "code",
        "colab": {}
      },
      "source": [
        "from google.colab import files\n",
        "files.upload() "
      ],
      "execution_count": null,
      "outputs": []
    },
    {
      "cell_type": "code",
      "metadata": {
        "id": "dbxnI4zrLATr",
        "colab_type": "code",
        "colab": {}
      },
      "source": [
        "import CreatePestImageData_AlexNetCopy as Imagedataset\n",
        "import SupportingFunctions as support"
      ],
      "execution_count": null,
      "outputs": []
    },
    {
      "cell_type": "code",
      "metadata": {
        "id": "MsX9B9gWLClk",
        "colab_type": "code",
        "colab": {}
      },
      "source": [
        "support.DownLoadFiles('1aXb25Wp9sG7mL6AQgYY9ElrGcERi95JU',drive)"
      ],
      "execution_count": null,
      "outputs": []
    },
    {
      "cell_type": "code",
      "metadata": {
        "id": "HP63yquZOxes",
        "colab_type": "code",
        "colab": {}
      },
      "source": [
        "support.Unzip('/content/GREENPATROL_DB_V3.0.zip','/content/Pests/Images')"
      ],
      "execution_count": 13,
      "outputs": []
    },
    {
      "cell_type": "code",
      "metadata": {
        "id": "FjdLhsa-PhAM",
        "colab_type": "code",
        "colab": {
          "base_uri": "https://localhost:8080/",
          "height": 34
        },
        "outputId": "1b666e0f-36a5-429d-e2a0-bd08b317a801"
      },
      "source": [
        "support.fileCount('/content/Pests/Images')"
      ],
      "execution_count": 15,
      "outputs": [
        {
          "output_type": "stream",
          "text": [
            "4330\n"
          ],
          "name": "stdout"
        }
      ]
    },
    {
      "cell_type": "code",
      "metadata": {
        "id": "o9VJCEpZJ6TH",
        "colab_type": "code",
        "colab": {}
      },
      "source": [
        "dataSet = Imagedataset.createImageDataset()"
      ],
      "execution_count": 16,
      "outputs": []
    },
    {
      "cell_type": "code",
      "metadata": {
        "id": "kJc_EiuuQB17",
        "colab_type": "code",
        "colab": {}
      },
      "source": [
        "class_object = {0 : 'egg_wf' ,\n",
        "                1 : 'egg_bt', 2 : 'egg_ta', 3 : 'wf', 4 : 'bt', 5 : 'ta', 6 : 'ta_maps', 7 : 'ta_larvae', 8 : 'ta_maps+larvae', 9 : 'tomato'}"
      ],
      "execution_count": 17,
      "outputs": []
    },
    {
      "cell_type": "code",
      "metadata": {
        "id": "YQ4yg8zaQEmb",
        "colab_type": "code",
        "colab": {}
      },
      "source": [
        "dataSet.prepare_dataset('/content/Pests/Labels' , class_object ,48, '/content/Pests/Images/',  test_size=11241 )"
      ],
      "execution_count": null,
      "outputs": []
    },
    {
      "cell_type": "code",
      "metadata": {
        "id": "rtF-jfjvR3Kr",
        "colab_type": "code",
        "colab": {}
      },
      "source": [
        "(trainY , trainX) , (testY , testX ) = (dataSet.trainY , dataSet.trainX ) , (dataSet.testY , dataSet.testX )\n"
      ],
      "execution_count": 20,
      "outputs": []
    },
    {
      "cell_type": "code",
      "metadata": {
        "id": "SHb4SjEzk8Q0",
        "colab_type": "code",
        "colab": {}
      },
      "source": [
        "from keras.utils import plot_model\n",
        "from keras.models import Model\n",
        "from keras.layers import Input\n",
        "from keras.layers import Dense\n",
        "from keras.layers import Flatten\n",
        "from keras.layers.convolutional import Conv2D\n",
        "from keras.layers.pooling import MaxPooling2D\n",
        "visible = Input(shape=(48,48,3))\n",
        "conv1 = Conv2D(32, kernel_size=4, activation='relu')(visible)\n",
        "pool1 = MaxPooling2D(pool_size=(2, 2))(conv1)\n",
        "conv2 = Conv2D(16, kernel_size=4, activation='relu')(pool1)\n",
        "pool2 = MaxPooling2D(pool_size=(2, 2))(conv2)\n",
        "flat = Flatten()(pool2)\n",
        "hidden1 = Dense(10, activation='relu')(flat)\n",
        "output = Dense(10, activation='softmax')(hidden1)\n",
        "model = Model(inputs=visible, outputs=output)\n",
        "model.compile(loss='categorical_crossentropy', optimizer='adam', metrics=['accuracy'])\n"
      ],
      "execution_count": 59,
      "outputs": []
    },
    {
      "cell_type": "code",
      "metadata": {
        "id": "61fPIMC62XV_",
        "colab_type": "code",
        "colab": {
          "base_uri": "https://localhost:8080/",
          "height": 420
        },
        "outputId": "d1293c20-dcdd-4a4b-bc5b-c0c6ef486a49"
      },
      "source": [
        "model.summary()"
      ],
      "execution_count": 60,
      "outputs": [
        {
          "output_type": "stream",
          "text": [
            "Model: \"model_6\"\n",
            "_________________________________________________________________\n",
            "Layer (type)                 Output Shape              Param #   \n",
            "=================================================================\n",
            "input_20 (InputLayer)        (None, 48, 48, 3)         0         \n",
            "_________________________________________________________________\n",
            "conv2d_12 (Conv2D)           (None, 45, 45, 32)        1568      \n",
            "_________________________________________________________________\n",
            "max_pooling2d_11 (MaxPooling (None, 22, 22, 32)        0         \n",
            "_________________________________________________________________\n",
            "conv2d_13 (Conv2D)           (None, 19, 19, 16)        8208      \n",
            "_________________________________________________________________\n",
            "max_pooling2d_12 (MaxPooling (None, 9, 9, 16)          0         \n",
            "_________________________________________________________________\n",
            "flatten_6 (Flatten)          (None, 1296)              0         \n",
            "_________________________________________________________________\n",
            "dense_27 (Dense)             (None, 10)                12970     \n",
            "_________________________________________________________________\n",
            "dense_28 (Dense)             (None, 10)                110       \n",
            "=================================================================\n",
            "Total params: 22,856\n",
            "Trainable params: 22,856\n",
            "Non-trainable params: 0\n",
            "_________________________________________________________________\n"
          ],
          "name": "stdout"
        }
      ]
    },
    {
      "cell_type": "code",
      "metadata": {
        "id": "kXXgL4gsTRQG",
        "colab_type": "code",
        "colab": {
          "base_uri": "https://localhost:8080/",
          "height": 121
        },
        "outputId": "d3fda43e-809a-4548-93fa-c99f314e29a8"
      },
      "source": [
        "from google.colab import drive\n",
        "drive.mount('/content/drive')"
      ],
      "execution_count": 67,
      "outputs": [
        {
          "output_type": "stream",
          "text": [
            "Go to this URL in a browser: https://accounts.google.com/o/oauth2/auth?client_id=947318989803-6bn6qk8qdgf4n4g3pfee6491hc0brc4i.apps.googleusercontent.com&redirect_uri=urn%3aietf%3awg%3aoauth%3a2.0%3aoob&response_type=code&scope=email%20https%3a%2f%2fwww.googleapis.com%2fauth%2fdocs.test%20https%3a%2f%2fwww.googleapis.com%2fauth%2fdrive%20https%3a%2f%2fwww.googleapis.com%2fauth%2fdrive.photos.readonly%20https%3a%2f%2fwww.googleapis.com%2fauth%2fpeopleapi.readonly\n",
            "\n",
            "Enter your authorization code:\n",
            "··········\n",
            "Mounted at /content/drive\n"
          ],
          "name": "stdout"
        }
      ]
    },
    {
      "cell_type": "code",
      "metadata": {
        "id": "Uy_EGcX3VAPW",
        "colab_type": "code",
        "colab": {
          "base_uri": "https://localhost:8080/",
          "height": 84
        },
        "outputId": "1bb41337-0408-4bbe-c341-bcfcf262247d"
      },
      "source": [
        "print(trainX.shape)\n",
        "print(trainY.shape)\n",
        "print(testX.shape)\n",
        "print(testY.shape)"
      ],
      "execution_count": null,
      "outputs": [
        {
          "output_type": "stream",
          "text": [
            "(44964, 32, 32, 3)\n",
            "(44964,)\n",
            "(11241, 32, 32, 3)\n",
            "(11241,)\n"
          ],
          "name": "stdout"
        }
      ]
    },
    {
      "cell_type": "code",
      "metadata": {
        "id": "CW_Lotmj0Hul",
        "colab_type": "code",
        "colab": {}
      },
      "source": [
        "filepath=\"/content/drive/My Drive/Models/CNN2/weights-{epoch:02d}-{accuracy:.3f}.hdf5\"\n",
        "from keras.callbacks import ModelCheckpoint\n",
        "checkpoint = ModelCheckpoint(filepath, monitor='accuracy',\n",
        "                               verbose=1, mode='max',save_best_only=True)\n",
        "\n",
        "callbacks_list = [checkpoint]"
      ],
      "execution_count": 68,
      "outputs": []
    },
    {
      "cell_type": "code",
      "metadata": {
        "id": "buL-GdbXE7f3",
        "colab_type": "code",
        "colab": {}
      },
      "source": [
        "from keras.utils import to_categorical\n",
        "trainY = to_categorical(trainY)\n",
        "testY = to_categorical(testY)"
      ],
      "execution_count": 62,
      "outputs": []
    },
    {
      "cell_type": "code",
      "metadata": {
        "id": "lp2nwdj90d6u",
        "colab_type": "code",
        "colab": {
          "base_uri": "https://localhost:8080/",
          "height": 1000
        },
        "outputId": "7ace1c1e-63f5-491f-d8f2-bb6b2c0fc3f0"
      },
      "source": [
        "model.fit(trainX,trainY,verbose=1,epochs=50, validation_data= (testX,testY), callbacks=[checkpoint])"
      ],
      "execution_count": 70,
      "outputs": [
        {
          "output_type": "stream",
          "text": [
            "Train on 44964 samples, validate on 11241 samples\n",
            "Epoch 1/50\n",
            "44964/44964 [==============================] - 25s 562us/step - loss: 0.8013 - accuracy: 0.6770 - val_loss: 0.8577 - val_accuracy: 0.6603\n",
            "\n",
            "Epoch 00001: accuracy improved from -inf to 0.67701, saving model to /content/drive/My Drive/Models/CNN2/weights-01-0.677.hdf5\n",
            "Epoch 2/50\n",
            "44964/44964 [==============================] - 26s 584us/step - loss: 0.8003 - accuracy: 0.6778 - val_loss: 0.8501 - val_accuracy: 0.6610\n",
            "\n",
            "Epoch 00002: accuracy improved from 0.67701 to 0.67783, saving model to /content/drive/My Drive/Models/CNN2/weights-02-0.678.hdf5\n",
            "Epoch 3/50\n",
            "44964/44964 [==============================] - 26s 568us/step - loss: 0.7966 - accuracy: 0.6774 - val_loss: 0.8562 - val_accuracy: 0.6623\n",
            "\n",
            "Epoch 00003: accuracy did not improve from 0.67783\n",
            "Epoch 4/50\n",
            "44964/44964 [==============================] - 25s 547us/step - loss: 0.7949 - accuracy: 0.6793 - val_loss: 0.8514 - val_accuracy: 0.6633\n",
            "\n",
            "Epoch 00004: accuracy improved from 0.67783 to 0.67930, saving model to /content/drive/My Drive/Models/CNN2/weights-04-0.679.hdf5\n",
            "Epoch 5/50\n",
            "44964/44964 [==============================] - 24s 532us/step - loss: 0.7951 - accuracy: 0.6814 - val_loss: 0.8575 - val_accuracy: 0.6626\n",
            "\n",
            "Epoch 00005: accuracy improved from 0.67930 to 0.68137, saving model to /content/drive/My Drive/Models/CNN2/weights-05-0.681.hdf5\n",
            "Epoch 6/50\n",
            "44964/44964 [==============================] - 23s 506us/step - loss: 0.7963 - accuracy: 0.6806 - val_loss: 0.8971 - val_accuracy: 0.6629\n",
            "\n",
            "Epoch 00006: accuracy did not improve from 0.68137\n",
            "Epoch 7/50\n",
            "44964/44964 [==============================] - 23s 516us/step - loss: 0.7878 - accuracy: 0.6831 - val_loss: 0.8742 - val_accuracy: 0.6579\n",
            "\n",
            "Epoch 00007: accuracy improved from 0.68137 to 0.68308, saving model to /content/drive/My Drive/Models/CNN2/weights-07-0.683.hdf5\n",
            "Epoch 8/50\n",
            "44964/44964 [==============================] - 23s 509us/step - loss: 0.7899 - accuracy: 0.6821 - val_loss: 0.8978 - val_accuracy: 0.6618\n",
            "\n",
            "Epoch 00008: accuracy did not improve from 0.68308\n",
            "Epoch 9/50\n",
            "44964/44964 [==============================] - 23s 503us/step - loss: 0.7865 - accuracy: 0.6819 - val_loss: 0.8637 - val_accuracy: 0.6652\n",
            "\n",
            "Epoch 00009: accuracy did not improve from 0.68308\n",
            "Epoch 10/50\n",
            "44964/44964 [==============================] - 23s 507us/step - loss: 0.7988 - accuracy: 0.6800 - val_loss: 0.8504 - val_accuracy: 0.6650\n",
            "\n",
            "Epoch 00010: accuracy did not improve from 0.68308\n",
            "Epoch 11/50\n",
            "44964/44964 [==============================] - 23s 502us/step - loss: 0.7846 - accuracy: 0.6833 - val_loss: 0.8690 - val_accuracy: 0.6660\n",
            "\n",
            "Epoch 00011: accuracy improved from 0.68308 to 0.68326, saving model to /content/drive/My Drive/Models/CNN2/weights-11-0.683.hdf5\n",
            "Epoch 12/50\n",
            "44964/44964 [==============================] - 23s 507us/step - loss: 0.7888 - accuracy: 0.6828 - val_loss: 0.8855 - val_accuracy: 0.6572\n",
            "\n",
            "Epoch 00012: accuracy did not improve from 0.68326\n",
            "Epoch 13/50\n",
            "44964/44964 [==============================] - 22s 500us/step - loss: 0.8000 - accuracy: 0.6784 - val_loss: 0.8751 - val_accuracy: 0.6656\n",
            "\n",
            "Epoch 00013: accuracy did not improve from 0.68326\n",
            "Epoch 14/50\n",
            "44964/44964 [==============================] - 27s 595us/step - loss: 0.7863 - accuracy: 0.6840 - val_loss: 0.9318 - val_accuracy: 0.6593\n",
            "\n",
            "Epoch 00014: accuracy improved from 0.68326 to 0.68401, saving model to /content/drive/My Drive/Models/CNN2/weights-14-0.684.hdf5\n",
            "Epoch 15/50\n",
            "44964/44964 [==============================] - 22s 498us/step - loss: 0.7891 - accuracy: 0.6819 - val_loss: 0.8807 - val_accuracy: 0.6607\n",
            "\n",
            "Epoch 00015: accuracy did not improve from 0.68401\n",
            "Epoch 16/50\n",
            "44964/44964 [==============================] - 23s 517us/step - loss: 0.7847 - accuracy: 0.6854 - val_loss: 0.8923 - val_accuracy: 0.6643\n",
            "\n",
            "Epoch 00016: accuracy improved from 0.68401 to 0.68544, saving model to /content/drive/My Drive/Models/CNN2/weights-16-0.685.hdf5\n",
            "Epoch 17/50\n",
            "44964/44964 [==============================] - 23s 507us/step - loss: 0.7793 - accuracy: 0.6846 - val_loss: 0.8968 - val_accuracy: 0.6627\n",
            "\n",
            "Epoch 00017: accuracy did not improve from 0.68544\n",
            "Epoch 18/50\n",
            "44964/44964 [==============================] - 22s 496us/step - loss: 0.7770 - accuracy: 0.6863 - val_loss: 0.8933 - val_accuracy: 0.6612\n",
            "\n",
            "Epoch 00018: accuracy improved from 0.68544 to 0.68628, saving model to /content/drive/My Drive/Models/CNN2/weights-18-0.686.hdf5\n",
            "Epoch 19/50\n",
            "44964/44964 [==============================] - 23s 510us/step - loss: 0.7834 - accuracy: 0.6852 - val_loss: 0.8858 - val_accuracy: 0.6603\n",
            "\n",
            "Epoch 00019: accuracy did not improve from 0.68628\n",
            "Epoch 20/50\n",
            "44964/44964 [==============================] - 26s 578us/step - loss: 0.7746 - accuracy: 0.6870 - val_loss: 0.9055 - val_accuracy: 0.6605\n",
            "\n",
            "Epoch 00020: accuracy improved from 0.68628 to 0.68697, saving model to /content/drive/My Drive/Models/CNN2/weights-20-0.687.hdf5\n",
            "Epoch 21/50\n",
            "44964/44964 [==============================] - 24s 532us/step - loss: 0.7919 - accuracy: 0.6799 - val_loss: 0.8794 - val_accuracy: 0.6654\n",
            "\n",
            "Epoch 00021: accuracy did not improve from 0.68697\n",
            "Epoch 22/50\n",
            "44964/44964 [==============================] - 24s 525us/step - loss: 0.7726 - accuracy: 0.6879 - val_loss: 0.8997 - val_accuracy: 0.6677\n",
            "\n",
            "Epoch 00022: accuracy improved from 0.68697 to 0.68793, saving model to /content/drive/My Drive/Models/CNN2/weights-22-0.688.hdf5\n",
            "Epoch 23/50\n",
            "44964/44964 [==============================] - 25s 552us/step - loss: 0.7718 - accuracy: 0.6878 - val_loss: 0.9000 - val_accuracy: 0.6592\n",
            "\n",
            "Epoch 00023: accuracy did not improve from 0.68793\n",
            "Epoch 24/50\n",
            "44964/44964 [==============================] - 25s 565us/step - loss: 0.7768 - accuracy: 0.6872 - val_loss: 0.9013 - val_accuracy: 0.6547\n",
            "\n",
            "Epoch 00024: accuracy did not improve from 0.68793\n",
            "Epoch 25/50\n",
            "44964/44964 [==============================] - 22s 500us/step - loss: 0.7750 - accuracy: 0.6859 - val_loss: 0.9032 - val_accuracy: 0.6635\n",
            "\n",
            "Epoch 00025: accuracy did not improve from 0.68793\n",
            "Epoch 26/50\n",
            "44964/44964 [==============================] - 23s 521us/step - loss: 0.7713 - accuracy: 0.6888 - val_loss: 0.9074 - val_accuracy: 0.6571\n",
            "\n",
            "Epoch 00026: accuracy improved from 0.68793 to 0.68880, saving model to /content/drive/My Drive/Models/CNN2/weights-26-0.689.hdf5\n",
            "Epoch 27/50\n",
            "44964/44964 [==============================] - 28s 615us/step - loss: 0.7800 - accuracy: 0.6853 - val_loss: 0.9019 - val_accuracy: 0.6639\n",
            "\n",
            "Epoch 00027: accuracy did not improve from 0.68880\n",
            "Epoch 28/50\n",
            "44964/44964 [==============================] - 26s 567us/step - loss: 0.7653 - accuracy: 0.6904 - val_loss: 0.9180 - val_accuracy: 0.6588\n",
            "\n",
            "Epoch 00028: accuracy improved from 0.68880 to 0.69040, saving model to /content/drive/My Drive/Models/CNN2/weights-28-0.690.hdf5\n",
            "Epoch 29/50\n",
            "44964/44964 [==============================] - 25s 552us/step - loss: 0.7743 - accuracy: 0.6874 - val_loss: 0.9165 - val_accuracy: 0.6665\n",
            "\n",
            "Epoch 00029: accuracy did not improve from 0.69040\n",
            "Epoch 30/50\n",
            "44964/44964 [==============================] - 23s 507us/step - loss: 0.7635 - accuracy: 0.6916 - val_loss: 0.9413 - val_accuracy: 0.6566\n",
            "\n",
            "Epoch 00030: accuracy improved from 0.69040 to 0.69155, saving model to /content/drive/My Drive/Models/CNN2/weights-30-0.692.hdf5\n",
            "Epoch 31/50\n",
            "44964/44964 [==============================] - 23s 512us/step - loss: 0.7629 - accuracy: 0.6923 - val_loss: 0.8971 - val_accuracy: 0.6645\n",
            "\n",
            "Epoch 00031: accuracy improved from 0.69155 to 0.69226, saving model to /content/drive/My Drive/Models/CNN2/weights-31-0.692.hdf5\n",
            "Epoch 32/50\n",
            "44964/44964 [==============================] - 23s 515us/step - loss: 0.7658 - accuracy: 0.6901 - val_loss: 0.9105 - val_accuracy: 0.6532\n",
            "\n",
            "Epoch 00032: accuracy did not improve from 0.69226\n",
            "Epoch 33/50\n",
            "44964/44964 [==============================] - 22s 497us/step - loss: 0.7679 - accuracy: 0.6903 - val_loss: 0.9335 - val_accuracy: 0.6638\n",
            "\n",
            "Epoch 00033: accuracy did not improve from 0.69226\n",
            "Epoch 34/50\n",
            "44964/44964 [==============================] - 22s 498us/step - loss: 0.7734 - accuracy: 0.6884 - val_loss: 0.9326 - val_accuracy: 0.6567\n",
            "\n",
            "Epoch 00034: accuracy did not improve from 0.69226\n",
            "Epoch 35/50\n",
            "44964/44964 [==============================] - 23s 507us/step - loss: 0.7612 - accuracy: 0.6915 - val_loss: 0.9181 - val_accuracy: 0.6615\n",
            "\n",
            "Epoch 00035: accuracy did not improve from 0.69226\n",
            "Epoch 36/50\n",
            "44964/44964 [==============================] - 23s 501us/step - loss: 0.7592 - accuracy: 0.6930 - val_loss: 0.9128 - val_accuracy: 0.6567\n",
            "\n",
            "Epoch 00036: accuracy improved from 0.69226 to 0.69300, saving model to /content/drive/My Drive/Models/CNN2/weights-36-0.693.hdf5\n",
            "Epoch 37/50\n",
            "44964/44964 [==============================] - 23s 519us/step - loss: 0.7899 - accuracy: 0.6837 - val_loss: 0.9141 - val_accuracy: 0.6604\n",
            "\n",
            "Epoch 00037: accuracy did not improve from 0.69300\n",
            "Epoch 38/50\n",
            "44964/44964 [==============================] - 27s 596us/step - loss: 0.7594 - accuracy: 0.6918 - val_loss: 0.9292 - val_accuracy: 0.6578\n",
            "\n",
            "Epoch 00038: accuracy did not improve from 0.69300\n",
            "Epoch 39/50\n",
            "44964/44964 [==============================] - 23s 510us/step - loss: 0.7600 - accuracy: 0.6925 - val_loss: 0.9663 - val_accuracy: 0.6454\n",
            "\n",
            "Epoch 00039: accuracy did not improve from 0.69300\n",
            "Epoch 40/50\n",
            "44964/44964 [==============================] - 25s 545us/step - loss: 0.7598 - accuracy: 0.6928 - val_loss: 0.9108 - val_accuracy: 0.6532\n",
            "\n",
            "Epoch 00040: accuracy did not improve from 0.69300\n",
            "Epoch 41/50\n",
            "44964/44964 [==============================] - 26s 579us/step - loss: 0.7632 - accuracy: 0.6918 - val_loss: 0.9428 - val_accuracy: 0.6554\n",
            "\n",
            "Epoch 00041: accuracy did not improve from 0.69300\n",
            "Epoch 42/50\n",
            "44964/44964 [==============================] - 29s 653us/step - loss: 0.7576 - accuracy: 0.6923 - val_loss: 0.9461 - val_accuracy: 0.6550\n",
            "\n",
            "Epoch 00042: accuracy did not improve from 0.69300\n",
            "Epoch 43/50\n",
            "44964/44964 [==============================] - 28s 612us/step - loss: 0.7703 - accuracy: 0.6893 - val_loss: 0.9357 - val_accuracy: 0.6552\n",
            "\n",
            "Epoch 00043: accuracy did not improve from 0.69300\n",
            "Epoch 44/50\n",
            "44964/44964 [==============================] - 24s 528us/step - loss: 0.7549 - accuracy: 0.6939 - val_loss: 0.9599 - val_accuracy: 0.6646\n",
            "\n",
            "Epoch 00044: accuracy improved from 0.69300 to 0.69387, saving model to /content/drive/My Drive/Models/CNN2/weights-44-0.694.hdf5\n",
            "Epoch 45/50\n",
            "44964/44964 [==============================] - 23s 511us/step - loss: 0.7553 - accuracy: 0.6949 - val_loss: 0.9354 - val_accuracy: 0.6612\n",
            "\n",
            "Epoch 00045: accuracy improved from 0.69387 to 0.69491, saving model to /content/drive/My Drive/Models/CNN2/weights-45-0.695.hdf5\n",
            "Epoch 46/50\n",
            "44964/44964 [==============================] - 22s 500us/step - loss: 0.7604 - accuracy: 0.6932 - val_loss: 0.9476 - val_accuracy: 0.6607\n",
            "\n",
            "Epoch 00046: accuracy did not improve from 0.69491\n",
            "Epoch 47/50\n",
            "44964/44964 [==============================] - 22s 499us/step - loss: 0.7531 - accuracy: 0.6950 - val_loss: 0.9365 - val_accuracy: 0.6499\n",
            "\n",
            "Epoch 00047: accuracy improved from 0.69491 to 0.69502, saving model to /content/drive/My Drive/Models/CNN2/weights-47-0.695.hdf5\n",
            "Epoch 48/50\n",
            "44964/44964 [==============================] - 23s 501us/step - loss: 0.7534 - accuracy: 0.6943 - val_loss: 0.9444 - val_accuracy: 0.6616\n",
            "\n",
            "Epoch 00048: accuracy did not improve from 0.69502\n",
            "Epoch 49/50\n",
            "44964/44964 [==============================] - 23s 501us/step - loss: 0.7569 - accuracy: 0.6956 - val_loss: 0.9479 - val_accuracy: 0.6579\n",
            "\n",
            "Epoch 00049: accuracy improved from 0.69502 to 0.69562, saving model to /content/drive/My Drive/Models/CNN2/weights-49-0.696.hdf5\n",
            "Epoch 50/50\n",
            "44964/44964 [==============================] - 22s 499us/step - loss: 0.7490 - accuracy: 0.6981 - val_loss: 0.9788 - val_accuracy: 0.6609\n",
            "\n",
            "Epoch 00050: accuracy improved from 0.69562 to 0.69809, saving model to /content/drive/My Drive/Models/CNN2/weights-50-0.698.hdf5\n"
          ],
          "name": "stdout"
        },
        {
          "output_type": "execute_result",
          "data": {
            "text/plain": [
              "<keras.callbacks.callbacks.History at 0x7f59a7afb3c8>"
            ]
          },
          "metadata": {
            "tags": []
          },
          "execution_count": 70
        }
      ]
    }
  ]
}